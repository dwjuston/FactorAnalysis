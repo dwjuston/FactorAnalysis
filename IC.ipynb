{
 "cells": [
  {
   "cell_type": "code",
   "execution_count": 1,
   "id": "b43dfbfb",
   "metadata": {},
   "outputs": [],
   "source": [
    "import numpy as np\n",
    "import pandas as pd"
   ]
  },
  {
   "cell_type": "markdown",
   "id": "902b0543",
   "metadata": {},
   "source": [
    "## (1) normal IC"
   ]
  },
  {
   "cell_type": "code",
   "execution_count": 9,
   "id": "a6352bbc",
   "metadata": {},
   "outputs": [
    {
     "name": "stdout",
     "output_type": "stream",
     "text": [
      "pure random\n"
     ]
    },
    {
     "data": {
      "text/plain": [
       "-0.155139922963122"
      ]
     },
     "execution_count": 9,
     "metadata": {},
     "output_type": "execute_result"
    }
   ],
   "source": [
    "print(\"pure random\")\n",
    "X=np.random.normal(10, 5, 100)\n",
    "y=np.random.normal(10, 5, 100)\n",
    "np.corrcoef(X,y)[0,1]"
   ]
  },
  {
   "cell_type": "code",
   "execution_count": 123,
   "id": "8bf17c0f",
   "metadata": {},
   "outputs": [
    {
     "name": "stdout",
     "output_type": "stream",
     "text": [
      "linear\n"
     ]
    },
    {
     "data": {
      "text/plain": [
       "1.0"
      ]
     },
     "execution_count": 123,
     "metadata": {},
     "output_type": "execute_result"
    }
   ],
   "source": [
    "print(\"linear\")\n",
    "X=np.random.normal(10, 5, 100)\n",
    "y=3 * X\n",
    "np.corrcoef(X,y)[0,1]"
   ]
  },
  {
   "cell_type": "code",
   "execution_count": 125,
   "id": "0d35b8af",
   "metadata": {},
   "outputs": [
    {
     "name": "stdout",
     "output_type": "stream",
     "text": [
      "square\n"
     ]
    },
    {
     "data": {
      "text/plain": [
       "0.9147453835987185"
      ]
     },
     "execution_count": 125,
     "metadata": {},
     "output_type": "execute_result"
    }
   ],
   "source": [
    "print(\"square\")\n",
    "X=np.random.normal(10, 5, 100)\n",
    "y=3 * X**2\n",
    "np.corrcoef(X,y)[0,1]"
   ]
  },
  {
   "cell_type": "code",
   "execution_count": 132,
   "id": "e880c719",
   "metadata": {},
   "outputs": [
    {
     "name": "stdout",
     "output_type": "stream",
     "text": [
      "log\n"
     ]
    },
    {
     "data": {
      "text/plain": [
       "0.9879734970074818"
      ]
     },
     "execution_count": 132,
     "metadata": {},
     "output_type": "execute_result"
    }
   ],
   "source": [
    "print(\"log\")\n",
    "X=np.random.normal(10, 2, 100)\n",
    "y=np.log(X)\n",
    "np.corrcoef(X,y)[0,1]"
   ]
  },
  {
   "cell_type": "markdown",
   "id": "77d09075",
   "metadata": {},
   "source": [
    "## (2) rank IC"
   ]
  },
  {
   "cell_type": "code",
   "execution_count": 19,
   "id": "3f6a1ec9",
   "metadata": {},
   "outputs": [],
   "source": [
    "from scipy import stats"
   ]
  },
  {
   "cell_type": "code",
   "execution_count": 22,
   "id": "fa765aa3",
   "metadata": {},
   "outputs": [
    {
     "name": "stdout",
     "output_type": "stream",
     "text": [
      "pure random\n"
     ]
    },
    {
     "data": {
      "text/plain": [
       "SpearmanrResult(correlation=0.0009000900090009, pvalue=0.9929087052703636)"
      ]
     },
     "execution_count": 22,
     "metadata": {},
     "output_type": "execute_result"
    }
   ],
   "source": [
    "print(\"pure random\")\n",
    "X=np.random.normal(10, 5, 100)\n",
    "y=np.random.normal(10, 5, 100)\n",
    "stats.spearmanr(X,y)"
   ]
  },
  {
   "cell_type": "markdown",
   "id": "ee3380dd",
   "metadata": {},
   "source": [
    "## (3) log transformation, exp transformation"
   ]
  },
  {
   "cell_type": "code",
   "execution_count": 146,
   "id": "4091b7d1",
   "metadata": {},
   "outputs": [
    {
     "name": "stdout",
     "output_type": "stream",
     "text": [
      "0.8356982593094797\n",
      "SpearmanrResult(correlation=0.9999999999999999, pvalue=0.0)\n",
      "KendalltauResult(correlation=1.0, pvalue=2.143020576250934e-158)\n"
     ]
    }
   ],
   "source": [
    "X = np.random.normal(10, 1, 100)\n",
    "y = np.exp(X)\n",
    "print(np.corrcoef(X,y)[0,1])\n",
    "print(stats.spearmanr(X,y))\n",
    "print(stats.kendalltau(X,y))"
   ]
  },
  {
   "cell_type": "code",
   "execution_count": 138,
   "id": "e2009f38",
   "metadata": {},
   "outputs": [
    {
     "name": "stdout",
     "output_type": "stream",
     "text": [
      "0.9973541657640492\n",
      "SpearmanrResult(correlation=0.9999999999999999, pvalue=0.0)\n",
      "KendalltauResult(correlation=1.0, pvalue=2.143020576250934e-158)\n"
     ]
    }
   ],
   "source": [
    "X = np.random.normal(10, 1, 100)\n",
    "y = np.log(X)\n",
    "print(np.corrcoef(X,y)[0,1])\n",
    "print(stats.spearmanr(X,y))\n",
    "print(stats.kendalltau(X,y))"
   ]
  },
  {
   "cell_type": "markdown",
   "id": "100b4fbc",
   "metadata": {},
   "source": [
    "## (3) rank IC does not assume normality"
   ]
  },
  {
   "cell_type": "code",
   "execution_count": 143,
   "id": "9b9bad82",
   "metadata": {},
   "outputs": [
    {
     "name": "stdout",
     "output_type": "stream",
     "text": [
      "0.5603665452248933\n",
      "SpearmanrResult(correlation=0.9999999999999999, pvalue=0.0)\n",
      "KendalltauResult(correlation=1.0, pvalue=2.143020576250934e-158)\n"
     ]
    }
   ],
   "source": [
    "X = np.random.exponential(10, 100)\n",
    "y = np.exp(X)\n",
    "print(np.corrcoef(X,y)[0,1])\n",
    "print(stats.spearmanr(X,y))\n",
    "print(stats.kendalltau(X,y))"
   ]
  },
  {
   "cell_type": "code",
   "execution_count": 144,
   "id": "2e4021a3",
   "metadata": {},
   "outputs": [
    {
     "name": "stdout",
     "output_type": "stream",
     "text": [
      "0.8349069150232848\n",
      "SpearmanrResult(correlation=0.9999999999999999, pvalue=0.0)\n",
      "KendalltauResult(correlation=1.0, pvalue=2.143020576250934e-158)\n"
     ]
    }
   ],
   "source": [
    "X = np.random.exponential(10, 100)\n",
    "y = np.log(X)\n",
    "print(np.corrcoef(X,y)[0,1])\n",
    "print(stats.spearmanr(X,y))\n",
    "print(stats.kendalltau(X,y))"
   ]
  },
  {
   "cell_type": "code",
   "execution_count": null,
   "id": "db0e611b",
   "metadata": {},
   "outputs": [],
   "source": []
  }
 ],
 "metadata": {
  "kernelspec": {
   "display_name": "Python 3",
   "language": "python",
   "name": "python3"
  },
  "language_info": {
   "codemirror_mode": {
    "name": "ipython",
    "version": 3
   },
   "file_extension": ".py",
   "mimetype": "text/x-python",
   "name": "python",
   "nbconvert_exporter": "python",
   "pygments_lexer": "ipython3",
   "version": "3.8.8"
  }
 },
 "nbformat": 4,
 "nbformat_minor": 5
}
