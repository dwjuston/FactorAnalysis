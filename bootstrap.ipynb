{
 "cells": [
  {
   "cell_type": "code",
   "execution_count": 1,
   "id": "95d66aa0",
   "metadata": {},
   "outputs": [],
   "source": [
    "import numpy as np\n",
    "import pandas as pd"
   ]
  },
  {
   "cell_type": "markdown",
   "id": "c90cd101",
   "metadata": {},
   "source": [
    "## (1) example"
   ]
  },
  {
   "cell_type": "code",
   "execution_count": 2,
   "id": "317aa298",
   "metadata": {},
   "outputs": [],
   "source": [
    "def bootstrap_method_1(arr, f, N_bootstrap):\n",
    "    sample_stat = f(arr)\n",
    "    bootstrap_samples = [np.random.choice(arr, size=len(arr), replace=True) for i in range(N_bootstrap)]\n",
    "    result = [2*sample_stat - f(trial) for trial in bootstrap_samples]\n",
    "    return sample_stat, result\n",
    "\n",
    "def bootstrap_method_2(arr, f, N_bootstrap):\n",
    "    sample_stat = f(arr)\n",
    "    bootstrap_samples = [np.random.choice(arr, size=len(arr), replace=True) for i in range(N_bootstrap)]\n",
    "    result = [f(trial) for trial in bootstrap_samples]\n",
    "    return sample_stat, result"
   ]
  },
  {
   "cell_type": "code",
   "execution_count": 3,
   "id": "aa2d2c9b",
   "metadata": {},
   "outputs": [],
   "source": [
    "arr=np.array([30,37,36,43,42,48,43,46,41,42])"
   ]
  },
  {
   "cell_type": "code",
   "execution_count": 4,
   "id": "f589c842",
   "metadata": {},
   "outputs": [
    {
     "name": "stdout",
     "output_type": "stream",
     "text": [
      "sample mean: 40.8\n",
      "[2.5%, 97.5%]: [38.099999999999994, 43.50249999999999]\n"
     ]
    }
   ],
   "source": [
    "mu, res = bootstrap_method_1(arr, np.mean, 200)\n",
    "print(\"sample mean:\", np.mean(arr))\n",
    "print(\"[2.5%, 97.5%]: [{}, {}]\".format(np.percentile(res, 2.5), np.percentile(res, 97.5)))"
   ]
  },
  {
   "cell_type": "code",
   "execution_count": 5,
   "id": "396cf141",
   "metadata": {},
   "outputs": [
    {
     "name": "stdout",
     "output_type": "stream",
     "text": [
      "sample mean: 40.8\n",
      "[2.5%, 97.5%]: [37.4975, 43.705000000000005]\n"
     ]
    }
   ],
   "source": [
    "mu, res = bootstrap_method_2(arr, np.mean, 200)\n",
    "print(\"sample mean:\", np.mean(arr))\n",
    "print(\"[2.5%, 97.5%]: [{}, {}]\".format(np.percentile(res, 2.5), np.percentile(res, 97.5)))"
   ]
  },
  {
   "cell_type": "markdown",
   "id": "73d8308f",
   "metadata": {},
   "source": [
    "## (2) experiment: Assume Normal Distribution N(2.71, 3.14**2)"
   ]
  },
  {
   "cell_type": "code",
   "execution_count": 6,
   "id": "c1c619ea",
   "metadata": {},
   "outputs": [],
   "source": [
    "arr = np.random.normal(2.71, 3.14, 20)"
   ]
  },
  {
   "cell_type": "code",
   "execution_count": 7,
   "id": "2dad2569",
   "metadata": {},
   "outputs": [
    {
     "name": "stdout",
     "output_type": "stream",
     "text": [
      "sample mean: 3.345\n",
      "[2.5%, 97.5%]: [2.366, 4.357]\n"
     ]
    }
   ],
   "source": [
    "mu, res = bootstrap_method_1(arr, np.mean, 200)\n",
    "print(\"sample mean: {0:.3f}\".format(np.mean(arr)))\n",
    "print(\"[2.5%, 97.5%]: [{0:.3f}, {1:.3f}]\".format(np.percentile(res, 2.5), np.percentile(res, 97.5)))"
   ]
  },
  {
   "cell_type": "code",
   "execution_count": 8,
   "id": "69ad5351",
   "metadata": {},
   "outputs": [
    {
     "name": "stdout",
     "output_type": "stream",
     "text": [
      "sample mean: 3.345\n",
      "[2.5%, 97.5%]: [2.314, 4.330]\n"
     ]
    }
   ],
   "source": [
    "mu, res = bootstrap_method_2(arr, np.mean, 200)\n",
    "print(\"sample mean: {0:.3f}\".format(np.mean(arr)))\n",
    "print(\"[2.5%, 97.5%]: [{0:.3f}, {1:.3f}]\".format(np.percentile(res, 2.5), np.percentile(res, 97.5)))"
   ]
  },
  {
   "cell_type": "code",
   "execution_count": 9,
   "id": "bb1807da",
   "metadata": {},
   "outputs": [
    {
     "name": "stdout",
     "output_type": "stream",
     "text": [
      "sample median: 2.494\n",
      "[2.5%, 97.5%]: [1.004, 3.104]\n"
     ]
    }
   ],
   "source": [
    "mu, res = bootstrap_method_1(arr, np.median, 200)\n",
    "print(\"sample median: {0:.3f}\".format(np.median(arr)))\n",
    "print(\"[2.5%, 97.5%]: [{0:.3f}, {1:.3f}]\".format(np.percentile(res, 2.5), np.percentile(res, 97.5)))"
   ]
  },
  {
   "cell_type": "code",
   "execution_count": 10,
   "id": "1d4eebdb",
   "metadata": {},
   "outputs": [
    {
     "name": "stdout",
     "output_type": "stream",
     "text": [
      "sample std: 2.591\n",
      "[2.5%, 97.5%]: [1.977, 3.839]\n"
     ]
    }
   ],
   "source": [
    "mu, res = bootstrap_method_1(arr, np.std, 200)\n",
    "print(\"sample std: {0:.3f}\".format(np.std(arr)))\n",
    "print(\"[2.5%, 97.5%]: [{0:.3f}, {1:.3f}]\".format(np.percentile(res, 2.5), np.percentile(res, 97.5)))"
   ]
  },
  {
   "cell_type": "markdown",
   "id": "2d201de2",
   "metadata": {},
   "source": [
    "## (3) experiment: exponential distribution"
   ]
  },
  {
   "cell_type": "code",
   "execution_count": 11,
   "id": "29dae52b",
   "metadata": {},
   "outputs": [],
   "source": [
    "arr = np.random.exponential(2, 10)"
   ]
  },
  {
   "cell_type": "code",
   "execution_count": 12,
   "id": "7341f7a9",
   "metadata": {},
   "outputs": [
    {
     "name": "stdout",
     "output_type": "stream",
     "text": [
      "sample mean: 2.113\n",
      "[2.5%, 97.5%]: [1.132, 3.174]\n"
     ]
    }
   ],
   "source": [
    "mu, res = bootstrap_method_1(arr, np.mean, 200)\n",
    "print(\"sample mean: {0:.3f}\".format(np.mean(arr)))\n",
    "print(\"[2.5%, 97.5%]: [{0:.3f}, {1:.3f}]\".format(np.percentile(res, 2.5), np.percentile(res, 97.5)))"
   ]
  },
  {
   "cell_type": "code",
   "execution_count": 13,
   "id": "68386a6b",
   "metadata": {},
   "outputs": [
    {
     "data": {
      "text/plain": [
       "<AxesSubplot:ylabel='Frequency'>"
      ]
     },
     "execution_count": 13,
     "metadata": {},
     "output_type": "execute_result"
    },
    {
     "data": {
      "image/png": "[encoded data removed]",
      "text/plain": [
       "<Figure size 432x288 with 1 Axes>"
      ]
     },
     "metadata": {
      "needs_background": "light"
     },
     "output_type": "display_data"
    }
   ],
   "source": [
    "pd.Series(np.random.exponential(2, 1000)).plot.hist()"
   ]
  },
  {
   "cell_type": "markdown",
   "id": "71fc5fae",
   "metadata": {},
   "source": [
    "## (4) experiment: possion distribution"
   ]
  },
  {
   "cell_type": "code",
   "execution_count": 14,
   "id": "d2757168",
   "metadata": {},
   "outputs": [],
   "source": [
    "arr = np.random.poisson(2, 10)"
   ]
  },
  {
   "cell_type": "code",
   "execution_count": 15,
   "id": "0b550e7a",
   "metadata": {},
   "outputs": [
    {
     "name": "stdout",
     "output_type": "stream",
     "text": [
      "sample mean: 2.000\n",
      "[2.5%, 97.5%]: [1.100, 2.900]\n"
     ]
    }
   ],
   "source": [
    "mu, res = bootstrap_method_1(arr, np.mean, 200)\n",
    "print(\"sample mean: {0:.3f}\".format(np.mean(arr)))\n",
    "print(\"[2.5%, 97.5%]: [{0:.3f}, {1:.3f}]\".format(np.percentile(res, 2.5), np.percentile(res, 97.5)))"
   ]
  },
  {
   "cell_type": "code",
   "execution_count": 16,
   "id": "42324af5",
   "metadata": {},
   "outputs": [
    {
     "data": {
      "text/plain": [
       "<AxesSubplot:ylabel='Frequency'>"
      ]
     },
     "execution_count": 16,
     "metadata": {},
     "output_type": "execute_result"
    },
    {
     "data": {
      "image/png": "[encoded data removed]",
      "text/plain": [
       "<Figure size 432x288 with 1 Axes>"
      ]
     },
     "metadata": {
      "needs_background": "light"
     },
     "output_type": "display_data"
    }
   ],
   "source": [
    "pd.Series(np.random.poisson(2, 1000)).plot.hist()"
   ]
  },
  {
   "cell_type": "markdown",
   "id": "1cfdc2ab",
   "metadata": {},
   "source": [
    "## (5) t 检验：回到N(2.71, 3.14**2)"
   ]
  },
  {
   "cell_type": "code",
   "execution_count": 17,
   "id": "57c013a5",
   "metadata": {},
   "outputs": [],
   "source": [
    "arr = np.random.normal(2.71, 3.14, 10)"
   ]
  },
  {
   "cell_type": "code",
   "execution_count": 18,
   "id": "c024caa1",
   "metadata": {},
   "outputs": [
    {
     "data": {
      "text/plain": [
       "array([-0.20608035, -2.05688682,  3.88523324,  4.28472948, -1.38797124,\n",
       "        6.70363707,  1.6548653 ,  1.99966824,  9.08703611,  3.00799249])"
      ]
     },
     "execution_count": 18,
     "metadata": {},
     "output_type": "execute_result"
    }
   ],
   "source": [
    "arr"
   ]
  },
  {
   "cell_type": "code",
   "execution_count": 19,
   "id": "24312815",
   "metadata": {},
   "outputs": [],
   "source": [
    "from scipy import stats"
   ]
  },
  {
   "cell_type": "code",
   "execution_count": 20,
   "id": "6bd5f84f",
   "metadata": {},
   "outputs": [
    {
     "data": {
      "text/plain": [
       "Ttest_1sampResult(statistic=2.437494339266986, pvalue=0.037518520835967115)"
      ]
     },
     "execution_count": 20,
     "metadata": {},
     "output_type": "execute_result"
    }
   ],
   "source": [
    "stats.ttest_1samp(arr, 0)"
   ]
  },
  {
   "cell_type": "code",
   "execution_count": 21,
   "id": "f544139e",
   "metadata": {},
   "outputs": [],
   "source": [
    "t_ci = stats.t.ppf(1-0.05/2, len(arr)-1)"
   ]
  },
  {
   "cell_type": "code",
   "execution_count": 22,
   "id": "87413e18",
   "metadata": {},
   "outputs": [],
   "source": [
    "ste = stats.sem(arr)"
   ]
  },
  {
   "cell_type": "code",
   "execution_count": 23,
   "id": "de9adf42",
   "metadata": {},
   "outputs": [
    {
     "data": {
      "text/plain": [
       "2.2621571627409915"
      ]
     },
     "execution_count": 23,
     "metadata": {},
     "output_type": "execute_result"
    }
   ],
   "source": [
    "t_ci"
   ]
  },
  {
   "cell_type": "code",
   "execution_count": 24,
   "id": "fe3501a5",
   "metadata": {},
   "outputs": [
    {
     "data": {
      "text/plain": [
       "'[0.194,5.200]'"
      ]
     },
     "execution_count": 24,
     "metadata": {},
     "output_type": "execute_result"
    }
   ],
   "source": [
    "\"[{0:.3f},{1:.3f}]\".format(np.mean(arr) - t_ci * ste, np.mean(arr) + t_ci * ste)"
   ]
  },
  {
   "cell_type": "code",
   "execution_count": 25,
   "id": "ac0c2add",
   "metadata": {},
   "outputs": [
    {
     "name": "stdout",
     "output_type": "stream",
     "text": [
      "sample mean: 2.697\n",
      "[2.5%, 97.5%]: [0.644, 4.638]\n"
     ]
    }
   ],
   "source": [
    "mu, res = bootstrap_method_1(arr, np.mean, 200)\n",
    "print(\"sample mean: {0:.3f}\".format(np.mean(arr)))\n",
    "print(\"[2.5%, 97.5%]: [{0:.3f}, {1:.3f}]\".format(np.percentile(res, 2.5), np.percentile(res, 97.5)))"
   ]
  },
  {
   "cell_type": "code",
   "execution_count": null,
   "id": "a26d38fc",
   "metadata": {},
   "outputs": [],
   "source": []
  }
 ],
 "metadata": {
  "kernelspec": {
   "display_name": "Python 3",
   "language": "python",
   "name": "python3"
  },
  "language_info": {
   "codemirror_mode": {
    "name": "ipython",
    "version": 3
   },
   "file_extension": ".py",
   "mimetype": "text/x-python",
   "name": "python",
   "nbconvert_exporter": "python",
   "pygments_lexer": "ipython3",
   "version": "3.8.8"
  }
 },
 "nbformat": 4,
 "nbformat_minor": 5
}
