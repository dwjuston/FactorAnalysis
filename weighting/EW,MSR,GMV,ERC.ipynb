{
 "cells": [
  {
   "cell_type": "code",
   "execution_count": 1,
   "id": "03d78602",
   "metadata": {},
   "outputs": [],
   "source": [
    "import pandas as pd\n",
    "import numpy as np\n",
    "import os"
   ]
  },
  {
   "cell_type": "code",
   "execution_count": 2,
   "id": "4dadffe2",
   "metadata": {},
   "outputs": [
    {
     "name": "stderr",
     "output_type": "stream",
     "text": [
      "<>:8: SyntaxWarning: \"is\" with a literal. Did you mean \"==\"?\n",
      "<>:11: SyntaxWarning: \"is\" with a literal. Did you mean \"==\"?\n",
      "<>:14: SyntaxWarning: \"is\" with a literal. Did you mean \"==\"?\n",
      "<>:8: SyntaxWarning: \"is\" with a literal. Did you mean \"==\"?\n",
      "<>:11: SyntaxWarning: \"is\" with a literal. Did you mean \"==\"?\n",
      "<>:14: SyntaxWarning: \"is\" with a literal. Did you mean \"==\"?\n",
      "<ipython-input-2-84787575f706>:8: SyntaxWarning: \"is\" with a literal. Did you mean \"==\"?\n",
      "  if filetype is \"returns\":\n",
      "<ipython-input-2-84787575f706>:11: SyntaxWarning: \"is\" with a literal. Did you mean \"==\"?\n",
      "  elif filetype is \"nfirms\":\n",
      "<ipython-input-2-84787575f706>:14: SyntaxWarning: \"is\" with a literal. Did you mean \"==\"?\n",
      "  elif filetype is \"size\":\n"
     ]
    }
   ],
   "source": [
    "def get_ind_file(filetype):\n",
    "    \"\"\"\n",
    "    Load and format the Ken French 30 Industry Portfolios files\n",
    "    \"\"\"\n",
    "    known_types = [\"returns\", \"nfirms\", \"size\"]\n",
    "    if filetype not in known_types:\n",
    "        raise ValueError(f\"filetype must be one of:{','.join(known_types)}\")\n",
    "    if filetype is \"returns\":\n",
    "        name = \"vw_rets\"\n",
    "        divisor = 100\n",
    "    elif filetype is \"nfirms\":\n",
    "        name = \"nfirms\"\n",
    "        divisor = 1\n",
    "    elif filetype is \"size\":\n",
    "        name = \"size\"\n",
    "        divisor = 1\n",
    "                         \n",
    "    ind = pd.read_csv(f\"data/ind30_m_{name}.csv\", header=0, index_col=0)/divisor\n",
    "    ind.index = pd.to_datetime(ind.index, format=\"%Y%m\").to_period('M')\n",
    "    ind.columns = ind.columns.str.strip()\n",
    "    return ind"
   ]
  },
  {
   "cell_type": "code",
   "execution_count": 3,
   "id": "ddd9ca8b",
   "metadata": {},
   "outputs": [],
   "source": [
    "data = get_ind_file(\"returns\")"
   ]
  },
  {
   "cell_type": "code",
   "execution_count": 8,
   "id": "8ef97af7",
   "metadata": {},
   "outputs": [],
   "source": [
    "# mu\n",
    "mu_sample = data.mean()\n",
    "grand_mean = mu_sample.mean()\n",
    "mu_shrink = 0.25 * grand_mean + 0.75 * mu_sample # 0.25, 0.5, 0.75\n",
    "# trenor ratio\n",
    "# factor models"
   ]
  },
  {
   "cell_type": "code",
   "execution_count": 11,
   "id": "0ebeb33c",
   "metadata": {},
   "outputs": [],
   "source": [
    "# sigma\n",
    "covmat_sample = data.cov()\n",
    "cormat_sample = data.corr()\n",
    "stdvec_sample = data.std()\n",
    "\n",
    "# constant correlation\n",
    "n = cormat_sample.shape[0]\n",
    "const_corr = (cormat_sample.sum().sum() - n) / (n**2 - n)\n",
    "cormat_cc = np.ones_like(cormat_sample) * const_corr\n",
    "np.fill_diagonal(cormat_cc, 1)\n",
    "stdmat_cc = np.zeros_like(cormat_sample)\n",
    "np.fill_diagonal(stdmat_cc, stdvec_sample)\n",
    "covmat_cc = stdmat_cc @ cormat_cc @ stdmat_cc\n",
    "\n",
    "covmat_shrink = 0.25 * covmat_cc + 0.75 * cormat_sample #缩水\n",
    "# factor models"
   ]
  },
  {
   "cell_type": "code",
   "execution_count": 17,
   "id": "675d4727",
   "metadata": {},
   "outputs": [],
   "source": [
    "# EW\n",
    "k_assets = data.shape[1]\n",
    "weight_EW = np.array([1/k_assets]*k_assets)\n",
    "portfolio_EW = data @ weight_EW"
   ]
  },
  {
   "cell_type": "code",
   "execution_count": 22,
   "id": "2808b457",
   "metadata": {},
   "outputs": [
    {
     "data": {
      "text/plain": [
       "1926-07    0.026300\n",
       "1926-08    0.035210\n",
       "1926-09    0.004690\n",
       "1926-10   -0.028967\n",
       "1926-11    0.032877\n",
       "             ...   \n",
       "2018-08    0.009337\n",
       "2018-09   -0.001257\n",
       "2018-10   -0.074427\n",
       "2018-11    0.018667\n",
       "2018-12   -0.096270\n",
       "Freq: M, Length: 1110, dtype: float64"
      ]
     },
     "execution_count": 22,
     "metadata": {},
     "output_type": "execute_result"
    }
   ],
   "source": [
    "portfolio_EW"
   ]
  },
  {
   "cell_type": "code",
   "execution_count": 26,
   "id": "f64828bf",
   "metadata": {},
   "outputs": [],
   "source": [
    "cumret = (portfolio_EW + 1).cumprod()\n",
    "\n",
    "runningmax = cumret.cummax()\n",
    "max_drawdown = min(cumret/runningmax)-1\n",
    "\n",
    "var95_sample = np.percentile(portfolio_EW, 5)\n",
    "mu_EW = portfolio_EW.mean()\n",
    "std_EW = portfolio_EW.std()\n",
    "var95_standard = mu_EW - 2*std_EW\n",
    "\n",
    "cvar95_sample = portfolio_EW[portfolio_EW <= var95_sample].mean()\n",
    "cvar95_standard = portfolio_EW[portfolio_EW <= var95_standard].mean()\n",
    "\n",
    "semi_deviation_zero = portfolio_EW[portfolio_EW <= 0].std()\n",
    "semi_deviation_avg = portfolio_EW[portfolio_EW <= portfolio_EW.mean()].std()\n",
    "semi_deviation_median = portfolio_EW[portfolio_EW <= portfolio_EW.median()].std()"
   ]
  },
  {
   "cell_type": "code",
   "execution_count": 23,
   "id": "baed60cd",
   "metadata": {},
   "outputs": [],
   "source": [
    "from scipy.optimize import minimize"
   ]
  },
  {
   "cell_type": "code",
   "execution_count": 24,
   "id": "aeeb5225",
   "metadata": {},
   "outputs": [
    {
     "data": {
      "text/plain": [
       "0.010011756756756756"
      ]
     },
     "execution_count": 24,
     "metadata": {},
     "output_type": "execute_result"
    }
   ],
   "source": [
    "weight_EW.T @ mu_sample"
   ]
  },
  {
   "cell_type": "code",
   "execution_count": 27,
   "id": "4c0c0f40",
   "metadata": {},
   "outputs": [
    {
     "data": {
      "text/plain": [
       "0.010011756756756737"
      ]
     },
     "execution_count": 27,
     "metadata": {},
     "output_type": "execute_result"
    }
   ],
   "source": [
    "mu_EW"
   ]
  },
  {
   "cell_type": "code",
   "execution_count": 29,
   "id": "f53eef12",
   "metadata": {},
   "outputs": [],
   "source": [
    "con1 = {'type': 'ineq', 'fun': lambda w: np.sum(w)-1.0} # >= 0\n",
    "con2 = {'type': 'ineq', 'fun': lambda w: 1.0-np.sum(w)} # >= 0\n",
    "con3 = {'type': 'ineq', 'fun': lambda w: w} # >= 0"
   ]
  },
  {
   "cell_type": "code",
   "execution_count": 30,
   "id": "536bf2d1",
   "metadata": {},
   "outputs": [],
   "source": [
    "# MSR\n",
    "# minimize minus sharpe ratio, W.T@mu /sqrt(W.T @ covmat @ W)\n",
    "# subject to W.T @ W = 1\n",
    "def _MSR_func(mu, covmat):\n",
    "    def inner(W):\n",
    "        return -(W.T @ mu) / (W.T @ covmat @ W)\n",
    "    return inner\n",
    "\n",
    "weight_MSR = minimize(_MSR_func(mu_sample, covmat_sample), # MSR function\n",
    "                      weight_EW, # initial guess\n",
    "                      method='SLSQP', # method\n",
    "                      constraints=[con1,con2,con3] # constraints\n",
    "                     ).x"
   ]
  },
  {
   "cell_type": "code",
   "execution_count": 33,
   "id": "b70678e7",
   "metadata": {},
   "outputs": [
    {
     "data": {
      "text/plain": [
       "0.17954914874302688"
      ]
     },
     "execution_count": 33,
     "metadata": {},
     "output_type": "execute_result"
    }
   ],
   "source": [
    "mu_EW/std_EW"
   ]
  },
  {
   "cell_type": "code",
   "execution_count": 34,
   "id": "48b25849",
   "metadata": {},
   "outputs": [],
   "source": [
    "def construct_portfolio(data, weight):\n",
    "    portfolio = data @ weight\n",
    "    mu = portfolio.mean()\n",
    "    std = portfolio.std()\n",
    "    sr = mu / std\n",
    "    \n",
    "    cumret = (portfolio + 1).cumprod()\n",
    "    annualized_return = (cumret[-1]-cumret[0])*252/len(portfolio)\n",
    "    annualized_std = std*np.sqrt(252/len(portfolio))\n",
    "    \n",
    "    runningmax = cumret.cummax()\n",
    "    max_drawdown = min(cumret/runningmax)-1\n",
    "\n",
    "    var95_sample = np.percentile(portfolio, 5)\n",
    "    mu = portfolio.mean()\n",
    "    std = portfolio.std()\n",
    "    var95_standard = mu - 2*std\n",
    "\n",
    "    cvar95_sample = portfolio[portfolio <= var95_sample].mean()\n",
    "    cvar95_standard = portfolio[portfolio <= var95_standard].mean()\n",
    "\n",
    "    semi_deviation_zero = portfolio[portfolio <= 0].std()\n",
    "    semi_deviation_avg = portfolio[portfolio <= portfolio.mean()].std()\n",
    "    semi_deviation_median = portfolio[portfolio <= portfolio.median()].std()\n",
    "    metrics = {\n",
    "            'mu':mu, 'std':std, 'sr':sr,\n",
    "            'annualized_return':annualized_return, 'annualized_std':annualized_std,\n",
    "            'max_drawdown':max_drawdown,\n",
    "            'var95_sample':var95_sample, 'var95_standard':var95_standard,\n",
    "            'cvar95_sample':cvar95_sample, 'cvar95_standard':cvar95_standard,\n",
    "            'semi_deviation_zero':semi_deviation_zero, 'semi_deviation_avg':semi_deviation_avg, \n",
    "            'semi_deviation_median':semi_deviation_median\n",
    "        }\n",
    "    return portfolio, metrics, cumret"
   ]
  },
  {
   "cell_type": "code",
   "execution_count": 35,
   "id": "8283cdc1",
   "metadata": {},
   "outputs": [],
   "source": [
    "portfolio_MSR, metrics_MSR, _ = construct_portfolio(data, weight_MSR)"
   ]
  },
  {
   "cell_type": "code",
   "execution_count": 36,
   "id": "c80c268a",
   "metadata": {},
   "outputs": [],
   "source": [
    "weight_GMV = minimize(_MSR_func(np.repeat(1, k_assets), covmat_sample), weight_EW, method='SLSQP', constraints=[con1,con2,con3]).x"
   ]
  },
  {
   "cell_type": "code",
   "execution_count": 37,
   "id": "cf4d11e1",
   "metadata": {},
   "outputs": [],
   "source": [
    "portfolio_GMV, metrics_GMV, _ = construct_portfolio(data, weight_GMV)"
   ]
  },
  {
   "cell_type": "code",
   "execution_count": 40,
   "id": "dc06fd56",
   "metadata": {},
   "outputs": [],
   "source": [
    "# ERC\n",
    "def calculate_portfolio_variance(covmat, W):\n",
    "    return W.T @ covmat @ W\n",
    "\n",
    "def calculate_risk_contribution(covmat, W):\n",
    "    return (covmat @ W * W.T / calculate_portfolio_variance(covmat, W))\n",
    "\n",
    "def _ERC_func(covmat, target_risk_contribution):\n",
    "    def inner(W):\n",
    "        risk_contribution = calculate_risk_contribution(covmat, W)\n",
    "        return np.square(risk_contribution - target_risk_contribution).sum() \n",
    "    return inner"
   ]
  },
  {
   "cell_type": "code",
   "execution_count": 41,
   "id": "92ab2b14",
   "metadata": {},
   "outputs": [
    {
     "ename": "NameError",
     "evalue": "name 'target_risk_contribution' is not defined",
     "output_type": "error",
     "traceback": [
      "\u001b[0;31m---------------------------------------------------------------------------\u001b[0m",
      "\u001b[0;31mNameError\u001b[0m                                 Traceback (most recent call last)",
      "\u001b[0;32m<ipython-input-41-199efd2933e3>\u001b[0m in \u001b[0;36m<module>\u001b[0;34m\u001b[0m\n\u001b[0;32m----> 1\u001b[0;31m \u001b[0mtarget_risk_contribution\u001b[0m\u001b[0;34m\u001b[0m\u001b[0;34m\u001b[0m\u001b[0m\n\u001b[0m",
      "\u001b[0;31mNameError\u001b[0m: name 'target_risk_contribution' is not defined"
     ]
    }
   ],
   "source": [
    "target_risk_contribution"
   ]
  },
  {
   "cell_type": "code",
   "execution_count": 42,
   "id": "9279ffc6",
   "metadata": {},
   "outputs": [],
   "source": [
    "target_risk_contribution = weight_EW\n",
    "weight_ERC = minimize(_ERC_func(covmat_sample, target_risk_contribution), weight_EW, method='SLSQP', constraints=[con1,con2,con3]).x"
   ]
  },
  {
   "cell_type": "code",
   "execution_count": null,
   "id": "b1f1fb35",
   "metadata": {},
   "outputs": [],
   "source": [
    "calculate_risk_contribution(covmat_sample,weight_ERC)"
   ]
  },
  {
   "cell_type": "code",
   "execution_count": null,
   "id": "d9d2c422",
   "metadata": {},
   "outputs": [],
   "source": [
    "portfolio_ERC, metrics_ERC, _ = construct_portfolio(data, weight_ERC)"
   ]
  },
  {
   "cell_type": "code",
   "execution_count": null,
   "id": "667c7e4e",
   "metadata": {},
   "outputs": [],
   "source": [
    "metrics_MSR"
   ]
  },
  {
   "cell_type": "code",
   "execution_count": null,
   "id": "e343566f",
   "metadata": {},
   "outputs": [],
   "source": [
    "metrics_ERC"
   ]
  },
  {
   "cell_type": "code",
   "execution_count": null,
   "id": "4552b333",
   "metadata": {},
   "outputs": [],
   "source": [
    "# Black Litterman"
   ]
  },
  {
   "cell_type": "code",
   "execution_count": null,
   "id": "0557950e",
   "metadata": {},
   "outputs": [],
   "source": [
    "# factor model: mkt, size, value, momentum, vol; robust v. weak (operating profitability); aggressive ()"
   ]
  },
  {
   "cell_type": "code",
   "execution_count": null,
   "id": "f025746e",
   "metadata": {},
   "outputs": [],
   "source": []
  },
  {
   "cell_type": "code",
   "execution_count": null,
   "id": "5f40ff2e",
   "metadata": {},
   "outputs": [],
   "source": [
    "# 1. 整理我写的 Weighting scheme\n",
    "# 2. 整理你写的 Factor model -> cov matrix, expected returns\n",
    "# 3. Black Litterman\n",
    "# 4. OLS, ridge, lasso (一个值)\n",
    "# 5. TimeSeries CV\n",
    "# 6. 验证因子有效性：IC, IR, 分层backtest\n",
    "# 7. 算出因子，存入database"
   ]
  }
 ],
 "metadata": {
  "kernelspec": {
   "display_name": "Python 3",
   "language": "python",
   "name": "python3"
  },
  "language_info": {
   "codemirror_mode": {
    "name": "ipython",
    "version": 3
   },
   "file_extension": ".py",
   "mimetype": "text/x-python",
   "name": "python",
   "nbconvert_exporter": "python",
   "pygments_lexer": "ipython3",
   "version": "3.8.8"
  }
 },
 "nbformat": 4,
 "nbformat_minor": 5
}
