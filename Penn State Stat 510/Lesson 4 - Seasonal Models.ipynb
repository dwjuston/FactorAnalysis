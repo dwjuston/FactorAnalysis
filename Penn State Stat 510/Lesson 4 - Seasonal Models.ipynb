{
 "cells": [
  {
   "cell_type": "markdown",
   "id": "bdc01c67",
   "metadata": {},
   "source": [
    "#### https://online.stat.psu.edu/stat510/lesson/4"
   ]
  },
  {
   "cell_type": "markdown",
   "id": "800a9dda",
   "metadata": {},
   "source": [
    "In a seasonal ARIMA model, seasonal AR and MA terms predict $x_t$ using data values and errors at times with lags that are multiples of S. For example, S=12, a seasonal first order AR model would use $x_{t-12}$ to predict $x_t$"
   ]
  },
  {
   "cell_type": "markdown",
   "id": "30071f12",
   "metadata": {},
   "source": [
    "The seasonal ARIMA model is called SARIMA, it can be written as \n",
    "$$\n",
    "ARIMA(p,d,q) \\times S(P,D,Q)\n",
    "$$"
   ]
  }
 ],
 "metadata": {
  "kernelspec": {
   "display_name": "Python 3 (ipykernel)",
   "language": "python",
   "name": "python3"
  },
  "language_info": {
   "codemirror_mode": {
    "name": "ipython",
    "version": 3
   },
   "file_extension": ".py",
   "mimetype": "text/x-python",
   "name": "python",
   "nbconvert_exporter": "python",
   "pygments_lexer": "ipython3",
   "version": "3.9.7"
  }
 },
 "nbformat": 4,
 "nbformat_minor": 5
}
