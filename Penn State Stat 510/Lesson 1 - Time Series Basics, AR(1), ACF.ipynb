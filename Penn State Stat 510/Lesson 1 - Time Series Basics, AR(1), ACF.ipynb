{
 "cells": [
  {
   "cell_type": "markdown",
   "id": "c2db144b",
   "metadata": {},
   "source": [
    "#### https://online.stat.psu.edu/stat510/lesson/1"
   ]
  },
  {
   "cell_type": "code",
   "execution_count": 4,
   "id": "a186fcc1",
   "metadata": {},
   "outputs": [],
   "source": [
    "import pandas as pd \n",
    "from statsmodels.tsa.stattools import adfuller\n",
    "import matplotlib.pyplot as plt\n",
    "import seaborn as sns \n",
    "from statsmodels.tsa.seasonal import seasonal_decompose\n",
    "import numpy as np\n",
    "from sklearn.metrics import mean_squared_error\n",
    "from IPython.display import Image"
   ]
  },
  {
   "cell_type": "markdown",
   "id": "53c8611d",
   "metadata": {},
   "source": [
    "#### Univariate Time Series"
   ]
  },
  {
   "cell_type": "markdown",
   "id": "a7d973f8",
   "metadata": {},
   "source": [
    "A univariate time series is a sequence of measurements of the same variable collected over time. One difference from standard linear regression is that the data are not necessarily iid. "
   ]
  },
  {
   "cell_type": "markdown",
   "id": "c22a7f74",
   "metadata": {},
   "source": [
    "#### Basic objectives of TS analysis"
   ]
  },
  {
   "cell_type": "markdown",
   "id": "dd2ac1b8",
   "metadata": {},
   "source": [
    "<ol>\n",
    "    <li>Describe features of a time series</li>\n",
    "    <li>Explain how the past affects the future</li>\n",
    "    <li>Expect how two time series can interact</li>\n",
    "    <li>To forecast future</li>\n",
    "    <li>To filter out noise and reflect the true state</li>\n",
    "</ol>"
   ]
  },
  {
   "cell_type": "markdown",
   "id": "db91c8cd",
   "metadata": {},
   "source": [
    "#### Main components"
   ]
  },
  {
   "cell_type": "markdown",
   "id": "f9ff6796",
   "metadata": {},
   "source": [
    "<ol>\n",
    "    <li>Trend</li>\n",
    "    <li>Seasonality</li>\n",
    "    <li>Outliers</li>\n",
    "    <li>Long Run Cycle</li>\n",
    "    <li>Constant Variance</li>\n",
    "</ol>"
   ]
  },
  {
   "cell_type": "code",
   "execution_count": 5,
   "id": "e0dddf49",
   "metadata": {},
   "outputs": [
    {
     "data": {
      "text/html": [
       "<img src=\"TS_example_101.gif\" width=\"600\" height=\"600\"/>"
      ],
      "text/plain": [
       "<IPython.core.display.Image object>"
      ]
     },
     "execution_count": 5,
     "metadata": {},
     "output_type": "execute_result"
    }
   ],
   "source": [
    "Image(url=\"TS_example_101.gif\", width=600, height=600)"
   ]
  },
  {
   "cell_type": "code",
   "execution_count": 6,
   "id": "c3a2c45c",
   "metadata": {},
   "outputs": [
    {
     "data": {
      "text/html": [
       "<img src=\"TS_example_102.gif\" width=\"600\" height=\"600\"/>"
      ],
      "text/plain": [
       "<IPython.core.display.Image object>"
      ]
     },
     "execution_count": 6,
     "metadata": {},
     "output_type": "execute_result"
    }
   ],
   "source": [
    "Image(url=\"TS_example_102.gif\", width=600, height=600)"
   ]
  },
  {
   "cell_type": "markdown",
   "id": "cfb0c217",
   "metadata": {},
   "source": [
    "#### Stationary Series"
   ]
  },
  {
   "cell_type": "markdown",
   "id": "d273cbe3",
   "metadata": {},
   "source": [
    "Intuition: we want to connect past and future. So we expect that what's happening in the past is going to repeat itself in the future."
   ]
  },
  {
   "cell_type": "markdown",
   "id": "883951cd",
   "metadata": {},
   "source": [
    "Mathematically, we want\n",
    "<ol>\n",
    "    <li>The mean $E[x_t]$ is the same for all t</li>\n",
    "    <li>The variance $var(x_t)$ is the same for all t</li>\n",
    "    <li>The covariance between $x_t$ and $x_{t-h}$ is the same for all t</li>\n",
    "</ol>"
   ]
  },
  {
   "cell_type": "markdown",
   "id": "cdade3dc",
   "metadata": {},
   "source": [
    "#### ACF"
   ]
  },
  {
   "cell_type": "markdown",
   "id": "3829894c",
   "metadata": {},
   "source": [
    "$$\n",
    "corr(x_t, x_{t-h}) = \\frac{cov(x_t, x_{t-h})}{std(x_t) std(x_{t-h})} = \\frac{cov(x_t, x_{t-h})}{var(x_t)}\n",
    "$$"
   ]
  },
  {
   "cell_type": "markdown",
   "id": "9655d117",
   "metadata": {},
   "source": [
    "#### AR: mean, variance, covariance"
   ]
  },
  {
   "cell_type": "markdown",
   "id": "bf9dc092",
   "metadata": {},
   "source": [
    "AR(1) model has $\\omega_t$ following iid $N(0, \\sigma^2_w)$, {$x_t$} is weakly stationary, $|\\phi_1| < 1$ and $$\n",
    "x_t = \\delta + \\phi_1 x_{t-1} + \\omega_t\n",
    "$$"
   ]
  },
  {
   "cell_type": "code",
   "execution_count": 7,
   "id": "d72aa331",
   "metadata": {},
   "outputs": [
    {
     "data": {
      "text/html": [
       "<img src=\"AR1_properties.png\" width=\"600\" height=\"600\"/>"
      ],
      "text/plain": [
       "<IPython.core.display.Image object>"
      ]
     },
     "execution_count": 7,
     "metadata": {},
     "output_type": "execute_result"
    }
   ],
   "source": [
    "Image(url=\"AR1_properties.png\", width=600, height=600)"
   ]
  },
  {
   "cell_type": "markdown",
   "id": "d120a79d",
   "metadata": {},
   "source": [
    "If we have AR(1) model, the ACF should have a power decay"
   ]
  },
  {
   "cell_type": "code",
   "execution_count": 9,
   "id": "0de68bb9",
   "metadata": {},
   "outputs": [
    {
     "data": {
      "text/html": [
       "<img src=\"AR1_ACF.gif\" width=\"600\" height=\"600\"/>"
      ],
      "text/plain": [
       "<IPython.core.display.Image object>"
      ]
     },
     "execution_count": 9,
     "metadata": {},
     "output_type": "execute_result"
    }
   ],
   "source": [
    "Image(url=\"AR1_ACF.gif\", width=600, height=600)"
   ]
  },
  {
   "cell_type": "markdown",
   "id": "2a56c414",
   "metadata": {},
   "source": [
    "If $\\phi_1$ is negative, it can be alternating"
   ]
  },
  {
   "cell_type": "code",
   "execution_count": 10,
   "id": "79eb7fe5",
   "metadata": {},
   "outputs": [
    {
     "data": {
      "text/html": [
       "<img src=\"AR1_ACF2.gif\" width=\"600\" height=\"600\"/>"
      ],
      "text/plain": [
       "<IPython.core.display.Image object>"
      ]
     },
     "execution_count": 10,
     "metadata": {},
     "output_type": "execute_result"
    }
   ],
   "source": [
    "Image(url=\"AR1_ACF2.gif\", width=600, height=600)"
   ]
  }
 ],
 "metadata": {
  "kernelspec": {
   "display_name": "Python 3 (ipykernel)",
   "language": "python",
   "name": "python3"
  },
  "language_info": {
   "codemirror_mode": {
    "name": "ipython",
    "version": 3
   },
   "file_extension": ".py",
   "mimetype": "text/x-python",
   "name": "python",
   "nbconvert_exporter": "python",
   "pygments_lexer": "ipython3",
   "version": "3.9.7"
  }
 },
 "nbformat": 4,
 "nbformat_minor": 5
}
