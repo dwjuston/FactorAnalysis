{
 "cells": [
  {
   "cell_type": "markdown",
   "id": "94155134",
   "metadata": {},
   "source": [
    "#### https://online.stat.psu.edu/stat510/lesson/2"
   ]
  },
  {
   "cell_type": "code",
   "execution_count": 1,
   "id": "3069c997",
   "metadata": {},
   "outputs": [],
   "source": [
    "import pandas as pd \n",
    "from statsmodels.tsa.stattools import adfuller\n",
    "import matplotlib.pyplot as plt\n",
    "import seaborn as sns \n",
    "from statsmodels.tsa.seasonal import seasonal_decompose\n",
    "import numpy as np\n",
    "from sklearn.metrics import mean_squared_error\n",
    "from IPython.display import Image"
   ]
  },
  {
   "cell_type": "markdown",
   "id": "ad49b20d",
   "metadata": {},
   "source": [
    "#### Moving Average Models"
   ]
  },
  {
   "cell_type": "markdown",
   "id": "c43eb373",
   "metadata": {},
   "source": [
    "In AR(1) model, the variable $x_t$ is related to its lagged value $x_{t-1}$"
   ]
  },
  {
   "cell_type": "markdown",
   "id": "b4183601",
   "metadata": {},
   "source": [
    "$$\n",
    "x_t = \\delta + \\phi_1 x_{t-1} + \\omega_t\n",
    "$$"
   ]
  },
  {
   "cell_type": "markdown",
   "id": "f6954d46",
   "metadata": {},
   "source": [
    "In MA(1) model, $x_t$ is related to the past error $\\omega_{t-1}$"
   ]
  },
  {
   "cell_type": "markdown",
   "id": "d3dedd31",
   "metadata": {},
   "source": [
    "$$\n",
    "x_t = \\mu + \\theta_1 \\omega_{t-1} + \\omega_t\n",
    "$$"
   ]
  },
  {
   "cell_type": "code",
   "execution_count": 2,
   "id": "d6ec6e07",
   "metadata": {},
   "outputs": [
    {
     "data": {
      "text/html": [
       "<img src=\"MA1_properties.png\" width=\"600\" height=\"600\"/>"
      ],
      "text/plain": [
       "<IPython.core.display.Image object>"
      ]
     },
     "execution_count": 2,
     "metadata": {},
     "output_type": "execute_result"
    }
   ],
   "source": [
    "Image(url=\"MA1_properties.png\", width=600, height=600)"
   ]
  },
  {
   "cell_type": "markdown",
   "id": "71d571f4",
   "metadata": {},
   "source": [
    "Note that there's a cutoff in the ACF"
   ]
  },
  {
   "cell_type": "code",
   "execution_count": 3,
   "id": "398122ac",
   "metadata": {},
   "outputs": [
    {
     "data": {
      "text/html": [
       "<img src=\"MA1_ACF.gif\" width=\"600\" height=\"600\"/>"
      ],
      "text/plain": [
       "<IPython.core.display.Image object>"
      ]
     },
     "execution_count": 3,
     "metadata": {},
     "output_type": "execute_result"
    }
   ],
   "source": [
    "Image(url=\"MA1_ACF.gif\", width=600, height=600)"
   ]
  },
  {
   "cell_type": "code",
   "execution_count": 4,
   "id": "889a69d7",
   "metadata": {},
   "outputs": [
    {
     "data": {
      "text/html": [
       "<img src=\"MA2_ACF.gif\" width=\"600\" height=\"600\"/>"
      ],
      "text/plain": [
       "<IPython.core.display.Image object>"
      ]
     },
     "execution_count": 4,
     "metadata": {},
     "output_type": "execute_result"
    }
   ],
   "source": [
    "Image(url=\"MA2_ACF.gif\", width=600, height=600)"
   ]
  },
  {
   "cell_type": "markdown",
   "id": "6a8f199f",
   "metadata": {},
   "source": [
    "Invertibility of MA models: An MA model is said to be invertible if it is algebraically equivalent to a convering infinite order AR model."
   ]
  },
  {
   "cell_type": "markdown",
   "id": "1c03b4a5",
   "metadata": {},
   "source": [
    "#### Partial Autocorrelation Function (PACF)"
   ]
  },
  {
   "cell_type": "markdown",
   "id": "0ae9f142",
   "metadata": {},
   "source": [
    "For instance, consider a regression context in which y is the response variable and $x_1$, $x_2$, $x_3$ are predictor variables. "
   ]
  },
  {
   "cell_type": "markdown",
   "id": "38752391",
   "metadata": {},
   "source": [
    "Goal is to find the partial correlation between y and x3"
   ]
  },
  {
   "cell_type": "markdown",
   "id": "90af21d0",
   "metadata": {},
   "source": [
    "First regress y against x1, x2"
   ]
  },
  {
   "cell_type": "markdown",
   "id": "8f3a07da",
   "metadata": {},
   "source": [
    "Then regress x3 against x1, x2"
   ]
  },
  {
   "cell_type": "markdown",
   "id": "dea26edd",
   "metadata": {},
   "source": [
    "Correlate the parts of y and x3 that are not explained by x1, x2"
   ]
  },
  {
   "cell_type": "markdown",
   "id": "1f35a10c",
   "metadata": {},
   "source": [
    "$$\n",
    "\\frac{cov(y,x_3|x_1,x_2)}{std(y|x_1, x_2) std(x_3 | x_1, x_2)}\n",
    "$$"
   ]
  },
  {
   "cell_type": "markdown",
   "id": "0d3a16c0",
   "metadata": {},
   "source": [
    "Typically, matrix manipulations having to do with the covariance matrix of a multivariate distribution are used to determine estimates of the PACFs"
   ]
  },
  {
   "cell_type": "code",
   "execution_count": 5,
   "id": "4eabb17c",
   "metadata": {},
   "outputs": [
    {
     "data": {
      "text/html": [
       "<img src=\"MA1_PACF.gif\" width=\"600\" height=\"600\"/>"
      ],
      "text/plain": [
       "<IPython.core.display.Image object>"
      ]
     },
     "execution_count": 5,
     "metadata": {},
     "output_type": "execute_result"
    }
   ],
   "source": [
    "Image(url=\"MA1_PACF.gif\", width=600, height=600)"
   ]
  },
  {
   "cell_type": "code",
   "execution_count": 6,
   "id": "e889e217",
   "metadata": {},
   "outputs": [
    {
     "data": {
      "text/html": [
       "<img src=\"AR1_PACF.gif\" width=\"600\" height=\"600\"/>"
      ],
      "text/plain": [
       "<IPython.core.display.Image object>"
      ]
     },
     "execution_count": 6,
     "metadata": {},
     "output_type": "execute_result"
    }
   ],
   "source": [
    "Image(url=\"AR1_PACF.gif\", width=600, height=600)"
   ]
  },
  {
   "cell_type": "markdown",
   "id": "fecd0874",
   "metadata": {},
   "source": [
    "#### Therefore, use ACF is identify MA lags, use PACF is identify AR lags"
   ]
  },
  {
   "cell_type": "markdown",
   "id": "368214be",
   "metadata": {},
   "source": [
    "#### Useful Notations"
   ]
  },
  {
   "cell_type": "markdown",
   "id": "12529c1d",
   "metadata": {},
   "source": [
    "**Backshift Operator**\n",
    "$$\n",
    "B x_t = x_{t-1}\n",
    "$$\n",
    "A power of B means to repeatedly apply the backshift\n",
    "$$\n",
    "B^2 x_t = x_{t-2}\n",
    "$$\n",
    "The backshift operator B doesn't operate on coefficients\n",
    "$$\n",
    "B \\theta_1 = \\theta_1\n",
    "$$"
   ]
  },
  {
   "cell_type": "markdown",
   "id": "b4babe07",
   "metadata": {},
   "source": [
    "**AR(p) Model**\n",
    "$$\n",
    "x_t = \\delta + \\phi_1 x_{t-1} + \\phi_2 x_{t-2} + ... + \\phi_p x_{t-p} + \\omega_t\n",
    "$$\n",
    "It can be written as\n",
    "$$\n",
    "x_t = \\delta + \\phi_1 B x_t + \\phi_2 B^2 x_t + ... + \\phi_p B^p x_t + \\omega_t\n",
    "$$"
   ]
  },
  {
   "cell_type": "markdown",
   "id": "6a82d44a",
   "metadata": {},
   "source": [
    "Define **\"AR polynomial\"** as $\\Phi(B) = 1 - \\phi_1 B - ... - \\phi_p B^p$\n",
    "<br>We can then further organize it:\n",
    "$$\n",
    "\\Phi(B) x_t = \\delta + \\omega_t\n",
    "$$"
   ]
  },
  {
   "cell_type": "markdown",
   "id": "74699fbf",
   "metadata": {},
   "source": [
    "AR(1) model has $\\Phi(B) = 1 - \\phi_1 B$ <br>\n",
    "AR(2) model has $\\Phi(B) = 1 - \\phi_1 B - \\phi_2 B^2$"
   ]
  },
  {
   "cell_type": "markdown",
   "id": "678b41b2",
   "metadata": {},
   "source": [
    "**MA(q) Model**\n",
    "$$\n",
    "x_t = \\mu + \\theta_1 \\omega_{t-1} + \\theta_2 \\omega_{t-2} + ... + \\theta_p \\omega_{t-p} + \\omega_t\n",
    "$$\n",
    "It can be written as\n",
    "$$\n",
    "x_t = \\mu + \\theta_1 B \\omega_t + \\theta_2 B^2 \\omega_t + ... + \\theta_p B^p \\omega_t + \\omega_t\n",
    "$$"
   ]
  },
  {
   "cell_type": "markdown",
   "id": "06634a73",
   "metadata": {},
   "source": [
    "Again, we can define **\"MA polynomial\"** as $\\Theta(B) = (1 + \\theta_1 B + ... + ... + \\theta_q B^q)$<br>\n",
    "We can then further organize it:\n",
    "$$\n",
    "x_t - \\mu = \\Theta(B) \\omega_t\n",
    "$$"
   ]
  },
  {
   "cell_type": "markdown",
   "id": "b420c82f",
   "metadata": {},
   "source": [
    "Note: some convention negate $\\theta_1$ to make MA polynomial in the same format as AR polynomial"
   ]
  },
  {
   "cell_type": "markdown",
   "id": "0623e6f9",
   "metadata": {},
   "source": [
    "**Differencing**: We can express $x_t - x_{t-1}$ as $(1-B) x_t = \\bigtriangledown x_t$"
   ]
  },
  {
   "cell_type": "markdown",
   "id": "2d0e4d81",
   "metadata": {},
   "source": [
    "#### Differencing with subscript: $\\bigtriangledown_{12} x_t = x_t - x_{t-12}$"
   ]
  },
  {
   "cell_type": "markdown",
   "id": "6431e0cd",
   "metadata": {},
   "source": [
    "#### Differencing with superscript: $\\bigtriangledown^2 = (1-B)^2 x_t = (1 - 2B + B^2) x_t = x_t - 2 x_{t-1} + x_{t-2}$"
   ]
  }
 ],
 "metadata": {
  "kernelspec": {
   "display_name": "Python 3 (ipykernel)",
   "language": "python",
   "name": "python3"
  },
  "language_info": {
   "codemirror_mode": {
    "name": "ipython",
    "version": 3
   },
   "file_extension": ".py",
   "mimetype": "text/x-python",
   "name": "python",
   "nbconvert_exporter": "python",
   "pygments_lexer": "ipython3",
   "version": "3.9.7"
  }
 },
 "nbformat": 4,
 "nbformat_minor": 5
}
