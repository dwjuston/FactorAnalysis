{
 "cells": [
  {
   "cell_type": "markdown",
   "id": "2ec8f90c",
   "metadata": {},
   "source": [
    "#### https://online.stat.psu.edu/stat505/lesson/2"
   ]
  },
  {
   "cell_type": "markdown",
   "id": "b8d5202b",
   "metadata": {},
   "source": [
    "This lesson is concerned with linear combinations or linear transformations of the variables. \n",
    "$$\n",
    "Y = c_1 X_1 + c_2 X_2 + ... + c_p X_p = X c\n",
    "$$"
   ]
  },
  {
   "cell_type": "code",
   "execution_count": 1,
   "id": "9a42ed82",
   "metadata": {},
   "outputs": [],
   "source": [
    "import pandas as pd \n",
    "import numpy as np\n",
    "from IPython.display import Image"
   ]
  },
  {
   "cell_type": "markdown",
   "id": "016e1a48",
   "metadata": {},
   "source": [
    "#### Introductory Example"
   ]
  },
  {
   "cell_type": "code",
   "execution_count": 2,
   "id": "33bbb342",
   "metadata": {},
   "outputs": [],
   "source": [
    "df = pd.read_table(\"nutrient.txt\", delim_whitespace=True, header=None, index_col=0)"
   ]
  },
  {
   "cell_type": "code",
   "execution_count": 3,
   "id": "4d2c9bea",
   "metadata": {},
   "outputs": [],
   "source": [
    "df.columns = ['calcium', 'iron', 'protein', 'vitamin A', 'vitamin C']"
   ]
  },
  {
   "cell_type": "markdown",
   "id": "d71db01b",
   "metadata": {},
   "source": [
    "We may want to ask what is the total intake of vitamins A and C. Since Vitamin A is measuring in micrograms while Vitamin C is in miligrams, so we can express it as:\n",
    "$$\n",
    "Y = 0.001 X_4 + X_5\n",
    "$$"
   ]
  },
  {
   "cell_type": "markdown",
   "id": "c28dd603",
   "metadata": {},
   "source": [
    "In matrix form, we can construct the vector **c** as:\n",
    "$$\n",
    "\\begin{bmatrix} 0 \\\\ 0 \\\\ 0 \\\\ 0.001 \\\\ 1 \\end{bmatrix}\n",
    "$$"
   ]
  },
  {
   "cell_type": "code",
   "execution_count": 4,
   "id": "4fc6cfda",
   "metadata": {},
   "outputs": [
    {
     "data": {
      "text/plain": [
       "matrix([[0.   ],\n",
       "        [0.   ],\n",
       "        [0.   ],\n",
       "        [0.001],\n",
       "        [1.   ]])"
      ]
     },
     "execution_count": 4,
     "metadata": {},
     "output_type": "execute_result"
    }
   ],
   "source": [
    "c = np.matrix([0, 0, 0, 0.001, 1]).T\n",
    "c"
   ]
  },
  {
   "cell_type": "code",
   "execution_count": 7,
   "id": "25178709",
   "metadata": {},
   "outputs": [],
   "source": [
    "naive_form = 0.001 * df['vitamin A'] + df['vitamin C']"
   ]
  },
  {
   "cell_type": "code",
   "execution_count": 11,
   "id": "61ae8540",
   "metadata": {},
   "outputs": [],
   "source": [
    "matrix_form = df.values @ c"
   ]
  },
  {
   "cell_type": "code",
   "execution_count": 22,
   "id": "1ee0cdd3",
   "metadata": {},
   "outputs": [
    {
     "data": {
      "text/plain": [
       "0"
      ]
     },
     "execution_count": 22,
     "metadata": {},
     "output_type": "execute_result"
    }
   ],
   "source": [
    "(naive_form != np.array(matrix_form).flatten()).sum()"
   ]
  },
  {
   "cell_type": "markdown",
   "id": "039c1ca8",
   "metadata": {},
   "source": [
    "#### LC Mean"
   ]
  },
  {
   "cell_type": "markdown",
   "id": "1925aa85",
   "metadata": {},
   "source": [
    "$$\n",
    "Y = X c = c_1 X_1 + ... + c_p X_p\n",
    "$$"
   ]
  },
  {
   "cell_type": "markdown",
   "id": "cebffe12",
   "metadata": {},
   "source": [
    "$$\n",
    "E[Y] = c_1 E[X_1] + ... + c_p E[X_p] = c_1 \\mu_1 + ... + c_p \\mu_p\n",
    "$$"
   ]
  },
  {
   "cell_type": "markdown",
   "id": "6df19f58",
   "metadata": {},
   "source": [
    "Recall that if X is n x p, $E[X]$ is the mean of all of the features, which is the mean of every column, so the result is $E[X] = \\mu_X$, which is 1 x p "
   ]
  },
  {
   "cell_type": "markdown",
   "id": "f570508d",
   "metadata": {},
   "source": [
    "$E[Y]$ is LC of the element of E[X], which is a scaler value\n",
    "$$\n",
    "E[Y] = E[X] c\n",
    "$$"
   ]
  },
  {
   "cell_type": "code",
   "execution_count": 31,
   "id": "62327177",
   "metadata": {},
   "outputs": [],
   "source": [
    "matrix_form_mean = df.mean() @ c"
   ]
  },
  {
   "cell_type": "code",
   "execution_count": 32,
   "id": "01584f5f",
   "metadata": {},
   "outputs": [
    {
     "data": {
      "text/plain": [
       "array([79.76808175])"
      ]
     },
     "execution_count": 32,
     "metadata": {},
     "output_type": "execute_result"
    }
   ],
   "source": [
    "matrix_form_mean"
   ]
  },
  {
   "cell_type": "code",
   "execution_count": 33,
   "id": "164a84b5",
   "metadata": {
    "scrolled": false
   },
   "outputs": [],
   "source": [
    "naive_form_mean = 0.001 * df['vitamin A'].mean() + df['vitamin C'].mean()"
   ]
  },
  {
   "cell_type": "code",
   "execution_count": 34,
   "id": "56a391a4",
   "metadata": {},
   "outputs": [
    {
     "name": "stdout",
     "output_type": "stream",
     "text": [
      "[79.76808175]\n",
      "79.76808175033923\n"
     ]
    }
   ],
   "source": [
    "print(matrix_form_mean)\n",
    "print(naive_form_mean)"
   ]
  },
  {
   "cell_type": "markdown",
   "id": "ca76e5b3",
   "metadata": {},
   "source": [
    "#### LC Variance"
   ]
  },
  {
   "cell_type": "markdown",
   "id": "72110b9a",
   "metadata": {},
   "source": [
    "Notation: cov matrix is $\\Sigma$, and the covariance between x1 and x2 is $\\Sigma_{12}$"
   ]
  },
  {
   "cell_type": "markdown",
   "id": "475bccb7",
   "metadata": {},
   "source": [
    "$$\n",
    "Y = c_1 X_1 + ... + c_p X_p\n",
    "$$"
   ]
  },
  {
   "cell_type": "markdown",
   "id": "96e11687",
   "metadata": {},
   "source": [
    "Here we don't have to assume $X_i$ is Indenpendent Identically Distributed\n",
    "$$\n",
    "var(Y) = c_1^2 var(X_1) + ... + c_p^2 var(X_p) + \\sum_{i!=j} c_i c_j cov(X_i, X_j)\n",
    "$$"
   ]
  },
  {
   "cell_type": "markdown",
   "id": "792005a9",
   "metadata": {},
   "source": [
    "Later you will see this alternative expression\n",
    "$$\n",
    "var(Y) = \\sum_{i=1}^p c_i^2 s_i^2 + 2 \\sum_{j<k} c_j c_k s_{jk}\n",
    "$$"
   ]
  },
  {
   "cell_type": "markdown",
   "id": "71c6fdea",
   "metadata": {},
   "source": [
    "If you think about it, you can represent var(Y) in this way:\n",
    "$$\n",
    "var(Y) = \\sum_{i=1}^p \\sum_{j=1}^p c_i c_j cov(X_i, X_j) = \\sum_{i=1}^p \\sum_{j=1}^p c_i c_j \\Sigma_{ij}\n",
    "$$"
   ]
  },
  {
   "cell_type": "markdown",
   "id": "a76c4c7b",
   "metadata": {},
   "source": [
    "Recall that if we have this form: row mat col, where row is 1 x n, matrix is n x k, and column vector is k x 1, we will have\n",
    "$$\n",
    "r B c = \\sum_{i=1}^n \\sum_{j=1}^k r_i B_{ij} c_j = \\sum_{i=1}^n \\sum_{j=1}^k r_i c_j B_{ij}\n",
    "$$"
   ]
  },
  {
   "cell_type": "code",
   "execution_count": null,
   "id": "1fbb712a",
   "metadata": {},
   "outputs": [],
   "source": [
    "np.array([])"
   ]
  },
  {
   "cell_type": "code",
   "execution_count": 37,
   "id": "0307a53e",
   "metadata": {},
   "outputs": [
    {
     "data": {
      "text/plain": [
       "(737, 1)"
      ]
     },
     "execution_count": 37,
     "metadata": {},
     "output_type": "execute_result"
    }
   ],
   "source": [
    "matrix_form.shape"
   ]
  },
  {
   "cell_type": "markdown",
   "id": "ca087d0b",
   "metadata": {},
   "source": [
    "Connect between the fact and the formula for $var(Y)$, we know we can express var(Y) in the form of $r B c$"
   ]
  },
  {
   "cell_type": "markdown",
   "id": "bfae4104",
   "metadata": {},
   "source": [
    "$$\n",
    "var(Y) = c^T \\Sigma c\n",
    "$$"
   ]
  },
  {
   "cell_type": "code",
   "execution_count": 49,
   "id": "b532874c",
   "metadata": {},
   "outputs": [
    {
     "data": {
      "text/plain": [
       "5463.059027756587"
      ]
     },
     "execution_count": 49,
     "metadata": {},
     "output_type": "execute_result"
    }
   ],
   "source": [
    "matrix_form.var(ddof=1)"
   ]
  },
  {
   "cell_type": "code",
   "execution_count": 58,
   "id": "57761bee",
   "metadata": {},
   "outputs": [
    {
     "data": {
      "text/plain": [
       "matrix([[5463.05902776]])"
      ]
     },
     "execution_count": 58,
     "metadata": {},
     "output_type": "execute_result"
    }
   ],
   "source": [
    "c.T @ df.cov().values @ c"
   ]
  }
 ],
 "metadata": {
  "kernelspec": {
   "display_name": "Python 3",
   "language": "python",
   "name": "python3"
  },
  "language_info": {
   "codemirror_mode": {
    "name": "ipython",
    "version": 3
   },
   "file_extension": ".py",
   "mimetype": "text/x-python",
   "name": "python",
   "nbconvert_exporter": "python",
   "pygments_lexer": "ipython3",
   "version": "3.8.8"
  }
 },
 "nbformat": 4,
 "nbformat_minor": 5
}
