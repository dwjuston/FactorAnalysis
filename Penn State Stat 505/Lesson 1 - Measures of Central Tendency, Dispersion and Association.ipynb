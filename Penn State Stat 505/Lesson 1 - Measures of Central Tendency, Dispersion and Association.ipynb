{
 "cells": [
  {
   "cell_type": "markdown",
   "id": "27351ba2",
   "metadata": {},
   "source": [
    "#### Notation"
   ]
  },
  {
   "cell_type": "markdown",
   "id": "a132ad11",
   "metadata": {},
   "source": [
    "$X_{ij}$ means i-th observation for variable j"
   ]
  },
  {
   "cell_type": "markdown",
   "id": "bcc6740d",
   "metadata": {},
   "source": [
    "$p$ means number of variables"
   ]
  },
  {
   "cell_type": "markdown",
   "id": "8de52e12",
   "metadata": {},
   "source": [
    "$n$ means number of observations"
   ]
  },
  {
   "cell_type": "markdown",
   "id": "0feb8bf0",
   "metadata": {},
   "source": [
    "We are going to arrange the data for the p variables on each subject into a vector\n",
    "$$\n",
    "X_i = \\begin{bmatrix} X_{i1} & X_{i2} & ... & X_{ip} \\end{bmatrix}\n",
    "$$"
   ]
  },
  {
   "cell_type": "markdown",
   "id": "d80ac858",
   "metadata": {},
   "source": [
    "We can also use a column vector to represent the data for variable j \n",
    "$$\n",
    "X_j = \\begin{bmatrix} X_{1j} \\\\ X_{2j} \\\\ ... \\\\ X_{nj} \\end{bmatrix}\n",
    "$$"
   ]
  },
  {
   "cell_type": "markdown",
   "id": "0f3714d4",
   "metadata": {},
   "source": [
    "#### Central Tendency: The Mean Vector"
   ]
  },
  {
   "cell_type": "markdown",
   "id": "3141b6ef",
   "metadata": {},
   "source": [
    "Population Mean for variable j\n",
    "$$\n",
    "\\mu_j = E[X_j]\n",
    "$$"
   ]
  },
  {
   "cell_type": "markdown",
   "id": "375907e8",
   "metadata": {},
   "source": [
    "Sample Mean for variable j\n",
    "$$\n",
    "\\bar{x}_j = \\frac{1}{n} \\sum_{i=1}^n X_{ij}\n",
    "$$"
   ]
  },
  {
   "cell_type": "markdown",
   "id": "db28358a",
   "metadata": {},
   "source": [
    "Population Mean for all\n",
    "$$\n",
    "\\mu = \\begin{bmatrix} \\mu_{1} & \\mu_{2} & ... & \\mu_{p} \\end{bmatrix}\n",
    "$$"
   ]
  },
  {
   "cell_type": "markdown",
   "id": "ee832435",
   "metadata": {},
   "source": [
    "Sample Mean for all\n",
    "$$\n",
    "\\bar{x} = \\begin{bmatrix} \\bar{x}_1 & \\bar{x}_2 & ... & \\bar{x}_p \\end{bmatrix}\n",
    "$$"
   ]
  },
  {
   "cell_type": "markdown",
   "id": "e99021ab",
   "metadata": {},
   "source": [
    "The sample means are unbiased for their respective population means"
   ]
  },
  {
   "cell_type": "markdown",
   "id": "432c89df",
   "metadata": {},
   "source": [
    "$$\n",
    "E[\\bar{x}] = \\begin{bmatrix} E[\\bar{x}_1] & E[\\bar{x}_2] & ... & E[\\bar{x}_p] \\end{bmatrix} = \\begin{bmatrix} \\mu_{1} & \\mu_{2} & ... & \\mu_{p} \\end{bmatrix} = \\mu\n",
    "$$"
   ]
  },
  {
   "cell_type": "markdown",
   "id": "02419309",
   "metadata": {},
   "source": [
    "#### Measures of Dispersion"
   ]
  },
  {
   "cell_type": "markdown",
   "id": "2109181c",
   "metadata": {},
   "source": [
    "$$\n",
    "X_j - \\mu_j = \\begin{bmatrix} X_{1j} - \\mu_j \\\\ X_{2j} - \\mu_j \\\\ ... \\\\ X_{nj} - \\mu_j \\end{bmatrix}\n",
    "$$"
   ]
  },
  {
   "cell_type": "markdown",
   "id": "b20714cc",
   "metadata": {},
   "source": [
    "Population Variance\n",
    "$$\n",
    "\\sigma_j^2 = E[(X_j - \\mu_j)^2]\n",
    "$$"
   ]
  },
  {
   "cell_type": "markdown",
   "id": "48594786",
   "metadata": {},
   "source": [
    "Sample Variance\n",
    "$$\n",
    "s_j^2 = \\frac{1}{n-1} \\sum_{i=1}^n (X_{ij} - \\bar{x}_J)^2\n",
    "$$"
   ]
  },
  {
   "cell_type": "markdown",
   "id": "8ba50f20",
   "metadata": {},
   "source": [
    "The sample variance is unbiased for the population variance:\n",
    "$$\n",
    "E[s_j^2] = \\sigma_j^2\n",
    "$$"
   ]
  },
  {
   "cell_type": "markdown",
   "id": "a44aa345",
   "metadata": {},
   "source": [
    "#### Measures of Association: Covariance, Correlation"
   ]
  },
  {
   "cell_type": "markdown",
   "id": "6f4c2746",
   "metadata": {},
   "source": [
    "Population Covariance\n",
    "$$\n",
    "\\sigma_{jk} = \\frac{1}{n}\\sum_{i=1}^n (X_{ij} - \\mu_j)(X_{ik} - \\mu_k) = E[(X_{ij}-\\mu_j)(X_{ik}-\\mu_k)]\n",
    "$$"
   ]
  },
  {
   "cell_type": "markdown",
   "id": "199f73c7",
   "metadata": {},
   "source": [
    "Sample Covariance\n",
    "$$\n",
    "s_{jk} = \\frac{1}{n-1} \\sum_{i=1}^n (X_{ij} - \\bar{x}_j)(X_{ik} - \\bar{x}_k)\n",
    "$$"
   ]
  },
  {
   "cell_type": "markdown",
   "id": "ae4be4b3",
   "metadata": {},
   "source": [
    "Population Variance-Covariance Matric\n",
    "$$\n",
    "\\Sigma = \\begin{bmatrix} \\sigma_{1}^2 & \\sigma_{12} & ... & \\sigma_{1p} \\\\ \n",
    "\\sigma_{21} & \\sigma_{2}^2 & ... & \\sigma_{2p} \\\\ \n",
    "\\vdots & \\vdots & \\ddots & \\vdots \\\\\n",
    "\\sigma_{p1} & \\sigma_{p2} & ... & \\sigma_{p}^2 \\end{bmatrix}\n",
    "$$"
   ]
  },
  {
   "cell_type": "markdown",
   "id": "dd65cb69",
   "metadata": {},
   "source": [
    "Sample Variance-Covariance Matric\n",
    "$$\n",
    "S = \\begin{bmatrix} s_{1}^2 & s_{12} & ... & s_{1p} \\\\ \n",
    "s_{21} & s_{2}^2 & ... & s_{2p} \\\\ \n",
    "\\vdots & \\vdots & \\ddots & \\vdots \\\\\n",
    "s_{p1} & s_{p2} & ... & s_{p}^2 \\end{bmatrix}\n",
    "$$"
   ]
  },
  {
   "cell_type": "markdown",
   "id": "dd405585",
   "metadata": {},
   "source": [
    "**S** is unbiased for the population variance covariance matrix $\\Sigma$"
   ]
  },
  {
   "cell_type": "markdown",
   "id": "930cf3b7",
   "metadata": {},
   "source": [
    "$$\n",
    "E[S] = \\begin{bmatrix} E[s_{1}^2] & E[s_{12}] & ... & E[s_{1p}] \\\\ \n",
    "E[s_{21}] & E[s_{2}^2] & ... & E[s_{2p}] \\\\ \n",
    "\\vdots & \\vdots & \\ddots & \\vdots \\\\\n",
    "E[s_{p1}] & E[s_{p2}] & ... & E[s_{p}^2] \\end{bmatrix}\n",
    "= \\Sigma\n",
    "$$"
   ]
  },
  {
   "cell_type": "markdown",
   "id": "21185ab7",
   "metadata": {},
   "source": [
    "The matrix is a function of our random data, actually a collection of functions"
   ]
  },
  {
   "cell_type": "markdown",
   "id": "42276f4e",
   "metadata": {},
   "source": [
    "Sample data is random, so function of data is also random, so matrix $S$ is also random"
   ]
  },
  {
   "cell_type": "markdown",
   "id": "7d9579e0",
   "metadata": {},
   "source": [
    "So we can take expectation of the matrix $S$"
   ]
  },
  {
   "cell_type": "markdown",
   "id": "af690502",
   "metadata": {},
   "source": [
    "#### Example: Descriptive Statistics"
   ]
  },
  {
   "cell_type": "code",
   "execution_count": 21,
   "id": "81419c09",
   "metadata": {},
   "outputs": [],
   "source": [
    "import pandas as pd\n",
    "import numpy as np"
   ]
  },
  {
   "cell_type": "code",
   "execution_count": 9,
   "id": "8bdc86ff",
   "metadata": {},
   "outputs": [],
   "source": [
    "df = pd.read_table(\"nutrient.txt\", delim_whitespace=True, header=None, index_col=0)"
   ]
  },
  {
   "cell_type": "code",
   "execution_count": 12,
   "id": "b2dcd4e1",
   "metadata": {},
   "outputs": [],
   "source": [
    "df.columns = ['calcium', 'iron', 'protein', 'vitamin A', 'vitamin C']"
   ]
  },
  {
   "cell_type": "code",
   "execution_count": 17,
   "id": "945c39a1",
   "metadata": {},
   "outputs": [
    {
     "data": {
      "text/html": [
       "<div>\n",
       "<style scoped>\n",
       "    .dataframe tbody tr th:only-of-type {\n",
       "        vertical-align: middle;\n",
       "    }\n",
       "\n",
       "    .dataframe tbody tr th {\n",
       "        vertical-align: top;\n",
       "    }\n",
       "\n",
       "    .dataframe thead th {\n",
       "        text-align: right;\n",
       "    }\n",
       "</style>\n",
       "<table border=\"1\" class=\"dataframe\">\n",
       "  <thead>\n",
       "    <tr style=\"text-align: right;\">\n",
       "      <th></th>\n",
       "      <th>calcium</th>\n",
       "      <th>iron</th>\n",
       "      <th>protein</th>\n",
       "      <th>vitamin A</th>\n",
       "      <th>vitamin C</th>\n",
       "    </tr>\n",
       "  </thead>\n",
       "  <tbody>\n",
       "    <tr>\n",
       "      <th>count</th>\n",
       "      <td>737.000000</td>\n",
       "      <td>737.00000</td>\n",
       "      <td>737.000000</td>\n",
       "      <td>737.000000</td>\n",
       "      <td>737.000000</td>\n",
       "    </tr>\n",
       "    <tr>\n",
       "      <th>mean</th>\n",
       "      <td>624.049254</td>\n",
       "      <td>11.12990</td>\n",
       "      <td>65.803441</td>\n",
       "      <td>839.635346</td>\n",
       "      <td>78.928446</td>\n",
       "    </tr>\n",
       "    <tr>\n",
       "      <th>std</th>\n",
       "      <td>397.277540</td>\n",
       "      <td>5.98419</td>\n",
       "      <td>30.575756</td>\n",
       "      <td>1633.539828</td>\n",
       "      <td>73.595272</td>\n",
       "    </tr>\n",
       "    <tr>\n",
       "      <th>min</th>\n",
       "      <td>7.440000</td>\n",
       "      <td>0.00000</td>\n",
       "      <td>0.000000</td>\n",
       "      <td>0.000000</td>\n",
       "      <td>0.000000</td>\n",
       "    </tr>\n",
       "    <tr>\n",
       "      <th>25%</th>\n",
       "      <td>326.540000</td>\n",
       "      <td>7.46000</td>\n",
       "      <td>45.522000</td>\n",
       "      <td>276.270000</td>\n",
       "      <td>24.942000</td>\n",
       "    </tr>\n",
       "    <tr>\n",
       "      <th>50%</th>\n",
       "      <td>548.290000</td>\n",
       "      <td>10.03300</td>\n",
       "      <td>61.072000</td>\n",
       "      <td>524.030000</td>\n",
       "      <td>53.594000</td>\n",
       "    </tr>\n",
       "    <tr>\n",
       "      <th>75%</th>\n",
       "      <td>826.510000</td>\n",
       "      <td>13.71100</td>\n",
       "      <td>80.774000</td>\n",
       "      <td>943.230000</td>\n",
       "      <td>108.666000</td>\n",
       "    </tr>\n",
       "    <tr>\n",
       "      <th>max</th>\n",
       "      <td>2866.440000</td>\n",
       "      <td>58.66800</td>\n",
       "      <td>251.012000</td>\n",
       "      <td>34434.270000</td>\n",
       "      <td>433.339000</td>\n",
       "    </tr>\n",
       "  </tbody>\n",
       "</table>\n",
       "</div>"
      ],
      "text/plain": [
       "           calcium       iron     protein     vitamin A   vitamin C\n",
       "count   737.000000  737.00000  737.000000    737.000000  737.000000\n",
       "mean    624.049254   11.12990   65.803441    839.635346   78.928446\n",
       "std     397.277540    5.98419   30.575756   1633.539828   73.595272\n",
       "min       7.440000    0.00000    0.000000      0.000000    0.000000\n",
       "25%     326.540000    7.46000   45.522000    276.270000   24.942000\n",
       "50%     548.290000   10.03300   61.072000    524.030000   53.594000\n",
       "75%     826.510000   13.71100   80.774000    943.230000  108.666000\n",
       "max    2866.440000   58.66800  251.012000  34434.270000  433.339000"
      ]
     },
     "execution_count": 17,
     "metadata": {},
     "output_type": "execute_result"
    }
   ],
   "source": [
    "df.describe()"
   ]
  },
  {
   "cell_type": "code",
   "execution_count": 15,
   "id": "85b59064",
   "metadata": {},
   "outputs": [
    {
     "data": {
      "text/html": [
       "<div>\n",
       "<style scoped>\n",
       "    .dataframe tbody tr th:only-of-type {\n",
       "        vertical-align: middle;\n",
       "    }\n",
       "\n",
       "    .dataframe tbody tr th {\n",
       "        vertical-align: top;\n",
       "    }\n",
       "\n",
       "    .dataframe thead th {\n",
       "        text-align: right;\n",
       "    }\n",
       "</style>\n",
       "<table border=\"1\" class=\"dataframe\">\n",
       "  <thead>\n",
       "    <tr style=\"text-align: right;\">\n",
       "      <th></th>\n",
       "      <th>calcium</th>\n",
       "      <th>iron</th>\n",
       "      <th>protein</th>\n",
       "      <th>vitamin A</th>\n",
       "      <th>vitamin C</th>\n",
       "    </tr>\n",
       "  </thead>\n",
       "  <tbody>\n",
       "    <tr>\n",
       "      <th>calcium</th>\n",
       "      <td>157829.443871</td>\n",
       "      <td>940.089437</td>\n",
       "      <td>6075.816252</td>\n",
       "      <td>1.024111e+05</td>\n",
       "      <td>6701.615972</td>\n",
       "    </tr>\n",
       "    <tr>\n",
       "      <th>iron</th>\n",
       "      <td>940.089437</td>\n",
       "      <td>35.810536</td>\n",
       "      <td>114.058032</td>\n",
       "      <td>2.383153e+03</td>\n",
       "      <td>137.671987</td>\n",
       "    </tr>\n",
       "    <tr>\n",
       "      <th>protein</th>\n",
       "      <td>6075.816252</td>\n",
       "      <td>114.058032</td>\n",
       "      <td>934.876881</td>\n",
       "      <td>7.330052e+03</td>\n",
       "      <td>477.199782</td>\n",
       "    </tr>\n",
       "    <tr>\n",
       "      <th>vitamin A</th>\n",
       "      <td>102411.126634</td>\n",
       "      <td>2383.153413</td>\n",
       "      <td>7330.051528</td>\n",
       "      <td>2.668452e+06</td>\n",
       "      <td>22063.248614</td>\n",
       "    </tr>\n",
       "    <tr>\n",
       "      <th>vitamin C</th>\n",
       "      <td>6701.615972</td>\n",
       "      <td>137.671987</td>\n",
       "      <td>477.199782</td>\n",
       "      <td>2.206325e+04</td>\n",
       "      <td>5416.264078</td>\n",
       "    </tr>\n",
       "  </tbody>\n",
       "</table>\n",
       "</div>"
      ],
      "text/plain": [
       "                 calcium         iron      protein     vitamin A     vitamin C\n",
       "calcium    157829.443871   940.089437  6075.816252  1.024111e+05   6701.615972\n",
       "iron          940.089437    35.810536   114.058032  2.383153e+03    137.671987\n",
       "protein      6075.816252   114.058032   934.876881  7.330052e+03    477.199782\n",
       "vitamin A  102411.126634  2383.153413  7330.051528  2.668452e+06  22063.248614\n",
       "vitamin C    6701.615972   137.671987   477.199782  2.206325e+04   5416.264078"
      ]
     },
     "execution_count": 15,
     "metadata": {},
     "output_type": "execute_result"
    }
   ],
   "source": [
    "df.cov()"
   ]
  },
  {
   "cell_type": "code",
   "execution_count": 18,
   "id": "67a32080",
   "metadata": {},
   "outputs": [
    {
     "data": {
      "text/html": [
       "<div>\n",
       "<style scoped>\n",
       "    .dataframe tbody tr th:only-of-type {\n",
       "        vertical-align: middle;\n",
       "    }\n",
       "\n",
       "    .dataframe tbody tr th {\n",
       "        vertical-align: top;\n",
       "    }\n",
       "\n",
       "    .dataframe thead th {\n",
       "        text-align: right;\n",
       "    }\n",
       "</style>\n",
       "<table border=\"1\" class=\"dataframe\">\n",
       "  <thead>\n",
       "    <tr style=\"text-align: right;\">\n",
       "      <th></th>\n",
       "      <th>calcium</th>\n",
       "      <th>iron</th>\n",
       "      <th>protein</th>\n",
       "      <th>vitamin A</th>\n",
       "      <th>vitamin C</th>\n",
       "    </tr>\n",
       "  </thead>\n",
       "  <tbody>\n",
       "    <tr>\n",
       "      <th>calcium</th>\n",
       "      <td>1.000000</td>\n",
       "      <td>0.395430</td>\n",
       "      <td>0.500188</td>\n",
       "      <td>0.157806</td>\n",
       "      <td>0.229211</td>\n",
       "    </tr>\n",
       "    <tr>\n",
       "      <th>iron</th>\n",
       "      <td>0.395430</td>\n",
       "      <td>1.000000</td>\n",
       "      <td>0.623366</td>\n",
       "      <td>0.243791</td>\n",
       "      <td>0.312601</td>\n",
       "    </tr>\n",
       "    <tr>\n",
       "      <th>protein</th>\n",
       "      <td>0.500188</td>\n",
       "      <td>0.623366</td>\n",
       "      <td>1.000000</td>\n",
       "      <td>0.146757</td>\n",
       "      <td>0.212067</td>\n",
       "    </tr>\n",
       "    <tr>\n",
       "      <th>vitamin A</th>\n",
       "      <td>0.157806</td>\n",
       "      <td>0.243791</td>\n",
       "      <td>0.146757</td>\n",
       "      <td>1.000000</td>\n",
       "      <td>0.183523</td>\n",
       "    </tr>\n",
       "    <tr>\n",
       "      <th>vitamin C</th>\n",
       "      <td>0.229211</td>\n",
       "      <td>0.312601</td>\n",
       "      <td>0.212067</td>\n",
       "      <td>0.183523</td>\n",
       "      <td>1.000000</td>\n",
       "    </tr>\n",
       "  </tbody>\n",
       "</table>\n",
       "</div>"
      ],
      "text/plain": [
       "            calcium      iron   protein  vitamin A  vitamin C\n",
       "calcium    1.000000  0.395430  0.500188   0.157806   0.229211\n",
       "iron       0.395430  1.000000  0.623366   0.243791   0.312601\n",
       "protein    0.500188  0.623366  1.000000   0.146757   0.212067\n",
       "vitamin A  0.157806  0.243791  0.146757   1.000000   0.183523\n",
       "vitamin C  0.229211  0.312601  0.212067   0.183523   1.000000"
      ]
     },
     "execution_count": 18,
     "metadata": {},
     "output_type": "execute_result"
    }
   ],
   "source": [
    "df.corr()"
   ]
  },
  {
   "cell_type": "code",
   "execution_count": 24,
   "id": "1883dafd",
   "metadata": {},
   "outputs": [
    {
     "data": {
      "text/html": [
       "<div>\n",
       "<style scoped>\n",
       "    .dataframe tbody tr th:only-of-type {\n",
       "        vertical-align: middle;\n",
       "    }\n",
       "\n",
       "    .dataframe tbody tr th {\n",
       "        vertical-align: top;\n",
       "    }\n",
       "\n",
       "    .dataframe thead th {\n",
       "        text-align: right;\n",
       "    }\n",
       "</style>\n",
       "<table border=\"1\" class=\"dataframe\">\n",
       "  <thead>\n",
       "    <tr style=\"text-align: right;\">\n",
       "      <th></th>\n",
       "      <th>calcium</th>\n",
       "      <th>iron</th>\n",
       "      <th>protein</th>\n",
       "      <th>vitamin A</th>\n",
       "      <th>vitamin C</th>\n",
       "    </tr>\n",
       "  </thead>\n",
       "  <tbody>\n",
       "    <tr>\n",
       "      <th>calcium</th>\n",
       "      <td>1.000000</td>\n",
       "      <td>0.156365</td>\n",
       "      <td>0.250188</td>\n",
       "      <td>0.024903</td>\n",
       "      <td>0.052538</td>\n",
       "    </tr>\n",
       "    <tr>\n",
       "      <th>iron</th>\n",
       "      <td>0.156365</td>\n",
       "      <td>1.000000</td>\n",
       "      <td>0.388585</td>\n",
       "      <td>0.059434</td>\n",
       "      <td>0.097719</td>\n",
       "    </tr>\n",
       "    <tr>\n",
       "      <th>protein</th>\n",
       "      <td>0.250188</td>\n",
       "      <td>0.388585</td>\n",
       "      <td>1.000000</td>\n",
       "      <td>0.021538</td>\n",
       "      <td>0.044972</td>\n",
       "    </tr>\n",
       "    <tr>\n",
       "      <th>vitamin A</th>\n",
       "      <td>0.024903</td>\n",
       "      <td>0.059434</td>\n",
       "      <td>0.021538</td>\n",
       "      <td>1.000000</td>\n",
       "      <td>0.033681</td>\n",
       "    </tr>\n",
       "    <tr>\n",
       "      <th>vitamin C</th>\n",
       "      <td>0.052538</td>\n",
       "      <td>0.097719</td>\n",
       "      <td>0.044972</td>\n",
       "      <td>0.033681</td>\n",
       "      <td>1.000000</td>\n",
       "    </tr>\n",
       "  </tbody>\n",
       "</table>\n",
       "</div>"
      ],
      "text/plain": [
       "            calcium      iron   protein  vitamin A  vitamin C\n",
       "calcium    1.000000  0.156365  0.250188   0.024903   0.052538\n",
       "iron       0.156365  1.000000  0.388585   0.059434   0.097719\n",
       "protein    0.250188  0.388585  1.000000   0.021538   0.044972\n",
       "vitamin A  0.024903  0.059434  0.021538   1.000000   0.033681\n",
       "vitamin C  0.052538  0.097719  0.044972   0.033681   1.000000"
      ]
     },
     "execution_count": 24,
     "metadata": {},
     "output_type": "execute_result"
    }
   ],
   "source": [
    "np.square(df.corr())"
   ]
  },
  {
   "cell_type": "markdown",
   "id": "e6f94553",
   "metadata": {},
   "source": [
    "#### Overall Measures of Dispersion"
   ]
  },
  {
   "cell_type": "markdown",
   "id": "202998b4",
   "metadata": {},
   "source": [
    "Sometimes it's also useful to have an overall measure of dispersion in the data. In this measure, we'd like to have one number that can represent all variables simultaneously. "
   ]
  },
  {
   "cell_type": "markdown",
   "id": "a2e41882",
   "metadata": {},
   "source": [
    "First, **Total Variation**. For a random vector **X**, the total variation is $\\sigma_1^2 + \\sigma_2^2 + ... + \\sigma_p^2$. It can be estimated by $s_1^2 + s_2^2 + ... + s_p^2$. The total variation is of interest for principal components analysis and factor analysis."
   ]
  },
  {
   "cell_type": "markdown",
   "id": "58c3fc0d",
   "metadata": {},
   "source": [
    "Interesting, the total variation is indeed the trace of the cov matrix, because $trace(A) = \\sum_{i=1}^n a_{ii}$"
   ]
  },
  {
   "cell_type": "markdown",
   "id": "f1abcd18",
   "metadata": {},
   "source": [
    "Total variation does not take into account correlations among the variables."
   ]
  },
  {
   "cell_type": "code",
   "execution_count": 25,
   "id": "1c7c9461",
   "metadata": {},
   "outputs": [],
   "source": [
    "from IPython.display import Image"
   ]
  },
  {
   "cell_type": "code",
   "execution_count": 28,
   "id": "9aa9c831",
   "metadata": {},
   "outputs": [
    {
     "data": {
      "image/gif": "[encoded data removed]",
      "text/plain": [
       "<IPython.core.display.Image object>"
      ]
     },
     "execution_count": 28,
     "metadata": {
      "image/gif": {
       "height": 300,
       "width": 300
      }
     },
     "output_type": "execute_result"
    }
   ],
   "source": [
    "Image(\"total_variation_nocorr.gif\", width=300, height=300)"
   ]
  },
  {
   "cell_type": "code",
   "execution_count": 30,
   "id": "d854f875",
   "metadata": {},
   "outputs": [
    {
     "data": {
      "image/gif": "[encoded data removed]",
      "text/plain": [
       "<IPython.core.display.Image object>"
      ]
     },
     "execution_count": 30,
     "metadata": {
      "image/gif": {
       "height": 300,
       "width": 300
      }
     },
     "output_type": "execute_result"
    }
   ],
   "source": [
    "Image(\"total_variation_highcorr.gif\", width=300, height=300)"
   ]
  },
  {
   "cell_type": "markdown",
   "id": "ee4ea9ec",
   "metadata": {},
   "source": [
    "Second, **Generalized Variance**. To take into account the correlations among pairs of variables, we use determinant of the matrix. If the correlation is high, the determinant will be reduced"
   ]
  },
  {
   "cell_type": "code",
   "execution_count": 32,
   "id": "adffebce",
   "metadata": {},
   "outputs": [
    {
     "data": {
      "image/png": "[encoded data removed]",
      "text/plain": [
       "<IPython.core.display.Image object>"
      ]
     },
     "execution_count": 32,
     "metadata": {
      "image/png": {
       "height": 300,
       "width": 300
      }
     },
     "output_type": "execute_result"
    }
   ],
   "source": [
    "Image(\"determinant_example.png\", width=300, height=300)"
   ]
  },
  {
   "cell_type": "code",
   "execution_count": 35,
   "id": "99d156b4",
   "metadata": {},
   "outputs": [],
   "source": [
    "cov_mat = df.cov()"
   ]
  },
  {
   "cell_type": "code",
   "execution_count": 53,
   "id": "6c9721e8",
   "metadata": {},
   "outputs": [
    {
     "name": "stdout",
     "output_type": "stream",
     "text": [
      "The Total Variation is 2832668.7660081713\n",
      "The Generalized Variance is 5320753542.345932\n"
     ]
    }
   ],
   "source": [
    "print(\"The Total Variation is {}\".format(np.trace(cov_mat)))\n",
    "print(\"The Generalized Variance is {}\".format(np.sqrt(np.linalg.det(cov_mat))))"
   ]
  },
  {
   "cell_type": "code",
   "execution_count": 51,
   "id": "9f22cdb6",
   "metadata": {},
   "outputs": [],
   "source": [
    "cov_mat_nocorr = np.zeros(cov_mat.shape)\n",
    "np.fill_diagonal(cov_mat_nocorr, np.diag(cov_mat))"
   ]
  },
  {
   "cell_type": "code",
   "execution_count": 54,
   "id": "386d5b9a",
   "metadata": {},
   "outputs": [
    {
     "data": {
      "text/plain": [
       "8738890036.980927"
      ]
     },
     "execution_count": 54,
     "metadata": {},
     "output_type": "execute_result"
    }
   ],
   "source": [
    "np.sqrt(np.linalg.det(cov_mat_nocorr))"
   ]
  },
  {
   "cell_type": "code",
   "execution_count": 55,
   "id": "4ebe5467",
   "metadata": {},
   "outputs": [
    {
     "data": {
      "text/plain": [
       "0.0"
      ]
     },
     "execution_count": 55,
     "metadata": {},
     "output_type": "execute_result"
    }
   ],
   "source": [
    "np.sqrt(np.linalg.det(np.ones(cov_mat.shape)))"
   ]
  },
  {
   "cell_type": "markdown",
   "id": "7d89a875",
   "metadata": {},
   "source": [
    "Note that the volume of space occupied by the cloud of data points is going to be proportional to the square root of the generalized variance. "
   ]
  }
 ],
 "metadata": {
  "kernelspec": {
   "display_name": "Python 3",
   "language": "python",
   "name": "python3"
  },
  "language_info": {
   "codemirror_mode": {
    "name": "ipython",
    "version": 3
   },
   "file_extension": ".py",
   "mimetype": "text/x-python",
   "name": "python",
   "nbconvert_exporter": "python",
   "pygments_lexer": "ipython3",
   "version": "3.8.8"
  }
 },
 "nbformat": 4,
 "nbformat_minor": 5
}
