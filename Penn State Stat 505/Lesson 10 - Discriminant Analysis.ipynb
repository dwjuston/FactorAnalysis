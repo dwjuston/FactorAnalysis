{
 "cells": [
  {
   "cell_type": "markdown",
   "id": "4acbe3cf",
   "metadata": {},
   "source": [
    "#### https://online.stat.psu.edu/stat505/lesson/10"
   ]
  },
  {
   "cell_type": "markdown",
   "id": "4ddb2c12",
   "metadata": {},
   "source": [
    "Discriminant analysis is a classification problem. Two or more groups have known distributions. Now we get a data point. We want to classify it into one group."
   ]
  },
  {
   "cell_type": "markdown",
   "id": "94db327e",
   "metadata": {},
   "source": [
    "We are interested in the conditional probabiliy that an observation came from population $\\pi_i$ given the observed values of the multivarite vector of variables **x**\n",
    "$$\n",
    "P(\\pi_i|x)\n",
    "$$"
   ]
  },
  {
   "cell_type": "markdown",
   "id": "c7365216",
   "metadata": {},
   "source": [
    "Use bayes rule, we can calculate\n",
    "$$\n",
    "P(\\pi_i|x) = \\frac{P(x, \\pi_i)}{P(x)} = \\frac{f(x|\\pi_i) P(\\pi_i)}{P(x)}\n",
    "$$"
   ]
  },
  {
   "cell_type": "markdown",
   "id": "6eb71de5",
   "metadata": {},
   "source": [
    "Given a new observation x, and suppose we have 2 groups $\\pi_1$ and $\\pi_2$, we'd like to calculate\n",
    "$$\n",
    "P(\\pi_1|x) = \\frac{f(x|\\pi_1) p_1}{P(X)}\n",
    "$$\n",
    "and \n",
    "$$\n",
    "P(\\pi_2|x) = \\frac{f(x|\\pi_2) p_2}{P(X)}\n",
    "$$"
   ]
  },
  {
   "cell_type": "markdown",
   "id": "95479b25",
   "metadata": {},
   "source": [
    "Make a comparison and see which one is more likely, i.e. comparing\n",
    "$\n",
    "f(x|\\pi_1) p_1 \n",
    "$\n",
    "vs.\n",
    "$\n",
    "f(x|\\pi_2) p_2\n",
    "$"
   ]
  },
  {
   "cell_type": "markdown",
   "id": "c293f193",
   "metadata": {},
   "source": [
    "Mostly, it's easier to take log to make a comparison, since it converts multiplication into addition, and it preserves mononicity\n",
    "$$\n",
    "log(f(x|\\pi_i)) + log(p_i)\n",
    "$$"
   ]
  },
  {
   "cell_type": "markdown",
   "id": "109fe143",
   "metadata": {},
   "source": [
    "#### Linear Discriminant Analysis"
   ]
  },
  {
   "cell_type": "markdown",
   "id": "d1cac6da",
   "metadata": {},
   "source": [
    "We assume that in population $\\pi_i$, the pdf of x is multivariate normal with mean vector $\\mu_i$ and cov mat $\\Sigma$. For now, let's assume the mean vectors vary while the cov mat is the same for all populations. Then\n",
    "$$\n",
    "f(x|\\pi_i) = \\frac{1}{\\sqrt{2\\pi}^p |\\Sigma|^{0.5}} exp(-\\frac{1}{2} (x-\\mu_i)^T \\Sigma^{-1} (x-\\mu_i))\n",
    "$$"
   ]
  },
  {
   "cell_type": "markdown",
   "id": "bb024ea4",
   "metadata": {},
   "source": [
    "We take log, ignoring some terms:\n",
    "$$\n",
    "log(f(x|\\pi_i)) = -\\frac{1}{2} \\mu_i^T \\Sigma^{-1} \\mu_i + \\mu_i^T \\Sigma^{-1} x\n",
    "$$"
   ]
  },
  {
   "cell_type": "markdown",
   "id": "a9f016a3",
   "metadata": {},
   "source": [
    "Therefore, the Linear Score function becomes:\n",
    "$$\n",
    "s_i(X) = -\\frac{1}{2} \\mu_i^T \\Sigma^{-1} \\mu_i + \\mu_i^T \\Sigma^{-1} x + log{p_i}\n",
    "$$"
   ]
  },
  {
   "cell_type": "markdown",
   "id": "a8c284d5",
   "metadata": {},
   "source": [
    "Intuition about the formula:\n",
    "<ol>\n",
    "    <li>$\\mu_i$ is p x 1, and $\\Sigma$ is p x p</li>\n",
    "    <li>The first term is a scaler, depending on which population it is</li>\n",
    "    <li>The second term is a linear combination of x, for example if we have 9 x-variables, it is $b_1 x_1 + b_2 x_2 + ... + b_9 x_9$</li>\n",
    "    <li>THe last term is the prior probability; this is a bias we hold in favor of populations with higher probability.</li>\n",
    "</ol>"
   ]
  },
  {
   "cell_type": "markdown",
   "id": "30b5ab8e",
   "metadata": {},
   "source": [
    "The ultimate goal is to compute the linear score functions for all potential populations given an observation. To do so, we need to estimate parameters:\n",
    "<ol>\n",
    "<li>$p_i$: prior probabilities</li>\n",
    "<li>$\\mu_i$: the population means estimated by the sample mean vector</li>\n",
    "<li>$\\Sigma$: the cov matrix estimated by the pooled sample cov mat</li>\n",
    "</ol>"
   ]
  },
  {
   "cell_type": "markdown",
   "id": "b0e9ba30",
   "metadata": {},
   "source": [
    "Let S_i denote the sample cov mat for population i. Then the estimated covmat is:\n",
    "$$\n",
    "S_p = \\frac{\\sum_{i=1}^g (n_i - 1) S_i}{\\sum_{i=1}^g (n_i - 1)}\n",
    "$$"
   ]
  },
  {
   "cell_type": "markdown",
   "id": "fa4f47bd",
   "metadata": {},
   "source": [
    "#### LDA example: Insect Data"
   ]
  },
  {
   "cell_type": "markdown",
   "id": "32adf381",
   "metadata": {},
   "source": [
    "We have 2 species of insects: a, b. Three variabels were measured on each insect: width of the 1st joint, width of the 2nd joint, width of the organ. We have 10 individuals of each species to make up training data."
   ]
  },
  {
   "cell_type": "code",
   "execution_count": 1,
   "id": "69a6d749",
   "metadata": {},
   "outputs": [],
   "source": [
    "import pandas as pd\n",
    "import numpy as np"
   ]
  },
  {
   "cell_type": "code",
   "execution_count": 5,
   "id": "401c32ec",
   "metadata": {},
   "outputs": [],
   "source": [
    "df = pd.read_csv(\"insect.txt\", delim_whitespace=True, header=None)"
   ]
  },
  {
   "cell_type": "code",
   "execution_count": 6,
   "id": "27e01935",
   "metadata": {},
   "outputs": [],
   "source": [
    "df.columns = ['species', 'firstjoint', 'secondjoint', 'organ']"
   ]
  },
  {
   "cell_type": "markdown",
   "id": "adda186f",
   "metadata": {},
   "source": [
    "**Specify the prior probabilities**: we do not have any information here, so we assume equal weight, i.e. $p_1 = p_2 = 0.5$ "
   ]
  },
  {
   "cell_type": "markdown",
   "id": "f8d3b40e",
   "metadata": {},
   "source": [
    "Test for homogeneity of the cov mat using **Bartlett's test**. We will talk about it later."
   ]
  },
  {
   "cell_type": "markdown",
   "id": "c494fa9c",
   "metadata": {},
   "source": [
    "Estimate $\\mu_1$ and $\\mu_2$"
   ]
  },
  {
   "cell_type": "code",
   "execution_count": 13,
   "id": "b90b5033",
   "metadata": {},
   "outputs": [
    {
     "data": {
      "text/html": [
       "<div>\n",
       "<style scoped>\n",
       "    .dataframe tbody tr th:only-of-type {\n",
       "        vertical-align: middle;\n",
       "    }\n",
       "\n",
       "    .dataframe tbody tr th {\n",
       "        vertical-align: top;\n",
       "    }\n",
       "\n",
       "    .dataframe thead th {\n",
       "        text-align: right;\n",
       "    }\n",
       "</style>\n",
       "<table border=\"1\" class=\"dataframe\">\n",
       "  <thead>\n",
       "    <tr style=\"text-align: right;\">\n",
       "      <th></th>\n",
       "      <th>firstjoint</th>\n",
       "      <th>secondjoint</th>\n",
       "      <th>organ</th>\n",
       "    </tr>\n",
       "    <tr>\n",
       "      <th>species</th>\n",
       "      <th></th>\n",
       "      <th></th>\n",
       "      <th></th>\n",
       "    </tr>\n",
       "  </thead>\n",
       "  <tbody>\n",
       "    <tr>\n",
       "      <th>a</th>\n",
       "      <td>179.1</td>\n",
       "      <td>128.4</td>\n",
       "      <td>50.5</td>\n",
       "    </tr>\n",
       "    <tr>\n",
       "      <th>b</th>\n",
       "      <td>208.2</td>\n",
       "      <td>122.8</td>\n",
       "      <td>48.9</td>\n",
       "    </tr>\n",
       "  </tbody>\n",
       "</table>\n",
       "</div>"
      ],
      "text/plain": [
       "         firstjoint  secondjoint  organ\n",
       "species                                \n",
       "a             179.1        128.4   50.5\n",
       "b             208.2        122.8   48.9"
      ]
     },
     "execution_count": 13,
     "metadata": {},
     "output_type": "execute_result"
    }
   ],
   "source": [
    "df.groupby('species').mean()"
   ]
  },
  {
   "cell_type": "code",
   "execution_count": 14,
   "id": "879ce876",
   "metadata": {},
   "outputs": [],
   "source": [
    "tmp = df.groupby('species').mean()\n",
    "mu1, mu2 = tmp.loc['a'], tmp.loc['b']"
   ]
  },
  {
   "cell_type": "markdown",
   "id": "d02d57e6",
   "metadata": {},
   "source": [
    "Estimate $\\Sigma$"
   ]
  },
  {
   "cell_type": "code",
   "execution_count": 23,
   "id": "a083283d",
   "metadata": {},
   "outputs": [
    {
     "data": {
      "text/html": [
       "<div>\n",
       "<style scoped>\n",
       "    .dataframe tbody tr th:only-of-type {\n",
       "        vertical-align: middle;\n",
       "    }\n",
       "\n",
       "    .dataframe tbody tr th {\n",
       "        vertical-align: top;\n",
       "    }\n",
       "\n",
       "    .dataframe thead th {\n",
       "        text-align: right;\n",
       "    }\n",
       "</style>\n",
       "<table border=\"1\" class=\"dataframe\">\n",
       "  <thead>\n",
       "    <tr style=\"text-align: right;\">\n",
       "      <th></th>\n",
       "      <th>firstjoint</th>\n",
       "      <th>secondjoint</th>\n",
       "      <th>organ</th>\n",
       "    </tr>\n",
       "  </thead>\n",
       "  <tbody>\n",
       "    <tr>\n",
       "      <th>firstjoint</th>\n",
       "      <td>231.250000</td>\n",
       "      <td>87.333333</td>\n",
       "      <td>34.150000</td>\n",
       "    </tr>\n",
       "    <tr>\n",
       "      <th>secondjoint</th>\n",
       "      <td>87.333333</td>\n",
       "      <td>81.888889</td>\n",
       "      <td>11.655556</td>\n",
       "    </tr>\n",
       "    <tr>\n",
       "      <th>organ</th>\n",
       "      <td>34.150000</td>\n",
       "      <td>11.655556</td>\n",
       "      <td>7.411111</td>\n",
       "    </tr>\n",
       "  </tbody>\n",
       "</table>\n",
       "</div>"
      ],
      "text/plain": [
       "             firstjoint  secondjoint      organ\n",
       "firstjoint   231.250000    87.333333  34.150000\n",
       "secondjoint   87.333333    81.888889  11.655556\n",
       "organ         34.150000    11.655556   7.411111"
      ]
     },
     "execution_count": 23,
     "metadata": {},
     "output_type": "execute_result"
    }
   ],
   "source": [
    "tmp = df.groupby('species').cov()\n",
    "cov1, cov2 = tmp.loc['a'], tmp.loc['b']\n",
    "covmat = (cov1+cov2)/2\n",
    "covmat"
   ]
  },
  {
   "cell_type": "markdown",
   "id": "a62063e2",
   "metadata": {},
   "source": [
    "Now we can make the desired linear score functions\n",
    "$$\n",
    "s_i(X) = -\\frac{1}{2} \\mu_i^T \\Sigma^{-1} \\mu_i + \\mu_i^T \\Sigma^{-1} x + log{p_i}\n",
    "$$"
   ]
  },
  {
   "cell_type": "code",
   "execution_count": 24,
   "id": "16f5a0e8",
   "metadata": {},
   "outputs": [],
   "source": [
    "inv_covmat = np.linalg.inv(covmat)"
   ]
  },
  {
   "cell_type": "code",
   "execution_count": 36,
   "id": "219419bd",
   "metadata": {},
   "outputs": [],
   "source": [
    "term1a = mu1.T @ inv_covmat @ mu1 / -2\n",
    "term2a = mu1.T @ inv_covmat"
   ]
  },
  {
   "cell_type": "code",
   "execution_count": 39,
   "id": "b011739d",
   "metadata": {},
   "outputs": [],
   "source": [
    "term1b = mu2.T @ inv_covmat @ mu2 / -2\n",
    "term2b = mu2.T @ inv_covmat"
   ]
  },
  {
   "cell_type": "code",
   "execution_count": 37,
   "id": "0a682aa5",
   "metadata": {},
   "outputs": [
    {
     "data": {
      "text/plain": [
       "-247.2762371667988"
      ]
     },
     "execution_count": 37,
     "metadata": {},
     "output_type": "execute_result"
    }
   ],
   "source": [
    "term1a"
   ]
  },
  {
   "cell_type": "code",
   "execution_count": 38,
   "id": "1e2844a1",
   "metadata": {},
   "outputs": [
    {
     "data": {
      "text/plain": [
       "array([-1.41735821,  1.52045067, 10.95396958])"
      ]
     },
     "execution_count": 38,
     "metadata": {},
     "output_type": "execute_result"
    }
   ],
   "source": [
    "term2a"
   ]
  },
  {
   "cell_type": "markdown",
   "id": "5b63d05d",
   "metadata": {},
   "source": [
    "It means the linear score function for the first group is\n",
    "$$\n",
    "s_1(x) = -247.2762371667988 - 1.41735821 x_1 + 1.52045067 x_2 + 10.95396958 x_3\n",
    "$$"
   ]
  },
  {
   "cell_type": "code",
   "execution_count": 40,
   "id": "f089d3d4",
   "metadata": {},
   "outputs": [
    {
     "data": {
      "text/plain": [
       "-193.17839685457972"
      ]
     },
     "execution_count": 40,
     "metadata": {},
     "output_type": "execute_result"
    }
   ],
   "source": [
    "term1b"
   ]
  },
  {
   "cell_type": "code",
   "execution_count": 41,
   "id": "c66c302d",
   "metadata": {},
   "outputs": [
    {
     "data": {
      "text/plain": [
       "array([-0.73813285,  1.11259161,  8.2496892 ])"
      ]
     },
     "execution_count": 41,
     "metadata": {},
     "output_type": "execute_result"
    }
   ],
   "source": [
    "term2b"
   ]
  },
  {
   "cell_type": "markdown",
   "id": "74c8e120",
   "metadata": {},
   "source": [
    "It means the linear score function for the first group is\n",
    "$$\n",
    "s_2(x) = -193.17839685457972 - 0.73813285 x_1 + 1.11259161 x_2 + 8.2496892 x_3\n",
    "$$"
   ]
  },
  {
   "cell_type": "markdown",
   "id": "325b717b",
   "metadata": {},
   "source": [
    "Good, let's now look at how it performs in the training data:"
   ]
  },
  {
   "cell_type": "code",
   "execution_count": 43,
   "id": "0a4c0d48",
   "metadata": {},
   "outputs": [
    {
     "data": {
      "text/html": [
       "<div>\n",
       "<style scoped>\n",
       "    .dataframe tbody tr th:only-of-type {\n",
       "        vertical-align: middle;\n",
       "    }\n",
       "\n",
       "    .dataframe tbody tr th {\n",
       "        vertical-align: top;\n",
       "    }\n",
       "\n",
       "    .dataframe thead th {\n",
       "        text-align: right;\n",
       "    }\n",
       "</style>\n",
       "<table border=\"1\" class=\"dataframe\">\n",
       "  <thead>\n",
       "    <tr style=\"text-align: right;\">\n",
       "      <th></th>\n",
       "      <th>species</th>\n",
       "      <th>firstjoint</th>\n",
       "      <th>secondjoint</th>\n",
       "      <th>organ</th>\n",
       "    </tr>\n",
       "  </thead>\n",
       "  <tbody>\n",
       "    <tr>\n",
       "      <th>0</th>\n",
       "      <td>a</td>\n",
       "      <td>191</td>\n",
       "      <td>131</td>\n",
       "      <td>53</td>\n",
       "    </tr>\n",
       "    <tr>\n",
       "      <th>1</th>\n",
       "      <td>a</td>\n",
       "      <td>185</td>\n",
       "      <td>134</td>\n",
       "      <td>50</td>\n",
       "    </tr>\n",
       "    <tr>\n",
       "      <th>2</th>\n",
       "      <td>a</td>\n",
       "      <td>200</td>\n",
       "      <td>137</td>\n",
       "      <td>52</td>\n",
       "    </tr>\n",
       "    <tr>\n",
       "      <th>3</th>\n",
       "      <td>a</td>\n",
       "      <td>173</td>\n",
       "      <td>127</td>\n",
       "      <td>50</td>\n",
       "    </tr>\n",
       "    <tr>\n",
       "      <th>4</th>\n",
       "      <td>a</td>\n",
       "      <td>171</td>\n",
       "      <td>128</td>\n",
       "      <td>49</td>\n",
       "    </tr>\n",
       "    <tr>\n",
       "      <th>5</th>\n",
       "      <td>a</td>\n",
       "      <td>160</td>\n",
       "      <td>118</td>\n",
       "      <td>47</td>\n",
       "    </tr>\n",
       "    <tr>\n",
       "      <th>6</th>\n",
       "      <td>a</td>\n",
       "      <td>188</td>\n",
       "      <td>134</td>\n",
       "      <td>54</td>\n",
       "    </tr>\n",
       "    <tr>\n",
       "      <th>7</th>\n",
       "      <td>a</td>\n",
       "      <td>186</td>\n",
       "      <td>129</td>\n",
       "      <td>51</td>\n",
       "    </tr>\n",
       "    <tr>\n",
       "      <th>8</th>\n",
       "      <td>a</td>\n",
       "      <td>174</td>\n",
       "      <td>131</td>\n",
       "      <td>52</td>\n",
       "    </tr>\n",
       "    <tr>\n",
       "      <th>9</th>\n",
       "      <td>a</td>\n",
       "      <td>163</td>\n",
       "      <td>115</td>\n",
       "      <td>47</td>\n",
       "    </tr>\n",
       "  </tbody>\n",
       "</table>\n",
       "</div>"
      ],
      "text/plain": [
       "  species  firstjoint  secondjoint  organ\n",
       "0       a         191          131     53\n",
       "1       a         185          134     50\n",
       "2       a         200          137     52\n",
       "3       a         173          127     50\n",
       "4       a         171          128     49\n",
       "5       a         160          118     47\n",
       "6       a         188          134     54\n",
       "7       a         186          129     51\n",
       "8       a         174          131     52\n",
       "9       a         163          115     47"
      ]
     },
     "execution_count": 43,
     "metadata": {},
     "output_type": "execute_result"
    }
   ],
   "source": [
    "df[df['species']=='a']"
   ]
  },
  {
   "cell_type": "code",
   "execution_count": 45,
   "id": "a2010a54",
   "metadata": {},
   "outputs": [],
   "source": [
    "Xa = df[df['species']=='a'].iloc[:, -3:]"
   ]
  },
  {
   "cell_type": "code",
   "execution_count": 52,
   "id": "c7ea58c8",
   "metadata": {},
   "outputs": [],
   "source": [
    "# The scores of classifying into group a\n",
    "score_a_a = term1a + Xa @ term2a"
   ]
  },
  {
   "cell_type": "code",
   "execution_count": 51,
   "id": "be48e43c",
   "metadata": {},
   "outputs": [],
   "source": [
    "score_a_b = term1b + Xa @ term2b"
   ]
  },
  {
   "cell_type": "markdown",
   "id": "87fac1e5",
   "metadata": {},
   "source": [
    "Ok, looks like our model does well to classify **a** specifies as **a**"
   ]
  },
  {
   "cell_type": "code",
   "execution_count": 54,
   "id": "679c0b72",
   "metadata": {},
   "outputs": [
    {
     "data": {
      "text/plain": [
       "0    True\n",
       "1    True\n",
       "2    True\n",
       "3    True\n",
       "4    True\n",
       "5    True\n",
       "6    True\n",
       "7    True\n",
       "8    True\n",
       "9    True\n",
       "dtype: bool"
      ]
     },
     "execution_count": 54,
     "metadata": {},
     "output_type": "execute_result"
    }
   ],
   "source": [
    "score_a_a > score_a_b"
   ]
  },
  {
   "cell_type": "markdown",
   "id": "539a9cac",
   "metadata": {},
   "source": [
    "Now, consider an insect with the following measurements: joint 1 = 194, joint2 = 124, organ = 49"
   ]
  },
  {
   "cell_type": "code",
   "execution_count": 55,
   "id": "90a3fa4c",
   "metadata": {},
   "outputs": [
    {
     "data": {
      "text/plain": [
       "203.0366624787756"
      ]
     },
     "execution_count": 55,
     "metadata": {},
     "output_type": "execute_result"
    }
   ],
   "source": [
    "term1a + np.array([194, 124, 49]) @ term2a"
   ]
  },
  {
   "cell_type": "code",
   "execution_count": 56,
   "id": "04b21200",
   "metadata": {},
   "outputs": [
    {
     "data": {
      "text/plain": [
       "205.8199621156291"
      ]
     },
     "execution_count": 56,
     "metadata": {},
     "output_type": "execute_result"
    }
   ],
   "source": [
    "term1b + np.array([194, 124, 49]) @ term2b"
   ]
  },
  {
   "cell_type": "markdown",
   "id": "15962f91",
   "metadata": {},
   "source": [
    "Hence, we classify this into species **b**"
   ]
  },
  {
   "cell_type": "markdown",
   "id": "bb7d73e0",
   "metadata": {},
   "source": [
    "As to the actual probabilities, we should refer to this formula:"
   ]
  },
  {
   "cell_type": "markdown",
   "id": "b9fb3e01",
   "metadata": {},
   "source": [
    "$$\n",
    "P(\\pi_1|x) = \\frac{f(x|\\pi_1) p_1}{P(X)}\n",
    "$$"
   ]
  },
  {
   "cell_type": "code",
   "execution_count": 70,
   "id": "fa0d6a4d",
   "metadata": {},
   "outputs": [
    {
     "name": "stdout",
     "output_type": "stream",
     "text": [
      "According to our model, this observation has 5.82% probability \n",
      "to be classified as species A, and 94.18% probability as B\n"
     ]
    }
   ],
   "source": [
    "one = np.exp(203.0366624787756) * 0.5 \n",
    "two = np.exp(205.8199621156291) * 0.5\n",
    "print(\"According to our model, this observation has {0:.2%} probability \\nto be classified as species A, and {1:.2%} probability as B\".format(one / (one + two), two / (one + two)))"
   ]
  },
  {
   "cell_type": "markdown",
   "id": "ed3a22e4",
   "metadata": {},
   "source": [
    "#### We have 3 things left: Why do we need Bartlett's test? We have training data, how about (cross) validation? In addition to Linear DA, we also have Quadratic DA."
   ]
  },
  {
   "cell_type": "markdown",
   "id": "f6b2d233",
   "metadata": {},
   "source": [
    "#### Bartlett's test"
   ]
  },
  {
   "cell_type": "code",
   "execution_count": 71,
   "id": "73b8e261",
   "metadata": {},
   "outputs": [],
   "source": [
    "from IPython.display import Image"
   ]
  },
  {
   "cell_type": "code",
   "execution_count": 72,
   "id": "74f5ceae",
   "metadata": {},
   "outputs": [
    {
     "data": {
      "image/png": "[encoded data removed]",
      "text/plain": [
       "<IPython.core.display.Image object>"
      ]
     },
     "execution_count": 72,
     "metadata": {
      "image/png": {
       "height": 600,
       "width": 600
      }
     },
     "output_type": "execute_result"
    }
   ],
   "source": [
    "Image(\"Bartlett_test.png\", width=600, height=600)"
   ]
  },
  {
   "cell_type": "markdown",
   "id": "5c483ef1",
   "metadata": {},
   "source": [
    "#### Confusion Matrix"
   ]
  },
  {
   "cell_type": "markdown",
   "id": "dc6509e1",
   "metadata": {},
   "source": [
    "$\\;\\;\\;\\;\\;\\;$$\\;\\;\\;\\;\\;\\;$$\\;\\;\\;\\;\\;\\;$$\\;\\;\\;\\;\\;\\;$ Actual <br>\n",
    "$\\;\\;\\;\\;\\;\\;$$\\;\\;\\;\\;\\;\\;$$\\;\\;\\;\\;\\;\\;$$\\;\\;\\;\\;\\;\\;$True False <br>\n",
    "Model$\\;\\;\\;\\;\\;\\;$True$\\;\\;\\;\\;$ NICE $\\;\\;$II <br>\n",
    "$\\;\\;\\;\\;\\;\\;$$\\;\\;\\;\\;\\;\\;\\;\\;$False$\\;\\;\\;\\;\\;\\;$I$\\;\\;\\;$NICE"
   ]
  },
  {
   "cell_type": "markdown",
   "id": "fb295551",
   "metadata": {},
   "source": [
    "If Actual = True, Model = True -> Model is good <br>\n",
    "If Actual = False, Model = False -> Model is good too <br>"
   ]
  },
  {
   "cell_type": "markdown",
   "id": "047e00a8",
   "metadata": {},
   "source": [
    "If Actual = True, Model = False -> type I error <br>\n",
    "If ACtual = False, Model = True -> type II error"
   ]
  },
  {
   "cell_type": "markdown",
   "id": "f87c2691",
   "metadata": {},
   "source": [
    "Example 1: True is guilty, False is not guilty <br>\n",
    "What is type I, II error? Which one is worse?"
   ]
  },
  {
   "cell_type": "markdown",
   "id": "c42184a9",
   "metadata": {},
   "source": [
    "Example 2: True is diagonosed with cancer, False is not <br>\n",
    "What is type I, II error? Which one is worse?"
   ]
  },
  {
   "cell_type": "markdown",
   "id": "51880301",
   "metadata": {},
   "source": [
    "Usually we need a tradeoff between type I and type II errors"
   ]
  },
  {
   "cell_type": "markdown",
   "id": "12938dfd",
   "metadata": {},
   "source": [
    "Example 3: True is hypothesis test is true, False is false <br>\n",
    "What is type I, II error? <br>\n",
    "Confidence Level, p-value, ... are all about type I error"
   ]
  },
  {
   "cell_type": "markdown",
   "id": "6ab2ca22",
   "metadata": {},
   "source": [
    "Example 4: True is species A, False is species B <br>\n",
    "What is type I, II error?"
   ]
  },
  {
   "cell_type": "markdown",
   "id": "46919cad",
   "metadata": {},
   "source": [
    "#### Linear Discriminant Analysis: Package"
   ]
  },
  {
   "cell_type": "code",
   "execution_count": 78,
   "id": "92cb0e0a",
   "metadata": {},
   "outputs": [
    {
     "data": {
      "text/html": [
       "<div>\n",
       "<style scoped>\n",
       "    .dataframe tbody tr th:only-of-type {\n",
       "        vertical-align: middle;\n",
       "    }\n",
       "\n",
       "    .dataframe tbody tr th {\n",
       "        vertical-align: top;\n",
       "    }\n",
       "\n",
       "    .dataframe thead th {\n",
       "        text-align: right;\n",
       "    }\n",
       "</style>\n",
       "<table border=\"1\" class=\"dataframe\">\n",
       "  <thead>\n",
       "    <tr style=\"text-align: right;\">\n",
       "      <th></th>\n",
       "      <th>a</th>\n",
       "      <th>b</th>\n",
       "    </tr>\n",
       "  </thead>\n",
       "  <tbody>\n",
       "    <tr>\n",
       "      <th>0</th>\n",
       "      <td>1</td>\n",
       "      <td>0</td>\n",
       "    </tr>\n",
       "    <tr>\n",
       "      <th>1</th>\n",
       "      <td>1</td>\n",
       "      <td>0</td>\n",
       "    </tr>\n",
       "    <tr>\n",
       "      <th>2</th>\n",
       "      <td>1</td>\n",
       "      <td>0</td>\n",
       "    </tr>\n",
       "    <tr>\n",
       "      <th>3</th>\n",
       "      <td>1</td>\n",
       "      <td>0</td>\n",
       "    </tr>\n",
       "    <tr>\n",
       "      <th>4</th>\n",
       "      <td>1</td>\n",
       "      <td>0</td>\n",
       "    </tr>\n",
       "    <tr>\n",
       "      <th>5</th>\n",
       "      <td>1</td>\n",
       "      <td>0</td>\n",
       "    </tr>\n",
       "    <tr>\n",
       "      <th>6</th>\n",
       "      <td>1</td>\n",
       "      <td>0</td>\n",
       "    </tr>\n",
       "    <tr>\n",
       "      <th>7</th>\n",
       "      <td>1</td>\n",
       "      <td>0</td>\n",
       "    </tr>\n",
       "    <tr>\n",
       "      <th>8</th>\n",
       "      <td>1</td>\n",
       "      <td>0</td>\n",
       "    </tr>\n",
       "    <tr>\n",
       "      <th>9</th>\n",
       "      <td>1</td>\n",
       "      <td>0</td>\n",
       "    </tr>\n",
       "    <tr>\n",
       "      <th>10</th>\n",
       "      <td>0</td>\n",
       "      <td>1</td>\n",
       "    </tr>\n",
       "    <tr>\n",
       "      <th>11</th>\n",
       "      <td>0</td>\n",
       "      <td>1</td>\n",
       "    </tr>\n",
       "    <tr>\n",
       "      <th>12</th>\n",
       "      <td>0</td>\n",
       "      <td>1</td>\n",
       "    </tr>\n",
       "    <tr>\n",
       "      <th>13</th>\n",
       "      <td>0</td>\n",
       "      <td>1</td>\n",
       "    </tr>\n",
       "    <tr>\n",
       "      <th>14</th>\n",
       "      <td>0</td>\n",
       "      <td>1</td>\n",
       "    </tr>\n",
       "    <tr>\n",
       "      <th>15</th>\n",
       "      <td>0</td>\n",
       "      <td>1</td>\n",
       "    </tr>\n",
       "    <tr>\n",
       "      <th>16</th>\n",
       "      <td>0</td>\n",
       "      <td>1</td>\n",
       "    </tr>\n",
       "    <tr>\n",
       "      <th>17</th>\n",
       "      <td>0</td>\n",
       "      <td>1</td>\n",
       "    </tr>\n",
       "    <tr>\n",
       "      <th>18</th>\n",
       "      <td>0</td>\n",
       "      <td>1</td>\n",
       "    </tr>\n",
       "    <tr>\n",
       "      <th>19</th>\n",
       "      <td>0</td>\n",
       "      <td>1</td>\n",
       "    </tr>\n",
       "  </tbody>\n",
       "</table>\n",
       "</div>"
      ],
      "text/plain": [
       "    a  b\n",
       "0   1  0\n",
       "1   1  0\n",
       "2   1  0\n",
       "3   1  0\n",
       "4   1  0\n",
       "5   1  0\n",
       "6   1  0\n",
       "7   1  0\n",
       "8   1  0\n",
       "9   1  0\n",
       "10  0  1\n",
       "11  0  1\n",
       "12  0  1\n",
       "13  0  1\n",
       "14  0  1\n",
       "15  0  1\n",
       "16  0  1\n",
       "17  0  1\n",
       "18  0  1\n",
       "19  0  1"
      ]
     },
     "execution_count": 78,
     "metadata": {},
     "output_type": "execute_result"
    }
   ],
   "source": [
    "pd.get_dummies(df['species'])"
   ]
  },
  {
   "cell_type": "code",
   "execution_count": 79,
   "id": "0d303380",
   "metadata": {},
   "outputs": [],
   "source": [
    "X = df.iloc[:,-3:]\n",
    "y = pd.get_dummies(df['species'])['a']"
   ]
  },
  {
   "cell_type": "code",
   "execution_count": 80,
   "id": "37c01904",
   "metadata": {},
   "outputs": [],
   "source": [
    "clf = LinearDiscriminantAnalysis(priors=[0.5, 0.5])"
   ]
  },
  {
   "cell_type": "code",
   "execution_count": 81,
   "id": "5dd2f0fc",
   "metadata": {},
   "outputs": [
    {
     "data": {
      "text/plain": [
       "LinearDiscriminantAnalysis(priors=[0.5, 0.5])"
      ]
     },
     "execution_count": 81,
     "metadata": {},
     "output_type": "execute_result"
    }
   ],
   "source": [
    "clf.fit(X, y)"
   ]
  },
  {
   "cell_type": "code",
   "execution_count": 84,
   "id": "7f006b12",
   "metadata": {},
   "outputs": [
    {
     "data": {
      "text/plain": [
       "array([0.5, 0.5])"
      ]
     },
     "execution_count": 84,
     "metadata": {},
     "output_type": "execute_result"
    }
   ],
   "source": [
    "clf.priors_"
   ]
  },
  {
   "cell_type": "code",
   "execution_count": 83,
   "id": "59c45648",
   "metadata": {},
   "outputs": [
    {
     "data": {
      "text/plain": [
       "array([[208.2, 122.8,  48.9],\n",
       "       [179.1, 128.4,  50.5]])"
      ]
     },
     "execution_count": 83,
     "metadata": {},
     "output_type": "execute_result"
    }
   ],
   "source": [
    "clf.means_"
   ]
  },
  {
   "cell_type": "code",
   "execution_count": 92,
   "id": "cfe36d8f",
   "metadata": {},
   "outputs": [
    {
     "data": {
      "text/plain": [
       "array([0], dtype=uint8)"
      ]
     },
     "execution_count": 92,
     "metadata": {},
     "output_type": "execute_result"
    }
   ],
   "source": [
    "clf.predict(np.array([194, 124, 49]).reshape(1,-1))"
   ]
  },
  {
   "cell_type": "code",
   "execution_count": 93,
   "id": "8a3e5f91",
   "metadata": {
    "scrolled": true
   },
   "outputs": [
    {
     "data": {
      "text/plain": [
       "array([[0.94176667, 0.05823333]])"
      ]
     },
     "execution_count": 93,
     "metadata": {},
     "output_type": "execute_result"
    }
   ],
   "source": [
    "clf.predict_proba(np.array([194, 124, 49]).reshape(1,-1))"
   ]
  },
  {
   "cell_type": "code",
   "execution_count": 97,
   "id": "96403dd5",
   "metadata": {},
   "outputs": [],
   "source": [
    "from sklearn.metrics import confusion_matrix, classification_report, precision_score"
   ]
  },
  {
   "cell_type": "code",
   "execution_count": 103,
   "id": "468719d1",
   "metadata": {},
   "outputs": [
    {
     "data": {
      "text/plain": [
       "array([[10,  0],\n",
       "       [ 0, 10]])"
      ]
     },
     "execution_count": 103,
     "metadata": {},
     "output_type": "execute_result"
    }
   ],
   "source": [
    "confusion_matrix(y, clf.predict(X))"
   ]
  },
  {
   "cell_type": "code",
   "execution_count": 104,
   "id": "01a87ffd",
   "metadata": {},
   "outputs": [
    {
     "name": "stdout",
     "output_type": "stream",
     "text": [
      "              precision    recall  f1-score   support\n",
      "\n",
      "           0      1.000     1.000     1.000        10\n",
      "           1      1.000     1.000     1.000        10\n",
      "\n",
      "    accuracy                          1.000        20\n",
      "   macro avg      1.000     1.000     1.000        20\n",
      "weighted avg      1.000     1.000     1.000        20\n",
      "\n"
     ]
    }
   ],
   "source": [
    "print(classification_report(y, clf.predict(X), digits=3))"
   ]
  },
  {
   "cell_type": "markdown",
   "id": "32396be9",
   "metadata": {},
   "source": [
    "Notice that here we have only one set of intercept and coef. Why?"
   ]
  },
  {
   "cell_type": "code",
   "execution_count": 95,
   "id": "99e235f0",
   "metadata": {},
   "outputs": [
    {
     "data": {
      "text/plain": [
       "array([-54.09784031])"
      ]
     },
     "execution_count": 95,
     "metadata": {},
     "output_type": "execute_result"
    }
   ],
   "source": [
    "clf.intercept_"
   ]
  },
  {
   "cell_type": "code",
   "execution_count": 94,
   "id": "8866f046",
   "metadata": {},
   "outputs": [
    {
     "data": {
      "text/plain": [
       "array([[-0.67922537,  0.40785906,  2.70428038]])"
      ]
     },
     "execution_count": 94,
     "metadata": {},
     "output_type": "execute_result"
    }
   ],
   "source": [
    "clf.coef_"
   ]
  },
  {
   "cell_type": "markdown",
   "id": "1a979599",
   "metadata": {},
   "source": [
    "It's called \"Decision Boundary\". We won't touch this but this is the core of all kinds of Classification algos."
   ]
  }
 ],
 "metadata": {
  "kernelspec": {
   "display_name": "Python 3",
   "language": "python",
   "name": "python3"
  },
  "language_info": {
   "codemirror_mode": {
    "name": "ipython",
    "version": 3
   },
   "file_extension": ".py",
   "mimetype": "text/x-python",
   "name": "python",
   "nbconvert_exporter": "python",
   "pygments_lexer": "ipython3",
   "version": "3.8.8"
  }
 },
 "nbformat": 4,
 "nbformat_minor": 5
}
