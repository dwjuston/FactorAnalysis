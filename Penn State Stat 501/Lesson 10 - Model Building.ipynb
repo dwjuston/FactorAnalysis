{
 "cells": [
  {
   "cell_type": "markdown",
   "id": "777500b1",
   "metadata": {},
   "source": [
    "#### https://online.stat.psu.edu/stat501/lesson/10"
   ]
  },
  {
   "cell_type": "markdown",
   "id": "e7dcfb18",
   "metadata": {},
   "source": [
    "#### Most often than not, a researcher has a large set of candidate predictor variabels from which he tries to identify the most appropriate predictors to include in his regression model"
   ]
  },
  {
   "cell_type": "markdown",
   "id": "007d59b2",
   "metadata": {},
   "source": [
    "#### Two variable selection methods: stepwise regression and best subsets regression"
   ]
  },
  {
   "cell_type": "code",
   "execution_count": 1,
   "id": "ea93a2c9",
   "metadata": {},
   "outputs": [
    {
     "data": {
      "text/plain": [
       "['.DS_Store',\n",
       " 'Physical.txt',\n",
       " 'iqsize.txt',\n",
       " 'bloodpress.txt',\n",
       " 'peru.txt',\n",
       " 'cement.txt',\n",
       " 'martian.txt']"
      ]
     },
     "execution_count": 1,
     "metadata": {},
     "output_type": "execute_result"
    }
   ],
   "source": [
    "import os\n",
    "import statsmodels.api as sm\n",
    "import pandas as pd\n",
    "import numpy as np\n",
    "import seaborn as sns\n",
    "from IPython.display import Image\n",
    "from statsmodels.formula.api import ols\n",
    "import scipy.stats\n",
    "from matplotlib import pyplot as plt\n",
    "filedir = 'STAT501_Lesson10'\n",
    "os.listdir(filedir)"
   ]
  },
  {
   "cell_type": "markdown",
   "id": "5cf36dad",
   "metadata": {},
   "source": [
    "If a regression model is correctly specificied:\n",
    "<ol>\n",
    "    <li>unbiased regression coefficients</li>\n",
    "    <li>unbiased prediction of y</li>\n",
    "    <li>unbiased estimate of the error variance / MSE</li>\n",
    "</ol>"
   ]
  },
  {
   "cell_type": "markdown",
   "id": "6d0e8052",
   "metadata": {},
   "source": [
    "If a regression model is underspecificied:\n",
    "<ol>\n",
    "    <li>biased regression coefficients</li>\n",
    "    <li>biased prediction of y</li>\n",
    "    <li>overestimate of the error variance / MSE, yielding wider confidence intervals</li>\n",
    "</ol>"
   ]
  },
  {
   "cell_type": "markdown",
   "id": "2c991a6d",
   "metadata": {},
   "source": [
    "If a regression model is overspecificied:\n",
    "<ol>\n",
    "    <li>unbiased regression coefficients</li>\n",
    "    <li>unbiased prediction of y</li>\n",
    "    <li>unbiased estimate of the error variance; but we have more paramters than needed, so MSE has fewer degrees of freedom, MSE larger, yielding wider confidence intervals</li>\n",
    "</ol>"
   ]
  },
  {
   "cell_type": "markdown",
   "id": "4608443b",
   "metadata": {},
   "source": [
    "#### 1. Stepwise Regression"
   ]
  },
  {
   "cell_type": "code",
   "execution_count": 3,
   "id": "d78e7ad6",
   "metadata": {},
   "outputs": [
    {
     "data": {
      "text/html": [
       "<div>\n",
       "<style scoped>\n",
       "    .dataframe tbody tr th:only-of-type {\n",
       "        vertical-align: middle;\n",
       "    }\n",
       "\n",
       "    .dataframe tbody tr th {\n",
       "        vertical-align: top;\n",
       "    }\n",
       "\n",
       "    .dataframe thead th {\n",
       "        text-align: right;\n",
       "    }\n",
       "</style>\n",
       "<table border=\"1\" class=\"dataframe\">\n",
       "  <thead>\n",
       "    <tr style=\"text-align: right;\">\n",
       "      <th></th>\n",
       "      <th>PIQ</th>\n",
       "      <th>Brain</th>\n",
       "      <th>Height</th>\n",
       "      <th>Weight</th>\n",
       "    </tr>\n",
       "  </thead>\n",
       "  <tbody>\n",
       "    <tr>\n",
       "      <th>0</th>\n",
       "      <td>124</td>\n",
       "      <td>81.69</td>\n",
       "      <td>64.5</td>\n",
       "      <td>118</td>\n",
       "    </tr>\n",
       "    <tr>\n",
       "      <th>1</th>\n",
       "      <td>150</td>\n",
       "      <td>103.84</td>\n",
       "      <td>73.3</td>\n",
       "      <td>143</td>\n",
       "    </tr>\n",
       "    <tr>\n",
       "      <th>2</th>\n",
       "      <td>128</td>\n",
       "      <td>96.54</td>\n",
       "      <td>68.8</td>\n",
       "      <td>172</td>\n",
       "    </tr>\n",
       "    <tr>\n",
       "      <th>3</th>\n",
       "      <td>134</td>\n",
       "      <td>95.15</td>\n",
       "      <td>65.0</td>\n",
       "      <td>147</td>\n",
       "    </tr>\n",
       "    <tr>\n",
       "      <th>4</th>\n",
       "      <td>110</td>\n",
       "      <td>92.88</td>\n",
       "      <td>69.0</td>\n",
       "      <td>146</td>\n",
       "    </tr>\n",
       "    <tr>\n",
       "      <th>5</th>\n",
       "      <td>131</td>\n",
       "      <td>99.13</td>\n",
       "      <td>64.5</td>\n",
       "      <td>138</td>\n",
       "    </tr>\n",
       "    <tr>\n",
       "      <th>6</th>\n",
       "      <td>98</td>\n",
       "      <td>85.43</td>\n",
       "      <td>66.0</td>\n",
       "      <td>175</td>\n",
       "    </tr>\n",
       "    <tr>\n",
       "      <th>7</th>\n",
       "      <td>84</td>\n",
       "      <td>90.49</td>\n",
       "      <td>66.3</td>\n",
       "      <td>134</td>\n",
       "    </tr>\n",
       "    <tr>\n",
       "      <th>8</th>\n",
       "      <td>147</td>\n",
       "      <td>95.55</td>\n",
       "      <td>68.8</td>\n",
       "      <td>172</td>\n",
       "    </tr>\n",
       "    <tr>\n",
       "      <th>9</th>\n",
       "      <td>124</td>\n",
       "      <td>83.39</td>\n",
       "      <td>64.5</td>\n",
       "      <td>118</td>\n",
       "    </tr>\n",
       "    <tr>\n",
       "      <th>10</th>\n",
       "      <td>128</td>\n",
       "      <td>107.95</td>\n",
       "      <td>70.0</td>\n",
       "      <td>151</td>\n",
       "    </tr>\n",
       "    <tr>\n",
       "      <th>11</th>\n",
       "      <td>124</td>\n",
       "      <td>92.41</td>\n",
       "      <td>69.0</td>\n",
       "      <td>155</td>\n",
       "    </tr>\n",
       "    <tr>\n",
       "      <th>12</th>\n",
       "      <td>147</td>\n",
       "      <td>85.65</td>\n",
       "      <td>70.5</td>\n",
       "      <td>155</td>\n",
       "    </tr>\n",
       "    <tr>\n",
       "      <th>13</th>\n",
       "      <td>90</td>\n",
       "      <td>87.89</td>\n",
       "      <td>66.0</td>\n",
       "      <td>146</td>\n",
       "    </tr>\n",
       "    <tr>\n",
       "      <th>14</th>\n",
       "      <td>96</td>\n",
       "      <td>86.54</td>\n",
       "      <td>68.0</td>\n",
       "      <td>135</td>\n",
       "    </tr>\n",
       "    <tr>\n",
       "      <th>15</th>\n",
       "      <td>120</td>\n",
       "      <td>85.22</td>\n",
       "      <td>68.5</td>\n",
       "      <td>127</td>\n",
       "    </tr>\n",
       "    <tr>\n",
       "      <th>16</th>\n",
       "      <td>102</td>\n",
       "      <td>94.51</td>\n",
       "      <td>73.5</td>\n",
       "      <td>178</td>\n",
       "    </tr>\n",
       "    <tr>\n",
       "      <th>17</th>\n",
       "      <td>84</td>\n",
       "      <td>80.80</td>\n",
       "      <td>66.3</td>\n",
       "      <td>136</td>\n",
       "    </tr>\n",
       "    <tr>\n",
       "      <th>18</th>\n",
       "      <td>86</td>\n",
       "      <td>88.91</td>\n",
       "      <td>70.0</td>\n",
       "      <td>180</td>\n",
       "    </tr>\n",
       "    <tr>\n",
       "      <th>19</th>\n",
       "      <td>84</td>\n",
       "      <td>90.59</td>\n",
       "      <td>76.5</td>\n",
       "      <td>186</td>\n",
       "    </tr>\n",
       "    <tr>\n",
       "      <th>20</th>\n",
       "      <td>134</td>\n",
       "      <td>79.06</td>\n",
       "      <td>62.0</td>\n",
       "      <td>122</td>\n",
       "    </tr>\n",
       "    <tr>\n",
       "      <th>21</th>\n",
       "      <td>128</td>\n",
       "      <td>95.50</td>\n",
       "      <td>68.0</td>\n",
       "      <td>132</td>\n",
       "    </tr>\n",
       "    <tr>\n",
       "      <th>22</th>\n",
       "      <td>102</td>\n",
       "      <td>83.18</td>\n",
       "      <td>63.0</td>\n",
       "      <td>114</td>\n",
       "    </tr>\n",
       "    <tr>\n",
       "      <th>23</th>\n",
       "      <td>131</td>\n",
       "      <td>93.55</td>\n",
       "      <td>72.0</td>\n",
       "      <td>171</td>\n",
       "    </tr>\n",
       "    <tr>\n",
       "      <th>24</th>\n",
       "      <td>84</td>\n",
       "      <td>79.86</td>\n",
       "      <td>68.0</td>\n",
       "      <td>140</td>\n",
       "    </tr>\n",
       "    <tr>\n",
       "      <th>25</th>\n",
       "      <td>110</td>\n",
       "      <td>106.25</td>\n",
       "      <td>77.0</td>\n",
       "      <td>187</td>\n",
       "    </tr>\n",
       "    <tr>\n",
       "      <th>26</th>\n",
       "      <td>72</td>\n",
       "      <td>79.35</td>\n",
       "      <td>63.0</td>\n",
       "      <td>106</td>\n",
       "    </tr>\n",
       "    <tr>\n",
       "      <th>27</th>\n",
       "      <td>124</td>\n",
       "      <td>86.67</td>\n",
       "      <td>66.5</td>\n",
       "      <td>159</td>\n",
       "    </tr>\n",
       "    <tr>\n",
       "      <th>28</th>\n",
       "      <td>132</td>\n",
       "      <td>85.78</td>\n",
       "      <td>62.5</td>\n",
       "      <td>127</td>\n",
       "    </tr>\n",
       "    <tr>\n",
       "      <th>29</th>\n",
       "      <td>137</td>\n",
       "      <td>94.96</td>\n",
       "      <td>67.0</td>\n",
       "      <td>191</td>\n",
       "    </tr>\n",
       "    <tr>\n",
       "      <th>30</th>\n",
       "      <td>110</td>\n",
       "      <td>99.79</td>\n",
       "      <td>75.5</td>\n",
       "      <td>192</td>\n",
       "    </tr>\n",
       "    <tr>\n",
       "      <th>31</th>\n",
       "      <td>86</td>\n",
       "      <td>88.00</td>\n",
       "      <td>69.0</td>\n",
       "      <td>181</td>\n",
       "    </tr>\n",
       "    <tr>\n",
       "      <th>32</th>\n",
       "      <td>81</td>\n",
       "      <td>83.43</td>\n",
       "      <td>66.5</td>\n",
       "      <td>143</td>\n",
       "    </tr>\n",
       "    <tr>\n",
       "      <th>33</th>\n",
       "      <td>128</td>\n",
       "      <td>94.81</td>\n",
       "      <td>66.5</td>\n",
       "      <td>153</td>\n",
       "    </tr>\n",
       "    <tr>\n",
       "      <th>34</th>\n",
       "      <td>124</td>\n",
       "      <td>94.94</td>\n",
       "      <td>70.5</td>\n",
       "      <td>144</td>\n",
       "    </tr>\n",
       "    <tr>\n",
       "      <th>35</th>\n",
       "      <td>94</td>\n",
       "      <td>89.40</td>\n",
       "      <td>64.5</td>\n",
       "      <td>139</td>\n",
       "    </tr>\n",
       "    <tr>\n",
       "      <th>36</th>\n",
       "      <td>74</td>\n",
       "      <td>93.00</td>\n",
       "      <td>74.0</td>\n",
       "      <td>148</td>\n",
       "    </tr>\n",
       "    <tr>\n",
       "      <th>37</th>\n",
       "      <td>89</td>\n",
       "      <td>93.59</td>\n",
       "      <td>75.5</td>\n",
       "      <td>179</td>\n",
       "    </tr>\n",
       "  </tbody>\n",
       "</table>\n",
       "</div>"
      ],
      "text/plain": [
       "    PIQ   Brain  Height  Weight\n",
       "0   124   81.69    64.5     118\n",
       "1   150  103.84    73.3     143\n",
       "2   128   96.54    68.8     172\n",
       "3   134   95.15    65.0     147\n",
       "4   110   92.88    69.0     146\n",
       "5   131   99.13    64.5     138\n",
       "6    98   85.43    66.0     175\n",
       "7    84   90.49    66.3     134\n",
       "8   147   95.55    68.8     172\n",
       "9   124   83.39    64.5     118\n",
       "10  128  107.95    70.0     151\n",
       "11  124   92.41    69.0     155\n",
       "12  147   85.65    70.5     155\n",
       "13   90   87.89    66.0     146\n",
       "14   96   86.54    68.0     135\n",
       "15  120   85.22    68.5     127\n",
       "16  102   94.51    73.5     178\n",
       "17   84   80.80    66.3     136\n",
       "18   86   88.91    70.0     180\n",
       "19   84   90.59    76.5     186\n",
       "20  134   79.06    62.0     122\n",
       "21  128   95.50    68.0     132\n",
       "22  102   83.18    63.0     114\n",
       "23  131   93.55    72.0     171\n",
       "24   84   79.86    68.0     140\n",
       "25  110  106.25    77.0     187\n",
       "26   72   79.35    63.0     106\n",
       "27  124   86.67    66.5     159\n",
       "28  132   85.78    62.5     127\n",
       "29  137   94.96    67.0     191\n",
       "30  110   99.79    75.5     192\n",
       "31   86   88.00    69.0     181\n",
       "32   81   83.43    66.5     143\n",
       "33  128   94.81    66.5     153\n",
       "34  124   94.94    70.5     144\n",
       "35   94   89.40    64.5     139\n",
       "36   74   93.00    74.0     148\n",
       "37   89   93.59    75.5     179"
      ]
     },
     "execution_count": 3,
     "metadata": {},
     "output_type": "execute_result"
    }
   ],
   "source": [
    "df = pd.read_table(os.path.join(filedir, 'iqsize.txt'), encoding=\"utf-8\")\n",
    "df"
   ]
  },
  {
   "cell_type": "code",
   "execution_count": 5,
   "id": "ec9a1d37",
   "metadata": {},
   "outputs": [
    {
     "name": "stderr",
     "output_type": "stream",
     "text": [
      "/Users/yuehuazhuang/opt/anaconda3/lib/python3.9/site-packages/statsmodels/tsa/tsatools.py:142: FutureWarning: In a future version of pandas all arguments of concat except for the argument 'objs' will be keyword-only\n",
      "  x = pd.concat(x[::order], 1)\n"
     ]
    },
    {
     "data": {
      "text/plain": [
       "const    0.915838\n",
       "Brain    0.019354\n",
       "dtype: float64"
      ]
     },
     "execution_count": 5,
     "metadata": {},
     "output_type": "execute_result"
    }
   ],
   "source": [
    "candidate_predictors = ['Brain','Height','Weight']\n",
    "y = df['PIQ']\n",
    "X = df[candidate_predictors]\n",
    "X = sm.add_constant(X)\n",
    "\n",
    "def get_p(y, X, features_used):\n",
    "    model = sm.OLS(y,X[['const']+features_used]).fit()\n",
    "    return model.pvalues\n",
    "\n",
    "get_p(y,X,['Brain'])"
   ]
  },
  {
   "cell_type": "code",
   "execution_count": 10,
   "id": "08bce18a",
   "metadata": {},
   "outputs": [
    {
     "data": {
      "text/plain": [
       "const     0.027942\n",
       "Height    0.578020\n",
       "dtype: float64"
      ]
     },
     "execution_count": 10,
     "metadata": {},
     "output_type": "execute_result"
    }
   ],
   "source": [
    "get_p(y,X,['Height'])"
   ]
  },
  {
   "cell_type": "code",
   "execution_count": 6,
   "id": "67c7bf94",
   "metadata": {},
   "outputs": [
    {
     "data": {
      "text/plain": [
       "const     0.000063\n",
       "Weight    0.988057\n",
       "dtype: float64"
      ]
     },
     "execution_count": 6,
     "metadata": {},
     "output_type": "execute_result"
    }
   ],
   "source": [
    "get_p(y,X,['Weight'])"
   ]
  },
  {
   "cell_type": "markdown",
   "id": "4314148f",
   "metadata": {},
   "source": [
    "#### pick Brain"
   ]
  },
  {
   "cell_type": "code",
   "execution_count": 7,
   "id": "e7d6ded7",
   "metadata": {},
   "outputs": [
    {
     "data": {
      "text/plain": [
       "const     0.054243\n",
       "Brain     0.000604\n",
       "Height    0.009399\n",
       "dtype: float64"
      ]
     },
     "execution_count": 7,
     "metadata": {},
     "output_type": "execute_result"
    }
   ],
   "source": [
    "get_p(y,X,['Brain','Height'])"
   ]
  },
  {
   "cell_type": "code",
   "execution_count": 8,
   "id": "3fee552d",
   "metadata": {},
   "outputs": [
    {
     "data": {
      "text/plain": [
       "const     0.912686\n",
       "Brain     0.006592\n",
       "Weight    0.150705\n",
       "dtype: float64"
      ]
     },
     "execution_count": 8,
     "metadata": {},
     "output_type": "execute_result"
    }
   ],
   "source": [
    "get_p(y,X,['Brain','Weight'])"
   ]
  },
  {
   "cell_type": "markdown",
   "id": "71d738e7",
   "metadata": {},
   "source": [
    "#### pick Brain, Height"
   ]
  },
  {
   "cell_type": "code",
   "execution_count": 11,
   "id": "f438eef2",
   "metadata": {},
   "outputs": [
    {
     "data": {
      "text/plain": [
       "const     0.085979\n",
       "Brain     0.000856\n",
       "Height    0.033034\n",
       "Weight    0.997750\n",
       "dtype: float64"
      ]
     },
     "execution_count": 11,
     "metadata": {},
     "output_type": "execute_result"
    }
   ],
   "source": [
    "get_p(y,X,['Brain','Height','Weight'])"
   ]
  },
  {
   "cell_type": "markdown",
   "id": "2fb543b3",
   "metadata": {},
   "source": [
    "Stop with Brain, Height"
   ]
  },
  {
   "cell_type": "markdown",
   "id": "fb0ad1b9",
   "metadata": {},
   "source": [
    "https://towardsdatascience.com/5-feature-selection-method-from-scikit-learn-you-should-know-ed4d116e4172"
   ]
  },
  {
   "cell_type": "markdown",
   "id": "e525b1b1",
   "metadata": {},
   "source": [
    "https://scikit-learn.org/stable/modules/feature_selection.html"
   ]
  },
  {
   "cell_type": "markdown",
   "id": "1f97592f",
   "metadata": {},
   "source": [
    "#### 2. Best Subsets Regression"
   ]
  },
  {
   "cell_type": "code",
   "execution_count": 32,
   "id": "dc462d9e",
   "metadata": {},
   "outputs": [
    {
     "data": {
      "text/html": [
       "<img src=\"STAT501_Lesson10/best_subsets_result.png\" width=\"600\" height=\"600\"/>"
      ],
      "text/plain": [
       "<IPython.core.display.Image object>"
      ]
     },
     "execution_count": 32,
     "metadata": {},
     "output_type": "execute_result"
    }
   ],
   "source": [
    "Image(url=os.path.join(filedir, \"best_subsets_result.png\"), width=600, height=600)"
   ]
  },
  {
   "cell_type": "code",
   "execution_count": 20,
   "id": "cdbe5dcf",
   "metadata": {},
   "outputs": [],
   "source": [
    "from sklearn.feature_selection import SelectKBest\n",
    "from sklearn.feature_selection import chi2, f_regression, f_classif"
   ]
  },
  {
   "cell_type": "code",
   "execution_count": 15,
   "id": "42fcbce3",
   "metadata": {},
   "outputs": [
    {
     "data": {
      "text/html": [
       "<div>\n",
       "<style scoped>\n",
       "    .dataframe tbody tr th:only-of-type {\n",
       "        vertical-align: middle;\n",
       "    }\n",
       "\n",
       "    .dataframe tbody tr th {\n",
       "        vertical-align: top;\n",
       "    }\n",
       "\n",
       "    .dataframe thead th {\n",
       "        text-align: right;\n",
       "    }\n",
       "</style>\n",
       "<table border=\"1\" class=\"dataframe\">\n",
       "  <thead>\n",
       "    <tr style=\"text-align: right;\">\n",
       "      <th></th>\n",
       "      <th>y</th>\n",
       "      <th>x1</th>\n",
       "      <th>x2</th>\n",
       "      <th>x3</th>\n",
       "      <th>x4</th>\n",
       "    </tr>\n",
       "  </thead>\n",
       "  <tbody>\n",
       "    <tr>\n",
       "      <th>0</th>\n",
       "      <td>78.5</td>\n",
       "      <td>7</td>\n",
       "      <td>26</td>\n",
       "      <td>6</td>\n",
       "      <td>60</td>\n",
       "    </tr>\n",
       "    <tr>\n",
       "      <th>1</th>\n",
       "      <td>74.3</td>\n",
       "      <td>1</td>\n",
       "      <td>29</td>\n",
       "      <td>15</td>\n",
       "      <td>52</td>\n",
       "    </tr>\n",
       "    <tr>\n",
       "      <th>2</th>\n",
       "      <td>104.3</td>\n",
       "      <td>11</td>\n",
       "      <td>56</td>\n",
       "      <td>8</td>\n",
       "      <td>20</td>\n",
       "    </tr>\n",
       "    <tr>\n",
       "      <th>3</th>\n",
       "      <td>87.6</td>\n",
       "      <td>11</td>\n",
       "      <td>31</td>\n",
       "      <td>8</td>\n",
       "      <td>47</td>\n",
       "    </tr>\n",
       "    <tr>\n",
       "      <th>4</th>\n",
       "      <td>95.9</td>\n",
       "      <td>7</td>\n",
       "      <td>52</td>\n",
       "      <td>6</td>\n",
       "      <td>33</td>\n",
       "    </tr>\n",
       "    <tr>\n",
       "      <th>5</th>\n",
       "      <td>109.2</td>\n",
       "      <td>11</td>\n",
       "      <td>55</td>\n",
       "      <td>9</td>\n",
       "      <td>22</td>\n",
       "    </tr>\n",
       "    <tr>\n",
       "      <th>6</th>\n",
       "      <td>102.7</td>\n",
       "      <td>3</td>\n",
       "      <td>71</td>\n",
       "      <td>17</td>\n",
       "      <td>6</td>\n",
       "    </tr>\n",
       "    <tr>\n",
       "      <th>7</th>\n",
       "      <td>72.5</td>\n",
       "      <td>1</td>\n",
       "      <td>31</td>\n",
       "      <td>22</td>\n",
       "      <td>44</td>\n",
       "    </tr>\n",
       "    <tr>\n",
       "      <th>8</th>\n",
       "      <td>93.1</td>\n",
       "      <td>2</td>\n",
       "      <td>54</td>\n",
       "      <td>18</td>\n",
       "      <td>22</td>\n",
       "    </tr>\n",
       "    <tr>\n",
       "      <th>9</th>\n",
       "      <td>115.9</td>\n",
       "      <td>21</td>\n",
       "      <td>47</td>\n",
       "      <td>4</td>\n",
       "      <td>26</td>\n",
       "    </tr>\n",
       "    <tr>\n",
       "      <th>10</th>\n",
       "      <td>83.8</td>\n",
       "      <td>1</td>\n",
       "      <td>40</td>\n",
       "      <td>23</td>\n",
       "      <td>34</td>\n",
       "    </tr>\n",
       "    <tr>\n",
       "      <th>11</th>\n",
       "      <td>113.3</td>\n",
       "      <td>11</td>\n",
       "      <td>66</td>\n",
       "      <td>9</td>\n",
       "      <td>12</td>\n",
       "    </tr>\n",
       "    <tr>\n",
       "      <th>12</th>\n",
       "      <td>109.4</td>\n",
       "      <td>10</td>\n",
       "      <td>68</td>\n",
       "      <td>8</td>\n",
       "      <td>12</td>\n",
       "    </tr>\n",
       "  </tbody>\n",
       "</table>\n",
       "</div>"
      ],
      "text/plain": [
       "        y  x1  x2  x3  x4\n",
       "0    78.5   7  26   6  60\n",
       "1    74.3   1  29  15  52\n",
       "2   104.3  11  56   8  20\n",
       "3    87.6  11  31   8  47\n",
       "4    95.9   7  52   6  33\n",
       "5   109.2  11  55   9  22\n",
       "6   102.7   3  71  17   6\n",
       "7    72.5   1  31  22  44\n",
       "8    93.1   2  54  18  22\n",
       "9   115.9  21  47   4  26\n",
       "10   83.8   1  40  23  34\n",
       "11  113.3  11  66   9  12\n",
       "12  109.4  10  68   8  12"
      ]
     },
     "execution_count": 15,
     "metadata": {},
     "output_type": "execute_result"
    }
   ],
   "source": [
    "df = pd.read_table(os.path.join(filedir, 'cement.txt'), encoding=\"utf-8\")\n",
    "df"
   ]
  },
  {
   "cell_type": "code",
   "execution_count": 25,
   "id": "0268faa7",
   "metadata": {},
   "outputs": [
    {
     "name": "stderr",
     "output_type": "stream",
     "text": [
      "/Users/yuehuazhuang/opt/anaconda3/lib/python3.9/site-packages/sklearn/feature_selection/_univariate_selection.py:111: RuntimeWarning: invalid value encountered in true_divide\n",
      "  msw = sswn / float(dfwn)\n"
     ]
    },
    {
     "data": {
      "text/plain": [
       "array([False,  True,  True,  True])"
      ]
     },
     "execution_count": 25,
     "metadata": {},
     "output_type": "execute_result"
    }
   ],
   "source": [
    "X = df[['x1','x2','x3','x4']]\n",
    "y = df['y']\n",
    "select = SelectKBest(score_func=f_classif, k=3)\n",
    "z = select.fit_transform(X, y)\n",
    "select.get_support()"
   ]
  },
  {
   "cell_type": "code",
   "execution_count": 29,
   "id": "3c33a5de",
   "metadata": {},
   "outputs": [
    {
     "data": {
      "text/plain": [
       "array([ True,  True, False,  True])"
      ]
     },
     "execution_count": 29,
     "metadata": {},
     "output_type": "execute_result"
    }
   ],
   "source": [
    "X = df[['x1','x2','x3','x4']]\n",
    "y = df['y']\n",
    "select = SelectKBest(score_func=f_regression, k=3)\n",
    "z = select.fit_transform(X, y)\n",
    "select.get_support()"
   ]
  },
  {
   "cell_type": "markdown",
   "id": "e3304940",
   "metadata": {},
   "source": [
    "#### 3. Information Criteria and PRESS"
   ]
  },
  {
   "cell_type": "markdown",
   "id": "393a9328",
   "metadata": {},
   "source": [
    "#### 4. Cross Validation"
   ]
  }
 ],
 "metadata": {
  "kernelspec": {
   "display_name": "Python 3 (ipykernel)",
   "language": "python",
   "name": "python3"
  },
  "language_info": {
   "codemirror_mode": {
    "name": "ipython",
    "version": 3
   },
   "file_extension": ".py",
   "mimetype": "text/x-python",
   "name": "python",
   "nbconvert_exporter": "python",
   "pygments_lexer": "ipython3",
   "version": "3.9.7"
  }
 },
 "nbformat": 4,
 "nbformat_minor": 5
}
