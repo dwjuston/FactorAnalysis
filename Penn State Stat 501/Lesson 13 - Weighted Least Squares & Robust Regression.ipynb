{
 "cells": [
  {
   "cell_type": "markdown",
   "id": "e3e16e3c",
   "metadata": {},
   "source": [
    "#### https://online.stat.psu.edu/stat501/lesson/13"
   ]
  },
  {
   "cell_type": "code",
   "execution_count": 78,
   "id": "a57403c8",
   "metadata": {},
   "outputs": [
    {
     "data": {
      "text/plain": [
       "['ca_learning_new.txt',\n",
       " 'WLS_W_matrix.png',\n",
       " 'ca_learning.txt',\n",
       " 'home_price.txt',\n",
       " 'galton.txt',\n",
       " 'quality_measure.txt',\n",
       " 'market_share.txt']"
      ]
     },
     "execution_count": 78,
     "metadata": {},
     "output_type": "execute_result"
    }
   ],
   "source": [
    "import os\n",
    "import statsmodels.api as sm\n",
    "import pandas as pd\n",
    "import numpy as np\n",
    "import seaborn as sns\n",
    "from IPython.display import Image\n",
    "from statsmodels.formula.api import ols\n",
    "from matplotlib import pyplot as plt\n",
    "import scipy.stats\n",
    "filedir = 'STAT501_Lesson13'\n",
    "os.listdir(filedir)"
   ]
  },
  {
   "cell_type": "markdown",
   "id": "6d559fae",
   "metadata": {},
   "source": [
    "$$\n",
    "\\hat{\\beta}_{OLS} = (X^T X)^{-1} X^T Y\n",
    "$$"
   ]
  },
  {
   "cell_type": "markdown",
   "id": "503313b6",
   "metadata": {},
   "source": [
    "$$\n",
    "\\hat{\\beta}_{WLS} = (X^T W X)^{-1} X^T W Y\n",
    "$$"
   ]
  },
  {
   "cell_type": "code",
   "execution_count": 79,
   "id": "a237e33c",
   "metadata": {},
   "outputs": [
    {
     "data": {
      "text/html": [
       "<img src=\"STAT501_Lesson13/WLS_W_matrix.png\" width=\"600\" height=\"600\"/>"
      ],
      "text/plain": [
       "<IPython.core.display.Image object>"
      ]
     },
     "execution_count": 79,
     "metadata": {},
     "output_type": "execute_result"
    }
   ],
   "source": [
    "Image(url=os.path.join(filedir, \"WLS_W_matrix.png\"), width=600, height=600)"
   ]
  },
  {
   "cell_type": "markdown",
   "id": "f7b6bc3a",
   "metadata": {},
   "source": [
    "Each weight is inversely proportional to the error variance. Big variance, smaller weight"
   ]
  },
  {
   "cell_type": "markdown",
   "id": "0e492b5a",
   "metadata": {},
   "source": [
    "#### This weight matrix has to be known; it's usually a proportionality constant"
   ]
  },
  {
   "cell_type": "code",
   "execution_count": 80,
   "id": "5f8195ec",
   "metadata": {},
   "outputs": [
    {
     "data": {
      "text/html": [
       "<div>\n",
       "<style scoped>\n",
       "    .dataframe tbody tr th:only-of-type {\n",
       "        vertical-align: middle;\n",
       "    }\n",
       "\n",
       "    .dataframe tbody tr th {\n",
       "        vertical-align: top;\n",
       "    }\n",
       "\n",
       "    .dataframe thead th {\n",
       "        text-align: right;\n",
       "    }\n",
       "</style>\n",
       "<table border=\"1\" class=\"dataframe\">\n",
       "  <thead>\n",
       "    <tr style=\"text-align: right;\">\n",
       "      <th></th>\n",
       "      <th>Parent</th>\n",
       "      <th>Progeny</th>\n",
       "      <th>SD</th>\n",
       "    </tr>\n",
       "  </thead>\n",
       "  <tbody>\n",
       "    <tr>\n",
       "      <th>0</th>\n",
       "      <td>0.21</td>\n",
       "      <td>0.1726</td>\n",
       "      <td>0.01988</td>\n",
       "    </tr>\n",
       "    <tr>\n",
       "      <th>1</th>\n",
       "      <td>0.20</td>\n",
       "      <td>0.1707</td>\n",
       "      <td>0.01938</td>\n",
       "    </tr>\n",
       "    <tr>\n",
       "      <th>2</th>\n",
       "      <td>0.19</td>\n",
       "      <td>0.1637</td>\n",
       "      <td>0.01896</td>\n",
       "    </tr>\n",
       "    <tr>\n",
       "      <th>3</th>\n",
       "      <td>0.18</td>\n",
       "      <td>0.1640</td>\n",
       "      <td>0.02037</td>\n",
       "    </tr>\n",
       "    <tr>\n",
       "      <th>4</th>\n",
       "      <td>0.17</td>\n",
       "      <td>0.1613</td>\n",
       "      <td>0.01654</td>\n",
       "    </tr>\n",
       "    <tr>\n",
       "      <th>5</th>\n",
       "      <td>0.16</td>\n",
       "      <td>0.1617</td>\n",
       "      <td>0.01594</td>\n",
       "    </tr>\n",
       "    <tr>\n",
       "      <th>6</th>\n",
       "      <td>0.15</td>\n",
       "      <td>0.1598</td>\n",
       "      <td>0.01763</td>\n",
       "    </tr>\n",
       "  </tbody>\n",
       "</table>\n",
       "</div>"
      ],
      "text/plain": [
       "   Parent  Progeny       SD\n",
       "0    0.21   0.1726  0.01988\n",
       "1    0.20   0.1707  0.01938\n",
       "2    0.19   0.1637  0.01896\n",
       "3    0.18   0.1640  0.02037\n",
       "4    0.17   0.1613  0.01654\n",
       "5    0.16   0.1617  0.01594\n",
       "6    0.15   0.1598  0.01763"
      ]
     },
     "execution_count": 80,
     "metadata": {},
     "output_type": "execute_result"
    }
   ],
   "source": [
    "df = pd.read_table(os.path.join(filedir, 'galton.txt'))\n",
    "df"
   ]
  },
  {
   "cell_type": "code",
   "execution_count": 81,
   "id": "34a0f3f0",
   "metadata": {},
   "outputs": [
    {
     "name": "stderr",
     "output_type": "stream",
     "text": [
      "/Users/yuehuazhuang/opt/anaconda3/lib/python3.9/site-packages/statsmodels/tsa/tsatools.py:142: FutureWarning: In a future version of pandas all arguments of concat except for the argument 'objs' will be keyword-only\n",
      "  x = pd.concat(x[::order], 1)\n"
     ]
    }
   ],
   "source": [
    "y = df['Progeny']\n",
    "X = df[['Parent']]\n",
    "X = sm.add_constant(X)"
   ]
  },
  {
   "cell_type": "code",
   "execution_count": 82,
   "id": "9ab5d96d",
   "metadata": {},
   "outputs": [],
   "source": [
    "OLS_model = sm.OLS(y, X).fit()\n",
    "WLS_model = sm.WLS(y, X, weights=1/np.power(df['SD'],2)).fit()"
   ]
  },
  {
   "cell_type": "code",
   "execution_count": 83,
   "id": "442047d1",
   "metadata": {},
   "outputs": [
    {
     "data": {
      "text/plain": [
       "const     0.127029\n",
       "Parent    0.210000\n",
       "dtype: float64"
      ]
     },
     "execution_count": 83,
     "metadata": {},
     "output_type": "execute_result"
    }
   ],
   "source": [
    "OLS_model.params"
   ]
  },
  {
   "cell_type": "code",
   "execution_count": 84,
   "id": "7bbeabb3",
   "metadata": {},
   "outputs": [
    {
     "data": {
      "text/plain": [
       "const     0.127964\n",
       "Parent    0.204801\n",
       "dtype: float64"
      ]
     },
     "execution_count": 84,
     "metadata": {},
     "output_type": "execute_result"
    }
   ],
   "source": [
    "WLS_model.params"
   ]
  },
  {
   "cell_type": "markdown",
   "id": "69a74a15",
   "metadata": {},
   "source": [
    "Results are expected to be similar. In cases where they differ substantially, the procedure can be iterated (usually one or two iterations)"
   ]
  },
  {
   "cell_type": "markdown",
   "id": "d4a9153a",
   "metadata": {},
   "source": [
    "In the example above, SD is given. In designed experiments with large numbers of replicates, weights can be estimated directly from sample variances at each x."
   ]
  },
  {
   "cell_type": "markdown",
   "id": "2f97b3c2",
   "metadata": {},
   "source": [
    "#### The difficulty, in practice, is determining estimates of the error variances."
   ]
  },
  {
   "cell_type": "markdown",
   "id": "60e61b69",
   "metadata": {},
   "source": [
    "Do OLS; regress abs(resid) or squared resid against the fitted values or a predictor; use abs(resid) to approximately estimate std, or use squared resid to estimate variance."
   ]
  },
  {
   "cell_type": "markdown",
   "id": "9ffc96a5",
   "metadata": {},
   "source": [
    "Let's walk through an example step by step"
   ]
  },
  {
   "cell_type": "code",
   "execution_count": 85,
   "id": "d5bd517b",
   "metadata": {},
   "outputs": [
    {
     "data": {
      "text/html": [
       "<div>\n",
       "<style scoped>\n",
       "    .dataframe tbody tr th:only-of-type {\n",
       "        vertical-align: middle;\n",
       "    }\n",
       "\n",
       "    .dataframe tbody tr th {\n",
       "        vertical-align: top;\n",
       "    }\n",
       "\n",
       "    .dataframe thead th {\n",
       "        text-align: right;\n",
       "    }\n",
       "</style>\n",
       "<table border=\"1\" class=\"dataframe\">\n",
       "  <thead>\n",
       "    <tr style=\"text-align: right;\">\n",
       "      <th></th>\n",
       "      <th>id</th>\n",
       "      <th>num.responses</th>\n",
       "      <th>cost</th>\n",
       "    </tr>\n",
       "  </thead>\n",
       "  <tbody>\n",
       "    <tr>\n",
       "      <th>0</th>\n",
       "      <td>1</td>\n",
       "      <td>16</td>\n",
       "      <td>77</td>\n",
       "    </tr>\n",
       "    <tr>\n",
       "      <th>1</th>\n",
       "      <td>2</td>\n",
       "      <td>14</td>\n",
       "      <td>70</td>\n",
       "    </tr>\n",
       "    <tr>\n",
       "      <th>2</th>\n",
       "      <td>3</td>\n",
       "      <td>22</td>\n",
       "      <td>85</td>\n",
       "    </tr>\n",
       "    <tr>\n",
       "      <th>3</th>\n",
       "      <td>4</td>\n",
       "      <td>10</td>\n",
       "      <td>50</td>\n",
       "    </tr>\n",
       "    <tr>\n",
       "      <th>4</th>\n",
       "      <td>5</td>\n",
       "      <td>14</td>\n",
       "      <td>62</td>\n",
       "    </tr>\n",
       "    <tr>\n",
       "      <th>5</th>\n",
       "      <td>6</td>\n",
       "      <td>17</td>\n",
       "      <td>70</td>\n",
       "    </tr>\n",
       "    <tr>\n",
       "      <th>6</th>\n",
       "      <td>7</td>\n",
       "      <td>10</td>\n",
       "      <td>55</td>\n",
       "    </tr>\n",
       "    <tr>\n",
       "      <th>7</th>\n",
       "      <td>8</td>\n",
       "      <td>13</td>\n",
       "      <td>63</td>\n",
       "    </tr>\n",
       "    <tr>\n",
       "      <th>8</th>\n",
       "      <td>9</td>\n",
       "      <td>19</td>\n",
       "      <td>88</td>\n",
       "    </tr>\n",
       "    <tr>\n",
       "      <th>9</th>\n",
       "      <td>10</td>\n",
       "      <td>12</td>\n",
       "      <td>57</td>\n",
       "    </tr>\n",
       "    <tr>\n",
       "      <th>10</th>\n",
       "      <td>11</td>\n",
       "      <td>18</td>\n",
       "      <td>81</td>\n",
       "    </tr>\n",
       "    <tr>\n",
       "      <th>11</th>\n",
       "      <td>12</td>\n",
       "      <td>11</td>\n",
       "      <td>51</td>\n",
       "    </tr>\n",
       "  </tbody>\n",
       "</table>\n",
       "</div>"
      ],
      "text/plain": [
       "    id  num.responses  cost\n",
       "0    1             16    77\n",
       "1    2             14    70\n",
       "2    3             22    85\n",
       "3    4             10    50\n",
       "4    5             14    62\n",
       "5    6             17    70\n",
       "6    7             10    55\n",
       "7    8             13    63\n",
       "8    9             19    88\n",
       "9   10             12    57\n",
       "10  11             18    81\n",
       "11  12             11    51"
      ]
     },
     "execution_count": 85,
     "metadata": {},
     "output_type": "execute_result"
    }
   ],
   "source": [
    "df = pd.read_table(os.path.join(filedir, 'ca_learning_new.txt'), encoding='utf-16')\n",
    "df"
   ]
  },
  {
   "cell_type": "code",
   "execution_count": 90,
   "id": "bea89e2d",
   "metadata": {},
   "outputs": [
    {
     "name": "stderr",
     "output_type": "stream",
     "text": [
      "/Users/yuehuazhuang/opt/anaconda3/lib/python3.9/site-packages/statsmodels/tsa/tsatools.py:142: FutureWarning: In a future version of pandas all arguments of concat except for the argument 'objs' will be keyword-only\n",
      "  x = pd.concat(x[::order], 1)\n"
     ]
    }
   ],
   "source": [
    "y = df['cost']\n",
    "X = df[['num.responses']]\n",
    "X = sm.add_constant(X)"
   ]
  },
  {
   "cell_type": "code",
   "execution_count": 91,
   "id": "7d7f0231",
   "metadata": {},
   "outputs": [],
   "source": [
    "b_OLS = np.linalg.inv(X.values.T @ X) @ X.T @ y "
   ]
  },
  {
   "cell_type": "code",
   "execution_count": 92,
   "id": "4d5e5ea3",
   "metadata": {},
   "outputs": [],
   "source": [
    "y_hat = X.values @ b_OLS\n",
    "resids = y - y_hat"
   ]
  },
  {
   "cell_type": "code",
   "execution_count": 94,
   "id": "843b48d7",
   "metadata": {},
   "outputs": [
    {
     "data": {
      "text/plain": [
       "<matplotlib.collections.PathCollection at 0x7fef204a7760>"
      ]
     },
     "execution_count": 94,
     "metadata": {},
     "output_type": "execute_result"
    },
    {
     "data": {
      "image/png": "[encoded data removed]",
      "text/plain": [
       "<Figure size 432x288 with 1 Axes>"
      ]
     },
     "metadata": {
      "needs_background": "light"
     },
     "output_type": "display_data"
    }
   ],
   "source": [
    "plt.scatter(X['num.responses'], resids)"
   ]
  },
  {
   "cell_type": "code",
   "execution_count": 95,
   "id": "1c91697a",
   "metadata": {},
   "outputs": [
    {
     "name": "stderr",
     "output_type": "stream",
     "text": [
      "/Users/yuehuazhuang/opt/anaconda3/lib/python3.9/site-packages/statsmodels/tsa/tsatools.py:142: FutureWarning: In a future version of pandas all arguments of concat except for the argument 'objs' will be keyword-only\n",
      "  x = pd.concat(x[::order], 1)\n"
     ]
    }
   ],
   "source": [
    "y2 = np.abs(resids)\n",
    "X2 = df[['num.responses']]\n",
    "X2 = sm.add_constant(X2)"
   ]
  },
  {
   "cell_type": "code",
   "execution_count": 96,
   "id": "5a5aede0",
   "metadata": {},
   "outputs": [
    {
     "data": {
      "text/plain": [
       "0   -0.904862\n",
       "1    0.322629\n",
       "dtype: float64"
      ]
     },
     "execution_count": 96,
     "metadata": {},
     "output_type": "execute_result"
    }
   ],
   "source": [
    "res_slope = np.linalg.inv(X2.values.T @ X2) @ X2.T @ y2\n",
    "res_slope"
   ]
  },
  {
   "cell_type": "code",
   "execution_count": 46,
   "id": "20163ab7",
   "metadata": {},
   "outputs": [
    {
     "data": {
      "text/plain": [
       "<matplotlib.collections.PathCollection at 0x7fef2356b040>"
      ]
     },
     "execution_count": 46,
     "metadata": {},
     "output_type": "execute_result"
    },
    {
     "data": {
      "image/png": "[encoded data removed]",
      "text/plain": [
       "<Figure size 432x288 with 1 Axes>"
      ]
     },
     "metadata": {
      "needs_background": "light"
     },
     "output_type": "display_data"
    }
   ],
   "source": [
    "plt.scatter(df['num.responses'], y2)"
   ]
  },
  {
   "cell_type": "code",
   "execution_count": 99,
   "id": "4bc57ebd",
   "metadata": {},
   "outputs": [
    {
     "data": {
      "text/plain": [
       "array([4.25720288, 3.61194478, 6.19297719, 2.32142857, 3.61194478,\n",
       "       4.57983193, 2.32142857, 3.28931573, 5.22509004, 2.96668667,\n",
       "       4.90246098, 2.64405762])"
      ]
     },
     "execution_count": 99,
     "metadata": {},
     "output_type": "execute_result"
    }
   ],
   "source": [
    "X2.values @ res_slope"
   ]
  },
  {
   "cell_type": "code",
   "execution_count": 100,
   "id": "72843a97",
   "metadata": {},
   "outputs": [],
   "source": [
    "W = np.diag(1/np.power(X2.values @ slopes2, 2))"
   ]
  },
  {
   "cell_type": "code",
   "execution_count": 101,
   "id": "5ceb690d",
   "metadata": {},
   "outputs": [
    {
     "data": {
      "text/plain": [
       "0    17.300637\n",
       "1     3.421106\n",
       "dtype: float64"
      ]
     },
     "execution_count": 101,
     "metadata": {},
     "output_type": "execute_result"
    }
   ],
   "source": [
    "b_WLS = np.linalg.inv(X.values.T @ W @ X) @ X.T @ W @ y\n",
    "b_WLS"
   ]
  },
  {
   "cell_type": "code",
   "execution_count": 103,
   "id": "110ef1ad",
   "metadata": {},
   "outputs": [
    {
     "data": {
      "text/plain": [
       "<matplotlib.collections.PathCollection at 0x7fef24833a00>"
      ]
     },
     "execution_count": 103,
     "metadata": {},
     "output_type": "execute_result"
    },
    {
     "data": {
      "image/png": "[encoded data removed]",
      "text/plain": [
       "<Figure size 432x288 with 1 Axes>"
      ]
     },
     "metadata": {
      "needs_background": "light"
     },
     "output_type": "display_data"
    }
   ],
   "source": [
    "resid_OLS = y - X.values @ b_WLS\n",
    "resid_WLS = y - X.values @ b_OLS\n",
    "plt.scatter(df['num.responses'], resid_OLS)\n",
    "plt.scatter(df['num.responses'], resid_WLS)"
   ]
  },
  {
   "cell_type": "code",
   "execution_count": 104,
   "id": "ac0efdb3",
   "metadata": {},
   "outputs": [
    {
     "data": {
      "text/plain": [
       "array([0.09453782, 0.08613445, 0.42226891, 0.22058824, 0.08613445,\n",
       "       0.11764706, 0.22058824, 0.10084034, 0.20168067, 0.12815126,\n",
       "       0.15336134, 0.16806723])"
      ]
     },
     "execution_count": 104,
     "metadata": {},
     "output_type": "execute_result"
    }
   ],
   "source": [
    "def get_leverage(X):\n",
    "    h_ii = np.diag(X.values @ np.linalg.inv(X.T @ X) @ X.T) \n",
    "    return h_ii\n",
    "h_ii = get_leverage(X)\n",
    "h_ii"
   ]
  },
  {
   "cell_type": "code",
   "execution_count": 105,
   "id": "8167b97b",
   "metadata": {},
   "outputs": [
    {
     "data": {
      "text/plain": [
       "21.51621484671968"
      ]
     },
     "execution_count": 105,
     "metadata": {},
     "output_type": "execute_result"
    }
   ],
   "source": [
    "def get_MSE(y, X, resids):\n",
    "    n = len(y)\n",
    "    p = X.shape[1]\n",
    "    return sum(np.power(resids, 2)) / (n-p)\n",
    "\n",
    "get_MSE(y, X, resid_OLS)"
   ]
  },
  {
   "cell_type": "code",
   "execution_count": 66,
   "id": "2ab2157e",
   "metadata": {},
   "outputs": [],
   "source": [
    "def get_studentized_residuals(resids, MSE, h_ii):\n",
    "    return resids / np.sqrt(MSE * (1-h_ii))"
   ]
  },
  {
   "cell_type": "code",
   "execution_count": 106,
   "id": "1743c92e",
   "metadata": {},
   "outputs": [],
   "source": [
    "h_ii = get_leverage(X)\n",
    "MSE_OLS = get_MSE(y, X, resid_OLS)\n",
    "MSE_WLS = get_MSE(y, X, resid_WLS)\n",
    "studentized_residuals_OLS = get_studentized_residuals(resid_OLS, MSE_OLS, h_ii)\n",
    "studentized_residuals_WLS = get_studentized_residuals(resid_WLS, MSE_WLS, h_ii)"
   ]
  },
  {
   "cell_type": "code",
   "execution_count": 107,
   "id": "d68d2fbc",
   "metadata": {},
   "outputs": [
    {
     "data": {
      "text/plain": [
       "<matplotlib.collections.PathCollection at 0x7fef248ced00>"
      ]
     },
     "execution_count": 107,
     "metadata": {},
     "output_type": "execute_result"
    },
    {
     "data": {
      "image/png": "[encoded data removed]",
      "text/plain": [
       "<Figure size 432x288 with 1 Axes>"
      ]
     },
     "metadata": {
      "needs_background": "light"
     },
     "output_type": "display_data"
    }
   ],
   "source": [
    "plt.scatter(X['num.responses'], studentized_residuals_OLS)\n",
    "plt.scatter(X['num.responses'], studentized_residuals_WLS)"
   ]
  },
  {
   "cell_type": "code",
   "execution_count": 110,
   "id": "5595d5a5",
   "metadata": {},
   "outputs": [
    {
     "data": {
      "text/plain": [
       "<matplotlib.collections.PathCollection at 0x7fef24bb4d60>"
      ]
     },
     "execution_count": 110,
     "metadata": {},
     "output_type": "execute_result"
    },
    {
     "data": {
      "image/png": "[encoded data removed]",
      "text/plain": [
       "<Figure size 432x288 with 1 Axes>"
      ]
     },
     "metadata": {
      "needs_background": "light"
     },
     "output_type": "display_data"
    }
   ],
   "source": [
    "#plt.scatter(X['num.responses'], resid_OLS)\n",
    "plt.scatter(X['num.responses'], resid_WLS / (X2.values @ slopes2))"
   ]
  },
  {
   "cell_type": "markdown",
   "id": "8e95e691",
   "metadata": {},
   "source": [
    "With WLS, it is crucial that we use standardized residuals to evaluate it, since it takes into account the changing variance."
   ]
  },
  {
   "cell_type": "markdown",
   "id": "8f282524",
   "metadata": {},
   "source": [
    "#### Robust Regression Methods"
   ]
  },
  {
   "cell_type": "markdown",
   "id": "cc95dab7",
   "metadata": {},
   "source": [
    "Robust regression methods provide an alternative to least squares regression by requiring less restrictive assumptions. These methods attempt to perform better by dampening the influence of outlying cases."
   ]
  },
  {
   "cell_type": "markdown",
   "id": "9c1e4824",
   "metadata": {},
   "source": [
    "<ol>\n",
    "    <li>Andrews' Sine</li>\n",
    "    <li>Huber's Method</li>\n",
    "    <li>Tukey's Biweight</li>\n",
    "</ol>\n",
    "https://www.statsmodels.org/dev/examples/notebooks/generated/robust_models_1.html"
   ]
  }
 ],
 "metadata": {
  "kernelspec": {
   "display_name": "Python 3 (ipykernel)",
   "language": "python",
   "name": "python3"
  },
  "language_info": {
   "codemirror_mode": {
    "name": "ipython",
    "version": 3
   },
   "file_extension": ".py",
   "mimetype": "text/x-python",
   "name": "python",
   "nbconvert_exporter": "python",
   "pygments_lexer": "ipython3",
   "version": "3.9.7"
  }
 },
 "nbformat": 4,
 "nbformat_minor": 5
}
