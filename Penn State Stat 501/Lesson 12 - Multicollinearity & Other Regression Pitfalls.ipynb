{
 "cells": [
  {
   "cell_type": "markdown",
   "id": "c48ba7d7",
   "metadata": {},
   "source": [
    "#### https://online.stat.psu.edu/stat501/lesson/12"
   ]
  },
  {
   "cell_type": "code",
   "execution_count": 1,
   "id": "f73b9cee",
   "metadata": {},
   "outputs": [
    {
     "data": {
      "text/plain": [
       "['allentest.txt',\n",
       " '.DS_Store',\n",
       " 'uncorrelated.txt',\n",
       " 'correlated_result.png',\n",
       " 'allentestn23.txt',\n",
       " 'uncorrelated_result.png',\n",
       " 'bloodpress.txt',\n",
       " 'uncorrpreds.txt',\n",
       " 'exerimmun.txt',\n",
       " 'cement.txt',\n",
       " 'poverty.txt']"
      ]
     },
     "execution_count": 1,
     "metadata": {},
     "output_type": "execute_result"
    }
   ],
   "source": [
    "import os\n",
    "import statsmodels.api as sm\n",
    "import pandas as pd\n",
    "import numpy as np\n",
    "import seaborn as sns\n",
    "from IPython.display import Image\n",
    "from statsmodels.formula.api import ols\n",
    "import scipy.stats\n",
    "filedir = 'STAT501_Lesson12'\n",
    "os.listdir(filedir)"
   ]
  },
  {
   "cell_type": "markdown",
   "id": "dc144c94",
   "metadata": {},
   "source": [
    "#### 1. What is Multicollinearity"
   ]
  },
  {
   "cell_type": "markdown",
   "id": "23a8a53a",
   "metadata": {},
   "source": [
    "If $x_3$ and $x_6$ are uncorrelated"
   ]
  },
  {
   "cell_type": "code",
   "execution_count": 2,
   "id": "70bd509d",
   "metadata": {},
   "outputs": [
    {
     "data": {
      "text/html": [
       "<img src=\"STAT501_Lesson12/uncorrelated_result.png\" width=\"600\" height=\"600\"/>"
      ],
      "text/plain": [
       "<IPython.core.display.Image object>"
      ]
     },
     "execution_count": 2,
     "metadata": {},
     "output_type": "execute_result"
    }
   ],
   "source": [
    "Image(url=os.path.join(filedir, \"uncorrelated_result.png\"), width=600, height=600)"
   ]
  },
  {
   "cell_type": "markdown",
   "id": "ca0a4f0d",
   "metadata": {},
   "source": [
    "If $x_2$ and $x_3$ are high correlated"
   ]
  },
  {
   "cell_type": "code",
   "execution_count": 3,
   "id": "ddfc52fb",
   "metadata": {},
   "outputs": [
    {
     "data": {
      "text/html": [
       "<img src=\"STAT501_Lesson12/correlated_result.png\" width=\"600\" height=\"600\"/>"
      ],
      "text/plain": [
       "<IPython.core.display.Image object>"
      ]
     },
     "execution_count": 3,
     "metadata": {},
     "output_type": "execute_result"
    }
   ],
   "source": [
    "Image(url=os.path.join(filedir, \"correlated_result.png\"), width=600, height=600)"
   ]
  },
  {
   "cell_type": "markdown",
   "id": "ff53d73d",
   "metadata": {},
   "source": [
    "We can no longer make much sense of the usual interpretation of a slope coefficient as the change in y with change in $x_k$, **holding all the other predictors constant**."
   ]
  },
  {
   "cell_type": "markdown",
   "id": "89a968bd",
   "metadata": {},
   "source": [
    "slopes vary a lot; hypothesis tests can give different conclusions; marginal contribution is smaller; standard errors are large"
   ]
  },
  {
   "cell_type": "markdown",
   "id": "0d77ed2e",
   "metadata": {},
   "source": [
    "#### 2. Detecting Multicollinearity Using Variance Inflation Factors"
   ]
  },
  {
   "cell_type": "markdown",
   "id": "206880b3",
   "metadata": {},
   "source": [
    "<ol>\n",
    "    <li>Estimates of slopes vary from model to model</li>\n",
    "    <li>The t-tests are non-significant, while F value is large enough</li>\n",
    "    <li>The correlations among Xs are large</li>\n",
    "    <li><b>Variance Inflation Factors (VIF)</b>: pairwise correlation is limiting; a linear dependence exists among three or more variables, for example $X_3 = 2 X_1 + 5 X_2 + error$</li>\n",
    "</ol>"
   ]
  },
  {
   "cell_type": "code",
   "execution_count": 4,
   "id": "9f994611",
   "metadata": {},
   "outputs": [
    {
     "data": {
      "text/plain": [
       "['allentest.txt',\n",
       " '.DS_Store',\n",
       " 'uncorrelated.txt',\n",
       " 'correlated_result.png',\n",
       " 'allentestn23.txt',\n",
       " 'uncorrelated_result.png',\n",
       " 'bloodpress.txt',\n",
       " 'uncorrpreds.txt',\n",
       " 'exerimmun.txt',\n",
       " 'cement.txt',\n",
       " 'poverty.txt']"
      ]
     },
     "execution_count": 4,
     "metadata": {},
     "output_type": "execute_result"
    }
   ],
   "source": [
    "import os\n",
    "import statsmodels.api as sm\n",
    "import pandas as pd\n",
    "import numpy as np\n",
    "import seaborn as sns\n",
    "from IPython.display import Image\n",
    "from statsmodels.formula.api import ols\n",
    "import scipy.stats\n",
    "filedir = 'STAT501_Lesson12'\n",
    "os.listdir(filedir)"
   ]
  },
  {
   "cell_type": "code",
   "execution_count": 5,
   "id": "ce22b816",
   "metadata": {},
   "outputs": [
    {
     "data": {
      "text/html": [
       "<div>\n",
       "<style scoped>\n",
       "    .dataframe tbody tr th:only-of-type {\n",
       "        vertical-align: middle;\n",
       "    }\n",
       "\n",
       "    .dataframe tbody tr th {\n",
       "        vertical-align: top;\n",
       "    }\n",
       "\n",
       "    .dataframe thead th {\n",
       "        text-align: right;\n",
       "    }\n",
       "</style>\n",
       "<table border=\"1\" class=\"dataframe\">\n",
       "  <thead>\n",
       "    <tr style=\"text-align: right;\">\n",
       "      <th></th>\n",
       "      <th>Pt</th>\n",
       "      <th>BP</th>\n",
       "      <th>Age</th>\n",
       "      <th>Weight</th>\n",
       "      <th>BSA</th>\n",
       "      <th>Dur</th>\n",
       "      <th>Pulse</th>\n",
       "      <th>Stress</th>\n",
       "    </tr>\n",
       "  </thead>\n",
       "  <tbody>\n",
       "    <tr>\n",
       "      <th>0</th>\n",
       "      <td>1</td>\n",
       "      <td>105</td>\n",
       "      <td>47</td>\n",
       "      <td>85.4</td>\n",
       "      <td>1.75</td>\n",
       "      <td>5.1</td>\n",
       "      <td>63</td>\n",
       "      <td>33</td>\n",
       "    </tr>\n",
       "    <tr>\n",
       "      <th>1</th>\n",
       "      <td>2</td>\n",
       "      <td>115</td>\n",
       "      <td>49</td>\n",
       "      <td>94.2</td>\n",
       "      <td>2.10</td>\n",
       "      <td>3.8</td>\n",
       "      <td>70</td>\n",
       "      <td>14</td>\n",
       "    </tr>\n",
       "    <tr>\n",
       "      <th>2</th>\n",
       "      <td>3</td>\n",
       "      <td>116</td>\n",
       "      <td>49</td>\n",
       "      <td>95.3</td>\n",
       "      <td>1.98</td>\n",
       "      <td>8.2</td>\n",
       "      <td>72</td>\n",
       "      <td>10</td>\n",
       "    </tr>\n",
       "    <tr>\n",
       "      <th>3</th>\n",
       "      <td>4</td>\n",
       "      <td>117</td>\n",
       "      <td>50</td>\n",
       "      <td>94.7</td>\n",
       "      <td>2.01</td>\n",
       "      <td>5.8</td>\n",
       "      <td>73</td>\n",
       "      <td>99</td>\n",
       "    </tr>\n",
       "    <tr>\n",
       "      <th>4</th>\n",
       "      <td>5</td>\n",
       "      <td>112</td>\n",
       "      <td>51</td>\n",
       "      <td>89.4</td>\n",
       "      <td>1.89</td>\n",
       "      <td>7.0</td>\n",
       "      <td>72</td>\n",
       "      <td>95</td>\n",
       "    </tr>\n",
       "    <tr>\n",
       "      <th>5</th>\n",
       "      <td>6</td>\n",
       "      <td>121</td>\n",
       "      <td>48</td>\n",
       "      <td>99.5</td>\n",
       "      <td>2.25</td>\n",
       "      <td>9.3</td>\n",
       "      <td>71</td>\n",
       "      <td>10</td>\n",
       "    </tr>\n",
       "    <tr>\n",
       "      <th>6</th>\n",
       "      <td>7</td>\n",
       "      <td>121</td>\n",
       "      <td>49</td>\n",
       "      <td>99.8</td>\n",
       "      <td>2.25</td>\n",
       "      <td>2.5</td>\n",
       "      <td>69</td>\n",
       "      <td>42</td>\n",
       "    </tr>\n",
       "    <tr>\n",
       "      <th>7</th>\n",
       "      <td>8</td>\n",
       "      <td>110</td>\n",
       "      <td>47</td>\n",
       "      <td>90.9</td>\n",
       "      <td>1.90</td>\n",
       "      <td>6.2</td>\n",
       "      <td>66</td>\n",
       "      <td>8</td>\n",
       "    </tr>\n",
       "    <tr>\n",
       "      <th>8</th>\n",
       "      <td>9</td>\n",
       "      <td>110</td>\n",
       "      <td>49</td>\n",
       "      <td>89.2</td>\n",
       "      <td>1.83</td>\n",
       "      <td>7.1</td>\n",
       "      <td>69</td>\n",
       "      <td>62</td>\n",
       "    </tr>\n",
       "    <tr>\n",
       "      <th>9</th>\n",
       "      <td>10</td>\n",
       "      <td>114</td>\n",
       "      <td>48</td>\n",
       "      <td>92.7</td>\n",
       "      <td>2.07</td>\n",
       "      <td>5.6</td>\n",
       "      <td>64</td>\n",
       "      <td>35</td>\n",
       "    </tr>\n",
       "    <tr>\n",
       "      <th>10</th>\n",
       "      <td>11</td>\n",
       "      <td>114</td>\n",
       "      <td>47</td>\n",
       "      <td>94.4</td>\n",
       "      <td>2.07</td>\n",
       "      <td>5.3</td>\n",
       "      <td>74</td>\n",
       "      <td>90</td>\n",
       "    </tr>\n",
       "    <tr>\n",
       "      <th>11</th>\n",
       "      <td>12</td>\n",
       "      <td>115</td>\n",
       "      <td>49</td>\n",
       "      <td>94.1</td>\n",
       "      <td>1.98</td>\n",
       "      <td>5.6</td>\n",
       "      <td>71</td>\n",
       "      <td>21</td>\n",
       "    </tr>\n",
       "    <tr>\n",
       "      <th>12</th>\n",
       "      <td>13</td>\n",
       "      <td>114</td>\n",
       "      <td>50</td>\n",
       "      <td>91.6</td>\n",
       "      <td>2.05</td>\n",
       "      <td>10.2</td>\n",
       "      <td>68</td>\n",
       "      <td>47</td>\n",
       "    </tr>\n",
       "    <tr>\n",
       "      <th>13</th>\n",
       "      <td>14</td>\n",
       "      <td>106</td>\n",
       "      <td>45</td>\n",
       "      <td>87.1</td>\n",
       "      <td>1.92</td>\n",
       "      <td>5.6</td>\n",
       "      <td>67</td>\n",
       "      <td>80</td>\n",
       "    </tr>\n",
       "    <tr>\n",
       "      <th>14</th>\n",
       "      <td>15</td>\n",
       "      <td>125</td>\n",
       "      <td>52</td>\n",
       "      <td>101.3</td>\n",
       "      <td>2.19</td>\n",
       "      <td>10.0</td>\n",
       "      <td>76</td>\n",
       "      <td>98</td>\n",
       "    </tr>\n",
       "    <tr>\n",
       "      <th>15</th>\n",
       "      <td>16</td>\n",
       "      <td>114</td>\n",
       "      <td>46</td>\n",
       "      <td>94.5</td>\n",
       "      <td>1.98</td>\n",
       "      <td>7.4</td>\n",
       "      <td>69</td>\n",
       "      <td>95</td>\n",
       "    </tr>\n",
       "    <tr>\n",
       "      <th>16</th>\n",
       "      <td>17</td>\n",
       "      <td>106</td>\n",
       "      <td>46</td>\n",
       "      <td>87.0</td>\n",
       "      <td>1.87</td>\n",
       "      <td>3.6</td>\n",
       "      <td>62</td>\n",
       "      <td>18</td>\n",
       "    </tr>\n",
       "    <tr>\n",
       "      <th>17</th>\n",
       "      <td>18</td>\n",
       "      <td>113</td>\n",
       "      <td>46</td>\n",
       "      <td>94.5</td>\n",
       "      <td>1.90</td>\n",
       "      <td>4.3</td>\n",
       "      <td>70</td>\n",
       "      <td>12</td>\n",
       "    </tr>\n",
       "    <tr>\n",
       "      <th>18</th>\n",
       "      <td>19</td>\n",
       "      <td>110</td>\n",
       "      <td>48</td>\n",
       "      <td>90.5</td>\n",
       "      <td>1.88</td>\n",
       "      <td>9.0</td>\n",
       "      <td>71</td>\n",
       "      <td>99</td>\n",
       "    </tr>\n",
       "    <tr>\n",
       "      <th>19</th>\n",
       "      <td>20</td>\n",
       "      <td>122</td>\n",
       "      <td>56</td>\n",
       "      <td>95.7</td>\n",
       "      <td>2.09</td>\n",
       "      <td>7.0</td>\n",
       "      <td>75</td>\n",
       "      <td>99</td>\n",
       "    </tr>\n",
       "  </tbody>\n",
       "</table>\n",
       "</div>"
      ],
      "text/plain": [
       "    Pt   BP  Age  Weight   BSA   Dur  Pulse  Stress\n",
       "0    1  105   47    85.4  1.75   5.1     63      33\n",
       "1    2  115   49    94.2  2.10   3.8     70      14\n",
       "2    3  116   49    95.3  1.98   8.2     72      10\n",
       "3    4  117   50    94.7  2.01   5.8     73      99\n",
       "4    5  112   51    89.4  1.89   7.0     72      95\n",
       "5    6  121   48    99.5  2.25   9.3     71      10\n",
       "6    7  121   49    99.8  2.25   2.5     69      42\n",
       "7    8  110   47    90.9  1.90   6.2     66       8\n",
       "8    9  110   49    89.2  1.83   7.1     69      62\n",
       "9   10  114   48    92.7  2.07   5.6     64      35\n",
       "10  11  114   47    94.4  2.07   5.3     74      90\n",
       "11  12  115   49    94.1  1.98   5.6     71      21\n",
       "12  13  114   50    91.6  2.05  10.2     68      47\n",
       "13  14  106   45    87.1  1.92   5.6     67      80\n",
       "14  15  125   52   101.3  2.19  10.0     76      98\n",
       "15  16  114   46    94.5  1.98   7.4     69      95\n",
       "16  17  106   46    87.0  1.87   3.6     62      18\n",
       "17  18  113   46    94.5  1.90   4.3     70      12\n",
       "18  19  110   48    90.5  1.88   9.0     71      99\n",
       "19  20  122   56    95.7  2.09   7.0     75      99"
      ]
     },
     "execution_count": 5,
     "metadata": {},
     "output_type": "execute_result"
    }
   ],
   "source": [
    "df = pd.read_table(os.path.join(filedir, 'bloodpress.txt'))\n",
    "df"
   ]
  },
  {
   "cell_type": "code",
   "execution_count": 6,
   "id": "85cef881",
   "metadata": {},
   "outputs": [
    {
     "data": {
      "text/plain": [
       "<seaborn.axisgrid.PairGrid at 0x7fc04ed1e070>"
      ]
     },
     "execution_count": 6,
     "metadata": {},
     "output_type": "execute_result"
    },
    {
     "data": {
      "image/png": "[encoded data removed]",
      "text/plain": [
       "<Figure size 1260x1260 with 56 Axes>"
      ]
     },
     "metadata": {
      "needs_background": "light"
     },
     "output_type": "display_data"
    }
   ],
   "source": [
    "sns.pairplot(df.iloc[:,1:])"
   ]
  },
  {
   "cell_type": "code",
   "execution_count": 7,
   "id": "32eb3b55",
   "metadata": {},
   "outputs": [
    {
     "name": "stderr",
     "output_type": "stream",
     "text": [
      "/Users/yuehuazhuang/opt/anaconda3/lib/python3.9/site-packages/statsmodels/tsa/tsatools.py:142: FutureWarning: In a future version of pandas all arguments of concat except for the argument 'objs' will be keyword-only\n",
      "  x = pd.concat(x[::order], 1)\n"
     ]
    },
    {
     "data": {
      "text/html": [
       "<table class=\"simpletable\">\n",
       "<caption>OLS Regression Results</caption>\n",
       "<tr>\n",
       "  <th>Dep. Variable:</th>           <td>BP</td>        <th>  R-squared:         </th> <td>   0.996</td>\n",
       "</tr>\n",
       "<tr>\n",
       "  <th>Model:</th>                   <td>OLS</td>       <th>  Adj. R-squared:    </th> <td>   0.994</td>\n",
       "</tr>\n",
       "<tr>\n",
       "  <th>Method:</th>             <td>Least Squares</td>  <th>  F-statistic:       </th> <td>   560.6</td>\n",
       "</tr>\n",
       "<tr>\n",
       "  <th>Date:</th>             <td>Thu, 30 Jun 2022</td> <th>  Prob (F-statistic):</th> <td>6.40e-15</td>\n",
       "</tr>\n",
       "<tr>\n",
       "  <th>Time:</th>                 <td>15:20:37</td>     <th>  Log-Likelihood:    </th> <td> -6.1033</td>\n",
       "</tr>\n",
       "<tr>\n",
       "  <th>No. Observations:</th>      <td>    20</td>      <th>  AIC:               </th> <td>   26.21</td>\n",
       "</tr>\n",
       "<tr>\n",
       "  <th>Df Residuals:</th>          <td>    13</td>      <th>  BIC:               </th> <td>   33.18</td>\n",
       "</tr>\n",
       "<tr>\n",
       "  <th>Df Model:</th>              <td>     6</td>      <th>                     </th>     <td> </td>   \n",
       "</tr>\n",
       "<tr>\n",
       "  <th>Covariance Type:</th>      <td>nonrobust</td>    <th>                     </th>     <td> </td>   \n",
       "</tr>\n",
       "</table>\n",
       "<table class=\"simpletable\">\n",
       "<tr>\n",
       "     <td></td>       <th>coef</th>     <th>std err</th>      <th>t</th>      <th>P>|t|</th>  <th>[0.025</th>    <th>0.975]</th>  \n",
       "</tr>\n",
       "<tr>\n",
       "  <th>const</th>  <td>  -12.8705</td> <td>    2.557</td> <td>   -5.034</td> <td> 0.000</td> <td>  -18.394</td> <td>   -7.347</td>\n",
       "</tr>\n",
       "<tr>\n",
       "  <th>Age</th>    <td>    0.7033</td> <td>    0.050</td> <td>   14.177</td> <td> 0.000</td> <td>    0.596</td> <td>    0.810</td>\n",
       "</tr>\n",
       "<tr>\n",
       "  <th>Weight</th> <td>    0.9699</td> <td>    0.063</td> <td>   15.369</td> <td> 0.000</td> <td>    0.834</td> <td>    1.106</td>\n",
       "</tr>\n",
       "<tr>\n",
       "  <th>BSA</th>    <td>    3.7765</td> <td>    1.580</td> <td>    2.390</td> <td> 0.033</td> <td>    0.363</td> <td>    7.190</td>\n",
       "</tr>\n",
       "<tr>\n",
       "  <th>Dur</th>    <td>    0.0684</td> <td>    0.048</td> <td>    1.412</td> <td> 0.182</td> <td>   -0.036</td> <td>    0.173</td>\n",
       "</tr>\n",
       "<tr>\n",
       "  <th>Pulse</th>  <td>   -0.0845</td> <td>    0.052</td> <td>   -1.637</td> <td> 0.126</td> <td>   -0.196</td> <td>    0.027</td>\n",
       "</tr>\n",
       "<tr>\n",
       "  <th>Stress</th> <td>    0.0056</td> <td>    0.003</td> <td>    1.633</td> <td> 0.126</td> <td>   -0.002</td> <td>    0.013</td>\n",
       "</tr>\n",
       "</table>\n",
       "<table class=\"simpletable\">\n",
       "<tr>\n",
       "  <th>Omnibus:</th>       <td> 7.219</td> <th>  Durbin-Watson:     </th> <td>   2.249</td>\n",
       "</tr>\n",
       "<tr>\n",
       "  <th>Prob(Omnibus):</th> <td> 0.027</td> <th>  Jarque-Bera (JB):  </th> <td>   4.643</td>\n",
       "</tr>\n",
       "<tr>\n",
       "  <th>Skew:</th>          <td>-1.050</td> <th>  Prob(JB):          </th> <td>  0.0981</td>\n",
       "</tr>\n",
       "<tr>\n",
       "  <th>Kurtosis:</th>      <td> 4.076</td> <th>  Cond. No.          </th> <td>4.02e+03</td>\n",
       "</tr>\n",
       "</table><br/><br/>Notes:<br/>[1] Standard Errors assume that the covariance matrix of the errors is correctly specified.<br/>[2] The condition number is large, 4.02e+03. This might indicate that there are<br/>strong multicollinearity or other numerical problems."
      ],
      "text/plain": [
       "<class 'statsmodels.iolib.summary.Summary'>\n",
       "\"\"\"\n",
       "                            OLS Regression Results                            \n",
       "==============================================================================\n",
       "Dep. Variable:                     BP   R-squared:                       0.996\n",
       "Model:                            OLS   Adj. R-squared:                  0.994\n",
       "Method:                 Least Squares   F-statistic:                     560.6\n",
       "Date:                Thu, 30 Jun 2022   Prob (F-statistic):           6.40e-15\n",
       "Time:                        15:20:37   Log-Likelihood:                -6.1033\n",
       "No. Observations:                  20   AIC:                             26.21\n",
       "Df Residuals:                      13   BIC:                             33.18\n",
       "Df Model:                           6                                         \n",
       "Covariance Type:            nonrobust                                         \n",
       "==============================================================================\n",
       "                 coef    std err          t      P>|t|      [0.025      0.975]\n",
       "------------------------------------------------------------------------------\n",
       "const        -12.8705      2.557     -5.034      0.000     -18.394      -7.347\n",
       "Age            0.7033      0.050     14.177      0.000       0.596       0.810\n",
       "Weight         0.9699      0.063     15.369      0.000       0.834       1.106\n",
       "BSA            3.7765      1.580      2.390      0.033       0.363       7.190\n",
       "Dur            0.0684      0.048      1.412      0.182      -0.036       0.173\n",
       "Pulse         -0.0845      0.052     -1.637      0.126      -0.196       0.027\n",
       "Stress         0.0056      0.003      1.633      0.126      -0.002       0.013\n",
       "==============================================================================\n",
       "Omnibus:                        7.219   Durbin-Watson:                   2.249\n",
       "Prob(Omnibus):                  0.027   Jarque-Bera (JB):                4.643\n",
       "Skew:                          -1.050   Prob(JB):                       0.0981\n",
       "Kurtosis:                       4.076   Cond. No.                     4.02e+03\n",
       "==============================================================================\n",
       "\n",
       "Notes:\n",
       "[1] Standard Errors assume that the covariance matrix of the errors is correctly specified.\n",
       "[2] The condition number is large, 4.02e+03. This might indicate that there are\n",
       "strong multicollinearity or other numerical problems.\n",
       "\"\"\""
      ]
     },
     "execution_count": 7,
     "metadata": {},
     "output_type": "execute_result"
    }
   ],
   "source": [
    "y = df['BP']\n",
    "X = df[['Age','Weight','BSA','Dur','Pulse','Stress']]\n",
    "X = sm.add_constant(X)\n",
    "sm.OLS(y, X).fit().summary()"
   ]
  },
  {
   "cell_type": "code",
   "execution_count": 8,
   "id": "83e5d321",
   "metadata": {},
   "outputs": [],
   "source": [
    "from statsmodels.stats.outliers_influence import variance_inflation_factor"
   ]
  },
  {
   "cell_type": "code",
   "execution_count": 9,
   "id": "875684c8",
   "metadata": {},
   "outputs": [
    {
     "data": {
      "text/html": [
       "<div>\n",
       "<style scoped>\n",
       "    .dataframe tbody tr th:only-of-type {\n",
       "        vertical-align: middle;\n",
       "    }\n",
       "\n",
       "    .dataframe tbody tr th {\n",
       "        vertical-align: top;\n",
       "    }\n",
       "\n",
       "    .dataframe thead th {\n",
       "        text-align: right;\n",
       "    }\n",
       "</style>\n",
       "<table border=\"1\" class=\"dataframe\">\n",
       "  <thead>\n",
       "    <tr style=\"text-align: right;\">\n",
       "      <th></th>\n",
       "      <th>feature</th>\n",
       "      <th>VIF</th>\n",
       "    </tr>\n",
       "  </thead>\n",
       "  <tbody>\n",
       "    <tr>\n",
       "      <th>0</th>\n",
       "      <td>const</td>\n",
       "      <td>788.307692</td>\n",
       "    </tr>\n",
       "    <tr>\n",
       "      <th>1</th>\n",
       "      <td>Age</td>\n",
       "      <td>1.762807</td>\n",
       "    </tr>\n",
       "    <tr>\n",
       "      <th>2</th>\n",
       "      <td>Weight</td>\n",
       "      <td>8.417035</td>\n",
       "    </tr>\n",
       "    <tr>\n",
       "      <th>3</th>\n",
       "      <td>BSA</td>\n",
       "      <td>5.328751</td>\n",
       "    </tr>\n",
       "    <tr>\n",
       "      <th>4</th>\n",
       "      <td>Dur</td>\n",
       "      <td>1.237309</td>\n",
       "    </tr>\n",
       "    <tr>\n",
       "      <th>5</th>\n",
       "      <td>Pulse</td>\n",
       "      <td>4.413575</td>\n",
       "    </tr>\n",
       "    <tr>\n",
       "      <th>6</th>\n",
       "      <td>Stress</td>\n",
       "      <td>1.834845</td>\n",
       "    </tr>\n",
       "  </tbody>\n",
       "</table>\n",
       "</div>"
      ],
      "text/plain": [
       "  feature         VIF\n",
       "0   const  788.307692\n",
       "1     Age    1.762807\n",
       "2  Weight    8.417035\n",
       "3     BSA    5.328751\n",
       "4     Dur    1.237309\n",
       "5   Pulse    4.413575\n",
       "6  Stress    1.834845"
      ]
     },
     "execution_count": 9,
     "metadata": {},
     "output_type": "execute_result"
    }
   ],
   "source": [
    "vif_list = [variance_inflation_factor(X.values, i)\n",
    "                          for i in range(len(X.columns))]\n",
    "pd.DataFrame({\n",
    "    'feature':X.columns,\n",
    "    'VIF':vif_list\n",
    "})"
   ]
  },
  {
   "cell_type": "markdown",
   "id": "0205ff01",
   "metadata": {},
   "source": [
    "The empirical rule is VIF > 5"
   ]
  },
  {
   "cell_type": "markdown",
   "id": "c677eaed",
   "metadata": {},
   "source": [
    "#### What is Variance Inflation Factor?"
   ]
  },
  {
   "cell_type": "code",
   "execution_count": 10,
   "id": "f6eb1b9f",
   "metadata": {},
   "outputs": [
    {
     "name": "stderr",
     "output_type": "stream",
     "text": [
      "/var/folders/6p/9bzctf_57kx_d_37w01kwznh0000gn/T/ipykernel_16090/2478458847.py:3: SettingWithCopyWarning: \n",
      "A value is trying to be set on a copy of a slice from a DataFrame.\n",
      "Try using .loc[row_indexer,col_indexer] = value instead\n",
      "\n",
      "See the caveats in the documentation: https://pandas.pydata.org/pandas-docs/stable/user_guide/indexing.html#returning-a-view-versus-a-copy\n",
      "  X['const'] = 1\n"
     ]
    }
   ],
   "source": [
    "y = df['Weight']\n",
    "X = df[['Age','BSA','Dur','Pulse','Stress']]\n",
    "X['const'] = 1"
   ]
  },
  {
   "cell_type": "code",
   "execution_count": 11,
   "id": "7a6a8a0b",
   "metadata": {},
   "outputs": [
    {
     "data": {
      "text/html": [
       "<table class=\"simpletable\">\n",
       "<caption>OLS Regression Results</caption>\n",
       "<tr>\n",
       "  <th>Dep. Variable:</th>         <td>Weight</td>      <th>  R-squared:         </th> <td>   0.881</td>\n",
       "</tr>\n",
       "<tr>\n",
       "  <th>Model:</th>                   <td>OLS</td>       <th>  Adj. R-squared:    </th> <td>   0.839</td>\n",
       "</tr>\n",
       "<tr>\n",
       "  <th>Method:</th>             <td>Least Squares</td>  <th>  F-statistic:       </th> <td>   20.77</td>\n",
       "</tr>\n",
       "<tr>\n",
       "  <th>Date:</th>             <td>Thu, 30 Jun 2022</td> <th>  Prob (F-statistic):</th> <td>5.05e-06</td>\n",
       "</tr>\n",
       "<tr>\n",
       "  <th>Time:</th>                 <td>15:20:37</td>     <th>  Log-Likelihood:    </th> <td> -35.712</td>\n",
       "</tr>\n",
       "<tr>\n",
       "  <th>No. Observations:</th>      <td>    20</td>      <th>  AIC:               </th> <td>   83.42</td>\n",
       "</tr>\n",
       "<tr>\n",
       "  <th>Df Residuals:</th>          <td>    14</td>      <th>  BIC:               </th> <td>   89.40</td>\n",
       "</tr>\n",
       "<tr>\n",
       "  <th>Df Model:</th>              <td>     5</td>      <th>                     </th>     <td> </td>   \n",
       "</tr>\n",
       "<tr>\n",
       "  <th>Covariance Type:</th>      <td>nonrobust</td>    <th>                     </th>     <td> </td>   \n",
       "</tr>\n",
       "</table>\n",
       "<table class=\"simpletable\">\n",
       "<tr>\n",
       "     <td></td>       <th>coef</th>     <th>std err</th>      <th>t</th>      <th>P>|t|</th>  <th>[0.025</th>    <th>0.975]</th>  \n",
       "</tr>\n",
       "<tr>\n",
       "  <th>Age</th>    <td>   -0.1446</td> <td>    0.206</td> <td>   -0.700</td> <td> 0.495</td> <td>   -0.588</td> <td>    0.298</td>\n",
       "</tr>\n",
       "<tr>\n",
       "  <th>BSA</th>    <td>   21.4217</td> <td>    3.465</td> <td>    6.183</td> <td> 0.000</td> <td>   13.991</td> <td>   28.852</td>\n",
       "</tr>\n",
       "<tr>\n",
       "  <th>Dur</th>    <td>    0.0087</td> <td>    0.205</td> <td>    0.042</td> <td> 0.967</td> <td>   -0.431</td> <td>    0.449</td>\n",
       "</tr>\n",
       "<tr>\n",
       "  <th>Pulse</th>  <td>    0.5577</td> <td>    0.160</td> <td>    3.489</td> <td> 0.004</td> <td>    0.215</td> <td>    0.901</td>\n",
       "</tr>\n",
       "<tr>\n",
       "  <th>Stress</th> <td>   -0.0230</td> <td>    0.013</td> <td>   -1.758</td> <td> 0.101</td> <td>   -0.051</td> <td>    0.005</td>\n",
       "</tr>\n",
       "<tr>\n",
       "  <th>const</th>  <td>   19.6744</td> <td>    9.465</td> <td>    2.079</td> <td> 0.057</td> <td>   -0.625</td> <td>   39.974</td>\n",
       "</tr>\n",
       "</table>\n",
       "<table class=\"simpletable\">\n",
       "<tr>\n",
       "  <th>Omnibus:</th>       <td> 0.264</td> <th>  Durbin-Watson:     </th> <td>   1.951</td>\n",
       "</tr>\n",
       "<tr>\n",
       "  <th>Prob(Omnibus):</th> <td> 0.876</td> <th>  Jarque-Bera (JB):  </th> <td>   0.445</td>\n",
       "</tr>\n",
       "<tr>\n",
       "  <th>Skew:</th>          <td>-0.130</td> <th>  Prob(JB):          </th> <td>   0.800</td>\n",
       "</tr>\n",
       "<tr>\n",
       "  <th>Kurtosis:</th>      <td> 2.317</td> <th>  Cond. No.          </th> <td>2.53e+03</td>\n",
       "</tr>\n",
       "</table><br/><br/>Notes:<br/>[1] Standard Errors assume that the covariance matrix of the errors is correctly specified.<br/>[2] The condition number is large, 2.53e+03. This might indicate that there are<br/>strong multicollinearity or other numerical problems."
      ],
      "text/plain": [
       "<class 'statsmodels.iolib.summary.Summary'>\n",
       "\"\"\"\n",
       "                            OLS Regression Results                            \n",
       "==============================================================================\n",
       "Dep. Variable:                 Weight   R-squared:                       0.881\n",
       "Model:                            OLS   Adj. R-squared:                  0.839\n",
       "Method:                 Least Squares   F-statistic:                     20.77\n",
       "Date:                Thu, 30 Jun 2022   Prob (F-statistic):           5.05e-06\n",
       "Time:                        15:20:37   Log-Likelihood:                -35.712\n",
       "No. Observations:                  20   AIC:                             83.42\n",
       "Df Residuals:                      14   BIC:                             89.40\n",
       "Df Model:                           5                                         \n",
       "Covariance Type:            nonrobust                                         \n",
       "==============================================================================\n",
       "                 coef    std err          t      P>|t|      [0.025      0.975]\n",
       "------------------------------------------------------------------------------\n",
       "Age           -0.1446      0.206     -0.700      0.495      -0.588       0.298\n",
       "BSA           21.4217      3.465      6.183      0.000      13.991      28.852\n",
       "Dur            0.0087      0.205      0.042      0.967      -0.431       0.449\n",
       "Pulse          0.5577      0.160      3.489      0.004       0.215       0.901\n",
       "Stress        -0.0230      0.013     -1.758      0.101      -0.051       0.005\n",
       "const         19.6744      9.465      2.079      0.057      -0.625      39.974\n",
       "==============================================================================\n",
       "Omnibus:                        0.264   Durbin-Watson:                   1.951\n",
       "Prob(Omnibus):                  0.876   Jarque-Bera (JB):                0.445\n",
       "Skew:                          -0.130   Prob(JB):                        0.800\n",
       "Kurtosis:                       2.317   Cond. No.                     2.53e+03\n",
       "==============================================================================\n",
       "\n",
       "Notes:\n",
       "[1] Standard Errors assume that the covariance matrix of the errors is correctly specified.\n",
       "[2] The condition number is large, 2.53e+03. This might indicate that there are\n",
       "strong multicollinearity or other numerical problems.\n",
       "\"\"\""
      ]
     },
     "execution_count": 11,
     "metadata": {},
     "output_type": "execute_result"
    }
   ],
   "source": [
    "sm.OLS(y,X).fit().summary()"
   ]
  },
  {
   "cell_type": "markdown",
   "id": "884ff607",
   "metadata": {},
   "source": [
    "$$\n",
    "VIF_i = \\frac{1}{1-R_i^2}\n",
    "$$"
   ]
  },
  {
   "cell_type": "code",
   "execution_count": 12,
   "id": "e492f042",
   "metadata": {},
   "outputs": [
    {
     "data": {
      "text/plain": [
       "8.403361344537815"
      ]
     },
     "execution_count": 12,
     "metadata": {},
     "output_type": "execute_result"
    }
   ],
   "source": [
    "1 / (1-0.881)"
   ]
  },
  {
   "cell_type": "markdown",
   "id": "21708187",
   "metadata": {},
   "source": [
    "Pairwise correlation is not sufficient because a linear dependence may exist among three or more variables. Therefore, we can regress \"Weight\" against other variables and get R2. If the R2 is big, it means \"Weight\" can be explained by other variables, and thus has multicollinearity. "
   ]
  },
  {
   "cell_type": "markdown",
   "id": "1bb85a87",
   "metadata": {},
   "source": [
    "R2 is between 0 and 1; the linear relationship is not ideal to measure multicollinearity. For example, 0.4 R2 is half of 0.8 R2, but clearly 0.8 R2 is much more serious than twice of 0.4 R2"
   ]
  },
  {
   "cell_type": "code",
   "execution_count": 13,
   "id": "1d766725",
   "metadata": {},
   "outputs": [
    {
     "data": {
      "text/plain": [
       "[<matplotlib.lines.Line2D at 0x7fc0520d14c0>]"
      ]
     },
     "execution_count": 13,
     "metadata": {},
     "output_type": "execute_result"
    },
    {
     "data": {
      "image/png": "[encoded data removed]",
      "text/plain": [
       "<Figure size 432x288 with 1 Axes>"
      ]
     },
     "metadata": {
      "needs_background": "light"
     },
     "output_type": "display_data"
    }
   ],
   "source": [
    "from matplotlib import pyplot as plt\n",
    "X_arr = np.arange(0.01,1,0.01)\n",
    "Y_arr = 1/(1-X_arr)\n",
    "plt.plot(X_arr, Y_arr)"
   ]
  },
  {
   "cell_type": "markdown",
   "id": "2410f339",
   "metadata": {},
   "source": [
    "#### 3. Handle Data-based Multicollinearity"
   ]
  },
  {
   "cell_type": "markdown",
   "id": "03a1133a",
   "metadata": {},
   "source": [
    "Data-based multicollinearity results from a poorly designed experiment, **reliance on purely observational data**, or the inability to manipulate the system on which the data are collected."
   ]
  },
  {
   "cell_type": "markdown",
   "id": "f1892e69",
   "metadata": {},
   "source": [
    "Of course you can remove one feature to reduce multicolinearity"
   ]
  },
  {
   "cell_type": "markdown",
   "id": "65944182",
   "metadata": {},
   "source": [
    "Alternatively, collect more data! Usually we can see a weaker correlation with more data samples, if the additional data can enlarge the \"base\""
   ]
  },
  {
   "cell_type": "markdown",
   "id": "e40a6df2",
   "metadata": {},
   "source": [
    "#### 4. Handle Structural Multicollinearity"
   ]
  },
  {
   "cell_type": "markdown",
   "id": "8fb53565",
   "metadata": {},
   "source": [
    "For example, if we include $x^2$ as a predictor, it may have a strong correlation with $x$"
   ]
  },
  {
   "cell_type": "code",
   "execution_count": 14,
   "id": "b621d104",
   "metadata": {},
   "outputs": [
    {
     "data": {
      "text/html": [
       "<div>\n",
       "<style scoped>\n",
       "    .dataframe tbody tr th:only-of-type {\n",
       "        vertical-align: middle;\n",
       "    }\n",
       "\n",
       "    .dataframe tbody tr th {\n",
       "        vertical-align: top;\n",
       "    }\n",
       "\n",
       "    .dataframe thead th {\n",
       "        text-align: right;\n",
       "    }\n",
       "</style>\n",
       "<table border=\"1\" class=\"dataframe\">\n",
       "  <thead>\n",
       "    <tr style=\"text-align: right;\">\n",
       "      <th></th>\n",
       "      <th>igg</th>\n",
       "      <th>oxygen</th>\n",
       "    </tr>\n",
       "  </thead>\n",
       "  <tbody>\n",
       "    <tr>\n",
       "      <th>0</th>\n",
       "      <td>881</td>\n",
       "      <td>34.6</td>\n",
       "    </tr>\n",
       "    <tr>\n",
       "      <th>1</th>\n",
       "      <td>1290</td>\n",
       "      <td>45.0</td>\n",
       "    </tr>\n",
       "    <tr>\n",
       "      <th>2</th>\n",
       "      <td>2147</td>\n",
       "      <td>62.3</td>\n",
       "    </tr>\n",
       "    <tr>\n",
       "      <th>3</th>\n",
       "      <td>1909</td>\n",
       "      <td>58.9</td>\n",
       "    </tr>\n",
       "    <tr>\n",
       "      <th>4</th>\n",
       "      <td>1282</td>\n",
       "      <td>42.5</td>\n",
       "    </tr>\n",
       "    <tr>\n",
       "      <th>5</th>\n",
       "      <td>1530</td>\n",
       "      <td>44.3</td>\n",
       "    </tr>\n",
       "    <tr>\n",
       "      <th>6</th>\n",
       "      <td>2067</td>\n",
       "      <td>67.9</td>\n",
       "    </tr>\n",
       "    <tr>\n",
       "      <th>7</th>\n",
       "      <td>1982</td>\n",
       "      <td>58.5</td>\n",
       "    </tr>\n",
       "    <tr>\n",
       "      <th>8</th>\n",
       "      <td>1019</td>\n",
       "      <td>35.6</td>\n",
       "    </tr>\n",
       "    <tr>\n",
       "      <th>9</th>\n",
       "      <td>1651</td>\n",
       "      <td>49.6</td>\n",
       "    </tr>\n",
       "    <tr>\n",
       "      <th>10</th>\n",
       "      <td>752</td>\n",
       "      <td>33.0</td>\n",
       "    </tr>\n",
       "    <tr>\n",
       "      <th>11</th>\n",
       "      <td>1687</td>\n",
       "      <td>52.0</td>\n",
       "    </tr>\n",
       "    <tr>\n",
       "      <th>12</th>\n",
       "      <td>1782</td>\n",
       "      <td>61.4</td>\n",
       "    </tr>\n",
       "    <tr>\n",
       "      <th>13</th>\n",
       "      <td>1529</td>\n",
       "      <td>50.2</td>\n",
       "    </tr>\n",
       "    <tr>\n",
       "      <th>14</th>\n",
       "      <td>969</td>\n",
       "      <td>34.1</td>\n",
       "    </tr>\n",
       "    <tr>\n",
       "      <th>15</th>\n",
       "      <td>1660</td>\n",
       "      <td>52.5</td>\n",
       "    </tr>\n",
       "    <tr>\n",
       "      <th>16</th>\n",
       "      <td>2121</td>\n",
       "      <td>69.9</td>\n",
       "    </tr>\n",
       "    <tr>\n",
       "      <th>17</th>\n",
       "      <td>1382</td>\n",
       "      <td>38.8</td>\n",
       "    </tr>\n",
       "    <tr>\n",
       "      <th>18</th>\n",
       "      <td>1714</td>\n",
       "      <td>50.6</td>\n",
       "    </tr>\n",
       "    <tr>\n",
       "      <th>19</th>\n",
       "      <td>1959</td>\n",
       "      <td>69.4</td>\n",
       "    </tr>\n",
       "    <tr>\n",
       "      <th>20</th>\n",
       "      <td>1158</td>\n",
       "      <td>37.4</td>\n",
       "    </tr>\n",
       "    <tr>\n",
       "      <th>21</th>\n",
       "      <td>965</td>\n",
       "      <td>35.1</td>\n",
       "    </tr>\n",
       "    <tr>\n",
       "      <th>22</th>\n",
       "      <td>1456</td>\n",
       "      <td>43.0</td>\n",
       "    </tr>\n",
       "    <tr>\n",
       "      <th>23</th>\n",
       "      <td>1273</td>\n",
       "      <td>44.1</td>\n",
       "    </tr>\n",
       "    <tr>\n",
       "      <th>24</th>\n",
       "      <td>1418</td>\n",
       "      <td>49.8</td>\n",
       "    </tr>\n",
       "    <tr>\n",
       "      <th>25</th>\n",
       "      <td>1743</td>\n",
       "      <td>54.4</td>\n",
       "    </tr>\n",
       "    <tr>\n",
       "      <th>26</th>\n",
       "      <td>1997</td>\n",
       "      <td>68.5</td>\n",
       "    </tr>\n",
       "    <tr>\n",
       "      <th>27</th>\n",
       "      <td>2177</td>\n",
       "      <td>69.5</td>\n",
       "    </tr>\n",
       "    <tr>\n",
       "      <th>28</th>\n",
       "      <td>1965</td>\n",
       "      <td>63.0</td>\n",
       "    </tr>\n",
       "    <tr>\n",
       "      <th>29</th>\n",
       "      <td>1264</td>\n",
       "      <td>43.2</td>\n",
       "    </tr>\n",
       "  </tbody>\n",
       "</table>\n",
       "</div>"
      ],
      "text/plain": [
       "     igg  oxygen\n",
       "0    881    34.6\n",
       "1   1290    45.0\n",
       "2   2147    62.3\n",
       "3   1909    58.9\n",
       "4   1282    42.5\n",
       "5   1530    44.3\n",
       "6   2067    67.9\n",
       "7   1982    58.5\n",
       "8   1019    35.6\n",
       "9   1651    49.6\n",
       "10   752    33.0\n",
       "11  1687    52.0\n",
       "12  1782    61.4\n",
       "13  1529    50.2\n",
       "14   969    34.1\n",
       "15  1660    52.5\n",
       "16  2121    69.9\n",
       "17  1382    38.8\n",
       "18  1714    50.6\n",
       "19  1959    69.4\n",
       "20  1158    37.4\n",
       "21   965    35.1\n",
       "22  1456    43.0\n",
       "23  1273    44.1\n",
       "24  1418    49.8\n",
       "25  1743    54.4\n",
       "26  1997    68.5\n",
       "27  2177    69.5\n",
       "28  1965    63.0\n",
       "29  1264    43.2"
      ]
     },
     "execution_count": 14,
     "metadata": {},
     "output_type": "execute_result"
    }
   ],
   "source": [
    "df = pd.read_table(os.path.join(filedir, 'exerimmun.txt'))\n",
    "df"
   ]
  },
  {
   "cell_type": "code",
   "execution_count": 15,
   "id": "8973c38e",
   "metadata": {},
   "outputs": [],
   "source": [
    "df['oxygen2'] = np.power(df['oxygen'], 2)\n",
    "df['const'] = 1"
   ]
  },
  {
   "cell_type": "code",
   "execution_count": 16,
   "id": "5ecc912f",
   "metadata": {},
   "outputs": [
    {
     "data": {
      "text/html": [
       "<table class=\"simpletable\">\n",
       "<caption>OLS Regression Results</caption>\n",
       "<tr>\n",
       "  <th>Dep. Variable:</th>           <td>igg</td>       <th>  R-squared:         </th> <td>   0.938</td>\n",
       "</tr>\n",
       "<tr>\n",
       "  <th>Model:</th>                   <td>OLS</td>       <th>  Adj. R-squared:    </th> <td>   0.933</td>\n",
       "</tr>\n",
       "<tr>\n",
       "  <th>Method:</th>             <td>Least Squares</td>  <th>  F-statistic:       </th> <td>   203.2</td>\n",
       "</tr>\n",
       "<tr>\n",
       "  <th>Date:</th>             <td>Thu, 30 Jun 2022</td> <th>  Prob (F-statistic):</th> <td>5.33e-17</td>\n",
       "</tr>\n",
       "<tr>\n",
       "  <th>Time:</th>                 <td>15:20:37</td>     <th>  Log-Likelihood:    </th> <td> -181.01</td>\n",
       "</tr>\n",
       "<tr>\n",
       "  <th>No. Observations:</th>      <td>    30</td>      <th>  AIC:               </th> <td>   368.0</td>\n",
       "</tr>\n",
       "<tr>\n",
       "  <th>Df Residuals:</th>          <td>    27</td>      <th>  BIC:               </th> <td>   372.2</td>\n",
       "</tr>\n",
       "<tr>\n",
       "  <th>Df Model:</th>              <td>     2</td>      <th>                     </th>     <td> </td>   \n",
       "</tr>\n",
       "<tr>\n",
       "  <th>Covariance Type:</th>      <td>nonrobust</td>    <th>                     </th>     <td> </td>   \n",
       "</tr>\n",
       "</table>\n",
       "<table class=\"simpletable\">\n",
       "<tr>\n",
       "     <td></td>        <th>coef</th>     <th>std err</th>      <th>t</th>      <th>P>|t|</th>  <th>[0.025</th>    <th>0.975]</th>  \n",
       "</tr>\n",
       "<tr>\n",
       "  <th>const</th>   <td>-1464.4042</td> <td>  411.401</td> <td>   -3.560</td> <td> 0.001</td> <td>-2308.530</td> <td> -620.279</td>\n",
       "</tr>\n",
       "<tr>\n",
       "  <th>oxygen</th>  <td>   88.3071</td> <td>   16.474</td> <td>    5.361</td> <td> 0.000</td> <td>   54.506</td> <td>  122.108</td>\n",
       "</tr>\n",
       "<tr>\n",
       "  <th>oxygen2</th> <td>   -0.5362</td> <td>    0.158</td> <td>   -3.390</td> <td> 0.002</td> <td>   -0.861</td> <td>   -0.212</td>\n",
       "</tr>\n",
       "</table>\n",
       "<table class=\"simpletable\">\n",
       "<tr>\n",
       "  <th>Omnibus:</th>       <td> 0.512</td> <th>  Durbin-Watson:     </th> <td>   1.984</td>\n",
       "</tr>\n",
       "<tr>\n",
       "  <th>Prob(Omnibus):</th> <td> 0.774</td> <th>  Jarque-Bera (JB):  </th> <td>   0.636</td>\n",
       "</tr>\n",
       "<tr>\n",
       "  <th>Skew:</th>          <td> 0.228</td> <th>  Prob(JB):          </th> <td>   0.728</td>\n",
       "</tr>\n",
       "<tr>\n",
       "  <th>Kurtosis:</th>      <td> 2.452</td> <th>  Cond. No.          </th> <td>6.29e+04</td>\n",
       "</tr>\n",
       "</table><br/><br/>Notes:<br/>[1] Standard Errors assume that the covariance matrix of the errors is correctly specified.<br/>[2] The condition number is large, 6.29e+04. This might indicate that there are<br/>strong multicollinearity or other numerical problems."
      ],
      "text/plain": [
       "<class 'statsmodels.iolib.summary.Summary'>\n",
       "\"\"\"\n",
       "                            OLS Regression Results                            \n",
       "==============================================================================\n",
       "Dep. Variable:                    igg   R-squared:                       0.938\n",
       "Model:                            OLS   Adj. R-squared:                  0.933\n",
       "Method:                 Least Squares   F-statistic:                     203.2\n",
       "Date:                Thu, 30 Jun 2022   Prob (F-statistic):           5.33e-17\n",
       "Time:                        15:20:37   Log-Likelihood:                -181.01\n",
       "No. Observations:                  30   AIC:                             368.0\n",
       "Df Residuals:                      27   BIC:                             372.2\n",
       "Df Model:                           2                                         \n",
       "Covariance Type:            nonrobust                                         \n",
       "==============================================================================\n",
       "                 coef    std err          t      P>|t|      [0.025      0.975]\n",
       "------------------------------------------------------------------------------\n",
       "const      -1464.4042    411.401     -3.560      0.001   -2308.530    -620.279\n",
       "oxygen        88.3071     16.474      5.361      0.000      54.506     122.108\n",
       "oxygen2       -0.5362      0.158     -3.390      0.002      -0.861      -0.212\n",
       "==============================================================================\n",
       "Omnibus:                        0.512   Durbin-Watson:                   1.984\n",
       "Prob(Omnibus):                  0.774   Jarque-Bera (JB):                0.636\n",
       "Skew:                           0.228   Prob(JB):                        0.728\n",
       "Kurtosis:                       2.452   Cond. No.                     6.29e+04\n",
       "==============================================================================\n",
       "\n",
       "Notes:\n",
       "[1] Standard Errors assume that the covariance matrix of the errors is correctly specified.\n",
       "[2] The condition number is large, 6.29e+04. This might indicate that there are\n",
       "strong multicollinearity or other numerical problems.\n",
       "\"\"\""
      ]
     },
     "execution_count": 16,
     "metadata": {},
     "output_type": "execute_result"
    }
   ],
   "source": [
    "sm.OLS(df['igg'],df[['const','oxygen','oxygen2']]).fit().summary()"
   ]
  },
  {
   "cell_type": "code",
   "execution_count": 17,
   "id": "61f68843",
   "metadata": {},
   "outputs": [],
   "source": [
    "X = df[['const','oxygen','oxygen2']]\n",
    "vif_list = [variance_inflation_factor(X.values, i)\n",
    "                          for i in range(len(X.columns))]"
   ]
  },
  {
   "cell_type": "code",
   "execution_count": 18,
   "id": "55904fc8",
   "metadata": {},
   "outputs": [
    {
     "data": {
      "text/plain": [
       "[448.2833664859298, 99.94261307344864, 99.94261307344864]"
      ]
     },
     "execution_count": 18,
     "metadata": {},
     "output_type": "execute_result"
    }
   ],
   "source": [
    "vif_list"
   ]
  },
  {
   "cell_type": "code",
   "execution_count": 19,
   "id": "3cc4a001",
   "metadata": {},
   "outputs": [
    {
     "data": {
      "text/plain": [
       "<matplotlib.collections.PathCollection at 0x7fc0521956d0>"
      ]
     },
     "execution_count": 19,
     "metadata": {},
     "output_type": "execute_result"
    },
    {
     "data": {
      "image/png": "[encoded data removed]",
      "text/plain": [
       "<Figure size 432x288 with 1 Axes>"
      ]
     },
     "metadata": {
      "needs_background": "light"
     },
     "output_type": "display_data"
    }
   ],
   "source": [
    "plt.scatter(df['oxygen'], df['oxygen2'])"
   ]
  },
  {
   "cell_type": "markdown",
   "id": "8e5e9d97",
   "metadata": {},
   "source": [
    "It shows a linear relationship between oxygen and oxygen squared."
   ]
  },
  {
   "cell_type": "markdown",
   "id": "acfa233a",
   "metadata": {},
   "source": [
    "The solution is to \"center the predictors\""
   ]
  },
  {
   "cell_type": "code",
   "execution_count": 20,
   "id": "5136879f",
   "metadata": {},
   "outputs": [],
   "source": [
    "oxygen_mean = df['oxygen'].mean()\n",
    "df['oxygen_centered'] = df['oxygen'] - oxygen_mean\n",
    "df['oxygen2_centered'] = np.power(df['oxygen_centered'], 2)"
   ]
  },
  {
   "cell_type": "markdown",
   "id": "e34a9e9d",
   "metadata": {},
   "source": [
    "#### Result: R2 doesn't change, but VIF gets reduced, t increased"
   ]
  },
  {
   "cell_type": "code",
   "execution_count": 21,
   "id": "77e785b4",
   "metadata": {},
   "outputs": [
    {
     "data": {
      "text/html": [
       "<table class=\"simpletable\">\n",
       "<caption>OLS Regression Results</caption>\n",
       "<tr>\n",
       "  <th>Dep. Variable:</th>           <td>igg</td>       <th>  R-squared:         </th> <td>   0.938</td>\n",
       "</tr>\n",
       "<tr>\n",
       "  <th>Model:</th>                   <td>OLS</td>       <th>  Adj. R-squared:    </th> <td>   0.933</td>\n",
       "</tr>\n",
       "<tr>\n",
       "  <th>Method:</th>             <td>Least Squares</td>  <th>  F-statistic:       </th> <td>   203.2</td>\n",
       "</tr>\n",
       "<tr>\n",
       "  <th>Date:</th>             <td>Thu, 30 Jun 2022</td> <th>  Prob (F-statistic):</th> <td>5.33e-17</td>\n",
       "</tr>\n",
       "<tr>\n",
       "  <th>Time:</th>                 <td>15:20:38</td>     <th>  Log-Likelihood:    </th> <td> -181.01</td>\n",
       "</tr>\n",
       "<tr>\n",
       "  <th>No. Observations:</th>      <td>    30</td>      <th>  AIC:               </th> <td>   368.0</td>\n",
       "</tr>\n",
       "<tr>\n",
       "  <th>Df Residuals:</th>          <td>    27</td>      <th>  BIC:               </th> <td>   372.2</td>\n",
       "</tr>\n",
       "<tr>\n",
       "  <th>Df Model:</th>              <td>     2</td>      <th>                     </th>     <td> </td>   \n",
       "</tr>\n",
       "<tr>\n",
       "  <th>Covariance Type:</th>      <td>nonrobust</td>    <th>                     </th>     <td> </td>   \n",
       "</tr>\n",
       "</table>\n",
       "<table class=\"simpletable\">\n",
       "<tr>\n",
       "          <td></td>            <th>coef</th>     <th>std err</th>      <th>t</th>      <th>P>|t|</th>  <th>[0.025</th>    <th>0.975]</th>  \n",
       "</tr>\n",
       "<tr>\n",
       "  <th>const</th>            <td> 1632.1962</td> <td>   29.349</td> <td>   55.614</td> <td> 0.000</td> <td> 1571.978</td> <td> 1692.415</td>\n",
       "</tr>\n",
       "<tr>\n",
       "  <th>oxygen_centered</th>  <td>   33.9995</td> <td>    1.689</td> <td>   20.130</td> <td> 0.000</td> <td>   30.534</td> <td>   37.465</td>\n",
       "</tr>\n",
       "<tr>\n",
       "  <th>oxygen2_centered</th> <td>   -0.5362</td> <td>    0.158</td> <td>   -3.390</td> <td> 0.002</td> <td>   -0.861</td> <td>   -0.212</td>\n",
       "</tr>\n",
       "</table>\n",
       "<table class=\"simpletable\">\n",
       "<tr>\n",
       "  <th>Omnibus:</th>       <td> 0.512</td> <th>  Durbin-Watson:     </th> <td>   1.984</td>\n",
       "</tr>\n",
       "<tr>\n",
       "  <th>Prob(Omnibus):</th> <td> 0.774</td> <th>  Jarque-Bera (JB):  </th> <td>   0.636</td>\n",
       "</tr>\n",
       "<tr>\n",
       "  <th>Skew:</th>          <td> 0.228</td> <th>  Prob(JB):          </th> <td>   0.728</td>\n",
       "</tr>\n",
       "<tr>\n",
       "  <th>Kurtosis:</th>      <td> 2.452</td> <th>  Cond. No.          </th> <td>    283.</td>\n",
       "</tr>\n",
       "</table><br/><br/>Notes:<br/>[1] Standard Errors assume that the covariance matrix of the errors is correctly specified."
      ],
      "text/plain": [
       "<class 'statsmodels.iolib.summary.Summary'>\n",
       "\"\"\"\n",
       "                            OLS Regression Results                            \n",
       "==============================================================================\n",
       "Dep. Variable:                    igg   R-squared:                       0.938\n",
       "Model:                            OLS   Adj. R-squared:                  0.933\n",
       "Method:                 Least Squares   F-statistic:                     203.2\n",
       "Date:                Thu, 30 Jun 2022   Prob (F-statistic):           5.33e-17\n",
       "Time:                        15:20:38   Log-Likelihood:                -181.01\n",
       "No. Observations:                  30   AIC:                             368.0\n",
       "Df Residuals:                      27   BIC:                             372.2\n",
       "Df Model:                           2                                         \n",
       "Covariance Type:            nonrobust                                         \n",
       "====================================================================================\n",
       "                       coef    std err          t      P>|t|      [0.025      0.975]\n",
       "------------------------------------------------------------------------------------\n",
       "const             1632.1962     29.349     55.614      0.000    1571.978    1692.415\n",
       "oxygen_centered     33.9995      1.689     20.130      0.000      30.534      37.465\n",
       "oxygen2_centered    -0.5362      0.158     -3.390      0.002      -0.861      -0.212\n",
       "==============================================================================\n",
       "Omnibus:                        0.512   Durbin-Watson:                   1.984\n",
       "Prob(Omnibus):                  0.774   Jarque-Bera (JB):                0.636\n",
       "Skew:                           0.228   Prob(JB):                        0.728\n",
       "Kurtosis:                       2.452   Cond. No.                         283.\n",
       "==============================================================================\n",
       "\n",
       "Notes:\n",
       "[1] Standard Errors assume that the covariance matrix of the errors is correctly specified.\n",
       "\"\"\""
      ]
     },
     "execution_count": 21,
     "metadata": {},
     "output_type": "execute_result"
    }
   ],
   "source": [
    "sm.OLS(df['igg'],df[['const','oxygen_centered','oxygen2_centered']]).fit().summary()"
   ]
  },
  {
   "cell_type": "code",
   "execution_count": 22,
   "id": "1b7ae25c",
   "metadata": {},
   "outputs": [
    {
     "data": {
      "text/plain": [
       "[2.2813772871837084, 1.050627752640113, 1.050627752640113]"
      ]
     },
     "execution_count": 22,
     "metadata": {},
     "output_type": "execute_result"
    }
   ],
   "source": [
    "X = df[['const','oxygen_centered','oxygen2_centered']]\n",
    "vif_list = [variance_inflation_factor(X.values, i)\n",
    "                          for i in range(len(X.columns))]\n",
    "vif_list"
   ]
  }
 ],
 "metadata": {
  "kernelspec": {
   "display_name": "Python 3 (ipykernel)",
   "language": "python",
   "name": "python3"
  },
  "language_info": {
   "codemirror_mode": {
    "name": "ipython",
    "version": 3
   },
   "file_extension": ".py",
   "mimetype": "text/x-python",
   "name": "python",
   "nbconvert_exporter": "python",
   "pygments_lexer": "ipython3",
   "version": "3.9.7"
  }
 },
 "nbformat": 4,
 "nbformat_minor": 5
}
