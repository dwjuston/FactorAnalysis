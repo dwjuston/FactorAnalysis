{
 "cells": [
  {
   "cell_type": "markdown",
   "id": "7762ac39",
   "metadata": {},
   "source": [
    "#### https://online.stat.psu.edu/stat501/lesson/6"
   ]
  },
  {
   "cell_type": "markdown",
   "id": "08ae8a29",
   "metadata": {},
   "source": [
    "#### We will focus on \"general linear F-test\" and \"sequential sums of squares\""
   ]
  },
  {
   "cell_type": "markdown",
   "id": "1f288caa",
   "metadata": {},
   "source": [
    "Heart attacks in Rabbits: when heart muscle is deprived of oxygen, the tissue dies and leads to a heart attack. Cooling the heart reduces the size of the heart attack. It is not known whether cooling is only effective if it takes place **before** the blood flow to the heart becomes restricted."
   ]
  },
  {
   "cell_type": "markdown",
   "id": "795ae9b9",
   "metadata": {},
   "source": [
    "To investigate it, we conduct an experiment on 32 rabbits that were subjected to a heart attack. There are 3 experimental groups: early cooling, late cooling, no cooling"
   ]
  },
  {
   "cell_type": "markdown",
   "id": "c1c0a86f",
   "metadata": {},
   "source": [
    "The researchers measureed the size of damaged (infarcted) area; also note down the size of hearts"
   ]
  },
  {
   "cell_type": "code",
   "execution_count": 1,
   "id": "958566f6",
   "metadata": {},
   "outputs": [
    {
     "data": {
      "text/plain": [
       "['allentest.txt',\n",
       " '.DS_Store',\n",
       " 'coolhearts.txt',\n",
       " 'alcoholarm.txt',\n",
       " 'Physical.txt',\n",
       " 'iqsize.txt',\n",
       " 'cooling_setting.png',\n",
       " 'peru.txt',\n",
       " 'sugarbeets_new.txt',\n",
       " 'cooling_setting_explain.png']"
      ]
     },
     "execution_count": 1,
     "metadata": {},
     "output_type": "execute_result"
    }
   ],
   "source": [
    "import os\n",
    "import statsmodels.api as sm\n",
    "import pandas as pd\n",
    "import numpy as np\n",
    "import seaborn as sns\n",
    "from IPython.display import Image\n",
    "from statsmodels.formula.api import ols\n",
    "import scipy.stats\n",
    "from matplotlib import pyplot as plt\n",
    "filedir = 'STAT501_Lesson06'\n",
    "os.listdir(filedir)"
   ]
  },
  {
   "cell_type": "code",
   "execution_count": 2,
   "id": "a97706bf",
   "metadata": {},
   "outputs": [
    {
     "data": {
      "text/html": [
       "<div>\n",
       "<style scoped>\n",
       "    .dataframe tbody tr th:only-of-type {\n",
       "        vertical-align: middle;\n",
       "    }\n",
       "\n",
       "    .dataframe tbody tr th {\n",
       "        vertical-align: top;\n",
       "    }\n",
       "\n",
       "    .dataframe thead th {\n",
       "        text-align: right;\n",
       "    }\n",
       "</style>\n",
       "<table border=\"1\" class=\"dataframe\">\n",
       "  <thead>\n",
       "    <tr style=\"text-align: right;\">\n",
       "      <th></th>\n",
       "      <th>Inf</th>\n",
       "      <th>Area</th>\n",
       "      <th>Group</th>\n",
       "      <th>X2</th>\n",
       "      <th>X3</th>\n",
       "    </tr>\n",
       "  </thead>\n",
       "  <tbody>\n",
       "    <tr>\n",
       "      <th>0</th>\n",
       "      <td>0.119</td>\n",
       "      <td>0.34</td>\n",
       "      <td>3</td>\n",
       "      <td>0</td>\n",
       "      <td>0</td>\n",
       "    </tr>\n",
       "    <tr>\n",
       "      <th>1</th>\n",
       "      <td>0.190</td>\n",
       "      <td>0.64</td>\n",
       "      <td>3</td>\n",
       "      <td>0</td>\n",
       "      <td>0</td>\n",
       "    </tr>\n",
       "    <tr>\n",
       "      <th>2</th>\n",
       "      <td>0.395</td>\n",
       "      <td>0.76</td>\n",
       "      <td>3</td>\n",
       "      <td>0</td>\n",
       "      <td>0</td>\n",
       "    </tr>\n",
       "    <tr>\n",
       "      <th>3</th>\n",
       "      <td>0.469</td>\n",
       "      <td>0.83</td>\n",
       "      <td>3</td>\n",
       "      <td>0</td>\n",
       "      <td>0</td>\n",
       "    </tr>\n",
       "    <tr>\n",
       "      <th>4</th>\n",
       "      <td>0.130</td>\n",
       "      <td>0.73</td>\n",
       "      <td>3</td>\n",
       "      <td>0</td>\n",
       "      <td>0</td>\n",
       "    </tr>\n",
       "    <tr>\n",
       "      <th>5</th>\n",
       "      <td>0.311</td>\n",
       "      <td>0.82</td>\n",
       "      <td>3</td>\n",
       "      <td>0</td>\n",
       "      <td>0</td>\n",
       "    </tr>\n",
       "    <tr>\n",
       "      <th>6</th>\n",
       "      <td>0.418</td>\n",
       "      <td>0.95</td>\n",
       "      <td>3</td>\n",
       "      <td>0</td>\n",
       "      <td>0</td>\n",
       "    </tr>\n",
       "    <tr>\n",
       "      <th>7</th>\n",
       "      <td>0.480</td>\n",
       "      <td>1.06</td>\n",
       "      <td>3</td>\n",
       "      <td>0</td>\n",
       "      <td>0</td>\n",
       "    </tr>\n",
       "    <tr>\n",
       "      <th>8</th>\n",
       "      <td>0.687</td>\n",
       "      <td>1.20</td>\n",
       "      <td>3</td>\n",
       "      <td>0</td>\n",
       "      <td>0</td>\n",
       "    </tr>\n",
       "    <tr>\n",
       "      <th>9</th>\n",
       "      <td>0.847</td>\n",
       "      <td>1.47</td>\n",
       "      <td>3</td>\n",
       "      <td>0</td>\n",
       "      <td>0</td>\n",
       "    </tr>\n",
       "    <tr>\n",
       "      <th>10</th>\n",
       "      <td>0.062</td>\n",
       "      <td>0.44</td>\n",
       "      <td>1</td>\n",
       "      <td>1</td>\n",
       "      <td>0</td>\n",
       "    </tr>\n",
       "    <tr>\n",
       "      <th>11</th>\n",
       "      <td>0.122</td>\n",
       "      <td>0.77</td>\n",
       "      <td>1</td>\n",
       "      <td>1</td>\n",
       "      <td>0</td>\n",
       "    </tr>\n",
       "    <tr>\n",
       "      <th>12</th>\n",
       "      <td>0.033</td>\n",
       "      <td>0.90</td>\n",
       "      <td>1</td>\n",
       "      <td>1</td>\n",
       "      <td>0</td>\n",
       "    </tr>\n",
       "    <tr>\n",
       "      <th>13</th>\n",
       "      <td>0.102</td>\n",
       "      <td>1.07</td>\n",
       "      <td>1</td>\n",
       "      <td>1</td>\n",
       "      <td>0</td>\n",
       "    </tr>\n",
       "    <tr>\n",
       "      <th>14</th>\n",
       "      <td>0.206</td>\n",
       "      <td>1.01</td>\n",
       "      <td>1</td>\n",
       "      <td>1</td>\n",
       "      <td>0</td>\n",
       "    </tr>\n",
       "    <tr>\n",
       "      <th>15</th>\n",
       "      <td>0.249</td>\n",
       "      <td>1.03</td>\n",
       "      <td>1</td>\n",
       "      <td>1</td>\n",
       "      <td>0</td>\n",
       "    </tr>\n",
       "    <tr>\n",
       "      <th>16</th>\n",
       "      <td>0.220</td>\n",
       "      <td>1.16</td>\n",
       "      <td>1</td>\n",
       "      <td>1</td>\n",
       "      <td>0</td>\n",
       "    </tr>\n",
       "    <tr>\n",
       "      <th>17</th>\n",
       "      <td>0.299</td>\n",
       "      <td>1.21</td>\n",
       "      <td>1</td>\n",
       "      <td>1</td>\n",
       "      <td>0</td>\n",
       "    </tr>\n",
       "    <tr>\n",
       "      <th>18</th>\n",
       "      <td>0.350</td>\n",
       "      <td>1.20</td>\n",
       "      <td>1</td>\n",
       "      <td>1</td>\n",
       "      <td>0</td>\n",
       "    </tr>\n",
       "    <tr>\n",
       "      <th>19</th>\n",
       "      <td>0.350</td>\n",
       "      <td>1.22</td>\n",
       "      <td>1</td>\n",
       "      <td>1</td>\n",
       "      <td>0</td>\n",
       "    </tr>\n",
       "    <tr>\n",
       "      <th>20</th>\n",
       "      <td>0.588</td>\n",
       "      <td>0.99</td>\n",
       "      <td>1</td>\n",
       "      <td>1</td>\n",
       "      <td>0</td>\n",
       "    </tr>\n",
       "    <tr>\n",
       "      <th>21</th>\n",
       "      <td>0.379</td>\n",
       "      <td>0.77</td>\n",
       "      <td>2</td>\n",
       "      <td>0</td>\n",
       "      <td>1</td>\n",
       "    </tr>\n",
       "    <tr>\n",
       "      <th>22</th>\n",
       "      <td>0.149</td>\n",
       "      <td>1.05</td>\n",
       "      <td>2</td>\n",
       "      <td>0</td>\n",
       "      <td>1</td>\n",
       "    </tr>\n",
       "    <tr>\n",
       "      <th>23</th>\n",
       "      <td>0.316</td>\n",
       "      <td>1.06</td>\n",
       "      <td>2</td>\n",
       "      <td>0</td>\n",
       "      <td>1</td>\n",
       "    </tr>\n",
       "    <tr>\n",
       "      <th>24</th>\n",
       "      <td>0.390</td>\n",
       "      <td>1.02</td>\n",
       "      <td>2</td>\n",
       "      <td>0</td>\n",
       "      <td>1</td>\n",
       "    </tr>\n",
       "    <tr>\n",
       "      <th>25</th>\n",
       "      <td>0.429</td>\n",
       "      <td>0.99</td>\n",
       "      <td>2</td>\n",
       "      <td>0</td>\n",
       "      <td>1</td>\n",
       "    </tr>\n",
       "    <tr>\n",
       "      <th>26</th>\n",
       "      <td>0.477</td>\n",
       "      <td>0.97</td>\n",
       "      <td>2</td>\n",
       "      <td>0</td>\n",
       "      <td>1</td>\n",
       "    </tr>\n",
       "    <tr>\n",
       "      <th>27</th>\n",
       "      <td>0.439</td>\n",
       "      <td>1.12</td>\n",
       "      <td>2</td>\n",
       "      <td>0</td>\n",
       "      <td>1</td>\n",
       "    </tr>\n",
       "    <tr>\n",
       "      <th>28</th>\n",
       "      <td>0.446</td>\n",
       "      <td>1.23</td>\n",
       "      <td>2</td>\n",
       "      <td>0</td>\n",
       "      <td>1</td>\n",
       "    </tr>\n",
       "    <tr>\n",
       "      <th>29</th>\n",
       "      <td>0.538</td>\n",
       "      <td>1.19</td>\n",
       "      <td>2</td>\n",
       "      <td>0</td>\n",
       "      <td>1</td>\n",
       "    </tr>\n",
       "    <tr>\n",
       "      <th>30</th>\n",
       "      <td>0.625</td>\n",
       "      <td>1.22</td>\n",
       "      <td>2</td>\n",
       "      <td>0</td>\n",
       "      <td>1</td>\n",
       "    </tr>\n",
       "    <tr>\n",
       "      <th>31</th>\n",
       "      <td>0.974</td>\n",
       "      <td>1.40</td>\n",
       "      <td>2</td>\n",
       "      <td>0</td>\n",
       "      <td>1</td>\n",
       "    </tr>\n",
       "  </tbody>\n",
       "</table>\n",
       "</div>"
      ],
      "text/plain": [
       "      Inf  Area  Group  X2  X3\n",
       "0   0.119  0.34      3   0   0\n",
       "1   0.190  0.64      3   0   0\n",
       "2   0.395  0.76      3   0   0\n",
       "3   0.469  0.83      3   0   0\n",
       "4   0.130  0.73      3   0   0\n",
       "5   0.311  0.82      3   0   0\n",
       "6   0.418  0.95      3   0   0\n",
       "7   0.480  1.06      3   0   0\n",
       "8   0.687  1.20      3   0   0\n",
       "9   0.847  1.47      3   0   0\n",
       "10  0.062  0.44      1   1   0\n",
       "11  0.122  0.77      1   1   0\n",
       "12  0.033  0.90      1   1   0\n",
       "13  0.102  1.07      1   1   0\n",
       "14  0.206  1.01      1   1   0\n",
       "15  0.249  1.03      1   1   0\n",
       "16  0.220  1.16      1   1   0\n",
       "17  0.299  1.21      1   1   0\n",
       "18  0.350  1.20      1   1   0\n",
       "19  0.350  1.22      1   1   0\n",
       "20  0.588  0.99      1   1   0\n",
       "21  0.379  0.77      2   0   1\n",
       "22  0.149  1.05      2   0   1\n",
       "23  0.316  1.06      2   0   1\n",
       "24  0.390  1.02      2   0   1\n",
       "25  0.429  0.99      2   0   1\n",
       "26  0.477  0.97      2   0   1\n",
       "27  0.439  1.12      2   0   1\n",
       "28  0.446  1.23      2   0   1\n",
       "29  0.538  1.19      2   0   1\n",
       "30  0.625  1.22      2   0   1\n",
       "31  0.974  1.40      2   0   1"
      ]
     },
     "execution_count": 2,
     "metadata": {},
     "output_type": "execute_result"
    }
   ],
   "source": [
    "df = pd.read_table(os.path.join(filedir, 'coolhearts.txt'))\n",
    "df"
   ]
  },
  {
   "cell_type": "code",
   "execution_count": 3,
   "id": "a22f9097",
   "metadata": {},
   "outputs": [
    {
     "data": {
      "text/html": [
       "<img src=\"STAT501_Lesson06/cooling_setting.png\" width=\"600\" height=\"600\"/>"
      ],
      "text/plain": [
       "<IPython.core.display.Image object>"
      ]
     },
     "execution_count": 3,
     "metadata": {},
     "output_type": "execute_result"
    }
   ],
   "source": [
    "Image(url=os.path.join(filedir, \"cooling_setting.png\"), width=600, height=600)"
   ]
  },
  {
   "cell_type": "code",
   "execution_count": 4,
   "id": "ed352678",
   "metadata": {},
   "outputs": [
    {
     "data": {
      "text/html": [
       "<img src=\"STAT501_Lesson06/cooling_setting_explain.png\" width=\"600\" height=\"600\"/>"
      ],
      "text/plain": [
       "<IPython.core.display.Image object>"
      ]
     },
     "execution_count": 4,
     "metadata": {},
     "output_type": "execute_result"
    }
   ],
   "source": [
    "Image(url=os.path.join(filedir, \"cooling_setting_explain.png\"), width=600, height=600)"
   ]
  },
  {
   "cell_type": "code",
   "execution_count": 5,
   "id": "a27d80b6",
   "metadata": {},
   "outputs": [
    {
     "name": "stderr",
     "output_type": "stream",
     "text": [
      "/Users/yuehuazhuang/opt/anaconda3/lib/python3.9/site-packages/statsmodels/tsa/tsatools.py:142: FutureWarning: In a future version of pandas all arguments of concat except for the argument 'objs' will be keyword-only\n",
      "  x = pd.concat(x[::order], 1)\n"
     ]
    },
    {
     "data": {
      "text/html": [
       "<table class=\"simpletable\">\n",
       "<caption>OLS Regression Results</caption>\n",
       "<tr>\n",
       "  <th>Dep. Variable:</th>           <td>Inf</td>       <th>  R-squared:         </th> <td>   0.638</td>\n",
       "</tr>\n",
       "<tr>\n",
       "  <th>Model:</th>                   <td>OLS</td>       <th>  Adj. R-squared:    </th> <td>   0.599</td>\n",
       "</tr>\n",
       "<tr>\n",
       "  <th>Method:</th>             <td>Least Squares</td>  <th>  F-statistic:       </th> <td>   16.43</td>\n",
       "</tr>\n",
       "<tr>\n",
       "  <th>Date:</th>             <td>Sun, 19 Jun 2022</td> <th>  Prob (F-statistic):</th> <td>2.36e-06</td>\n",
       "</tr>\n",
       "<tr>\n",
       "  <th>Time:</th>                 <td>12:04:45</td>     <th>  Log-Likelihood:    </th> <td>  19.760</td>\n",
       "</tr>\n",
       "<tr>\n",
       "  <th>No. Observations:</th>      <td>    32</td>      <th>  AIC:               </th> <td>  -31.52</td>\n",
       "</tr>\n",
       "<tr>\n",
       "  <th>Df Residuals:</th>          <td>    28</td>      <th>  BIC:               </th> <td>  -25.66</td>\n",
       "</tr>\n",
       "<tr>\n",
       "  <th>Df Model:</th>              <td>     3</td>      <th>                     </th>     <td> </td>   \n",
       "</tr>\n",
       "<tr>\n",
       "  <th>Covariance Type:</th>      <td>nonrobust</td>    <th>                     </th>     <td> </td>   \n",
       "</tr>\n",
       "</table>\n",
       "<table class=\"simpletable\">\n",
       "<tr>\n",
       "    <td></td>       <th>coef</th>     <th>std err</th>      <th>t</th>      <th>P>|t|</th>  <th>[0.025</th>    <th>0.975]</th>  \n",
       "</tr>\n",
       "<tr>\n",
       "  <th>const</th> <td>   -0.1345</td> <td>    0.104</td> <td>   -1.293</td> <td> 0.206</td> <td>   -0.348</td> <td>    0.079</td>\n",
       "</tr>\n",
       "<tr>\n",
       "  <th>Area</th>  <td>    0.6127</td> <td>    0.107</td> <td>    5.723</td> <td> 0.000</td> <td>    0.393</td> <td>    0.832</td>\n",
       "</tr>\n",
       "<tr>\n",
       "  <th>X2</th>    <td>   -0.2435</td> <td>    0.062</td> <td>   -3.909</td> <td> 0.001</td> <td>   -0.371</td> <td>   -0.116</td>\n",
       "</tr>\n",
       "<tr>\n",
       "  <th>X3</th>    <td>   -0.0657</td> <td>    0.065</td> <td>   -1.009</td> <td> 0.322</td> <td>   -0.199</td> <td>    0.068</td>\n",
       "</tr>\n",
       "</table>\n",
       "<table class=\"simpletable\">\n",
       "<tr>\n",
       "  <th>Omnibus:</th>       <td> 5.165</td> <th>  Durbin-Watson:     </th> <td>   1.362</td>\n",
       "</tr>\n",
       "<tr>\n",
       "  <th>Prob(Omnibus):</th> <td> 0.076</td> <th>  Jarque-Bera (JB):  </th> <td>   3.657</td>\n",
       "</tr>\n",
       "<tr>\n",
       "  <th>Skew:</th>          <td> 0.591</td> <th>  Prob(JB):          </th> <td>   0.161</td>\n",
       "</tr>\n",
       "<tr>\n",
       "  <th>Kurtosis:</th>      <td> 4.159</td> <th>  Cond. No.          </th> <td>    8.96</td>\n",
       "</tr>\n",
       "</table><br/><br/>Notes:<br/>[1] Standard Errors assume that the covariance matrix of the errors is correctly specified."
      ],
      "text/plain": [
       "<class 'statsmodels.iolib.summary.Summary'>\n",
       "\"\"\"\n",
       "                            OLS Regression Results                            \n",
       "==============================================================================\n",
       "Dep. Variable:                    Inf   R-squared:                       0.638\n",
       "Model:                            OLS   Adj. R-squared:                  0.599\n",
       "Method:                 Least Squares   F-statistic:                     16.43\n",
       "Date:                Sun, 19 Jun 2022   Prob (F-statistic):           2.36e-06\n",
       "Time:                        12:04:45   Log-Likelihood:                 19.760\n",
       "No. Observations:                  32   AIC:                            -31.52\n",
       "Df Residuals:                      28   BIC:                            -25.66\n",
       "Df Model:                           3                                         \n",
       "Covariance Type:            nonrobust                                         \n",
       "==============================================================================\n",
       "                 coef    std err          t      P>|t|      [0.025      0.975]\n",
       "------------------------------------------------------------------------------\n",
       "const         -0.1345      0.104     -1.293      0.206      -0.348       0.079\n",
       "Area           0.6127      0.107      5.723      0.000       0.393       0.832\n",
       "X2            -0.2435      0.062     -3.909      0.001      -0.371      -0.116\n",
       "X3            -0.0657      0.065     -1.009      0.322      -0.199       0.068\n",
       "==============================================================================\n",
       "Omnibus:                        5.165   Durbin-Watson:                   1.362\n",
       "Prob(Omnibus):                  0.076   Jarque-Bera (JB):                3.657\n",
       "Skew:                           0.591   Prob(JB):                        0.161\n",
       "Kurtosis:                       4.159   Cond. No.                         8.96\n",
       "==============================================================================\n",
       "\n",
       "Notes:\n",
       "[1] Standard Errors assume that the covariance matrix of the errors is correctly specified.\n",
       "\"\"\""
      ]
     },
     "execution_count": 5,
     "metadata": {},
     "output_type": "execute_result"
    }
   ],
   "source": [
    "y = df['Inf']\n",
    "X = df[['Area','X2','X3']]\n",
    "X = sm.add_constant(X)\n",
    "sm.OLS(y, X).fit().summary()"
   ]
  },
  {
   "cell_type": "markdown",
   "id": "dea71735",
   "metadata": {},
   "source": [
    "We can ask different questions. Each question can be translated into a statistical procedure.\n",
    "<ol>\n",
    "    <li>Is a regression model containing at least one predictor useful</li>\n",
    "    <li>Is the damaged area related to the size of heart</li>\n",
    "    <li>Does cooling have any effect?</li>\n",
    "</ol>"
   ]
  },
  {
   "cell_type": "markdown",
   "id": "72720cd0",
   "metadata": {},
   "source": [
    "#### 1. Is this model containing anything useful?"
   ]
  },
  {
   "cell_type": "markdown",
   "id": "4d819923",
   "metadata": {},
   "source": [
    "$$\n",
    "H_0: \\beta_1 = \\beta_2 = \\beta_3 = 0\n",
    "$$"
   ]
  },
  {
   "cell_type": "markdown",
   "id": "5dc0f0b3",
   "metadata": {},
   "source": [
    "#### 2. Is the damaged area related to the size of heart"
   ]
  },
  {
   "cell_type": "markdown",
   "id": "70b5a7cf",
   "metadata": {},
   "source": [
    "$$\n",
    "H_0: \\beta_1 = 0\n",
    "$$"
   ]
  },
  {
   "cell_type": "markdown",
   "id": "af38b7b3",
   "metadata": {},
   "source": [
    "#### 3. Does cooling have any effect"
   ]
  },
  {
   "cell_type": "markdown",
   "id": "63bab6df",
   "metadata": {},
   "source": [
    "$$\n",
    "H_0: \\beta_2 = \\beta_3 = 0\n",
    "$$"
   ]
  },
  {
   "cell_type": "markdown",
   "id": "a515ca17",
   "metadata": {},
   "source": [
    "#### The first question can be answered by F-test; the second can be answered by a t-test; how about the third one?"
   ]
  },
  {
   "cell_type": "markdown",
   "id": "53be524c",
   "metadata": {},
   "source": [
    "#### The General Linear F-test"
   ]
  },
  {
   "cell_type": "markdown",
   "id": "57f9d82b",
   "metadata": {},
   "source": [
    "<ol>\n",
    "<li>Define a larger full model</li>\n",
    "<li>Define a smaller reduced model</li>\n",
    "<li>Use an F-statistic to decide, compare SSE(R) vs. SSE(F)</li>\n",
    "</ol>"
   ]
  },
  {
   "cell_type": "markdown",
   "id": "3da82299",
   "metadata": {},
   "source": [
    "$$\n",
    "F^* = \\frac{\\frac{SSE(R) - SSE(F)}{df_R - df_F}}{\\frac{SSE(F)}{df_F}}\n",
    "$$"
   ]
  },
  {
   "cell_type": "markdown",
   "id": "6e27e0e8",
   "metadata": {},
   "source": [
    "If SSE(F) and SSE(R) differ greatly, it means the additional parameters in the full model substantially reduce the variation. It makes sense to go with the full model."
   ]
  },
  {
   "cell_type": "markdown",
   "id": "0864adb1",
   "metadata": {},
   "source": [
    "\n",
    "$H_0$: go with the reduced model -> the additional features' slopes equal to 0<br>\n",
    "\n",
    "$H_A$: go with the full model\n"
   ]
  },
  {
   "cell_type": "markdown",
   "id": "a2164bc1",
   "metadata": {},
   "source": [
    "#### Let's apply the general linear F-test to the 3 reseach questions above"
   ]
  },
  {
   "cell_type": "code",
   "execution_count": 6,
   "id": "2891be01",
   "metadata": {
    "scrolled": true
   },
   "outputs": [],
   "source": [
    "df = df.rename(columns={'Inf':'y'})"
   ]
  },
  {
   "cell_type": "code",
   "execution_count": 7,
   "id": "030326a9",
   "metadata": {},
   "outputs": [
    {
     "data": {
      "text/html": [
       "<div>\n",
       "<style scoped>\n",
       "    .dataframe tbody tr th:only-of-type {\n",
       "        vertical-align: middle;\n",
       "    }\n",
       "\n",
       "    .dataframe tbody tr th {\n",
       "        vertical-align: top;\n",
       "    }\n",
       "\n",
       "    .dataframe thead th {\n",
       "        text-align: right;\n",
       "    }\n",
       "</style>\n",
       "<table border=\"1\" class=\"dataframe\">\n",
       "  <thead>\n",
       "    <tr style=\"text-align: right;\">\n",
       "      <th></th>\n",
       "      <th>df</th>\n",
       "      <th>sum_sq</th>\n",
       "      <th>mean_sq</th>\n",
       "      <th>F</th>\n",
       "      <th>PR(&gt;F)</th>\n",
       "    </tr>\n",
       "  </thead>\n",
       "  <tbody>\n",
       "    <tr>\n",
       "      <th>intercept</th>\n",
       "      <td>1.0</td>\n",
       "      <td>0.064210</td>\n",
       "      <td>0.064210</td>\n",
       "      <td>3.299412</td>\n",
       "      <td>0.080026</td>\n",
       "    </tr>\n",
       "    <tr>\n",
       "      <th>Area</th>\n",
       "      <td>1.0</td>\n",
       "      <td>0.580754</td>\n",
       "      <td>0.580754</td>\n",
       "      <td>29.841870</td>\n",
       "      <td>0.000008</td>\n",
       "    </tr>\n",
       "    <tr>\n",
       "      <th>X2</th>\n",
       "      <td>1.0</td>\n",
       "      <td>0.298620</td>\n",
       "      <td>0.298620</td>\n",
       "      <td>15.344490</td>\n",
       "      <td>0.000524</td>\n",
       "    </tr>\n",
       "    <tr>\n",
       "      <th>X3</th>\n",
       "      <td>1.0</td>\n",
       "      <td>0.018497</td>\n",
       "      <td>0.018497</td>\n",
       "      <td>0.950483</td>\n",
       "      <td>0.337945</td>\n",
       "    </tr>\n",
       "    <tr>\n",
       "      <th>Residual</th>\n",
       "      <td>28.0</td>\n",
       "      <td>0.544910</td>\n",
       "      <td>0.019461</td>\n",
       "      <td>NaN</td>\n",
       "      <td>NaN</td>\n",
       "    </tr>\n",
       "  </tbody>\n",
       "</table>\n",
       "</div>"
      ],
      "text/plain": [
       "             df    sum_sq   mean_sq          F    PR(>F)\n",
       "intercept   1.0  0.064210  0.064210   3.299412  0.080026\n",
       "Area        1.0  0.580754  0.580754  29.841870  0.000008\n",
       "X2          1.0  0.298620  0.298620  15.344490  0.000524\n",
       "X3          1.0  0.018497  0.018497   0.950483  0.337945\n",
       "Residual   28.0  0.544910  0.019461        NaN       NaN"
      ]
     },
     "execution_count": 7,
     "metadata": {},
     "output_type": "execute_result"
    }
   ],
   "source": [
    "df['intercept'] = 1\n",
    "model = ols('y ~ intercept + Area + X2 + X3', data=df).fit()\n",
    "sm.stats.anova_lm(model)"
   ]
  },
  {
   "cell_type": "code",
   "execution_count": 8,
   "id": "0ab14827",
   "metadata": {},
   "outputs": [],
   "source": [
    "def run_general_linear_Ftest(model_R, model_F, q=1-0.05):\n",
    "    anova_R = sm.stats.anova_lm(model_R)\n",
    "    anova_F = sm.stats.anova_lm(model_F)\n",
    "    SSE_R, df_R = anova_R.loc['Residual',['sum_sq','df']]\n",
    "    SSE_F, df_F = anova_F.loc['Residual',['sum_sq','df']]\n",
    "    dfn = df_R - df_F\n",
    "    dfd = df_F\n",
    "    Fvalue = ((SSE_R - SSE_F) / dfn) / (SSE_F / dfd)\n",
    "    pvalue = scipy.stats.f.sf(x=Fvalue, dfn=dfn, dfd=dfd)\n",
    "    return Fvalue, dfn, dfd, pvalue"
   ]
  },
  {
   "cell_type": "markdown",
   "id": "01166b83",
   "metadata": {},
   "source": [
    "#### 1. Is this model containing anything useful?"
   ]
  },
  {
   "cell_type": "markdown",
   "id": "49c8dcc9",
   "metadata": {},
   "source": [
    "$\n",
    "H_0: y_i = \\beta_0 + \\epsilon_i\n",
    "$<br>\n",
    "$\n",
    "H_A: y_i = \\beta_0 + \\beta_1 x_{i1} + \\beta_2 x_{i2} + \\beta_3 x_{i3} + \\epsilon_i\n",
    "$"
   ]
  },
  {
   "cell_type": "code",
   "execution_count": 9,
   "id": "c3588e29",
   "metadata": {},
   "outputs": [
    {
     "data": {
      "text/plain": [
       "(16.4306306956002, 3.0, 28.0, 2.3634700103476835e-06)"
      ]
     },
     "execution_count": 9,
     "metadata": {},
     "output_type": "execute_result"
    }
   ],
   "source": [
    "model_R = ols('y ~ intercept', data=df).fit()\n",
    "model_F = ols('y ~ intercept + Area + X2 + X3', data=df).fit()\n",
    "run_general_linear_Ftest(model_R, model_F)"
   ]
  },
  {
   "cell_type": "markdown",
   "id": "e4d7dd36",
   "metadata": {},
   "source": [
    "#### 2. Is the damaged area related to the size of heart"
   ]
  },
  {
   "cell_type": "markdown",
   "id": "ba01613f",
   "metadata": {},
   "source": [
    "$\n",
    "H_0: y_i = \\beta_0 + \\beta_2 x_{i2} + \\beta_3 x_{i3} + \\epsilon_i\n",
    "$<br>\n",
    "$\n",
    "H_A: y_i = \\beta_0 + \\beta_1 x_{i1} + \\beta_2 x_{i2} + \\beta_3 x_{i3} + \\epsilon_i\n",
    "$"
   ]
  },
  {
   "cell_type": "code",
   "execution_count": 10,
   "id": "c15181b5",
   "metadata": {},
   "outputs": [
    {
     "data": {
      "text/plain": [
       "(32.75360056375819, 1.0, 28.0, 3.8654412037492455e-06)"
      ]
     },
     "execution_count": 10,
     "metadata": {},
     "output_type": "execute_result"
    }
   ],
   "source": [
    "model_R = ols('y ~ intercept + X2 + X3', data=df).fit()\n",
    "model_F = ols('y ~ intercept + Area + X2 + X3', data=df).fit()\n",
    "run_general_linear_Ftest(model_R, model_F)"
   ]
  },
  {
   "cell_type": "markdown",
   "id": "86cf3ec7",
   "metadata": {},
   "source": [
    "#### 3. Does cooling have any effect"
   ]
  },
  {
   "cell_type": "markdown",
   "id": "9c9b9dbf",
   "metadata": {},
   "source": [
    "$\n",
    "H_0: y_i = \\beta_0 + \\beta_1 x_{i1} + \\epsilon_i\n",
    "$<br>\n",
    "$\n",
    "H_A: y_i = \\beta_0 + \\beta_1 x_{i1} + \\beta_2 x_{i2} + \\beta_3 x_{i3} + \\epsilon_i\n",
    "$"
   ]
  },
  {
   "cell_type": "code",
   "execution_count": 11,
   "id": "adeea863",
   "metadata": {},
   "outputs": [
    {
     "data": {
      "text/plain": [
       "(8.590176103218052, 2.0, 28.0, 0.0012328716567308682)"
      ]
     },
     "execution_count": 11,
     "metadata": {},
     "output_type": "execute_result"
    }
   ],
   "source": [
    "model_R = ols('y ~ intercept + Area', data=df).fit()\n",
    "model_F = ols('y ~ intercept + Area + X2 + X3', data=df).fit()\n",
    "run_general_linear_Ftest(model_R, model_F)"
   ]
  },
  {
   "cell_type": "markdown",
   "id": "d350a8e0",
   "metadata": {},
   "source": [
    "#### Sequential Sums of Squares: SSE(R) - SSE(F)"
   ]
  },
  {
   "cell_type": "markdown",
   "id": "22f133fb",
   "metadata": {},
   "source": [
    "$SSE(x_1)$ denotes the error sum of squares when $x_1$ is the only predictor in the model <br>\n",
    "$SSR(x_1, x_2)$ denotes the regression sum of squares when $x_1$ and $x_2$ are both in the model <br>\n",
    "$SSR(x_1|x_2)$ denotes the improvement by adding x2 to a model that already contains the predictor $x_1$ <br>\n",
    "$SSR(x_3|x_1) = SSR(x_1,x_3) - SSR(x_1)$"
   ]
  },
  {
   "cell_type": "markdown",
   "id": "721988bd",
   "metadata": {},
   "source": [
    "$$\n",
    "F^* = \\frac{\\frac{SSE(R) - SSE(F)}{df_R - df_F}}{\\frac{SSE(F)}{df_F}}\n",
    "$$"
   ]
  },
  {
   "cell_type": "markdown",
   "id": "7f6f539c",
   "metadata": {},
   "source": [
    "#### Partial Regression"
   ]
  },
  {
   "cell_type": "code",
   "execution_count": 12,
   "id": "7b0c0190",
   "metadata": {},
   "outputs": [
    {
     "data": {
      "image/png": "[encoded data removed]",
      "text/plain": [
       "<Figure size 864x648 with 4 Axes>"
      ]
     },
     "metadata": {
      "needs_background": "light"
     },
     "output_type": "display_data"
    }
   ],
   "source": [
    "fig = plt.figure(figsize=(12, 9))\n",
    "fig = sm.graphics.plot_regress_exog(model, 'Area', fig)"
   ]
  },
  {
   "cell_type": "code",
   "execution_count": 13,
   "id": "5ebd211e",
   "metadata": {},
   "outputs": [
    {
     "data": {
      "image/png": "[encoded data removed]",
      "text/plain": [
       "<Figure size 864x648 with 4 Axes>"
      ]
     },
     "metadata": {
      "needs_background": "light"
     },
     "output_type": "display_data"
    }
   ],
   "source": [
    "fig = plt.figure(figsize=(12, 9))\n",
    "fig = sm.graphics.plot_regress_exog(model, 'X2', fig)"
   ]
  },
  {
   "cell_type": "code",
   "execution_count": 14,
   "id": "0423bdef",
   "metadata": {},
   "outputs": [
    {
     "data": {
      "image/png": "[encoded data removed]",
      "text/plain": [
       "<Figure size 864x648 with 4 Axes>"
      ]
     },
     "metadata": {
      "needs_background": "light"
     },
     "output_type": "display_data"
    }
   ],
   "source": [
    "fig = plt.figure(figsize=(12, 9))\n",
    "fig = sm.graphics.plot_regress_exog(model, 'X3', fig)"
   ]
  },
  {
   "cell_type": "markdown",
   "id": "54bc1c9e",
   "metadata": {},
   "source": [
    "#### Partial R2"
   ]
  },
  {
   "cell_type": "markdown",
   "id": "2e8768ef",
   "metadata": {},
   "source": [
    "the partial R2 of adding $X_2$ and $X_3$ to the predictor Area is"
   ]
  },
  {
   "cell_type": "markdown",
   "id": "6f755988",
   "metadata": {},
   "source": [
    "$$\n",
    "\\frac{SSR(X_2,X_3|Area)}{SSE(Area)}\n",
    "$$"
   ]
  },
  {
   "cell_type": "markdown",
   "id": "1d915365",
   "metadata": {},
   "source": [
    "$$\n",
    "\\frac{SSR(X_2,X_3,Area) - SSR(Area))}{SSE(Area)}\n",
    "$$"
   ]
  },
  {
   "cell_type": "markdown",
   "id": "fb489dde",
   "metadata": {},
   "source": [
    "$$\n",
    "\\frac{SSE(Area) - SSE(X_2,X_3,Area))}{SSE(Area)}\n",
    "$$"
   ]
  },
  {
   "cell_type": "markdown",
   "id": "0ac7607e",
   "metadata": {},
   "source": [
    "In general,"
   ]
  },
  {
   "cell_type": "markdown",
   "id": "29f82b2f",
   "metadata": {},
   "source": [
    "$$\n",
    "\\frac{SSE(R) - SSE(F))}{SSE(R)}\n",
    "$$"
   ]
  }
 ],
 "metadata": {
  "kernelspec": {
   "display_name": "Python 3 (ipykernel)",
   "language": "python",
   "name": "python3"
  },
  "language_info": {
   "codemirror_mode": {
    "name": "ipython",
    "version": 3
   },
   "file_extension": ".py",
   "mimetype": "text/x-python",
   "name": "python",
   "nbconvert_exporter": "python",
   "pygments_lexer": "ipython3",
   "version": "3.9.7"
  }
 },
 "nbformat": 4,
 "nbformat_minor": 5
}
