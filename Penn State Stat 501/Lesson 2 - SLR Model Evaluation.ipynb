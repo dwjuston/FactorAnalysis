{
 "cells": [
  {
   "cell_type": "markdown",
   "id": "9231a876",
   "metadata": {},
   "source": [
    "https://online.stat.psu.edu/stat501/lesson/2"
   ]
  },
  {
   "cell_type": "markdown",
   "id": "e9da6ae0",
   "metadata": {},
   "source": [
    "#### This lesson presents two alternative methods for testing whether a linear association exists between the predictor x and the resposne y in the SLR model. One of the t-test for the slope; the other is an analysis of variance (ANOVA) F-test"
   ]
  },
  {
   "cell_type": "markdown",
   "id": "4edd13fb",
   "metadata": {},
   "source": [
    "#### We also learn a way to check for linearity: the linear lack of fit test (Skip)"
   ]
  },
  {
   "cell_type": "code",
   "execution_count": 1,
   "id": "f374977d",
   "metadata": {},
   "outputs": [],
   "source": [
    "import os\n",
    "import statsmodels.api as sm\n",
    "import pandas as pd\n",
    "import numpy as np\n",
    "import seaborn as sns\n",
    "from IPython.display import Image\n",
    "from statsmodels.formula.api import ols\n",
    "import scipy.stats"
   ]
  },
  {
   "cell_type": "code",
   "execution_count": 2,
   "id": "079dc55a",
   "metadata": {},
   "outputs": [],
   "source": [
    "filedir = 'STAT501_Lesson02'"
   ]
  },
  {
   "cell_type": "code",
   "execution_count": 3,
   "id": "32a77098",
   "metadata": {},
   "outputs": [
    {
     "data": {
      "text/plain": [
       "['mortality_latitude.png',\n",
       " 'couplesheights.txt',\n",
       " 'leadcord.txt',\n",
       " '.DS_Store',\n",
       " 'signdist.txt',\n",
       " 'skincancer.txt',\n",
       " 'newaccounts.txt',\n",
       " 'whitespruce.txt',\n",
       " 'mens200m.txt',\n",
       " 'heightgpa.txt',\n",
       " 'ssr_sse.png',\n",
       " 'gpa_height.png',\n",
       " 'handheight.txt',\n",
       " 'husbandwife.txt',\n",
       " 'solutions_conc.txt']"
      ]
     },
     "execution_count": 3,
     "metadata": {},
     "output_type": "execute_result"
    }
   ],
   "source": [
    "os.listdir(filedir)"
   ]
  },
  {
   "cell_type": "markdown",
   "id": "8c88fdd6",
   "metadata": {},
   "source": [
    "#### 1. inference"
   ]
  },
  {
   "cell_type": "code",
   "execution_count": 4,
   "id": "292c3db0",
   "metadata": {
    "scrolled": true
   },
   "outputs": [
    {
     "data": {
      "text/html": [
       "<div>\n",
       "<style scoped>\n",
       "    .dataframe tbody tr th:only-of-type {\n",
       "        vertical-align: middle;\n",
       "    }\n",
       "\n",
       "    .dataframe tbody tr th {\n",
       "        vertical-align: top;\n",
       "    }\n",
       "\n",
       "    .dataframe thead th {\n",
       "        text-align: right;\n",
       "    }\n",
       "</style>\n",
       "<table border=\"1\" class=\"dataframe\">\n",
       "  <thead>\n",
       "    <tr style=\"text-align: right;\">\n",
       "      <th></th>\n",
       "      <th>State</th>\n",
       "      <th>Lat</th>\n",
       "      <th>Mort</th>\n",
       "      <th>Ocean</th>\n",
       "      <th>Long</th>\n",
       "    </tr>\n",
       "  </thead>\n",
       "  <tbody>\n",
       "    <tr>\n",
       "      <th>0</th>\n",
       "      <td>Alabama</td>\n",
       "      <td>33.0</td>\n",
       "      <td>219</td>\n",
       "      <td>1</td>\n",
       "      <td>87.0</td>\n",
       "    </tr>\n",
       "    <tr>\n",
       "      <th>1</th>\n",
       "      <td>Arizona</td>\n",
       "      <td>34.5</td>\n",
       "      <td>160</td>\n",
       "      <td>0</td>\n",
       "      <td>112.0</td>\n",
       "    </tr>\n",
       "    <tr>\n",
       "      <th>2</th>\n",
       "      <td>Arkansas</td>\n",
       "      <td>35.0</td>\n",
       "      <td>170</td>\n",
       "      <td>0</td>\n",
       "      <td>92.5</td>\n",
       "    </tr>\n",
       "    <tr>\n",
       "      <th>3</th>\n",
       "      <td>California</td>\n",
       "      <td>37.5</td>\n",
       "      <td>182</td>\n",
       "      <td>1</td>\n",
       "      <td>119.5</td>\n",
       "    </tr>\n",
       "    <tr>\n",
       "      <th>4</th>\n",
       "      <td>Colorado</td>\n",
       "      <td>39.0</td>\n",
       "      <td>149</td>\n",
       "      <td>0</td>\n",
       "      <td>105.5</td>\n",
       "    </tr>\n",
       "    <tr>\n",
       "      <th>5</th>\n",
       "      <td>Connecticut</td>\n",
       "      <td>41.8</td>\n",
       "      <td>159</td>\n",
       "      <td>1</td>\n",
       "      <td>72.8</td>\n",
       "    </tr>\n",
       "    <tr>\n",
       "      <th>6</th>\n",
       "      <td>Delaware</td>\n",
       "      <td>39.0</td>\n",
       "      <td>200</td>\n",
       "      <td>1</td>\n",
       "      <td>75.5</td>\n",
       "    </tr>\n",
       "    <tr>\n",
       "      <th>7</th>\n",
       "      <td>Wash,D.C.</td>\n",
       "      <td>39.0</td>\n",
       "      <td>177</td>\n",
       "      <td>0</td>\n",
       "      <td>77.0</td>\n",
       "    </tr>\n",
       "    <tr>\n",
       "      <th>8</th>\n",
       "      <td>Florida</td>\n",
       "      <td>28.0</td>\n",
       "      <td>197</td>\n",
       "      <td>1</td>\n",
       "      <td>82.0</td>\n",
       "    </tr>\n",
       "    <tr>\n",
       "      <th>9</th>\n",
       "      <td>Georgia</td>\n",
       "      <td>33.0</td>\n",
       "      <td>214</td>\n",
       "      <td>1</td>\n",
       "      <td>83.5</td>\n",
       "    </tr>\n",
       "    <tr>\n",
       "      <th>10</th>\n",
       "      <td>Idaho</td>\n",
       "      <td>44.5</td>\n",
       "      <td>116</td>\n",
       "      <td>0</td>\n",
       "      <td>114.0</td>\n",
       "    </tr>\n",
       "    <tr>\n",
       "      <th>11</th>\n",
       "      <td>Illinois</td>\n",
       "      <td>40.0</td>\n",
       "      <td>124</td>\n",
       "      <td>0</td>\n",
       "      <td>89.5</td>\n",
       "    </tr>\n",
       "    <tr>\n",
       "      <th>12</th>\n",
       "      <td>Indiana</td>\n",
       "      <td>40.2</td>\n",
       "      <td>128</td>\n",
       "      <td>0</td>\n",
       "      <td>86.2</td>\n",
       "    </tr>\n",
       "    <tr>\n",
       "      <th>13</th>\n",
       "      <td>Iowa</td>\n",
       "      <td>42.2</td>\n",
       "      <td>128</td>\n",
       "      <td>0</td>\n",
       "      <td>93.8</td>\n",
       "    </tr>\n",
       "    <tr>\n",
       "      <th>14</th>\n",
       "      <td>Kansas</td>\n",
       "      <td>38.5</td>\n",
       "      <td>166</td>\n",
       "      <td>0</td>\n",
       "      <td>98.5</td>\n",
       "    </tr>\n",
       "    <tr>\n",
       "      <th>15</th>\n",
       "      <td>Kentucky</td>\n",
       "      <td>37.8</td>\n",
       "      <td>147</td>\n",
       "      <td>0</td>\n",
       "      <td>85.0</td>\n",
       "    </tr>\n",
       "    <tr>\n",
       "      <th>16</th>\n",
       "      <td>Louisiana</td>\n",
       "      <td>31.2</td>\n",
       "      <td>190</td>\n",
       "      <td>1</td>\n",
       "      <td>91.8</td>\n",
       "    </tr>\n",
       "    <tr>\n",
       "      <th>17</th>\n",
       "      <td>Maine</td>\n",
       "      <td>45.2</td>\n",
       "      <td>117</td>\n",
       "      <td>1</td>\n",
       "      <td>69.0</td>\n",
       "    </tr>\n",
       "    <tr>\n",
       "      <th>18</th>\n",
       "      <td>Maryland</td>\n",
       "      <td>39.0</td>\n",
       "      <td>162</td>\n",
       "      <td>1</td>\n",
       "      <td>76.5</td>\n",
       "    </tr>\n",
       "    <tr>\n",
       "      <th>19</th>\n",
       "      <td>Massachusetts</td>\n",
       "      <td>42.2</td>\n",
       "      <td>143</td>\n",
       "      <td>1</td>\n",
       "      <td>71.8</td>\n",
       "    </tr>\n",
       "    <tr>\n",
       "      <th>20</th>\n",
       "      <td>Michigan</td>\n",
       "      <td>43.5</td>\n",
       "      <td>117</td>\n",
       "      <td>0</td>\n",
       "      <td>84.5</td>\n",
       "    </tr>\n",
       "    <tr>\n",
       "      <th>21</th>\n",
       "      <td>Minnesota</td>\n",
       "      <td>46.0</td>\n",
       "      <td>116</td>\n",
       "      <td>0</td>\n",
       "      <td>94.5</td>\n",
       "    </tr>\n",
       "    <tr>\n",
       "      <th>22</th>\n",
       "      <td>Mississippi</td>\n",
       "      <td>32.8</td>\n",
       "      <td>207</td>\n",
       "      <td>1</td>\n",
       "      <td>90.0</td>\n",
       "    </tr>\n",
       "    <tr>\n",
       "      <th>23</th>\n",
       "      <td>Missouri</td>\n",
       "      <td>38.5</td>\n",
       "      <td>131</td>\n",
       "      <td>0</td>\n",
       "      <td>92.0</td>\n",
       "    </tr>\n",
       "    <tr>\n",
       "      <th>24</th>\n",
       "      <td>Montana</td>\n",
       "      <td>47.0</td>\n",
       "      <td>109</td>\n",
       "      <td>0</td>\n",
       "      <td>110.5</td>\n",
       "    </tr>\n",
       "    <tr>\n",
       "      <th>25</th>\n",
       "      <td>Nebraska</td>\n",
       "      <td>41.5</td>\n",
       "      <td>122</td>\n",
       "      <td>0</td>\n",
       "      <td>99.5</td>\n",
       "    </tr>\n",
       "    <tr>\n",
       "      <th>26</th>\n",
       "      <td>Nevada</td>\n",
       "      <td>39.0</td>\n",
       "      <td>191</td>\n",
       "      <td>0</td>\n",
       "      <td>117.0</td>\n",
       "    </tr>\n",
       "    <tr>\n",
       "      <th>27</th>\n",
       "      <td>NewHampshire</td>\n",
       "      <td>43.8</td>\n",
       "      <td>129</td>\n",
       "      <td>1</td>\n",
       "      <td>71.5</td>\n",
       "    </tr>\n",
       "    <tr>\n",
       "      <th>28</th>\n",
       "      <td>NewJersey</td>\n",
       "      <td>40.2</td>\n",
       "      <td>159</td>\n",
       "      <td>1</td>\n",
       "      <td>74.5</td>\n",
       "    </tr>\n",
       "    <tr>\n",
       "      <th>29</th>\n",
       "      <td>NewMexico</td>\n",
       "      <td>35.0</td>\n",
       "      <td>141</td>\n",
       "      <td>0</td>\n",
       "      <td>106.0</td>\n",
       "    </tr>\n",
       "    <tr>\n",
       "      <th>30</th>\n",
       "      <td>MewYork</td>\n",
       "      <td>43.0</td>\n",
       "      <td>152</td>\n",
       "      <td>1</td>\n",
       "      <td>75.5</td>\n",
       "    </tr>\n",
       "    <tr>\n",
       "      <th>31</th>\n",
       "      <td>NorthCarolina</td>\n",
       "      <td>35.5</td>\n",
       "      <td>199</td>\n",
       "      <td>1</td>\n",
       "      <td>79.5</td>\n",
       "    </tr>\n",
       "    <tr>\n",
       "      <th>32</th>\n",
       "      <td>NorthDakota</td>\n",
       "      <td>47.5</td>\n",
       "      <td>115</td>\n",
       "      <td>0</td>\n",
       "      <td>100.5</td>\n",
       "    </tr>\n",
       "    <tr>\n",
       "      <th>33</th>\n",
       "      <td>Ohio</td>\n",
       "      <td>40.2</td>\n",
       "      <td>131</td>\n",
       "      <td>0</td>\n",
       "      <td>82.8</td>\n",
       "    </tr>\n",
       "    <tr>\n",
       "      <th>34</th>\n",
       "      <td>Oklahoma</td>\n",
       "      <td>35.5</td>\n",
       "      <td>182</td>\n",
       "      <td>0</td>\n",
       "      <td>97.2</td>\n",
       "    </tr>\n",
       "    <tr>\n",
       "      <th>35</th>\n",
       "      <td>Oregon</td>\n",
       "      <td>44.0</td>\n",
       "      <td>136</td>\n",
       "      <td>1</td>\n",
       "      <td>120.5</td>\n",
       "    </tr>\n",
       "    <tr>\n",
       "      <th>36</th>\n",
       "      <td>Pennsylvania</td>\n",
       "      <td>40.8</td>\n",
       "      <td>132</td>\n",
       "      <td>0</td>\n",
       "      <td>77.8</td>\n",
       "    </tr>\n",
       "    <tr>\n",
       "      <th>37</th>\n",
       "      <td>RhodeIsland</td>\n",
       "      <td>41.8</td>\n",
       "      <td>137</td>\n",
       "      <td>1</td>\n",
       "      <td>71.5</td>\n",
       "    </tr>\n",
       "    <tr>\n",
       "      <th>38</th>\n",
       "      <td>SouthCarolina</td>\n",
       "      <td>33.8</td>\n",
       "      <td>178</td>\n",
       "      <td>1</td>\n",
       "      <td>81.0</td>\n",
       "    </tr>\n",
       "    <tr>\n",
       "      <th>39</th>\n",
       "      <td>SouthDakota</td>\n",
       "      <td>44.8</td>\n",
       "      <td>86</td>\n",
       "      <td>0</td>\n",
       "      <td>100.0</td>\n",
       "    </tr>\n",
       "    <tr>\n",
       "      <th>40</th>\n",
       "      <td>Tennessee</td>\n",
       "      <td>36.0</td>\n",
       "      <td>186</td>\n",
       "      <td>0</td>\n",
       "      <td>86.2</td>\n",
       "    </tr>\n",
       "    <tr>\n",
       "      <th>41</th>\n",
       "      <td>Texas</td>\n",
       "      <td>31.5</td>\n",
       "      <td>229</td>\n",
       "      <td>1</td>\n",
       "      <td>98.0</td>\n",
       "    </tr>\n",
       "    <tr>\n",
       "      <th>42</th>\n",
       "      <td>Utah</td>\n",
       "      <td>39.5</td>\n",
       "      <td>142</td>\n",
       "      <td>0</td>\n",
       "      <td>111.5</td>\n",
       "    </tr>\n",
       "    <tr>\n",
       "      <th>43</th>\n",
       "      <td>Vermont</td>\n",
       "      <td>44.0</td>\n",
       "      <td>153</td>\n",
       "      <td>1</td>\n",
       "      <td>72.5</td>\n",
       "    </tr>\n",
       "    <tr>\n",
       "      <th>44</th>\n",
       "      <td>Virginia</td>\n",
       "      <td>37.5</td>\n",
       "      <td>166</td>\n",
       "      <td>1</td>\n",
       "      <td>78.5</td>\n",
       "    </tr>\n",
       "    <tr>\n",
       "      <th>45</th>\n",
       "      <td>Washington</td>\n",
       "      <td>47.5</td>\n",
       "      <td>117</td>\n",
       "      <td>1</td>\n",
       "      <td>121.0</td>\n",
       "    </tr>\n",
       "    <tr>\n",
       "      <th>46</th>\n",
       "      <td>WestVirginia</td>\n",
       "      <td>38.8</td>\n",
       "      <td>136</td>\n",
       "      <td>0</td>\n",
       "      <td>80.8</td>\n",
       "    </tr>\n",
       "    <tr>\n",
       "      <th>47</th>\n",
       "      <td>Wisconsin</td>\n",
       "      <td>44.5</td>\n",
       "      <td>110</td>\n",
       "      <td>0</td>\n",
       "      <td>90.2</td>\n",
       "    </tr>\n",
       "    <tr>\n",
       "      <th>48</th>\n",
       "      <td>Wyoming</td>\n",
       "      <td>43.0</td>\n",
       "      <td>134</td>\n",
       "      <td>0</td>\n",
       "      <td>107.5</td>\n",
       "    </tr>\n",
       "  </tbody>\n",
       "</table>\n",
       "</div>"
      ],
      "text/plain": [
       "            State   Lat  Mort  Ocean   Long\n",
       "0         Alabama  33.0   219      1   87.0\n",
       "1         Arizona  34.5   160      0  112.0\n",
       "2        Arkansas  35.0   170      0   92.5\n",
       "3      California  37.5   182      1  119.5\n",
       "4        Colorado  39.0   149      0  105.5\n",
       "5     Connecticut  41.8   159      1   72.8\n",
       "6        Delaware  39.0   200      1   75.5\n",
       "7       Wash,D.C.  39.0   177      0   77.0\n",
       "8         Florida  28.0   197      1   82.0\n",
       "9         Georgia  33.0   214      1   83.5\n",
       "10          Idaho  44.5   116      0  114.0\n",
       "11       Illinois  40.0   124      0   89.5\n",
       "12        Indiana  40.2   128      0   86.2\n",
       "13           Iowa  42.2   128      0   93.8\n",
       "14         Kansas  38.5   166      0   98.5\n",
       "15       Kentucky  37.8   147      0   85.0\n",
       "16      Louisiana  31.2   190      1   91.8\n",
       "17          Maine  45.2   117      1   69.0\n",
       "18       Maryland  39.0   162      1   76.5\n",
       "19  Massachusetts  42.2   143      1   71.8\n",
       "20       Michigan  43.5   117      0   84.5\n",
       "21      Minnesota  46.0   116      0   94.5\n",
       "22    Mississippi  32.8   207      1   90.0\n",
       "23       Missouri  38.5   131      0   92.0\n",
       "24        Montana  47.0   109      0  110.5\n",
       "25       Nebraska  41.5   122      0   99.5\n",
       "26         Nevada  39.0   191      0  117.0\n",
       "27   NewHampshire  43.8   129      1   71.5\n",
       "28      NewJersey  40.2   159      1   74.5\n",
       "29      NewMexico  35.0   141      0  106.0\n",
       "30        MewYork  43.0   152      1   75.5\n",
       "31  NorthCarolina  35.5   199      1   79.5\n",
       "32    NorthDakota  47.5   115      0  100.5\n",
       "33           Ohio  40.2   131      0   82.8\n",
       "34       Oklahoma  35.5   182      0   97.2\n",
       "35         Oregon  44.0   136      1  120.5\n",
       "36   Pennsylvania  40.8   132      0   77.8\n",
       "37    RhodeIsland  41.8   137      1   71.5\n",
       "38  SouthCarolina  33.8   178      1   81.0\n",
       "39    SouthDakota  44.8    86      0  100.0\n",
       "40      Tennessee  36.0   186      0   86.2\n",
       "41          Texas  31.5   229      1   98.0\n",
       "42           Utah  39.5   142      0  111.5\n",
       "43        Vermont  44.0   153      1   72.5\n",
       "44       Virginia  37.5   166      1   78.5\n",
       "45     Washington  47.5   117      1  121.0\n",
       "46   WestVirginia  38.8   136      0   80.8\n",
       "47      Wisconsin  44.5   110      0   90.2\n",
       "48        Wyoming  43.0   134      0  107.5"
      ]
     },
     "execution_count": 4,
     "metadata": {},
     "output_type": "execute_result"
    }
   ],
   "source": [
    "df = pd.read_table(os.path.join(filedir, 'skincancer.txt'))\n",
    "df"
   ]
  },
  {
   "cell_type": "code",
   "execution_count": 5,
   "id": "7fe8946f",
   "metadata": {},
   "outputs": [
    {
     "name": "stderr",
     "output_type": "stream",
     "text": [
      "/Users/yuehuazhuang/opt/anaconda3/lib/python3.9/site-packages/statsmodels/tsa/tsatools.py:142: FutureWarning: In a future version of pandas all arguments of concat except for the argument 'objs' will be keyword-only\n",
      "  x = pd.concat(x[::order], 1)\n"
     ]
    },
    {
     "data": {
      "text/html": [
       "<table class=\"simpletable\">\n",
       "<caption>OLS Regression Results</caption>\n",
       "<tr>\n",
       "  <th>Dep. Variable:</th>          <td>Mort</td>       <th>  R-squared:         </th> <td>   0.680</td>\n",
       "</tr>\n",
       "<tr>\n",
       "  <th>Model:</th>                   <td>OLS</td>       <th>  Adj. R-squared:    </th> <td>   0.673</td>\n",
       "</tr>\n",
       "<tr>\n",
       "  <th>Method:</th>             <td>Least Squares</td>  <th>  F-statistic:       </th> <td>   99.80</td>\n",
       "</tr>\n",
       "<tr>\n",
       "  <th>Date:</th>             <td>Tue, 21 Jun 2022</td> <th>  Prob (F-statistic):</th> <td>3.31e-13</td>\n",
       "</tr>\n",
       "<tr>\n",
       "  <th>Time:</th>                 <td>21:45:49</td>     <th>  Log-Likelihood:    </th> <td> -213.08</td>\n",
       "</tr>\n",
       "<tr>\n",
       "  <th>No. Observations:</th>      <td>    49</td>      <th>  AIC:               </th> <td>   430.2</td>\n",
       "</tr>\n",
       "<tr>\n",
       "  <th>Df Residuals:</th>          <td>    47</td>      <th>  BIC:               </th> <td>   433.9</td>\n",
       "</tr>\n",
       "<tr>\n",
       "  <th>Df Model:</th>              <td>     1</td>      <th>                     </th>     <td> </td>   \n",
       "</tr>\n",
       "<tr>\n",
       "  <th>Covariance Type:</th>      <td>nonrobust</td>    <th>                     </th>     <td> </td>   \n",
       "</tr>\n",
       "</table>\n",
       "<table class=\"simpletable\">\n",
       "<tr>\n",
       "    <td></td>       <th>coef</th>     <th>std err</th>      <th>t</th>      <th>P>|t|</th>  <th>[0.025</th>    <th>0.975]</th>  \n",
       "</tr>\n",
       "<tr>\n",
       "  <th>const</th> <td>  389.1894</td> <td>   23.812</td> <td>   16.344</td> <td> 0.000</td> <td>  341.285</td> <td>  437.094</td>\n",
       "</tr>\n",
       "<tr>\n",
       "  <th>Lat</th>   <td>   -5.9776</td> <td>    0.598</td> <td>   -9.990</td> <td> 0.000</td> <td>   -7.181</td> <td>   -4.774</td>\n",
       "</tr>\n",
       "</table>\n",
       "<table class=\"simpletable\">\n",
       "<tr>\n",
       "  <th>Omnibus:</th>       <td> 0.740</td> <th>  Durbin-Watson:     </th> <td>   2.131</td>\n",
       "</tr>\n",
       "<tr>\n",
       "  <th>Prob(Omnibus):</th> <td> 0.691</td> <th>  Jarque-Bera (JB):  </th> <td>   0.773</td>\n",
       "</tr>\n",
       "<tr>\n",
       "  <th>Skew:</th>          <td> 0.094</td> <th>  Prob(JB):          </th> <td>   0.679</td>\n",
       "</tr>\n",
       "<tr>\n",
       "  <th>Kurtosis:</th>      <td> 2.414</td> <th>  Cond. No.          </th> <td>    347.</td>\n",
       "</tr>\n",
       "</table><br/><br/>Notes:<br/>[1] Standard Errors assume that the covariance matrix of the errors is correctly specified."
      ],
      "text/plain": [
       "<class 'statsmodels.iolib.summary.Summary'>\n",
       "\"\"\"\n",
       "                            OLS Regression Results                            \n",
       "==============================================================================\n",
       "Dep. Variable:                   Mort   R-squared:                       0.680\n",
       "Model:                            OLS   Adj. R-squared:                  0.673\n",
       "Method:                 Least Squares   F-statistic:                     99.80\n",
       "Date:                Tue, 21 Jun 2022   Prob (F-statistic):           3.31e-13\n",
       "Time:                        21:45:49   Log-Likelihood:                -213.08\n",
       "No. Observations:                  49   AIC:                             430.2\n",
       "Df Residuals:                      47   BIC:                             433.9\n",
       "Df Model:                           1                                         \n",
       "Covariance Type:            nonrobust                                         \n",
       "==============================================================================\n",
       "                 coef    std err          t      P>|t|      [0.025      0.975]\n",
       "------------------------------------------------------------------------------\n",
       "const        389.1894     23.812     16.344      0.000     341.285     437.094\n",
       "Lat           -5.9776      0.598     -9.990      0.000      -7.181      -4.774\n",
       "==============================================================================\n",
       "Omnibus:                        0.740   Durbin-Watson:                   2.131\n",
       "Prob(Omnibus):                  0.691   Jarque-Bera (JB):                0.773\n",
       "Skew:                           0.094   Prob(JB):                        0.679\n",
       "Kurtosis:                       2.414   Cond. No.                         347.\n",
       "==============================================================================\n",
       "\n",
       "Notes:\n",
       "[1] Standard Errors assume that the covariance matrix of the errors is correctly specified.\n",
       "\"\"\""
      ]
     },
     "execution_count": 5,
     "metadata": {},
     "output_type": "execute_result"
    }
   ],
   "source": [
    "y = df['Mort']\n",
    "X = df[['Lat']]\n",
    "X = sm.add_constant(X)\n",
    "sm.OLS(y, X).fit().summary()"
   ]
  },
  {
   "cell_type": "code",
   "execution_count": 6,
   "id": "8411bc94",
   "metadata": {},
   "outputs": [
    {
     "data": {
      "text/plain": [
       "<seaborn.axisgrid.FacetGrid at 0x7fcc23e25eb0>"
      ]
     },
     "execution_count": 6,
     "metadata": {},
     "output_type": "execute_result"
    },
    {
     "data": {
      "image/png": "[encoded data removed]",
      "text/plain": [
       "<Figure size 360x360 with 1 Axes>"
      ]
     },
     "metadata": {
      "needs_background": "light"
     },
     "output_type": "display_data"
    }
   ],
   "source": [
    "sns.lmplot(x='Lat',y='Mort',data=df,fit_reg=True)"
   ]
  },
  {
   "cell_type": "markdown",
   "id": "a757b9d0",
   "metadata": {},
   "source": [
    "Null hypothesis: $\\beta_1$ = some number $\\beta$\n",
    "$$\n",
    "t^* = \\frac{b_1 - \\beta}{\\frac{\\sqrt{MSE}}{\\sqrt{\\sum(x_i-\\bar{x})^2}}}\n",
    "$$"
   ]
  },
  {
   "cell_type": "code",
   "execution_count": 7,
   "id": "bc50cad7",
   "metadata": {},
   "outputs": [
    {
     "data": {
      "text/html": [
       "<div>\n",
       "<style scoped>\n",
       "    .dataframe tbody tr th:only-of-type {\n",
       "        vertical-align: middle;\n",
       "    }\n",
       "\n",
       "    .dataframe tbody tr th {\n",
       "        vertical-align: top;\n",
       "    }\n",
       "\n",
       "    .dataframe thead th {\n",
       "        text-align: right;\n",
       "    }\n",
       "</style>\n",
       "<table border=\"1\" class=\"dataframe\">\n",
       "  <thead>\n",
       "    <tr style=\"text-align: right;\">\n",
       "      <th></th>\n",
       "      <th>df</th>\n",
       "      <th>sum_sq</th>\n",
       "      <th>mean_sq</th>\n",
       "      <th>F</th>\n",
       "      <th>PR(&gt;F)</th>\n",
       "    </tr>\n",
       "  </thead>\n",
       "  <tbody>\n",
       "    <tr>\n",
       "      <th>intercept</th>\n",
       "      <td>1.0</td>\n",
       "      <td>1.306122</td>\n",
       "      <td>1.306122</td>\n",
       "      <td>0.003575</td>\n",
       "      <td>9.525777e-01</td>\n",
       "    </tr>\n",
       "    <tr>\n",
       "      <th>Lat</th>\n",
       "      <td>1.0</td>\n",
       "      <td>37169.256618</td>\n",
       "      <td>37169.256618</td>\n",
       "      <td>101.726457</td>\n",
       "      <td>2.427884e-13</td>\n",
       "    </tr>\n",
       "    <tr>\n",
       "      <th>Residual</th>\n",
       "      <td>47.0</td>\n",
       "      <td>17173.065103</td>\n",
       "      <td>365.384364</td>\n",
       "      <td>NaN</td>\n",
       "      <td>NaN</td>\n",
       "    </tr>\n",
       "  </tbody>\n",
       "</table>\n",
       "</div>"
      ],
      "text/plain": [
       "             df        sum_sq       mean_sq           F        PR(>F)\n",
       "intercept   1.0      1.306122      1.306122    0.003575  9.525777e-01\n",
       "Lat         1.0  37169.256618  37169.256618  101.726457  2.427884e-13\n",
       "Residual   47.0  17173.065103    365.384364         NaN           NaN"
      ]
     },
     "execution_count": 7,
     "metadata": {},
     "output_type": "execute_result"
    }
   ],
   "source": [
    "df['intercept'] = 1\n",
    "model = ols('Mort ~ intercept + Lat', data=df).fit()\n",
    "sm.stats.anova_lm(model)"
   ]
  },
  {
   "cell_type": "code",
   "execution_count": 8,
   "id": "0bf8c798",
   "metadata": {},
   "outputs": [
    {
     "data": {
      "text/plain": [
       "20.826280716368178"
      ]
     },
     "execution_count": 8,
     "metadata": {},
     "output_type": "execute_result"
    }
   ],
   "source": [
    "np.var(df['Lat'])"
   ]
  },
  {
   "cell_type": "code",
   "execution_count": 9,
   "id": "4e1ac9c3",
   "metadata": {},
   "outputs": [
    {
     "data": {
      "text/plain": [
       "0.5983717480944304"
      ]
     },
     "execution_count": 9,
     "metadata": {},
     "output_type": "execute_result"
    }
   ],
   "source": [
    "np.sqrt(365.384364 / (20.826280716368178 * len(df)))"
   ]
  },
  {
   "cell_type": "markdown",
   "id": "9705d2e9",
   "metadata": {},
   "source": [
    "#### Factors affecting the width of a confidence interval"
   ]
  },
  {
   "cell_type": "markdown",
   "id": "d701e403",
   "metadata": {},
   "source": [
    "$$\n",
    "b_1 - t \\frac{\\sqrt{MSE}}{\\sqrt{\\sum(x_i - \\bar{x})^2}}\n",
    "$$"
   ]
  },
  {
   "cell_type": "markdown",
   "id": "fca4bf75",
   "metadata": {},
   "source": [
    "(1) confidence level"
   ]
  },
  {
   "cell_type": "markdown",
   "id": "9edcbd19",
   "metadata": {},
   "source": [
    "(2) MSE = total - explanation"
   ]
  },
  {
   "cell_type": "markdown",
   "id": "b057e66b",
   "metadata": {},
   "source": [
    "(3) the more spread out the predictor x values"
   ]
  },
  {
   "cell_type": "markdown",
   "id": "a0317365",
   "metadata": {},
   "source": [
    "(4) the sample size"
   ]
  },
  {
   "cell_type": "markdown",
   "id": "91f31e08",
   "metadata": {},
   "source": [
    "#### Now you can get the idea of t test"
   ]
  },
  {
   "cell_type": "markdown",
   "id": "6a8d2656",
   "metadata": {},
   "source": [
    "#### Let's talk about ANOVA F test"
   ]
  },
  {
   "cell_type": "code",
   "execution_count": 10,
   "id": "bdd63d57",
   "metadata": {},
   "outputs": [
    {
     "data": {
      "text/html": [
       "<img src=\"STAT501_Lesson02/mortality_latitude.png\" width=\"600\" height=\"600\"/>"
      ],
      "text/plain": [
       "<IPython.core.display.Image object>"
      ]
     },
     "execution_count": 10,
     "metadata": {},
     "output_type": "execute_result"
    }
   ],
   "source": [
    "Image(url=os.path.join(filedir, \"mortality_latitude.png\"), width=600, height=600)"
   ]
  },
  {
   "cell_type": "markdown",
   "id": "494925b4",
   "metadata": {},
   "source": [
    "We have illustrated that the total variation (53637) is the sum of two parts - variation \"due to\" latitude (36464) and variation just due to random error (17173)"
   ]
  },
  {
   "cell_type": "code",
   "execution_count": 11,
   "id": "7f93b2cf",
   "metadata": {},
   "outputs": [
    {
     "data": {
      "text/html": [
       "<img src=\"STAT501_Lesson02/gpa_height.png\" width=\"600\" height=\"600\"/>"
      ],
      "text/plain": [
       "<IPython.core.display.Image object>"
      ]
     },
     "execution_count": 11,
     "metadata": {},
     "output_type": "execute_result"
    }
   ],
   "source": [
    "Image(url=os.path.join(filedir, \"gpa_height.png\"), width=600, height=600)"
   ]
  },
  {
   "cell_type": "markdown",
   "id": "c5745539",
   "metadata": {},
   "source": [
    "Here the total variation is 9.7331; only 0.0276 can be explained by our model. Very little of the variation can be attributed to the predictor height."
   ]
  },
  {
   "cell_type": "code",
   "execution_count": 12,
   "id": "59b00d4a",
   "metadata": {},
   "outputs": [
    {
     "data": {
      "text/html": [
       "<img src=\"STAT501_Lesson02/ssr_sse.png\" width=\"600\" height=\"600\"/>"
      ],
      "text/plain": [
       "<IPython.core.display.Image object>"
      ]
     },
     "execution_count": 12,
     "metadata": {},
     "output_type": "execute_result"
    }
   ],
   "source": [
    "Image(url=os.path.join(filedir, \"ssr_sse.png\"), width=600, height=600)"
   ]
  },
  {
   "cell_type": "markdown",
   "id": "f95a8814",
   "metadata": {},
   "source": [
    "$$MSR = \\frac{SSR}{1}$$<br> \n",
    "$$MSE = \\frac{SSE}{n-2}$$"
   ]
  },
  {
   "cell_type": "markdown",
   "id": "662cacad",
   "metadata": {},
   "source": [
    "Imagine taking many, many random samples of size n from a population, and estimating the regression line and determining MSR and MSE for each data set obtained.\n",
    "$$\n",
    "E[MSR] = \\sigma^2 + \\beta_1^2 \\sum_{i=1}^n (X_i - \\bar{X})^2\n",
    "$$\n",
    "$$\n",
    "E[MSE] = \\sigma^2\n",
    "$$"
   ]
  },
  {
   "cell_type": "markdown",
   "id": "acec48e7",
   "metadata": {},
   "source": [
    "It suggests how to test $\\beta_1=0$<br>\n",
    "If $\\beta_0=0$, then we'd expect the ratio MSR/MSE to equal 1"
   ]
  },
  {
   "cell_type": "markdown",
   "id": "a37c75c2",
   "metadata": {},
   "source": [
    "F test with df (1, n-2)"
   ]
  },
  {
   "cell_type": "markdown",
   "id": "b15a7d9a",
   "metadata": {},
   "source": [
    "#### In the simple LR, F test and t test are equivalent. The F-test is more useful for the multiple regression model when we want to test that more than one slope parameter is 0."
   ]
  },
  {
   "cell_type": "code",
   "execution_count": null,
   "id": "e5c3928c",
   "metadata": {},
   "outputs": [],
   "source": []
  }
 ],
 "metadata": {
  "kernelspec": {
   "display_name": "Python 3 (ipykernel)",
   "language": "python",
   "name": "python3"
  },
  "language_info": {
   "codemirror_mode": {
    "name": "ipython",
    "version": 3
   },
   "file_extension": ".py",
   "mimetype": "text/x-python",
   "name": "python",
   "nbconvert_exporter": "python",
   "pygments_lexer": "ipython3",
   "version": "3.9.7"
  }
 },
 "nbformat": 4,
 "nbformat_minor": 5
}
