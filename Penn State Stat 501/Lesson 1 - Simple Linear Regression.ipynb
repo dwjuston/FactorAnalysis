{
 "cells": [
  {
   "cell_type": "markdown",
   "id": "edf974e8",
   "metadata": {},
   "source": [
    "#### https://online.stat.psu.edu/stat501/lesson/1/"
   ]
  },
  {
   "cell_type": "code",
   "execution_count": 1,
   "id": "e3339276",
   "metadata": {},
   "outputs": [],
   "source": [
    "import os"
   ]
  },
  {
   "cell_type": "code",
   "execution_count": 2,
   "id": "95c1a7e4",
   "metadata": {},
   "outputs": [
    {
     "data": {
      "text/plain": [
       "['Lesson 4 - SLR Model Assumptions.ipynb',\n",
       " '.DS_Store',\n",
       " 'STAT501_Lesson01',\n",
       " 'Lesson 2 - SLR Model Evaluation.ipynb',\n",
       " 'STAT501_Lesson04',\n",
       " 'STAT501_Lesson03',\n",
       " 'STAT501_Lesson02',\n",
       " '.ipynb_checkpoints',\n",
       " 'Lesson 1 - Simple Linear Regression.ipynb']"
      ]
     },
     "execution_count": 2,
     "metadata": {},
     "output_type": "execute_result"
    }
   ],
   "source": [
    "os.listdir()"
   ]
  },
  {
   "cell_type": "code",
   "execution_count": 3,
   "id": "54a419ee",
   "metadata": {},
   "outputs": [],
   "source": [
    "filedir = 'STAT501_Lesson01'"
   ]
  },
  {
   "cell_type": "code",
   "execution_count": 4,
   "id": "a8b825e1",
   "metadata": {},
   "outputs": [
    {
     "data": {
      "text/plain": [
       "['fev_dat.txt',\n",
       " 'mccoo.txt',\n",
       " '.DS_Store',\n",
       " 'signdist.txt',\n",
       " 'skincancer.txt',\n",
       " 'infant.txt',\n",
       " 'student_height_weight.txt',\n",
       " 'practical.txt',\n",
       " 'entrancescore_gpa.png',\n",
       " 'carstopping.txt',\n",
       " 'heightgpa.txt',\n",
       " 'oldfaithful.txt',\n",
       " 'drugdea.txt',\n",
       " 'poverty.txt',\n",
       " 'husbandwife.txt',\n",
       " 'bldgstories.txt']"
      ]
     },
     "execution_count": 4,
     "metadata": {},
     "output_type": "execute_result"
    }
   ],
   "source": [
    "os.listdir(filedir)"
   ]
  },
  {
   "cell_type": "code",
   "execution_count": 5,
   "id": "3ba9e5c5",
   "metadata": {},
   "outputs": [],
   "source": [
    "import pandas as pd"
   ]
  },
  {
   "cell_type": "code",
   "execution_count": 6,
   "id": "190b3570",
   "metadata": {},
   "outputs": [
    {
     "data": {
      "text/html": [
       "<div>\n",
       "<style scoped>\n",
       "    .dataframe tbody tr th:only-of-type {\n",
       "        vertical-align: middle;\n",
       "    }\n",
       "\n",
       "    .dataframe tbody tr th {\n",
       "        vertical-align: top;\n",
       "    }\n",
       "\n",
       "    .dataframe thead th {\n",
       "        text-align: right;\n",
       "    }\n",
       "</style>\n",
       "<table border=\"1\" class=\"dataframe\">\n",
       "  <thead>\n",
       "    <tr style=\"text-align: right;\">\n",
       "      <th></th>\n",
       "      <th>ht</th>\n",
       "      <th>wt</th>\n",
       "    </tr>\n",
       "  </thead>\n",
       "  <tbody>\n",
       "    <tr>\n",
       "      <th>0</th>\n",
       "      <td>63</td>\n",
       "      <td>127</td>\n",
       "    </tr>\n",
       "    <tr>\n",
       "      <th>1</th>\n",
       "      <td>64</td>\n",
       "      <td>121</td>\n",
       "    </tr>\n",
       "    <tr>\n",
       "      <th>2</th>\n",
       "      <td>66</td>\n",
       "      <td>142</td>\n",
       "    </tr>\n",
       "    <tr>\n",
       "      <th>3</th>\n",
       "      <td>69</td>\n",
       "      <td>157</td>\n",
       "    </tr>\n",
       "    <tr>\n",
       "      <th>4</th>\n",
       "      <td>69</td>\n",
       "      <td>162</td>\n",
       "    </tr>\n",
       "    <tr>\n",
       "      <th>5</th>\n",
       "      <td>71</td>\n",
       "      <td>156</td>\n",
       "    </tr>\n",
       "    <tr>\n",
       "      <th>6</th>\n",
       "      <td>71</td>\n",
       "      <td>169</td>\n",
       "    </tr>\n",
       "    <tr>\n",
       "      <th>7</th>\n",
       "      <td>72</td>\n",
       "      <td>165</td>\n",
       "    </tr>\n",
       "    <tr>\n",
       "      <th>8</th>\n",
       "      <td>73</td>\n",
       "      <td>181</td>\n",
       "    </tr>\n",
       "    <tr>\n",
       "      <th>9</th>\n",
       "      <td>75</td>\n",
       "      <td>208</td>\n",
       "    </tr>\n",
       "  </tbody>\n",
       "</table>\n",
       "</div>"
      ],
      "text/plain": [
       "   ht   wt\n",
       "0  63  127\n",
       "1  64  121\n",
       "2  66  142\n",
       "3  69  157\n",
       "4  69  162\n",
       "5  71  156\n",
       "6  71  169\n",
       "7  72  165\n",
       "8  73  181\n",
       "9  75  208"
      ]
     },
     "execution_count": 6,
     "metadata": {},
     "output_type": "execute_result"
    }
   ],
   "source": [
    "df = pd.read_table(os.path.join(filedir, 'student_height_weight.txt'))\n",
    "df"
   ]
  },
  {
   "cell_type": "code",
   "execution_count": 7,
   "id": "280f61eb",
   "metadata": {},
   "outputs": [
    {
     "name": "stderr",
     "output_type": "stream",
     "text": [
      "/Users/yuehuazhuang/opt/anaconda3/lib/python3.9/site-packages/statsmodels/tsa/tsatools.py:142: FutureWarning: In a future version of pandas all arguments of concat except for the argument 'objs' will be keyword-only\n",
      "  x = pd.concat(x[::order], 1)\n",
      "/Users/yuehuazhuang/opt/anaconda3/lib/python3.9/site-packages/scipy/stats/stats.py:1541: UserWarning: kurtosistest only valid for n>=20 ... continuing anyway, n=10\n",
      "  warnings.warn(\"kurtosistest only valid for n>=20 ... continuing \"\n"
     ]
    },
    {
     "data": {
      "text/html": [
       "<table class=\"simpletable\">\n",
       "<caption>OLS Regression Results</caption>\n",
       "<tr>\n",
       "  <th>Dep. Variable:</th>           <td>wt</td>        <th>  R-squared:         </th> <td>   0.897</td>\n",
       "</tr>\n",
       "<tr>\n",
       "  <th>Model:</th>                   <td>OLS</td>       <th>  Adj. R-squared:    </th> <td>   0.884</td>\n",
       "</tr>\n",
       "<tr>\n",
       "  <th>Method:</th>             <td>Least Squares</td>  <th>  F-statistic:       </th> <td>   69.67</td>\n",
       "</tr>\n",
       "<tr>\n",
       "  <th>Date:</th>             <td>Sun, 19 Jun 2022</td> <th>  Prob (F-statistic):</th> <td>3.21e-05</td>\n",
       "</tr>\n",
       "<tr>\n",
       "  <th>Time:</th>                 <td>08:17:58</td>     <th>  Log-Likelihood:    </th> <td> -34.639</td>\n",
       "</tr>\n",
       "<tr>\n",
       "  <th>No. Observations:</th>      <td>    10</td>      <th>  AIC:               </th> <td>   73.28</td>\n",
       "</tr>\n",
       "<tr>\n",
       "  <th>Df Residuals:</th>          <td>     8</td>      <th>  BIC:               </th> <td>   73.88</td>\n",
       "</tr>\n",
       "<tr>\n",
       "  <th>Df Model:</th>              <td>     1</td>      <th>                     </th>     <td> </td>   \n",
       "</tr>\n",
       "<tr>\n",
       "  <th>Covariance Type:</th>      <td>nonrobust</td>    <th>                     </th>     <td> </td>   \n",
       "</tr>\n",
       "</table>\n",
       "<table class=\"simpletable\">\n",
       "<tr>\n",
       "    <td></td>       <th>coef</th>     <th>std err</th>      <th>t</th>      <th>P>|t|</th>  <th>[0.025</th>    <th>0.975]</th>  \n",
       "</tr>\n",
       "<tr>\n",
       "  <th>const</th> <td> -266.5344</td> <td>   51.032</td> <td>   -5.223</td> <td> 0.001</td> <td> -384.214</td> <td> -148.854</td>\n",
       "</tr>\n",
       "<tr>\n",
       "  <th>ht</th>    <td>    6.1376</td> <td>    0.735</td> <td>    8.347</td> <td> 0.000</td> <td>    4.442</td> <td>    7.833</td>\n",
       "</tr>\n",
       "</table>\n",
       "<table class=\"simpletable\">\n",
       "<tr>\n",
       "  <th>Omnibus:</th>       <td> 0.036</td> <th>  Durbin-Watson:     </th> <td>   1.975</td>\n",
       "</tr>\n",
       "<tr>\n",
       "  <th>Prob(Omnibus):</th> <td> 0.982</td> <th>  Jarque-Bera (JB):  </th> <td>   0.137</td>\n",
       "</tr>\n",
       "<tr>\n",
       "  <th>Skew:</th>          <td>-0.046</td> <th>  Prob(JB):          </th> <td>   0.934</td>\n",
       "</tr>\n",
       "<tr>\n",
       "  <th>Kurtosis:</th>      <td> 2.434</td> <th>  Cond. No.          </th> <td>1.30e+03</td>\n",
       "</tr>\n",
       "</table><br/><br/>Notes:<br/>[1] Standard Errors assume that the covariance matrix of the errors is correctly specified.<br/>[2] The condition number is large, 1.3e+03. This might indicate that there are<br/>strong multicollinearity or other numerical problems."
      ],
      "text/plain": [
       "<class 'statsmodels.iolib.summary.Summary'>\n",
       "\"\"\"\n",
       "                            OLS Regression Results                            \n",
       "==============================================================================\n",
       "Dep. Variable:                     wt   R-squared:                       0.897\n",
       "Model:                            OLS   Adj. R-squared:                  0.884\n",
       "Method:                 Least Squares   F-statistic:                     69.67\n",
       "Date:                Sun, 19 Jun 2022   Prob (F-statistic):           3.21e-05\n",
       "Time:                        08:17:58   Log-Likelihood:                -34.639\n",
       "No. Observations:                  10   AIC:                             73.28\n",
       "Df Residuals:                       8   BIC:                             73.88\n",
       "Df Model:                           1                                         \n",
       "Covariance Type:            nonrobust                                         \n",
       "==============================================================================\n",
       "                 coef    std err          t      P>|t|      [0.025      0.975]\n",
       "------------------------------------------------------------------------------\n",
       "const       -266.5344     51.032     -5.223      0.001    -384.214    -148.854\n",
       "ht             6.1376      0.735      8.347      0.000       4.442       7.833\n",
       "==============================================================================\n",
       "Omnibus:                        0.036   Durbin-Watson:                   1.975\n",
       "Prob(Omnibus):                  0.982   Jarque-Bera (JB):                0.137\n",
       "Skew:                          -0.046   Prob(JB):                        0.934\n",
       "Kurtosis:                       2.434   Cond. No.                     1.30e+03\n",
       "==============================================================================\n",
       "\n",
       "Notes:\n",
       "[1] Standard Errors assume that the covariance matrix of the errors is correctly specified.\n",
       "[2] The condition number is large, 1.3e+03. This might indicate that there are\n",
       "strong multicollinearity or other numerical problems.\n",
       "\"\"\""
      ]
     },
     "execution_count": 7,
     "metadata": {},
     "output_type": "execute_result"
    }
   ],
   "source": [
    "import statsmodels.api as sm\n",
    "X = df[['ht']]\n",
    "y = df['wt']\n",
    "X = sm.add_constant(X)\n",
    "model = sm.OLS(y, X)\n",
    "results = model.fit()\n",
    "results.summary()"
   ]
  },
  {
   "cell_type": "code",
   "execution_count": 8,
   "id": "6162c9da",
   "metadata": {},
   "outputs": [
    {
     "data": {
      "text/plain": [
       "<seaborn.axisgrid.FacetGrid at 0x7f81c1d9d640>"
      ]
     },
     "execution_count": 8,
     "metadata": {},
     "output_type": "execute_result"
    },
    {
     "data": {
      "image/png": "[encoded data removed]",
      "text/plain": [
       "<Figure size 360x360 with 1 Axes>"
      ]
     },
     "metadata": {
      "needs_background": "light"
     },
     "output_type": "display_data"
    }
   ],
   "source": [
    "import seaborn as sns\n",
    "sns.lmplot(x='wt',y='ht',data=df,fit_reg=True)"
   ]
  },
  {
   "cell_type": "markdown",
   "id": "ff648ef2",
   "metadata": {},
   "source": [
    "A line that fits the data \"best\" will be one with smallest error overall, i.e. minimize the sum of the squared prediction errors."
   ]
  },
  {
   "cell_type": "markdown",
   "id": "52bc1166",
   "metadata": {},
   "source": [
    "$$\n",
    "\\hat{y}_i = b_{0} + b_{1} x_i\n",
    "$$"
   ]
  },
  {
   "cell_type": "markdown",
   "id": "aea4941f",
   "metadata": {},
   "source": [
    "#### What do $b_0$ and $b_1$ estimate?"
   ]
  },
  {
   "cell_type": "markdown",
   "id": "5e258ecc",
   "metadata": {},
   "source": [
    "If we know the entire population, we do draw a population regression line; but we only have samples. We are interested in the population paramters, but we can only get sample estimates. In order to draw any conclusions about the population paramters, we have to make a few more assumptions about the behavior of the data in a regression setting."
   ]
  },
  {
   "cell_type": "markdown",
   "id": "93667d92",
   "metadata": {},
   "source": [
    "(1) We try to figure out a linear relationship between x and y. Is it reasonable to assume X and Y are linearly related? Equiavalently, whether the mean of the error is zero."
   ]
  },
  {
   "cell_type": "markdown",
   "id": "745f8deb",
   "metadata": {},
   "source": [
    "(2) After linear regression, does it reasonable to assume that the errors are normally distributed?"
   ]
  },
  {
   "cell_type": "markdown",
   "id": "516a79da",
   "metadata": {},
   "source": [
    "(3) Does it seem reasonable to assume that the errors have equal variance?"
   ]
  },
  {
   "cell_type": "markdown",
   "id": "c72a45b5",
   "metadata": {},
   "source": [
    "(4) Does it also seem reasonable to assume that the error from one observation is independent of the error for another data point?"
   ]
  },
  {
   "cell_type": "markdown",
   "id": "6bcc0bcd",
   "metadata": {},
   "source": [
    "#### In summary, to do a simple linear regression, we need to check LINE assumptions: Linear, Independent, Normal distribution, Equal Variance"
   ]
  },
  {
   "cell_type": "markdown",
   "id": "90844ca3",
   "metadata": {},
   "source": [
    "#### 1. Population Variance"
   ]
  },
  {
   "cell_type": "markdown",
   "id": "c9105101",
   "metadata": {},
   "source": [
    "We need to use sample variance to infer population variance"
   ]
  },
  {
   "cell_type": "markdown",
   "id": "758fed9a",
   "metadata": {},
   "source": [
    "If we have just one population, we can easily estimate the sample variance by the formula <br><br>\n",
    "$$\n",
    "s^2 = \\frac{\\sum_{i=1}^n (y_i - \\bar{y})^2}{n-1}\n",
    "$$"
   ]
  },
  {
   "cell_type": "markdown",
   "id": "aef39c69",
   "metadata": {},
   "source": [
    "Let's extend this thinking in the simple linear regression setting. Assume that $\\sigma^2$ is the same for each of the subpopulations. There are 4 subpopulations depicted in the plot below. In general, there are as many as there are distinct x values in the population."
   ]
  },
  {
   "cell_type": "markdown",
   "id": "6212e40a",
   "metadata": {},
   "source": [
    "Each subpopulation has its own mean $\\mu_Y$ which depends on x through $\\mu_Y = E[Y] = \\beta_0 + \\beta_1 x$"
   ]
  },
  {
   "cell_type": "markdown",
   "id": "b2dfdc05",
   "metadata": {},
   "source": [
    "And each subpopulation mean can be estimated using the estimated regression equation $\\hat{y}_i = b_0 + b_1 x_i$"
   ]
  },
  {
   "cell_type": "code",
   "execution_count": 9,
   "id": "e788146e",
   "metadata": {},
   "outputs": [
    {
     "data": {
      "text/html": [
       "<img src=\"STAT501_Lesson01/entrancescore_gpa.png\" width=\"600\" height=\"600\"/>"
      ],
      "text/plain": [
       "<IPython.core.display.Image object>"
      ]
     },
     "execution_count": 9,
     "metadata": {},
     "output_type": "execute_result"
    }
   ],
   "source": [
    "# import image module\n",
    "from IPython.display import Image\n",
    "  \n",
    "# get the image\n",
    "Image(url=os.path.join(filedir, \"entrancescore_gpa.png\"), width=600, height=600)"
   ]
  },
  {
   "cell_type": "markdown",
   "id": "4acf6661",
   "metadata": {},
   "source": [
    "In this case we use the mean square error estimates, the common variance of the many subpopulations. <br><br>\n",
    "$$\n",
    "MSE = \\frac{\\sum_{i=1}^n (y_i - \\hat{y}_i)^2}{n-2}\n",
    "$$"
   ]
  },
  {
   "cell_type": "markdown",
   "id": "dabb37ec",
   "metadata": {},
   "source": [
    "Why divided by n-2? To estimate MSE, we effectively estimate 2 parameters: the population intercept $\\beta_0$ and the population slope $\\beta_1$. Hence, we lose 2 degrees of freedom"
   ]
  },
  {
   "cell_type": "markdown",
   "id": "fa922cb7",
   "metadata": {},
   "source": [
    "#### MSE can be found in ANOVA table: Mean Squared Error = 74.67"
   ]
  },
  {
   "cell_type": "code",
   "execution_count": 10,
   "id": "d845909f",
   "metadata": {},
   "outputs": [],
   "source": [
    "from statsmodels.formula.api import ols"
   ]
  },
  {
   "cell_type": "code",
   "execution_count": 11,
   "id": "ac2f2f5c",
   "metadata": {},
   "outputs": [],
   "source": [
    "df['intercept'] = 1\n",
    "model = ols('wt ~ intercept + ht', data=df).fit()"
   ]
  },
  {
   "cell_type": "code",
   "execution_count": 12,
   "id": "22b6b726",
   "metadata": {},
   "outputs": [
    {
     "data": {
      "text/html": [
       "<div>\n",
       "<style scoped>\n",
       "    .dataframe tbody tr th:only-of-type {\n",
       "        vertical-align: middle;\n",
       "    }\n",
       "\n",
       "    .dataframe tbody tr th {\n",
       "        vertical-align: top;\n",
       "    }\n",
       "\n",
       "    .dataframe thead th {\n",
       "        text-align: right;\n",
       "    }\n",
       "</style>\n",
       "<table border=\"1\" class=\"dataframe\">\n",
       "  <thead>\n",
       "    <tr style=\"text-align: right;\">\n",
       "      <th></th>\n",
       "      <th>df</th>\n",
       "      <th>sum_sq</th>\n",
       "      <th>mean_sq</th>\n",
       "      <th>F</th>\n",
       "      <th>PR(&gt;F)</th>\n",
       "    </tr>\n",
       "  </thead>\n",
       "  <tbody>\n",
       "    <tr>\n",
       "      <th>intercept</th>\n",
       "      <td>1.0</td>\n",
       "      <td>1123.600000</td>\n",
       "      <td>1123.600000</td>\n",
       "      <td>15.046889</td>\n",
       "      <td>0.004681</td>\n",
       "    </tr>\n",
       "    <tr>\n",
       "      <th>ht</th>\n",
       "      <td>1.0</td>\n",
       "      <td>4155.585106</td>\n",
       "      <td>4155.585106</td>\n",
       "      <td>55.650255</td>\n",
       "      <td>0.000072</td>\n",
       "    </tr>\n",
       "    <tr>\n",
       "      <th>Residual</th>\n",
       "      <td>8.0</td>\n",
       "      <td>597.385952</td>\n",
       "      <td>74.673244</td>\n",
       "      <td>NaN</td>\n",
       "      <td>NaN</td>\n",
       "    </tr>\n",
       "  </tbody>\n",
       "</table>\n",
       "</div>"
      ],
      "text/plain": [
       "            df       sum_sq      mean_sq          F    PR(>F)\n",
       "intercept  1.0  1123.600000  1123.600000  15.046889  0.004681\n",
       "ht         1.0  4155.585106  4155.585106  55.650255  0.000072\n",
       "Residual   8.0   597.385952    74.673244        NaN       NaN"
      ]
     },
     "execution_count": 12,
     "metadata": {},
     "output_type": "execute_result"
    }
   ],
   "source": [
    "sm.stats.anova_lm(model)"
   ]
  },
  {
   "cell_type": "markdown",
   "id": "e7ed5aa9",
   "metadata": {},
   "source": [
    "#### 2. The Coefficient of Determination R2"
   ]
  },
  {
   "cell_type": "markdown",
   "id": "61f19928",
   "metadata": {},
   "source": [
    "Only shows a linear relationship"
   ]
  },
  {
   "cell_type": "markdown",
   "id": "23d09bad",
   "metadata": {},
   "source": [
    "always between 0 and 1; the value itself is not that useful; sometimes even 0.2 can be quite big"
   ]
  },
  {
   "cell_type": "markdown",
   "id": "69419ad4",
   "metadata": {},
   "source": [
    "Subject to outliers"
   ]
  },
  {
   "cell_type": "markdown",
   "id": "15d59743",
   "metadata": {},
   "source": [
    "Correlation (or association) does not imply causation. Mostly, an experiment can examine the causation; an observational study can't"
   ]
  },
  {
   "cell_type": "markdown",
   "id": "ef79e35e",
   "metadata": {},
   "source": [
    "A high r2 value does not imply that the slope is meaningfully different from 0. Because statistical significance does not imply practical significance. In general, the larger the data set, the easier it is to claim that the slope is not 0."
   ]
  },
  {
   "cell_type": "markdown",
   "id": "b594969a",
   "metadata": {},
   "source": [
    "A large r2 value does not necessarily mean that a useful prediction can be made. It's possible to get prediction intervals or confidence intervals that are too wide to be useful."
   ]
  },
  {
   "cell_type": "markdown",
   "id": "fb3d161e",
   "metadata": {},
   "source": [
    "#### 3. pearson correlation $\\rho$"
   ]
  },
  {
   "cell_type": "markdown",
   "id": "d8a63f9b",
   "metadata": {},
   "source": [
    "$$\n",
    "\\rho = b_1 \\frac{\\sigma_x}{\\sigma_y}\n",
    "$$"
   ]
  },
  {
   "cell_type": "markdown",
   "id": "3616d43e",
   "metadata": {},
   "source": [
    "Take an example to show that a large r2 does not necessarily imply useful predictions. The Old Faithful dataset contains data on 21 consecutive eruptions of volcano. It's believed that one can predict the time until the next eruption (next), given the length of time of the last eruption (duration)."
   ]
  },
  {
   "cell_type": "code",
   "execution_count": 13,
   "id": "bfd13228",
   "metadata": {},
   "outputs": [
    {
     "data": {
      "text/html": [
       "<div>\n",
       "<style scoped>\n",
       "    .dataframe tbody tr th:only-of-type {\n",
       "        vertical-align: middle;\n",
       "    }\n",
       "\n",
       "    .dataframe tbody tr th {\n",
       "        vertical-align: top;\n",
       "    }\n",
       "\n",
       "    .dataframe thead th {\n",
       "        text-align: right;\n",
       "    }\n",
       "</style>\n",
       "<table border=\"1\" class=\"dataframe\">\n",
       "  <thead>\n",
       "    <tr style=\"text-align: right;\">\n",
       "      <th></th>\n",
       "      <th>duration</th>\n",
       "      <th>next</th>\n",
       "    </tr>\n",
       "  </thead>\n",
       "  <tbody>\n",
       "    <tr>\n",
       "      <th>0</th>\n",
       "      <td>2.0</td>\n",
       "      <td>50</td>\n",
       "    </tr>\n",
       "    <tr>\n",
       "      <th>1</th>\n",
       "      <td>1.8</td>\n",
       "      <td>57</td>\n",
       "    </tr>\n",
       "    <tr>\n",
       "      <th>2</th>\n",
       "      <td>3.7</td>\n",
       "      <td>55</td>\n",
       "    </tr>\n",
       "    <tr>\n",
       "      <th>3</th>\n",
       "      <td>2.2</td>\n",
       "      <td>47</td>\n",
       "    </tr>\n",
       "    <tr>\n",
       "      <th>4</th>\n",
       "      <td>2.1</td>\n",
       "      <td>53</td>\n",
       "    </tr>\n",
       "    <tr>\n",
       "      <th>5</th>\n",
       "      <td>2.4</td>\n",
       "      <td>50</td>\n",
       "    </tr>\n",
       "    <tr>\n",
       "      <th>6</th>\n",
       "      <td>2.6</td>\n",
       "      <td>62</td>\n",
       "    </tr>\n",
       "    <tr>\n",
       "      <th>7</th>\n",
       "      <td>2.8</td>\n",
       "      <td>57</td>\n",
       "    </tr>\n",
       "    <tr>\n",
       "      <th>8</th>\n",
       "      <td>3.3</td>\n",
       "      <td>72</td>\n",
       "    </tr>\n",
       "    <tr>\n",
       "      <th>9</th>\n",
       "      <td>3.5</td>\n",
       "      <td>62</td>\n",
       "    </tr>\n",
       "    <tr>\n",
       "      <th>10</th>\n",
       "      <td>3.7</td>\n",
       "      <td>63</td>\n",
       "    </tr>\n",
       "    <tr>\n",
       "      <th>11</th>\n",
       "      <td>3.8</td>\n",
       "      <td>70</td>\n",
       "    </tr>\n",
       "    <tr>\n",
       "      <th>12</th>\n",
       "      <td>4.5</td>\n",
       "      <td>85</td>\n",
       "    </tr>\n",
       "    <tr>\n",
       "      <th>13</th>\n",
       "      <td>4.7</td>\n",
       "      <td>75</td>\n",
       "    </tr>\n",
       "    <tr>\n",
       "      <th>14</th>\n",
       "      <td>4.0</td>\n",
       "      <td>77</td>\n",
       "    </tr>\n",
       "    <tr>\n",
       "      <th>15</th>\n",
       "      <td>4.0</td>\n",
       "      <td>70</td>\n",
       "    </tr>\n",
       "    <tr>\n",
       "      <th>16</th>\n",
       "      <td>1.7</td>\n",
       "      <td>43</td>\n",
       "    </tr>\n",
       "    <tr>\n",
       "      <th>17</th>\n",
       "      <td>1.8</td>\n",
       "      <td>48</td>\n",
       "    </tr>\n",
       "    <tr>\n",
       "      <th>18</th>\n",
       "      <td>4.9</td>\n",
       "      <td>70</td>\n",
       "    </tr>\n",
       "    <tr>\n",
       "      <th>19</th>\n",
       "      <td>4.2</td>\n",
       "      <td>79</td>\n",
       "    </tr>\n",
       "    <tr>\n",
       "      <th>20</th>\n",
       "      <td>4.3</td>\n",
       "      <td>72</td>\n",
       "    </tr>\n",
       "  </tbody>\n",
       "</table>\n",
       "</div>"
      ],
      "text/plain": [
       "    duration  next\n",
       "0        2.0    50\n",
       "1        1.8    57\n",
       "2        3.7    55\n",
       "3        2.2    47\n",
       "4        2.1    53\n",
       "5        2.4    50\n",
       "6        2.6    62\n",
       "7        2.8    57\n",
       "8        3.3    72\n",
       "9        3.5    62\n",
       "10       3.7    63\n",
       "11       3.8    70\n",
       "12       4.5    85\n",
       "13       4.7    75\n",
       "14       4.0    77\n",
       "15       4.0    70\n",
       "16       1.7    43\n",
       "17       1.8    48\n",
       "18       4.9    70\n",
       "19       4.2    79\n",
       "20       4.3    72"
      ]
     },
     "execution_count": 13,
     "metadata": {},
     "output_type": "execute_result"
    }
   ],
   "source": [
    "df = pd.read_table(os.path.join(filedir, 'oldfaithful.txt'))\n",
    "df"
   ]
  },
  {
   "cell_type": "code",
   "execution_count": 14,
   "id": "e26f6601",
   "metadata": {},
   "outputs": [
    {
     "data": {
      "text/html": [
       "<div>\n",
       "<style scoped>\n",
       "    .dataframe tbody tr th:only-of-type {\n",
       "        vertical-align: middle;\n",
       "    }\n",
       "\n",
       "    .dataframe tbody tr th {\n",
       "        vertical-align: top;\n",
       "    }\n",
       "\n",
       "    .dataframe thead th {\n",
       "        text-align: right;\n",
       "    }\n",
       "</style>\n",
       "<table border=\"1\" class=\"dataframe\">\n",
       "  <thead>\n",
       "    <tr style=\"text-align: right;\">\n",
       "      <th></th>\n",
       "      <th>duration</th>\n",
       "      <th>next</th>\n",
       "    </tr>\n",
       "  </thead>\n",
       "  <tbody>\n",
       "    <tr>\n",
       "      <th>duration</th>\n",
       "      <td>1.000000</td>\n",
       "      <td>0.865494</td>\n",
       "    </tr>\n",
       "    <tr>\n",
       "      <th>next</th>\n",
       "      <td>0.865494</td>\n",
       "      <td>1.000000</td>\n",
       "    </tr>\n",
       "  </tbody>\n",
       "</table>\n",
       "</div>"
      ],
      "text/plain": [
       "          duration      next\n",
       "duration  1.000000  0.865494\n",
       "next      0.865494  1.000000"
      ]
     },
     "execution_count": 14,
     "metadata": {},
     "output_type": "execute_result"
    }
   ],
   "source": [
    "df.corr()"
   ]
  },
  {
   "cell_type": "code",
   "execution_count": 15,
   "id": "be8e129b",
   "metadata": {
    "scrolled": false
   },
   "outputs": [
    {
     "data": {
      "text/plain": [
       "<seaborn.axisgrid.FacetGrid at 0x7f81c5aa4850>"
      ]
     },
     "execution_count": 15,
     "metadata": {},
     "output_type": "execute_result"
    },
    {
     "data": {
      "image/png": "[encoded data removed]",
      "text/plain": [
       "<Figure size 360x360 with 1 Axes>"
      ]
     },
     "metadata": {
      "needs_background": "light"
     },
     "output_type": "display_data"
    }
   ],
   "source": [
    "sns.lmplot(x='duration',y='next',data=df,fit_reg=True)"
   ]
  },
  {
   "cell_type": "markdown",
   "id": "637f0336",
   "metadata": {},
   "source": [
    "#### 4. Hypothesis Test for the Population Correlation Coefficient"
   ]
  },
  {
   "cell_type": "code",
   "execution_count": 16,
   "id": "e4e01c08",
   "metadata": {},
   "outputs": [
    {
     "data": {
      "text/html": [
       "<div>\n",
       "<style scoped>\n",
       "    .dataframe tbody tr th:only-of-type {\n",
       "        vertical-align: middle;\n",
       "    }\n",
       "\n",
       "    .dataframe tbody tr th {\n",
       "        vertical-align: top;\n",
       "    }\n",
       "\n",
       "    .dataframe thead th {\n",
       "        text-align: right;\n",
       "    }\n",
       "</style>\n",
       "<table border=\"1\" class=\"dataframe\">\n",
       "  <thead>\n",
       "    <tr style=\"text-align: right;\">\n",
       "      <th></th>\n",
       "      <th>HAge</th>\n",
       "      <th>HHght</th>\n",
       "      <th>WAge</th>\n",
       "      <th>WHght</th>\n",
       "      <th>HAgeMar</th>\n",
       "    </tr>\n",
       "  </thead>\n",
       "  <tbody>\n",
       "    <tr>\n",
       "      <th>0</th>\n",
       "      <td>49</td>\n",
       "      <td>1809</td>\n",
       "      <td>43</td>\n",
       "      <td>1590</td>\n",
       "      <td>25</td>\n",
       "    </tr>\n",
       "    <tr>\n",
       "      <th>1</th>\n",
       "      <td>25</td>\n",
       "      <td>1841</td>\n",
       "      <td>28</td>\n",
       "      <td>1560</td>\n",
       "      <td>19</td>\n",
       "    </tr>\n",
       "    <tr>\n",
       "      <th>2</th>\n",
       "      <td>40</td>\n",
       "      <td>1659</td>\n",
       "      <td>30</td>\n",
       "      <td>1620</td>\n",
       "      <td>38</td>\n",
       "    </tr>\n",
       "    <tr>\n",
       "      <th>3</th>\n",
       "      <td>52</td>\n",
       "      <td>1779</td>\n",
       "      <td>57</td>\n",
       "      <td>1540</td>\n",
       "      <td>26</td>\n",
       "    </tr>\n",
       "    <tr>\n",
       "      <th>4</th>\n",
       "      <td>58</td>\n",
       "      <td>1616</td>\n",
       "      <td>52</td>\n",
       "      <td>1420</td>\n",
       "      <td>30</td>\n",
       "    </tr>\n",
       "    <tr>\n",
       "      <th>...</th>\n",
       "      <td>...</td>\n",
       "      <td>...</td>\n",
       "      <td>...</td>\n",
       "      <td>...</td>\n",
       "      <td>...</td>\n",
       "    </tr>\n",
       "    <tr>\n",
       "      <th>213</th>\n",
       "      <td>51</td>\n",
       "      <td>1675</td>\n",
       "      <td>45</td>\n",
       "      <td>1550</td>\n",
       "      <td>25</td>\n",
       "    </tr>\n",
       "    <tr>\n",
       "      <th>214</th>\n",
       "      <td>64</td>\n",
       "      <td>1641</td>\n",
       "      <td>64</td>\n",
       "      <td>1570</td>\n",
       "      <td>30</td>\n",
       "    </tr>\n",
       "    <tr>\n",
       "      <th>215</th>\n",
       "      <td>44</td>\n",
       "      <td>1743</td>\n",
       "      <td>43</td>\n",
       "      <td>1560</td>\n",
       "      <td>25</td>\n",
       "    </tr>\n",
       "    <tr>\n",
       "      <th>216</th>\n",
       "      <td>40</td>\n",
       "      <td>1823</td>\n",
       "      <td>39</td>\n",
       "      <td>1630</td>\n",
       "      <td>23</td>\n",
       "    </tr>\n",
       "    <tr>\n",
       "      <th>217</th>\n",
       "      <td>59</td>\n",
       "      <td>1720</td>\n",
       "      <td>56</td>\n",
       "      <td>1530</td>\n",
       "      <td>24</td>\n",
       "    </tr>\n",
       "  </tbody>\n",
       "</table>\n",
       "<p>218 rows × 5 columns</p>\n",
       "</div>"
      ],
      "text/plain": [
       "    HAge HHght WAge WHght HAgeMar\n",
       "0     49  1809   43  1590      25\n",
       "1     25  1841   28  1560      19\n",
       "2     40  1659   30  1620      38\n",
       "3     52  1779   57  1540      26\n",
       "4     58  1616   52  1420      30\n",
       "..   ...   ...  ...   ...     ...\n",
       "213   51  1675   45  1550      25\n",
       "214   64  1641   64  1570      30\n",
       "215   44  1743   43  1560      25\n",
       "216   40  1823   39  1630      23\n",
       "217   59  1720   56  1530      24\n",
       "\n",
       "[218 rows x 5 columns]"
      ]
     },
     "execution_count": 16,
     "metadata": {},
     "output_type": "execute_result"
    }
   ],
   "source": [
    "df = pd.read_table(os.path.join(filedir, 'husbandwife.txt'))\n",
    "df"
   ]
  },
  {
   "cell_type": "markdown",
   "id": "c8de9a88",
   "metadata": {},
   "source": [
    "Null hypothesis $H_0$: $\\rho = 0$"
   ]
  },
  {
   "cell_type": "markdown",
   "id": "eabf9e6f",
   "metadata": {},
   "source": [
    "Test Statistic: $$t^* = \\frac{r\\sqrt{n-2}}{\\sqrt{1-r^2}}$$ <br>\n",
    "This is a t-distribution with n-2 degrees of freedom"
   ]
  },
  {
   "cell_type": "code",
   "execution_count": 17,
   "id": "8381a2f4",
   "metadata": {},
   "outputs": [],
   "source": [
    "import numpy as np\n",
    "def test_rho(n, r):\n",
    "    return r * np.sqrt(n-2) / np.sqrt(1-r**2)"
   ]
  },
  {
   "cell_type": "code",
   "execution_count": 18,
   "id": "d7e63200",
   "metadata": {},
   "outputs": [
    {
     "data": {
      "text/plain": [
       "218"
      ]
     },
     "execution_count": 18,
     "metadata": {},
     "output_type": "execute_result"
    }
   ],
   "source": [
    "len(df)"
   ]
  },
  {
   "cell_type": "code",
   "execution_count": 19,
   "id": "85ced398",
   "metadata": {},
   "outputs": [
    {
     "data": {
      "text/html": [
       "<div>\n",
       "<style scoped>\n",
       "    .dataframe tbody tr th:only-of-type {\n",
       "        vertical-align: middle;\n",
       "    }\n",
       "\n",
       "    .dataframe tbody tr th {\n",
       "        vertical-align: top;\n",
       "    }\n",
       "\n",
       "    .dataframe thead th {\n",
       "        text-align: right;\n",
       "    }\n",
       "</style>\n",
       "<table border=\"1\" class=\"dataframe\">\n",
       "  <thead>\n",
       "    <tr style=\"text-align: right;\">\n",
       "      <th></th>\n",
       "      <th>HAge</th>\n",
       "      <th>HHght</th>\n",
       "      <th>WAge</th>\n",
       "      <th>WHght</th>\n",
       "      <th>HAgeMar</th>\n",
       "    </tr>\n",
       "  </thead>\n",
       "  <tbody>\n",
       "    <tr>\n",
       "      <th>0</th>\n",
       "      <td>49</td>\n",
       "      <td>1809</td>\n",
       "      <td>43</td>\n",
       "      <td>1590</td>\n",
       "      <td>25</td>\n",
       "    </tr>\n",
       "    <tr>\n",
       "      <th>1</th>\n",
       "      <td>25</td>\n",
       "      <td>1841</td>\n",
       "      <td>28</td>\n",
       "      <td>1560</td>\n",
       "      <td>19</td>\n",
       "    </tr>\n",
       "    <tr>\n",
       "      <th>2</th>\n",
       "      <td>40</td>\n",
       "      <td>1659</td>\n",
       "      <td>30</td>\n",
       "      <td>1620</td>\n",
       "      <td>38</td>\n",
       "    </tr>\n",
       "    <tr>\n",
       "      <th>3</th>\n",
       "      <td>52</td>\n",
       "      <td>1779</td>\n",
       "      <td>57</td>\n",
       "      <td>1540</td>\n",
       "      <td>26</td>\n",
       "    </tr>\n",
       "    <tr>\n",
       "      <th>4</th>\n",
       "      <td>58</td>\n",
       "      <td>1616</td>\n",
       "      <td>52</td>\n",
       "      <td>1420</td>\n",
       "      <td>30</td>\n",
       "    </tr>\n",
       "    <tr>\n",
       "      <th>...</th>\n",
       "      <td>...</td>\n",
       "      <td>...</td>\n",
       "      <td>...</td>\n",
       "      <td>...</td>\n",
       "      <td>...</td>\n",
       "    </tr>\n",
       "    <tr>\n",
       "      <th>213</th>\n",
       "      <td>51</td>\n",
       "      <td>1675</td>\n",
       "      <td>45</td>\n",
       "      <td>1550</td>\n",
       "      <td>25</td>\n",
       "    </tr>\n",
       "    <tr>\n",
       "      <th>214</th>\n",
       "      <td>64</td>\n",
       "      <td>1641</td>\n",
       "      <td>64</td>\n",
       "      <td>1570</td>\n",
       "      <td>30</td>\n",
       "    </tr>\n",
       "    <tr>\n",
       "      <th>215</th>\n",
       "      <td>44</td>\n",
       "      <td>1743</td>\n",
       "      <td>43</td>\n",
       "      <td>1560</td>\n",
       "      <td>25</td>\n",
       "    </tr>\n",
       "    <tr>\n",
       "      <th>216</th>\n",
       "      <td>40</td>\n",
       "      <td>1823</td>\n",
       "      <td>39</td>\n",
       "      <td>1630</td>\n",
       "      <td>23</td>\n",
       "    </tr>\n",
       "    <tr>\n",
       "      <th>217</th>\n",
       "      <td>59</td>\n",
       "      <td>1720</td>\n",
       "      <td>56</td>\n",
       "      <td>1530</td>\n",
       "      <td>24</td>\n",
       "    </tr>\n",
       "  </tbody>\n",
       "</table>\n",
       "<p>170 rows × 5 columns</p>\n",
       "</div>"
      ],
      "text/plain": [
       "    HAge HHght WAge WHght HAgeMar\n",
       "0     49  1809   43  1590      25\n",
       "1     25  1841   28  1560      19\n",
       "2     40  1659   30  1620      38\n",
       "3     52  1779   57  1540      26\n",
       "4     58  1616   52  1420      30\n",
       "..   ...   ...  ...   ...     ...\n",
       "213   51  1675   45  1550      25\n",
       "214   64  1641   64  1570      30\n",
       "215   44  1743   43  1560      25\n",
       "216   40  1823   39  1630      23\n",
       "217   59  1720   56  1530      24\n",
       "\n",
       "[170 rows x 5 columns]"
      ]
     },
     "execution_count": 19,
     "metadata": {},
     "output_type": "execute_result"
    }
   ],
   "source": [
    "mask = (df['HAge']=='*') | (df['WAge']=='*')\n",
    "tmp = df[~mask]\n",
    "tmp"
   ]
  },
  {
   "cell_type": "code",
   "execution_count": 20,
   "id": "24aa98ab",
   "metadata": {},
   "outputs": [
    {
     "name": "stderr",
     "output_type": "stream",
     "text": [
      "/Users/yuehuazhuang/opt/anaconda3/lib/python3.9/site-packages/pandas/core/indexing.py:1951: SettingWithCopyWarning: \n",
      "A value is trying to be set on a copy of a slice from a DataFrame.\n",
      "Try using .loc[row_indexer,col_indexer] = value instead\n",
      "\n",
      "See the caveats in the documentation: https://pandas.pydata.org/pandas-docs/stable/user_guide/indexing.html#returning-a-view-versus-a-copy\n",
      "  self.obj[selected_item_labels] = value\n",
      "/Users/yuehuazhuang/opt/anaconda3/lib/python3.9/site-packages/pandas/core/indexing.py:1773: SettingWithCopyWarning: \n",
      "A value is trying to be set on a copy of a slice from a DataFrame.\n",
      "Try using .loc[row_indexer,col_indexer] = value instead\n",
      "\n",
      "See the caveats in the documentation: https://pandas.pydata.org/pandas-docs/stable/user_guide/indexing.html#returning-a-view-versus-a-copy\n",
      "  self._setitem_single_column(ilocs[0], value, pi)\n"
     ]
    }
   ],
   "source": [
    "tmp.loc[:, 'HAge'] = tmp['HAge'].astype(float)\n",
    "tmp.loc[:, 'WAge'] = tmp['WAge'].astype(float)"
   ]
  },
  {
   "cell_type": "code",
   "execution_count": 21,
   "id": "30857de6",
   "metadata": {},
   "outputs": [
    {
     "data": {
      "text/plain": [
       "170"
      ]
     },
     "execution_count": 21,
     "metadata": {},
     "output_type": "execute_result"
    }
   ],
   "source": [
    "len(tmp)"
   ]
  },
  {
   "cell_type": "code",
   "execution_count": 22,
   "id": "cdece336",
   "metadata": {},
   "outputs": [
    {
     "data": {
      "text/html": [
       "<div>\n",
       "<style scoped>\n",
       "    .dataframe tbody tr th:only-of-type {\n",
       "        vertical-align: middle;\n",
       "    }\n",
       "\n",
       "    .dataframe tbody tr th {\n",
       "        vertical-align: top;\n",
       "    }\n",
       "\n",
       "    .dataframe thead th {\n",
       "        text-align: right;\n",
       "    }\n",
       "</style>\n",
       "<table border=\"1\" class=\"dataframe\">\n",
       "  <thead>\n",
       "    <tr style=\"text-align: right;\">\n",
       "      <th></th>\n",
       "      <th>HAge</th>\n",
       "      <th>WAge</th>\n",
       "    </tr>\n",
       "  </thead>\n",
       "  <tbody>\n",
       "    <tr>\n",
       "      <th>HAge</th>\n",
       "      <td>1.00000</td>\n",
       "      <td>0.93856</td>\n",
       "    </tr>\n",
       "    <tr>\n",
       "      <th>WAge</th>\n",
       "      <td>0.93856</td>\n",
       "      <td>1.00000</td>\n",
       "    </tr>\n",
       "  </tbody>\n",
       "</table>\n",
       "</div>"
      ],
      "text/plain": [
       "         HAge     WAge\n",
       "HAge  1.00000  0.93856\n",
       "WAge  0.93856  1.00000"
      ]
     },
     "execution_count": 22,
     "metadata": {},
     "output_type": "execute_result"
    }
   ],
   "source": [
    "tmp.corr()"
   ]
  },
  {
   "cell_type": "code",
   "execution_count": 23,
   "id": "f8ec6d43",
   "metadata": {},
   "outputs": [
    {
     "data": {
      "text/plain": [
       "35.24937775886158"
      ]
     },
     "execution_count": 23,
     "metadata": {},
     "output_type": "execute_result"
    }
   ],
   "source": [
    "test_rho(n=172-2, r=0.93856)"
   ]
  },
  {
   "cell_type": "code",
   "execution_count": 24,
   "id": "4bfcf3b5",
   "metadata": {},
   "outputs": [],
   "source": [
    "import scipy.stats"
   ]
  },
  {
   "cell_type": "code",
   "execution_count": 25,
   "id": "43a35184",
   "metadata": {},
   "outputs": [
    {
     "data": {
      "text/plain": [
       "1.0"
      ]
     },
     "execution_count": 25,
     "metadata": {},
     "output_type": "execute_result"
    }
   ],
   "source": [
    "scipy.stats.t.cdf(35.24937775886158, df=172-2)"
   ]
  },
  {
   "cell_type": "markdown",
   "id": "2af3c7fb",
   "metadata": {},
   "source": [
    "Final remark: if LINE assumptions are satisfied, we can do such t test."
   ]
  },
  {
   "cell_type": "markdown",
   "id": "3c086e02",
   "metadata": {},
   "source": [
    "#### Further example: Lung Function"
   ]
  },
  {
   "cell_type": "code",
   "execution_count": 26,
   "id": "513d6486",
   "metadata": {},
   "outputs": [
    {
     "data": {
      "text/html": [
       "<div>\n",
       "<style scoped>\n",
       "    .dataframe tbody tr th:only-of-type {\n",
       "        vertical-align: middle;\n",
       "    }\n",
       "\n",
       "    .dataframe tbody tr th {\n",
       "        vertical-align: top;\n",
       "    }\n",
       "\n",
       "    .dataframe thead th {\n",
       "        text-align: right;\n",
       "    }\n",
       "</style>\n",
       "<table border=\"1\" class=\"dataframe\">\n",
       "  <thead>\n",
       "    <tr style=\"text-align: right;\">\n",
       "      <th></th>\n",
       "      <th>age</th>\n",
       "      <th>FEV</th>\n",
       "      <th>ht</th>\n",
       "      <th>sex</th>\n",
       "      <th>smoke</th>\n",
       "    </tr>\n",
       "  </thead>\n",
       "  <tbody>\n",
       "    <tr>\n",
       "      <th>0</th>\n",
       "      <td>9</td>\n",
       "      <td>1.708</td>\n",
       "      <td>57.0</td>\n",
       "      <td>0</td>\n",
       "      <td>0</td>\n",
       "    </tr>\n",
       "    <tr>\n",
       "      <th>1</th>\n",
       "      <td>8</td>\n",
       "      <td>1.724</td>\n",
       "      <td>67.5</td>\n",
       "      <td>0</td>\n",
       "      <td>0</td>\n",
       "    </tr>\n",
       "    <tr>\n",
       "      <th>2</th>\n",
       "      <td>7</td>\n",
       "      <td>1.720</td>\n",
       "      <td>54.5</td>\n",
       "      <td>0</td>\n",
       "      <td>0</td>\n",
       "    </tr>\n",
       "    <tr>\n",
       "      <th>3</th>\n",
       "      <td>9</td>\n",
       "      <td>1.558</td>\n",
       "      <td>53.0</td>\n",
       "      <td>1</td>\n",
       "      <td>0</td>\n",
       "    </tr>\n",
       "    <tr>\n",
       "      <th>4</th>\n",
       "      <td>9</td>\n",
       "      <td>1.895</td>\n",
       "      <td>57.0</td>\n",
       "      <td>1</td>\n",
       "      <td>0</td>\n",
       "    </tr>\n",
       "    <tr>\n",
       "      <th>...</th>\n",
       "      <td>...</td>\n",
       "      <td>...</td>\n",
       "      <td>...</td>\n",
       "      <td>...</td>\n",
       "      <td>...</td>\n",
       "    </tr>\n",
       "    <tr>\n",
       "      <th>649</th>\n",
       "      <td>16</td>\n",
       "      <td>4.270</td>\n",
       "      <td>67.0</td>\n",
       "      <td>1</td>\n",
       "      <td>1</td>\n",
       "    </tr>\n",
       "    <tr>\n",
       "      <th>650</th>\n",
       "      <td>15</td>\n",
       "      <td>3.727</td>\n",
       "      <td>68.0</td>\n",
       "      <td>1</td>\n",
       "      <td>1</td>\n",
       "    </tr>\n",
       "    <tr>\n",
       "      <th>651</th>\n",
       "      <td>18</td>\n",
       "      <td>2.853</td>\n",
       "      <td>60.0</td>\n",
       "      <td>0</td>\n",
       "      <td>0</td>\n",
       "    </tr>\n",
       "    <tr>\n",
       "      <th>652</th>\n",
       "      <td>16</td>\n",
       "      <td>2.795</td>\n",
       "      <td>63.0</td>\n",
       "      <td>0</td>\n",
       "      <td>1</td>\n",
       "    </tr>\n",
       "    <tr>\n",
       "      <th>653</th>\n",
       "      <td>15</td>\n",
       "      <td>3.211</td>\n",
       "      <td>66.5</td>\n",
       "      <td>0</td>\n",
       "      <td>0</td>\n",
       "    </tr>\n",
       "  </tbody>\n",
       "</table>\n",
       "<p>654 rows × 5 columns</p>\n",
       "</div>"
      ],
      "text/plain": [
       "     age    FEV    ht  sex  smoke\n",
       "0      9  1.708  57.0    0      0\n",
       "1      8  1.724  67.5    0      0\n",
       "2      7  1.720  54.5    0      0\n",
       "3      9  1.558  53.0    1      0\n",
       "4      9  1.895  57.0    1      0\n",
       "..   ...    ...   ...  ...    ...\n",
       "649   16  4.270  67.0    1      1\n",
       "650   15  3.727  68.0    1      1\n",
       "651   18  2.853  60.0    0      0\n",
       "652   16  2.795  63.0    0      1\n",
       "653   15  3.211  66.5    0      0\n",
       "\n",
       "[654 rows x 5 columns]"
      ]
     },
     "execution_count": 26,
     "metadata": {},
     "output_type": "execute_result"
    }
   ],
   "source": [
    "df = pd.read_table(os.path.join(filedir, 'fev_dat.txt'))\n",
    "df"
   ]
  },
  {
   "cell_type": "code",
   "execution_count": 27,
   "id": "194918f0",
   "metadata": {},
   "outputs": [
    {
     "name": "stderr",
     "output_type": "stream",
     "text": [
      "/Users/yuehuazhuang/opt/anaconda3/lib/python3.9/site-packages/statsmodels/tsa/tsatools.py:142: FutureWarning: In a future version of pandas all arguments of concat except for the argument 'objs' will be keyword-only\n",
      "  x = pd.concat(x[::order], 1)\n"
     ]
    },
    {
     "data": {
      "text/html": [
       "<table class=\"simpletable\">\n",
       "<caption>OLS Regression Results</caption>\n",
       "<tr>\n",
       "  <th>Dep. Variable:</th>           <td>FEV</td>       <th>  R-squared:         </th> <td>   0.572</td> \n",
       "</tr>\n",
       "<tr>\n",
       "  <th>Model:</th>                   <td>OLS</td>       <th>  Adj. R-squared:    </th> <td>   0.572</td> \n",
       "</tr>\n",
       "<tr>\n",
       "  <th>Method:</th>             <td>Least Squares</td>  <th>  F-statistic:       </th> <td>   872.2</td> \n",
       "</tr>\n",
       "<tr>\n",
       "  <th>Date:</th>             <td>Sun, 19 Jun 2022</td> <th>  Prob (F-statistic):</th> <td>2.45e-122</td>\n",
       "</tr>\n",
       "<tr>\n",
       "  <th>Time:</th>                 <td>08:18:00</td>     <th>  Log-Likelihood:    </th> <td> -556.51</td> \n",
       "</tr>\n",
       "<tr>\n",
       "  <th>No. Observations:</th>      <td>   654</td>      <th>  AIC:               </th> <td>   1117.</td> \n",
       "</tr>\n",
       "<tr>\n",
       "  <th>Df Residuals:</th>          <td>   652</td>      <th>  BIC:               </th> <td>   1126.</td> \n",
       "</tr>\n",
       "<tr>\n",
       "  <th>Df Model:</th>              <td>     1</td>      <th>                     </th>     <td> </td>    \n",
       "</tr>\n",
       "<tr>\n",
       "  <th>Covariance Type:</th>      <td>nonrobust</td>    <th>                     </th>     <td> </td>    \n",
       "</tr>\n",
       "</table>\n",
       "<table class=\"simpletable\">\n",
       "<tr>\n",
       "    <td></td>       <th>coef</th>     <th>std err</th>      <th>t</th>      <th>P>|t|</th>  <th>[0.025</th>    <th>0.975]</th>  \n",
       "</tr>\n",
       "<tr>\n",
       "  <th>const</th> <td>    0.4316</td> <td>    0.078</td> <td>    5.541</td> <td> 0.000</td> <td>    0.279</td> <td>    0.585</td>\n",
       "</tr>\n",
       "<tr>\n",
       "  <th>age</th>   <td>    0.2220</td> <td>    0.008</td> <td>   29.533</td> <td> 0.000</td> <td>    0.207</td> <td>    0.237</td>\n",
       "</tr>\n",
       "</table>\n",
       "<table class=\"simpletable\">\n",
       "<tr>\n",
       "  <th>Omnibus:</th>       <td>35.892</td> <th>  Durbin-Watson:     </th> <td>   1.608</td>\n",
       "</tr>\n",
       "<tr>\n",
       "  <th>Prob(Omnibus):</th> <td> 0.000</td> <th>  Jarque-Bera (JB):  </th> <td>  51.347</td>\n",
       "</tr>\n",
       "<tr>\n",
       "  <th>Skew:</th>          <td> 0.454</td> <th>  Prob(JB):          </th> <td>7.08e-12</td>\n",
       "</tr>\n",
       "<tr>\n",
       "  <th>Kurtosis:</th>      <td> 4.030</td> <th>  Cond. No.          </th> <td>    36.7</td>\n",
       "</tr>\n",
       "</table><br/><br/>Notes:<br/>[1] Standard Errors assume that the covariance matrix of the errors is correctly specified."
      ],
      "text/plain": [
       "<class 'statsmodels.iolib.summary.Summary'>\n",
       "\"\"\"\n",
       "                            OLS Regression Results                            \n",
       "==============================================================================\n",
       "Dep. Variable:                    FEV   R-squared:                       0.572\n",
       "Model:                            OLS   Adj. R-squared:                  0.572\n",
       "Method:                 Least Squares   F-statistic:                     872.2\n",
       "Date:                Sun, 19 Jun 2022   Prob (F-statistic):          2.45e-122\n",
       "Time:                        08:18:00   Log-Likelihood:                -556.51\n",
       "No. Observations:                 654   AIC:                             1117.\n",
       "Df Residuals:                     652   BIC:                             1126.\n",
       "Df Model:                           1                                         \n",
       "Covariance Type:            nonrobust                                         \n",
       "==============================================================================\n",
       "                 coef    std err          t      P>|t|      [0.025      0.975]\n",
       "------------------------------------------------------------------------------\n",
       "const          0.4316      0.078      5.541      0.000       0.279       0.585\n",
       "age            0.2220      0.008     29.533      0.000       0.207       0.237\n",
       "==============================================================================\n",
       "Omnibus:                       35.892   Durbin-Watson:                   1.608\n",
       "Prob(Omnibus):                  0.000   Jarque-Bera (JB):               51.347\n",
       "Skew:                           0.454   Prob(JB):                     7.08e-12\n",
       "Kurtosis:                       4.030   Cond. No.                         36.7\n",
       "==============================================================================\n",
       "\n",
       "Notes:\n",
       "[1] Standard Errors assume that the covariance matrix of the errors is correctly specified.\n",
       "\"\"\""
      ]
     },
     "execution_count": 27,
     "metadata": {},
     "output_type": "execute_result"
    }
   ],
   "source": [
    "X = df[['age']]\n",
    "y = df['FEV']\n",
    "X = sm.add_constant(X)\n",
    "model = sm.OLS(y, X)\n",
    "results = model.fit()\n",
    "results.summary()"
   ]
  },
  {
   "cell_type": "code",
   "execution_count": 28,
   "id": "5efa03f5",
   "metadata": {},
   "outputs": [
    {
     "data": {
      "text/plain": [
       "<seaborn.axisgrid.FacetGrid at 0x7f81c0768280>"
      ]
     },
     "execution_count": 28,
     "metadata": {},
     "output_type": "execute_result"
    },
    {
     "data": {
      "image/png": "[encoded data removed]",
      "text/plain": [
       "<Figure size 360x360 with 1 Axes>"
      ]
     },
     "metadata": {
      "needs_background": "light"
     },
     "output_type": "display_data"
    }
   ],
   "source": [
    "sns.lmplot(x='age',y='FEV',data=df,fit_reg=True)"
   ]
  },
  {
   "cell_type": "markdown",
   "id": "fe28057d",
   "metadata": {},
   "source": [
    "Thie data presents a feature of non-constant variance. This can lead to problems. We'll explore in more detail later."
   ]
  }
 ],
 "metadata": {
  "kernelspec": {
   "display_name": "Python 3 (ipykernel)",
   "language": "python",
   "name": "python3"
  },
  "language_info": {
   "codemirror_mode": {
    "name": "ipython",
    "version": 3
   },
   "file_extension": ".py",
   "mimetype": "text/x-python",
   "name": "python",
   "nbconvert_exporter": "python",
   "pygments_lexer": "ipython3",
   "version": "3.9.7"
  }
 },
 "nbformat": 4,
 "nbformat_minor": 5
}
