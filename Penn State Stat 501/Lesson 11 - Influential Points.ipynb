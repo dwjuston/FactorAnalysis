{
 "cells": [
  {
   "cell_type": "markdown",
   "id": "c907f210",
   "metadata": {},
   "source": [
    "#### https://online.stat.psu.edu/stat501/lesson/11"
   ]
  },
  {
   "cell_type": "markdown",
   "id": "0758da18",
   "metadata": {},
   "source": [
    "#### A data point can be influential in 2 ways: outlier, leverage"
   ]
  },
  {
   "cell_type": "markdown",
   "id": "3b984573",
   "metadata": {},
   "source": [
    "Leverage: it has extreme x values <br>\n",
    "Outlier: a data point is extreme with respect to the other y values"
   ]
  },
  {
   "cell_type": "code",
   "execution_count": 1,
   "id": "69be4f52",
   "metadata": {
    "scrolled": true
   },
   "outputs": [
    {
     "data": {
      "text/plain": [
       "['influence2.txt',\n",
       " 'influence3.txt',\n",
       " 'influence1.txt',\n",
       " 'influence4.txt',\n",
       " 'leverage_example.png',\n",
       " 'leverage_explain.png',\n",
       " 'deleted_point.png',\n",
       " 'outlier_example.png',\n",
       " 'hospital_infct_03.txt']"
      ]
     },
     "execution_count": 1,
     "metadata": {},
     "output_type": "execute_result"
    }
   ],
   "source": [
    "import os\n",
    "import statsmodels.api as sm\n",
    "import pandas as pd\n",
    "import numpy as np\n",
    "import seaborn as sns\n",
    "from IPython.display import Image\n",
    "from statsmodels.formula.api import ols\n",
    "import scipy.stats\n",
    "from matplotlib import pyplot as plt\n",
    "filedir = 'STAT501_Lesson11'\n",
    "os.listdir(filedir)"
   ]
  },
  {
   "cell_type": "code",
   "execution_count": 2,
   "id": "f6432d76",
   "metadata": {},
   "outputs": [
    {
     "data": {
      "text/html": [
       "<img src=\"STAT501_Lesson11/leverage_example.png\" width=\"600\" height=\"600\"/>"
      ],
      "text/plain": [
       "<IPython.core.display.Image object>"
      ]
     },
     "execution_count": 2,
     "metadata": {},
     "output_type": "execute_result"
    }
   ],
   "source": [
    "Image(url=os.path.join(filedir, \"leverage_example.png\"), width=600, height=600)"
   ]
  },
  {
   "cell_type": "code",
   "execution_count": 3,
   "id": "2fb2df0a",
   "metadata": {},
   "outputs": [
    {
     "data": {
      "text/html": [
       "<img src=\"STAT501_Lesson11/outlier_example.png\" width=\"600\" height=\"600\"/>"
      ],
      "text/plain": [
       "<IPython.core.display.Image object>"
      ]
     },
     "execution_count": 3,
     "metadata": {},
     "output_type": "execute_result"
    }
   ],
   "source": [
    "Image(url=os.path.join(filedir, \"outlier_example.png\"), width=600, height=600)"
   ]
  },
  {
   "cell_type": "markdown",
   "id": "a29d50e3",
   "metadata": {},
   "source": [
    "#### It's easy to plot and observe it when SLR; but we need measures to determine it when MLR"
   ]
  },
  {
   "cell_type": "markdown",
   "id": "7d0c9de8",
   "metadata": {},
   "source": [
    "#### 1. Leverage"
   ]
  },
  {
   "cell_type": "markdown",
   "id": "c31bd716",
   "metadata": {},
   "source": [
    "$$\n",
    "Y = X \\beta + \\epsilon\n",
    "$$"
   ]
  },
  {
   "cell_type": "markdown",
   "id": "ec9e3ec6",
   "metadata": {},
   "source": [
    "$$\n",
    "\\hat{y} = Xb\n",
    "$$"
   ]
  },
  {
   "cell_type": "markdown",
   "id": "4f6647af",
   "metadata": {},
   "source": [
    "$$\n",
    "b = (X^T X)^{-1} X^T y\n",
    "$$"
   ]
  },
  {
   "cell_type": "markdown",
   "id": "a750669b",
   "metadata": {},
   "source": [
    "Therefore, we can express $\\hat{y}$ in an alternative way:\n",
    "$$\n",
    "\\hat{y} = X (X^T X)^{-1} X^T y = Hy\n",
    "$$"
   ]
  },
  {
   "cell_type": "code",
   "execution_count": 4,
   "id": "4566e098",
   "metadata": {},
   "outputs": [
    {
     "data": {
      "text/html": [
       "<img src=\"STAT501_Lesson11/leverage_explain.png\" width=\"600\" height=\"600\"/>"
      ],
      "text/plain": [
       "<IPython.core.display.Image object>"
      ]
     },
     "execution_count": 4,
     "metadata": {},
     "output_type": "execute_result"
    }
   ],
   "source": [
    "Image(url=os.path.join(filedir, \"leverage_explain.png\"), width=600, height=600)"
   ]
  },
  {
   "cell_type": "markdown",
   "id": "6b38cf36",
   "metadata": {},
   "source": [
    "<ol>\n",
    "    <li>The leverage $h_ii$ is a measure of the distance between the ith x value and the mean of all the x values</li>\n",
    "    <li>The leverage $h_ii$ is a number between 0 and 1, inclusive</li>\n",
    "    <li>The sum of the $h_ii$ equals the number of parameters</li>\n",
    "</ol>"
   ]
  },
  {
   "cell_type": "code",
   "execution_count": 5,
   "id": "20c795cd",
   "metadata": {},
   "outputs": [
    {
     "data": {
      "text/html": [
       "<div>\n",
       "<style scoped>\n",
       "    .dataframe tbody tr th:only-of-type {\n",
       "        vertical-align: middle;\n",
       "    }\n",
       "\n",
       "    .dataframe tbody tr th {\n",
       "        vertical-align: top;\n",
       "    }\n",
       "\n",
       "    .dataframe thead th {\n",
       "        text-align: right;\n",
       "    }\n",
       "</style>\n",
       "<table border=\"1\" class=\"dataframe\">\n",
       "  <thead>\n",
       "    <tr style=\"text-align: right;\">\n",
       "      <th></th>\n",
       "      <th>Row</th>\n",
       "      <th>x</th>\n",
       "      <th>y</th>\n",
       "    </tr>\n",
       "  </thead>\n",
       "  <tbody>\n",
       "    <tr>\n",
       "      <th>0</th>\n",
       "      <td>1</td>\n",
       "      <td>0.10000</td>\n",
       "      <td>-0.0716</td>\n",
       "    </tr>\n",
       "    <tr>\n",
       "      <th>1</th>\n",
       "      <td>2</td>\n",
       "      <td>0.45401</td>\n",
       "      <td>4.1673</td>\n",
       "    </tr>\n",
       "    <tr>\n",
       "      <th>2</th>\n",
       "      <td>3</td>\n",
       "      <td>1.09765</td>\n",
       "      <td>6.5703</td>\n",
       "    </tr>\n",
       "    <tr>\n",
       "      <th>3</th>\n",
       "      <td>4</td>\n",
       "      <td>1.27936</td>\n",
       "      <td>13.8150</td>\n",
       "    </tr>\n",
       "    <tr>\n",
       "      <th>4</th>\n",
       "      <td>5</td>\n",
       "      <td>2.20611</td>\n",
       "      <td>11.4501</td>\n",
       "    </tr>\n",
       "    <tr>\n",
       "      <th>5</th>\n",
       "      <td>6</td>\n",
       "      <td>2.50064</td>\n",
       "      <td>12.9554</td>\n",
       "    </tr>\n",
       "    <tr>\n",
       "      <th>6</th>\n",
       "      <td>7</td>\n",
       "      <td>3.04030</td>\n",
       "      <td>20.1575</td>\n",
       "    </tr>\n",
       "    <tr>\n",
       "      <th>7</th>\n",
       "      <td>8</td>\n",
       "      <td>3.23583</td>\n",
       "      <td>17.5633</td>\n",
       "    </tr>\n",
       "    <tr>\n",
       "      <th>8</th>\n",
       "      <td>9</td>\n",
       "      <td>4.45308</td>\n",
       "      <td>26.0317</td>\n",
       "    </tr>\n",
       "    <tr>\n",
       "      <th>9</th>\n",
       "      <td>10</td>\n",
       "      <td>4.16990</td>\n",
       "      <td>22.7573</td>\n",
       "    </tr>\n",
       "    <tr>\n",
       "      <th>10</th>\n",
       "      <td>11</td>\n",
       "      <td>5.28474</td>\n",
       "      <td>26.3030</td>\n",
       "    </tr>\n",
       "    <tr>\n",
       "      <th>11</th>\n",
       "      <td>12</td>\n",
       "      <td>5.59238</td>\n",
       "      <td>30.6885</td>\n",
       "    </tr>\n",
       "    <tr>\n",
       "      <th>12</th>\n",
       "      <td>13</td>\n",
       "      <td>5.92091</td>\n",
       "      <td>33.9402</td>\n",
       "    </tr>\n",
       "    <tr>\n",
       "      <th>13</th>\n",
       "      <td>14</td>\n",
       "      <td>6.66066</td>\n",
       "      <td>30.9228</td>\n",
       "    </tr>\n",
       "    <tr>\n",
       "      <th>14</th>\n",
       "      <td>15</td>\n",
       "      <td>6.79953</td>\n",
       "      <td>34.1100</td>\n",
       "    </tr>\n",
       "    <tr>\n",
       "      <th>15</th>\n",
       "      <td>16</td>\n",
       "      <td>7.97943</td>\n",
       "      <td>44.4536</td>\n",
       "    </tr>\n",
       "    <tr>\n",
       "      <th>16</th>\n",
       "      <td>17</td>\n",
       "      <td>8.41536</td>\n",
       "      <td>46.5022</td>\n",
       "    </tr>\n",
       "    <tr>\n",
       "      <th>17</th>\n",
       "      <td>18</td>\n",
       "      <td>8.71607</td>\n",
       "      <td>50.0568</td>\n",
       "    </tr>\n",
       "    <tr>\n",
       "      <th>18</th>\n",
       "      <td>19</td>\n",
       "      <td>8.70156</td>\n",
       "      <td>46.5475</td>\n",
       "    </tr>\n",
       "    <tr>\n",
       "      <th>19</th>\n",
       "      <td>20</td>\n",
       "      <td>9.16463</td>\n",
       "      <td>45.7762</td>\n",
       "    </tr>\n",
       "    <tr>\n",
       "      <th>20</th>\n",
       "      <td>21</td>\n",
       "      <td>4.00000</td>\n",
       "      <td>40.0000</td>\n",
       "    </tr>\n",
       "  </tbody>\n",
       "</table>\n",
       "</div>"
      ],
      "text/plain": [
       "    Row        x        y\n",
       "0     1  0.10000  -0.0716\n",
       "1     2  0.45401   4.1673\n",
       "2     3  1.09765   6.5703\n",
       "3     4  1.27936  13.8150\n",
       "4     5  2.20611  11.4501\n",
       "5     6  2.50064  12.9554\n",
       "6     7  3.04030  20.1575\n",
       "7     8  3.23583  17.5633\n",
       "8     9  4.45308  26.0317\n",
       "9    10  4.16990  22.7573\n",
       "10   11  5.28474  26.3030\n",
       "11   12  5.59238  30.6885\n",
       "12   13  5.92091  33.9402\n",
       "13   14  6.66066  30.9228\n",
       "14   15  6.79953  34.1100\n",
       "15   16  7.97943  44.4536\n",
       "16   17  8.41536  46.5022\n",
       "17   18  8.71607  50.0568\n",
       "18   19  8.70156  46.5475\n",
       "19   20  9.16463  45.7762\n",
       "20   21  4.00000  40.0000"
      ]
     },
     "execution_count": 5,
     "metadata": {},
     "output_type": "execute_result"
    }
   ],
   "source": [
    "df = pd.read_table(os.path.join(filedir, 'influence2.txt'), encoding=\"utf-8\")\n",
    "df"
   ]
  },
  {
   "cell_type": "code",
   "execution_count": 6,
   "id": "94fa7beb",
   "metadata": {},
   "outputs": [
    {
     "name": "stderr",
     "output_type": "stream",
     "text": [
      "/Users/yuehuazhuang/opt/anaconda3/lib/python3.9/site-packages/statsmodels/tsa/tsatools.py:142: FutureWarning: In a future version of pandas all arguments of concat except for the argument 'objs' will be keyword-only\n",
      "  x = pd.concat(x[::order], 1)\n"
     ]
    }
   ],
   "source": [
    "X = df[['x']]\n",
    "X = sm.add_constant(X)\n",
    "y = df['y']"
   ]
  },
  {
   "cell_type": "code",
   "execution_count": 7,
   "id": "896cd248",
   "metadata": {
    "scrolled": true
   },
   "outputs": [
    {
     "data": {
      "text/html": [
       "<div>\n",
       "<style scoped>\n",
       "    .dataframe tbody tr th:only-of-type {\n",
       "        vertical-align: middle;\n",
       "    }\n",
       "\n",
       "    .dataframe tbody tr th {\n",
       "        vertical-align: top;\n",
       "    }\n",
       "\n",
       "    .dataframe thead th {\n",
       "        text-align: right;\n",
       "    }\n",
       "</style>\n",
       "<table border=\"1\" class=\"dataframe\">\n",
       "  <thead>\n",
       "    <tr style=\"text-align: right;\">\n",
       "      <th></th>\n",
       "      <th>0</th>\n",
       "      <th>1</th>\n",
       "      <th>2</th>\n",
       "      <th>3</th>\n",
       "      <th>4</th>\n",
       "      <th>5</th>\n",
       "      <th>6</th>\n",
       "      <th>7</th>\n",
       "      <th>8</th>\n",
       "      <th>9</th>\n",
       "      <th>...</th>\n",
       "      <th>11</th>\n",
       "      <th>12</th>\n",
       "      <th>13</th>\n",
       "      <th>14</th>\n",
       "      <th>15</th>\n",
       "      <th>16</th>\n",
       "      <th>17</th>\n",
       "      <th>18</th>\n",
       "      <th>19</th>\n",
       "      <th>20</th>\n",
       "    </tr>\n",
       "  </thead>\n",
       "  <tbody>\n",
       "    <tr>\n",
       "      <th>0</th>\n",
       "      <td>0.176297</td>\n",
       "      <td>0.166503</td>\n",
       "      <td>0.148695</td>\n",
       "      <td>0.143668</td>\n",
       "      <td>0.118028</td>\n",
       "      <td>0.109880</td>\n",
       "      <td>0.094949</td>\n",
       "      <td>0.089540</td>\n",
       "      <td>0.055863</td>\n",
       "      <td>0.063697</td>\n",
       "      <td>...</td>\n",
       "      <td>0.024343</td>\n",
       "      <td>0.015253</td>\n",
       "      <td>-0.005213</td>\n",
       "      <td>-0.009055</td>\n",
       "      <td>-0.041698</td>\n",
       "      <td>-0.053759</td>\n",
       "      <td>-0.062078</td>\n",
       "      <td>-0.061677</td>\n",
       "      <td>-0.074488</td>\n",
       "      <td>0.068398</td>\n",
       "    </tr>\n",
       "    <tr>\n",
       "      <th>1</th>\n",
       "      <td>0.166503</td>\n",
       "      <td>0.157454</td>\n",
       "      <td>0.141002</td>\n",
       "      <td>0.136358</td>\n",
       "      <td>0.112669</td>\n",
       "      <td>0.105141</td>\n",
       "      <td>0.091347</td>\n",
       "      <td>0.086349</td>\n",
       "      <td>0.055235</td>\n",
       "      <td>0.062474</td>\n",
       "      <td>...</td>\n",
       "      <td>0.026114</td>\n",
       "      <td>0.017717</td>\n",
       "      <td>-0.001192</td>\n",
       "      <td>-0.004741</td>\n",
       "      <td>-0.034900</td>\n",
       "      <td>-0.046043</td>\n",
       "      <td>-0.053729</td>\n",
       "      <td>-0.053358</td>\n",
       "      <td>-0.065194</td>\n",
       "      <td>0.066816</td>\n",
       "    </tr>\n",
       "    <tr>\n",
       "      <th>2</th>\n",
       "      <td>0.148695</td>\n",
       "      <td>0.141002</td>\n",
       "      <td>0.127015</td>\n",
       "      <td>0.123066</td>\n",
       "      <td>0.102926</td>\n",
       "      <td>0.096525</td>\n",
       "      <td>0.084797</td>\n",
       "      <td>0.080548</td>\n",
       "      <td>0.054095</td>\n",
       "      <td>0.060249</td>\n",
       "      <td>...</td>\n",
       "      <td>0.029335</td>\n",
       "      <td>0.022196</td>\n",
       "      <td>0.006120</td>\n",
       "      <td>0.003102</td>\n",
       "      <td>-0.022540</td>\n",
       "      <td>-0.032013</td>\n",
       "      <td>-0.038548</td>\n",
       "      <td>-0.038233</td>\n",
       "      <td>-0.048296</td>\n",
       "      <td>0.063941</td>\n",
       "    </tr>\n",
       "    <tr>\n",
       "      <th>3</th>\n",
       "      <td>0.143668</td>\n",
       "      <td>0.136358</td>\n",
       "      <td>0.123066</td>\n",
       "      <td>0.119313</td>\n",
       "      <td>0.100175</td>\n",
       "      <td>0.094092</td>\n",
       "      <td>0.082948</td>\n",
       "      <td>0.078910</td>\n",
       "      <td>0.053773</td>\n",
       "      <td>0.059620</td>\n",
       "      <td>...</td>\n",
       "      <td>0.030245</td>\n",
       "      <td>0.023460</td>\n",
       "      <td>0.008184</td>\n",
       "      <td>0.005316</td>\n",
       "      <td>-0.019050</td>\n",
       "      <td>-0.028053</td>\n",
       "      <td>-0.034263</td>\n",
       "      <td>-0.033963</td>\n",
       "      <td>-0.043526</td>\n",
       "      <td>0.063129</td>\n",
       "    </tr>\n",
       "    <tr>\n",
       "      <th>4</th>\n",
       "      <td>0.118028</td>\n",
       "      <td>0.112669</td>\n",
       "      <td>0.102926</td>\n",
       "      <td>0.100175</td>\n",
       "      <td>0.086145</td>\n",
       "      <td>0.081687</td>\n",
       "      <td>0.073517</td>\n",
       "      <td>0.070557</td>\n",
       "      <td>0.052130</td>\n",
       "      <td>0.056417</td>\n",
       "      <td>...</td>\n",
       "      <td>0.034883</td>\n",
       "      <td>0.029909</td>\n",
       "      <td>0.018711</td>\n",
       "      <td>0.016608</td>\n",
       "      <td>-0.001253</td>\n",
       "      <td>-0.007853</td>\n",
       "      <td>-0.012405</td>\n",
       "      <td>-0.012185</td>\n",
       "      <td>-0.019195</td>\n",
       "      <td>0.058989</td>\n",
       "    </tr>\n",
       "    <tr>\n",
       "      <th>5</th>\n",
       "      <td>0.109880</td>\n",
       "      <td>0.105141</td>\n",
       "      <td>0.096525</td>\n",
       "      <td>0.094092</td>\n",
       "      <td>0.081687</td>\n",
       "      <td>0.077744</td>\n",
       "      <td>0.070520</td>\n",
       "      <td>0.067902</td>\n",
       "      <td>0.051608</td>\n",
       "      <td>0.055399</td>\n",
       "      <td>...</td>\n",
       "      <td>0.036357</td>\n",
       "      <td>0.031959</td>\n",
       "      <td>0.022056</td>\n",
       "      <td>0.020197</td>\n",
       "      <td>0.004403</td>\n",
       "      <td>-0.001433</td>\n",
       "      <td>-0.005458</td>\n",
       "      <td>-0.005264</td>\n",
       "      <td>-0.011463</td>\n",
       "      <td>0.057673</td>\n",
       "    </tr>\n",
       "    <tr>\n",
       "      <th>6</th>\n",
       "      <td>0.094949</td>\n",
       "      <td>0.091347</td>\n",
       "      <td>0.084797</td>\n",
       "      <td>0.082948</td>\n",
       "      <td>0.073517</td>\n",
       "      <td>0.070520</td>\n",
       "      <td>0.065028</td>\n",
       "      <td>0.063038</td>\n",
       "      <td>0.050651</td>\n",
       "      <td>0.053533</td>\n",
       "      <td>...</td>\n",
       "      <td>0.039058</td>\n",
       "      <td>0.035714</td>\n",
       "      <td>0.028186</td>\n",
       "      <td>0.026773</td>\n",
       "      <td>0.014766</td>\n",
       "      <td>0.010330</td>\n",
       "      <td>0.007270</td>\n",
       "      <td>0.007418</td>\n",
       "      <td>0.002705</td>\n",
       "      <td>0.055262</td>\n",
       "    </tr>\n",
       "    <tr>\n",
       "      <th>7</th>\n",
       "      <td>0.089540</td>\n",
       "      <td>0.086349</td>\n",
       "      <td>0.080548</td>\n",
       "      <td>0.078910</td>\n",
       "      <td>0.070557</td>\n",
       "      <td>0.067902</td>\n",
       "      <td>0.063038</td>\n",
       "      <td>0.061276</td>\n",
       "      <td>0.050305</td>\n",
       "      <td>0.052857</td>\n",
       "      <td>...</td>\n",
       "      <td>0.040036</td>\n",
       "      <td>0.037075</td>\n",
       "      <td>0.030407</td>\n",
       "      <td>0.029156</td>\n",
       "      <td>0.018521</td>\n",
       "      <td>0.014592</td>\n",
       "      <td>0.011882</td>\n",
       "      <td>0.012012</td>\n",
       "      <td>0.007839</td>\n",
       "      <td>0.054388</td>\n",
       "    </tr>\n",
       "    <tr>\n",
       "      <th>8</th>\n",
       "      <td>0.055863</td>\n",
       "      <td>0.055235</td>\n",
       "      <td>0.054095</td>\n",
       "      <td>0.053773</td>\n",
       "      <td>0.052130</td>\n",
       "      <td>0.051608</td>\n",
       "      <td>0.050651</td>\n",
       "      <td>0.050305</td>\n",
       "      <td>0.048147</td>\n",
       "      <td>0.048649</td>\n",
       "      <td>...</td>\n",
       "      <td>0.046128</td>\n",
       "      <td>0.045546</td>\n",
       "      <td>0.044234</td>\n",
       "      <td>0.043988</td>\n",
       "      <td>0.041897</td>\n",
       "      <td>0.041124</td>\n",
       "      <td>0.040591</td>\n",
       "      <td>0.040617</td>\n",
       "      <td>0.039796</td>\n",
       "      <td>0.048950</td>\n",
       "    </tr>\n",
       "    <tr>\n",
       "      <th>9</th>\n",
       "      <td>0.063697</td>\n",
       "      <td>0.062474</td>\n",
       "      <td>0.060249</td>\n",
       "      <td>0.059620</td>\n",
       "      <td>0.056417</td>\n",
       "      <td>0.055399</td>\n",
       "      <td>0.053533</td>\n",
       "      <td>0.052857</td>\n",
       "      <td>0.048649</td>\n",
       "      <td>0.049628</td>\n",
       "      <td>...</td>\n",
       "      <td>0.044711</td>\n",
       "      <td>0.043575</td>\n",
       "      <td>0.041018</td>\n",
       "      <td>0.040538</td>\n",
       "      <td>0.036459</td>\n",
       "      <td>0.034952</td>\n",
       "      <td>0.033912</td>\n",
       "      <td>0.033962</td>\n",
       "      <td>0.032362</td>\n",
       "      <td>0.050215</td>\n",
       "    </tr>\n",
       "    <tr>\n",
       "      <th>10</th>\n",
       "      <td>0.032854</td>\n",
       "      <td>0.033978</td>\n",
       "      <td>0.036021</td>\n",
       "      <td>0.036598</td>\n",
       "      <td>0.039540</td>\n",
       "      <td>0.040475</td>\n",
       "      <td>0.042188</td>\n",
       "      <td>0.042809</td>\n",
       "      <td>0.046673</td>\n",
       "      <td>0.045774</td>\n",
       "      <td>...</td>\n",
       "      <td>0.050290</td>\n",
       "      <td>0.051333</td>\n",
       "      <td>0.053681</td>\n",
       "      <td>0.054122</td>\n",
       "      <td>0.057868</td>\n",
       "      <td>0.059252</td>\n",
       "      <td>0.060206</td>\n",
       "      <td>0.060160</td>\n",
       "      <td>0.061630</td>\n",
       "      <td>0.045235</td>\n",
       "    </tr>\n",
       "    <tr>\n",
       "      <th>11</th>\n",
       "      <td>0.024343</td>\n",
       "      <td>0.026114</td>\n",
       "      <td>0.029335</td>\n",
       "      <td>0.030245</td>\n",
       "      <td>0.034883</td>\n",
       "      <td>0.036357</td>\n",
       "      <td>0.039058</td>\n",
       "      <td>0.040036</td>\n",
       "      <td>0.046128</td>\n",
       "      <td>0.044711</td>\n",
       "      <td>...</td>\n",
       "      <td>0.051829</td>\n",
       "      <td>0.053474</td>\n",
       "      <td>0.057176</td>\n",
       "      <td>0.057871</td>\n",
       "      <td>0.063776</td>\n",
       "      <td>0.065957</td>\n",
       "      <td>0.067462</td>\n",
       "      <td>0.067390</td>\n",
       "      <td>0.069707</td>\n",
       "      <td>0.043860</td>\n",
       "    </tr>\n",
       "    <tr>\n",
       "      <th>12</th>\n",
       "      <td>0.015253</td>\n",
       "      <td>0.017717</td>\n",
       "      <td>0.022196</td>\n",
       "      <td>0.023460</td>\n",
       "      <td>0.029909</td>\n",
       "      <td>0.031959</td>\n",
       "      <td>0.035714</td>\n",
       "      <td>0.037075</td>\n",
       "      <td>0.045546</td>\n",
       "      <td>0.043575</td>\n",
       "      <td>...</td>\n",
       "      <td>0.053474</td>\n",
       "      <td>0.055760</td>\n",
       "      <td>0.060908</td>\n",
       "      <td>0.061874</td>\n",
       "      <td>0.070085</td>\n",
       "      <td>0.073118</td>\n",
       "      <td>0.075211</td>\n",
       "      <td>0.075110</td>\n",
       "      <td>0.078332</td>\n",
       "      <td>0.042393</td>\n",
       "    </tr>\n",
       "    <tr>\n",
       "      <th>13</th>\n",
       "      <td>-0.005213</td>\n",
       "      <td>-0.001192</td>\n",
       "      <td>0.006120</td>\n",
       "      <td>0.008184</td>\n",
       "      <td>0.018711</td>\n",
       "      <td>0.022056</td>\n",
       "      <td>0.028186</td>\n",
       "      <td>0.030407</td>\n",
       "      <td>0.044234</td>\n",
       "      <td>0.041018</td>\n",
       "      <td>...</td>\n",
       "      <td>0.057176</td>\n",
       "      <td>0.060908</td>\n",
       "      <td>0.069310</td>\n",
       "      <td>0.070888</td>\n",
       "      <td>0.084290</td>\n",
       "      <td>0.089242</td>\n",
       "      <td>0.092658</td>\n",
       "      <td>0.092493</td>\n",
       "      <td>0.097753</td>\n",
       "      <td>0.039088</td>\n",
       "    </tr>\n",
       "    <tr>\n",
       "      <th>14</th>\n",
       "      <td>-0.009055</td>\n",
       "      <td>-0.004741</td>\n",
       "      <td>0.003102</td>\n",
       "      <td>0.005316</td>\n",
       "      <td>0.016608</td>\n",
       "      <td>0.020197</td>\n",
       "      <td>0.026773</td>\n",
       "      <td>0.029156</td>\n",
       "      <td>0.043988</td>\n",
       "      <td>0.040538</td>\n",
       "      <td>...</td>\n",
       "      <td>0.057871</td>\n",
       "      <td>0.061874</td>\n",
       "      <td>0.070888</td>\n",
       "      <td>0.072580</td>\n",
       "      <td>0.086957</td>\n",
       "      <td>0.092269</td>\n",
       "      <td>0.095933</td>\n",
       "      <td>0.095757</td>\n",
       "      <td>0.101399</td>\n",
       "      <td>0.038467</td>\n",
       "    </tr>\n",
       "    <tr>\n",
       "      <th>15</th>\n",
       "      <td>-0.041698</td>\n",
       "      <td>-0.034900</td>\n",
       "      <td>-0.022540</td>\n",
       "      <td>-0.019050</td>\n",
       "      <td>-0.001253</td>\n",
       "      <td>0.004403</td>\n",
       "      <td>0.014766</td>\n",
       "      <td>0.018521</td>\n",
       "      <td>0.041897</td>\n",
       "      <td>0.036459</td>\n",
       "      <td>...</td>\n",
       "      <td>0.063776</td>\n",
       "      <td>0.070085</td>\n",
       "      <td>0.084290</td>\n",
       "      <td>0.086957</td>\n",
       "      <td>0.109616</td>\n",
       "      <td>0.117987</td>\n",
       "      <td>0.123762</td>\n",
       "      <td>0.123483</td>\n",
       "      <td>0.132376</td>\n",
       "      <td>0.033196</td>\n",
       "    </tr>\n",
       "    <tr>\n",
       "      <th>16</th>\n",
       "      <td>-0.053759</td>\n",
       "      <td>-0.046043</td>\n",
       "      <td>-0.032013</td>\n",
       "      <td>-0.028053</td>\n",
       "      <td>-0.007853</td>\n",
       "      <td>-0.001433</td>\n",
       "      <td>0.010330</td>\n",
       "      <td>0.014592</td>\n",
       "      <td>0.041124</td>\n",
       "      <td>0.034952</td>\n",
       "      <td>...</td>\n",
       "      <td>0.065957</td>\n",
       "      <td>0.073118</td>\n",
       "      <td>0.089242</td>\n",
       "      <td>0.092269</td>\n",
       "      <td>0.117987</td>\n",
       "      <td>0.127489</td>\n",
       "      <td>0.134044</td>\n",
       "      <td>0.133727</td>\n",
       "      <td>0.143821</td>\n",
       "      <td>0.031248</td>\n",
       "    </tr>\n",
       "    <tr>\n",
       "      <th>17</th>\n",
       "      <td>-0.062078</td>\n",
       "      <td>-0.053729</td>\n",
       "      <td>-0.038548</td>\n",
       "      <td>-0.034263</td>\n",
       "      <td>-0.012405</td>\n",
       "      <td>-0.005458</td>\n",
       "      <td>0.007270</td>\n",
       "      <td>0.011882</td>\n",
       "      <td>0.040591</td>\n",
       "      <td>0.033912</td>\n",
       "      <td>...</td>\n",
       "      <td>0.067462</td>\n",
       "      <td>0.075211</td>\n",
       "      <td>0.092658</td>\n",
       "      <td>0.095933</td>\n",
       "      <td>0.123762</td>\n",
       "      <td>0.134044</td>\n",
       "      <td>0.141136</td>\n",
       "      <td>0.140794</td>\n",
       "      <td>0.151715</td>\n",
       "      <td>0.029905</td>\n",
       "    </tr>\n",
       "    <tr>\n",
       "      <th>18</th>\n",
       "      <td>-0.061677</td>\n",
       "      <td>-0.053358</td>\n",
       "      <td>-0.038233</td>\n",
       "      <td>-0.033963</td>\n",
       "      <td>-0.012185</td>\n",
       "      <td>-0.005264</td>\n",
       "      <td>0.007418</td>\n",
       "      <td>0.012012</td>\n",
       "      <td>0.040617</td>\n",
       "      <td>0.033962</td>\n",
       "      <td>...</td>\n",
       "      <td>0.067390</td>\n",
       "      <td>0.075110</td>\n",
       "      <td>0.092493</td>\n",
       "      <td>0.095757</td>\n",
       "      <td>0.123483</td>\n",
       "      <td>0.133727</td>\n",
       "      <td>0.140794</td>\n",
       "      <td>0.140453</td>\n",
       "      <td>0.151335</td>\n",
       "      <td>0.029970</td>\n",
       "    </tr>\n",
       "    <tr>\n",
       "      <th>19</th>\n",
       "      <td>-0.074488</td>\n",
       "      <td>-0.065194</td>\n",
       "      <td>-0.048296</td>\n",
       "      <td>-0.043526</td>\n",
       "      <td>-0.019195</td>\n",
       "      <td>-0.011463</td>\n",
       "      <td>0.002705</td>\n",
       "      <td>0.007839</td>\n",
       "      <td>0.039796</td>\n",
       "      <td>0.032362</td>\n",
       "      <td>...</td>\n",
       "      <td>0.069707</td>\n",
       "      <td>0.078332</td>\n",
       "      <td>0.097753</td>\n",
       "      <td>0.101399</td>\n",
       "      <td>0.132376</td>\n",
       "      <td>0.143821</td>\n",
       "      <td>0.151715</td>\n",
       "      <td>0.151335</td>\n",
       "      <td>0.163492</td>\n",
       "      <td>0.027901</td>\n",
       "    </tr>\n",
       "    <tr>\n",
       "      <th>20</th>\n",
       "      <td>0.068398</td>\n",
       "      <td>0.066816</td>\n",
       "      <td>0.063941</td>\n",
       "      <td>0.063129</td>\n",
       "      <td>0.058989</td>\n",
       "      <td>0.057673</td>\n",
       "      <td>0.055262</td>\n",
       "      <td>0.054388</td>\n",
       "      <td>0.048950</td>\n",
       "      <td>0.050215</td>\n",
       "      <td>...</td>\n",
       "      <td>0.043860</td>\n",
       "      <td>0.042393</td>\n",
       "      <td>0.039088</td>\n",
       "      <td>0.038467</td>\n",
       "      <td>0.033196</td>\n",
       "      <td>0.031248</td>\n",
       "      <td>0.029905</td>\n",
       "      <td>0.029970</td>\n",
       "      <td>0.027901</td>\n",
       "      <td>0.050974</td>\n",
       "    </tr>\n",
       "  </tbody>\n",
       "</table>\n",
       "<p>21 rows × 21 columns</p>\n",
       "</div>"
      ],
      "text/plain": [
       "          0         1         2         3         4         5         6   \\\n",
       "0   0.176297  0.166503  0.148695  0.143668  0.118028  0.109880  0.094949   \n",
       "1   0.166503  0.157454  0.141002  0.136358  0.112669  0.105141  0.091347   \n",
       "2   0.148695  0.141002  0.127015  0.123066  0.102926  0.096525  0.084797   \n",
       "3   0.143668  0.136358  0.123066  0.119313  0.100175  0.094092  0.082948   \n",
       "4   0.118028  0.112669  0.102926  0.100175  0.086145  0.081687  0.073517   \n",
       "5   0.109880  0.105141  0.096525  0.094092  0.081687  0.077744  0.070520   \n",
       "6   0.094949  0.091347  0.084797  0.082948  0.073517  0.070520  0.065028   \n",
       "7   0.089540  0.086349  0.080548  0.078910  0.070557  0.067902  0.063038   \n",
       "8   0.055863  0.055235  0.054095  0.053773  0.052130  0.051608  0.050651   \n",
       "9   0.063697  0.062474  0.060249  0.059620  0.056417  0.055399  0.053533   \n",
       "10  0.032854  0.033978  0.036021  0.036598  0.039540  0.040475  0.042188   \n",
       "11  0.024343  0.026114  0.029335  0.030245  0.034883  0.036357  0.039058   \n",
       "12  0.015253  0.017717  0.022196  0.023460  0.029909  0.031959  0.035714   \n",
       "13 -0.005213 -0.001192  0.006120  0.008184  0.018711  0.022056  0.028186   \n",
       "14 -0.009055 -0.004741  0.003102  0.005316  0.016608  0.020197  0.026773   \n",
       "15 -0.041698 -0.034900 -0.022540 -0.019050 -0.001253  0.004403  0.014766   \n",
       "16 -0.053759 -0.046043 -0.032013 -0.028053 -0.007853 -0.001433  0.010330   \n",
       "17 -0.062078 -0.053729 -0.038548 -0.034263 -0.012405 -0.005458  0.007270   \n",
       "18 -0.061677 -0.053358 -0.038233 -0.033963 -0.012185 -0.005264  0.007418   \n",
       "19 -0.074488 -0.065194 -0.048296 -0.043526 -0.019195 -0.011463  0.002705   \n",
       "20  0.068398  0.066816  0.063941  0.063129  0.058989  0.057673  0.055262   \n",
       "\n",
       "          7         8         9   ...        11        12        13        14  \\\n",
       "0   0.089540  0.055863  0.063697  ...  0.024343  0.015253 -0.005213 -0.009055   \n",
       "1   0.086349  0.055235  0.062474  ...  0.026114  0.017717 -0.001192 -0.004741   \n",
       "2   0.080548  0.054095  0.060249  ...  0.029335  0.022196  0.006120  0.003102   \n",
       "3   0.078910  0.053773  0.059620  ...  0.030245  0.023460  0.008184  0.005316   \n",
       "4   0.070557  0.052130  0.056417  ...  0.034883  0.029909  0.018711  0.016608   \n",
       "5   0.067902  0.051608  0.055399  ...  0.036357  0.031959  0.022056  0.020197   \n",
       "6   0.063038  0.050651  0.053533  ...  0.039058  0.035714  0.028186  0.026773   \n",
       "7   0.061276  0.050305  0.052857  ...  0.040036  0.037075  0.030407  0.029156   \n",
       "8   0.050305  0.048147  0.048649  ...  0.046128  0.045546  0.044234  0.043988   \n",
       "9   0.052857  0.048649  0.049628  ...  0.044711  0.043575  0.041018  0.040538   \n",
       "10  0.042809  0.046673  0.045774  ...  0.050290  0.051333  0.053681  0.054122   \n",
       "11  0.040036  0.046128  0.044711  ...  0.051829  0.053474  0.057176  0.057871   \n",
       "12  0.037075  0.045546  0.043575  ...  0.053474  0.055760  0.060908  0.061874   \n",
       "13  0.030407  0.044234  0.041018  ...  0.057176  0.060908  0.069310  0.070888   \n",
       "14  0.029156  0.043988  0.040538  ...  0.057871  0.061874  0.070888  0.072580   \n",
       "15  0.018521  0.041897  0.036459  ...  0.063776  0.070085  0.084290  0.086957   \n",
       "16  0.014592  0.041124  0.034952  ...  0.065957  0.073118  0.089242  0.092269   \n",
       "17  0.011882  0.040591  0.033912  ...  0.067462  0.075211  0.092658  0.095933   \n",
       "18  0.012012  0.040617  0.033962  ...  0.067390  0.075110  0.092493  0.095757   \n",
       "19  0.007839  0.039796  0.032362  ...  0.069707  0.078332  0.097753  0.101399   \n",
       "20  0.054388  0.048950  0.050215  ...  0.043860  0.042393  0.039088  0.038467   \n",
       "\n",
       "          15        16        17        18        19        20  \n",
       "0  -0.041698 -0.053759 -0.062078 -0.061677 -0.074488  0.068398  \n",
       "1  -0.034900 -0.046043 -0.053729 -0.053358 -0.065194  0.066816  \n",
       "2  -0.022540 -0.032013 -0.038548 -0.038233 -0.048296  0.063941  \n",
       "3  -0.019050 -0.028053 -0.034263 -0.033963 -0.043526  0.063129  \n",
       "4  -0.001253 -0.007853 -0.012405 -0.012185 -0.019195  0.058989  \n",
       "5   0.004403 -0.001433 -0.005458 -0.005264 -0.011463  0.057673  \n",
       "6   0.014766  0.010330  0.007270  0.007418  0.002705  0.055262  \n",
       "7   0.018521  0.014592  0.011882  0.012012  0.007839  0.054388  \n",
       "8   0.041897  0.041124  0.040591  0.040617  0.039796  0.048950  \n",
       "9   0.036459  0.034952  0.033912  0.033962  0.032362  0.050215  \n",
       "10  0.057868  0.059252  0.060206  0.060160  0.061630  0.045235  \n",
       "11  0.063776  0.065957  0.067462  0.067390  0.069707  0.043860  \n",
       "12  0.070085  0.073118  0.075211  0.075110  0.078332  0.042393  \n",
       "13  0.084290  0.089242  0.092658  0.092493  0.097753  0.039088  \n",
       "14  0.086957  0.092269  0.095933  0.095757  0.101399  0.038467  \n",
       "15  0.109616  0.117987  0.123762  0.123483  0.132376  0.033196  \n",
       "16  0.117987  0.127489  0.134044  0.133727  0.143821  0.031248  \n",
       "17  0.123762  0.134044  0.141136  0.140794  0.151715  0.029905  \n",
       "18  0.123483  0.133727  0.140794  0.140453  0.151335  0.029970  \n",
       "19  0.132376  0.143821  0.151715  0.151335  0.163492  0.027901  \n",
       "20  0.033196  0.031248  0.029905  0.029970  0.027901  0.050974  \n",
       "\n",
       "[21 rows x 21 columns]"
      ]
     },
     "execution_count": 7,
     "metadata": {},
     "output_type": "execute_result"
    }
   ],
   "source": [
    "H = X.values @ np.linalg.inv(X.T @ X) @ X.T\n",
    "H"
   ]
  },
  {
   "cell_type": "code",
   "execution_count": 8,
   "id": "0386b126",
   "metadata": {},
   "outputs": [
    {
     "data": {
      "text/plain": [
       "2.0"
      ]
     },
     "execution_count": 8,
     "metadata": {},
     "output_type": "execute_result"
    }
   ],
   "source": [
    "np.diag(H).sum()"
   ]
  },
  {
   "cell_type": "code",
   "execution_count": 9,
   "id": "5fc52c21",
   "metadata": {},
   "outputs": [
    {
     "data": {
      "text/plain": [
       "<matplotlib.collections.PathCollection at 0x7fed0c9a8490>"
      ]
     },
     "execution_count": 9,
     "metadata": {},
     "output_type": "execute_result"
    },
    {
     "data": {
      "image/png": "[encoded data removed]",
      "text/plain": [
       "<Figure size 432x288 with 1 Axes>"
      ]
     },
     "metadata": {
      "needs_background": "light"
     },
     "output_type": "display_data"
    }
   ],
   "source": [
    "plt.scatter(df['x'],df['y'])"
   ]
  },
  {
   "cell_type": "code",
   "execution_count": 10,
   "id": "096af555",
   "metadata": {},
   "outputs": [],
   "source": [
    "k = 2\n",
    "n = 21\n",
    "h_mean = k / n"
   ]
  },
  {
   "cell_type": "code",
   "execution_count": 11,
   "id": "4e3aabb5",
   "metadata": {},
   "outputs": [],
   "source": [
    "h_threshold = 2 * h_mean"
   ]
  },
  {
   "cell_type": "code",
   "execution_count": 12,
   "id": "dccbf82e",
   "metadata": {},
   "outputs": [
    {
     "data": {
      "text/plain": [
       "0.09523809523809523"
      ]
     },
     "execution_count": 12,
     "metadata": {},
     "output_type": "execute_result"
    }
   ],
   "source": [
    "h_mean"
   ]
  },
  {
   "cell_type": "code",
   "execution_count": 13,
   "id": "3e9db9cd",
   "metadata": {},
   "outputs": [
    {
     "data": {
      "text/plain": [
       "array([False, False, False, False, False, False, False, False, False,\n",
       "       False, False, False, False, False, False, False, False, False,\n",
       "       False, False, False])"
      ]
     },
     "execution_count": 13,
     "metadata": {},
     "output_type": "execute_result"
    }
   ],
   "source": [
    "np.diag(H) > h_threshold"
   ]
  },
  {
   "cell_type": "code",
   "execution_count": 14,
   "id": "ad89bda4",
   "metadata": {},
   "outputs": [
    {
     "name": "stderr",
     "output_type": "stream",
     "text": [
      "/Users/yuehuazhuang/opt/anaconda3/lib/python3.9/site-packages/statsmodels/tsa/tsatools.py:142: FutureWarning: In a future version of pandas all arguments of concat except for the argument 'objs' will be keyword-only\n",
      "  x = pd.concat(x[::order], 1)\n"
     ]
    }
   ],
   "source": [
    "df = pd.read_table(os.path.join(filedir, 'influence3.txt'), encoding=\"utf-8\")\n",
    "X = df[['x']]\n",
    "X = sm.add_constant(X)\n",
    "y = df['y']"
   ]
  },
  {
   "cell_type": "code",
   "execution_count": 15,
   "id": "a1b2fee7",
   "metadata": {},
   "outputs": [],
   "source": [
    "H = X.values @ np.linalg.inv(X.T @ X) @ X.T\n",
    "k = np.diag(H).sum()\n",
    "n = len(y)\n",
    "h_mean = k / n\n",
    "h_threshold = 2 * h_mean"
   ]
  },
  {
   "cell_type": "code",
   "execution_count": 16,
   "id": "cdd83fe8",
   "metadata": {},
   "outputs": [
    {
     "data": {
      "text/plain": [
       "<matplotlib.collections.PathCollection at 0x7fed0cab8a00>"
      ]
     },
     "execution_count": 16,
     "metadata": {},
     "output_type": "execute_result"
    },
    {
     "data": {
      "image/png": "[encoded data removed]",
      "text/plain": [
       "<Figure size 432x288 with 1 Axes>"
      ]
     },
     "metadata": {
      "needs_background": "light"
     },
     "output_type": "display_data"
    }
   ],
   "source": [
    "plt.scatter(df['x'],df['y'])"
   ]
  },
  {
   "cell_type": "code",
   "execution_count": 17,
   "id": "67267947",
   "metadata": {},
   "outputs": [
    {
     "data": {
      "text/plain": [
       "array([False, False, False, False, False, False, False, False, False,\n",
       "       False, False, False, False, False, False, False, False, False,\n",
       "       False, False,  True])"
      ]
     },
     "execution_count": 17,
     "metadata": {},
     "output_type": "execute_result"
    }
   ],
   "source": [
    "np.diag(H) > h_threshold"
   ]
  },
  {
   "cell_type": "markdown",
   "id": "6ed90549",
   "metadata": {},
   "source": [
    "#### 2. Outliers"
   ]
  },
  {
   "cell_type": "markdown",
   "id": "648b852b",
   "metadata": {},
   "source": [
    "Studentized residuals: $r_i = \\frac{e_i}{s(e_i)} = \\frac{e_i}{\\sqrt{MSE(1-h_{ii})}}$"
   ]
  },
  {
   "cell_type": "code",
   "execution_count": 18,
   "id": "f7907512",
   "metadata": {},
   "outputs": [
    {
     "data": {
      "text/plain": [
       "<matplotlib.collections.PathCollection at 0x7fed0d110250>"
      ]
     },
     "execution_count": 18,
     "metadata": {},
     "output_type": "execute_result"
    },
    {
     "data": {
      "image/png": "[encoded data removed]",
      "text/plain": [
       "<Figure size 432x288 with 1 Axes>"
      ]
     },
     "metadata": {
      "needs_background": "light"
     },
     "output_type": "display_data"
    }
   ],
   "source": [
    "df = pd.read_table(os.path.join(filedir, 'influence2.txt'), encoding=\"utf-8\")\n",
    "plt.scatter(df['x'],df['y'])"
   ]
  },
  {
   "cell_type": "code",
   "execution_count": 19,
   "id": "86049b46",
   "metadata": {},
   "outputs": [
    {
     "data": {
      "text/html": [
       "<div>\n",
       "<style scoped>\n",
       "    .dataframe tbody tr th:only-of-type {\n",
       "        vertical-align: middle;\n",
       "    }\n",
       "\n",
       "    .dataframe tbody tr th {\n",
       "        vertical-align: top;\n",
       "    }\n",
       "\n",
       "    .dataframe thead th {\n",
       "        text-align: right;\n",
       "    }\n",
       "</style>\n",
       "<table border=\"1\" class=\"dataframe\">\n",
       "  <thead>\n",
       "    <tr style=\"text-align: right;\">\n",
       "      <th></th>\n",
       "      <th>df</th>\n",
       "      <th>sum_sq</th>\n",
       "      <th>mean_sq</th>\n",
       "      <th>F</th>\n",
       "      <th>PR(&gt;F)</th>\n",
       "    </tr>\n",
       "  </thead>\n",
       "  <tbody>\n",
       "    <tr>\n",
       "      <th>intercept</th>\n",
       "      <td>1.0</td>\n",
       "      <td>763.293411</td>\n",
       "      <td>763.293411</td>\n",
       "      <td>34.396273</td>\n",
       "      <td>1.197685e-05</td>\n",
       "    </tr>\n",
       "    <tr>\n",
       "      <th>x</th>\n",
       "      <td>1.0</td>\n",
       "      <td>3517.683361</td>\n",
       "      <td>3517.683361</td>\n",
       "      <td>158.517281</td>\n",
       "      <td>1.146460e-10</td>\n",
       "    </tr>\n",
       "    <tr>\n",
       "      <th>Residual</th>\n",
       "      <td>19.0</td>\n",
       "      <td>421.632163</td>\n",
       "      <td>22.191166</td>\n",
       "      <td>NaN</td>\n",
       "      <td>NaN</td>\n",
       "    </tr>\n",
       "  </tbody>\n",
       "</table>\n",
       "</div>"
      ],
      "text/plain": [
       "             df       sum_sq      mean_sq           F        PR(>F)\n",
       "intercept   1.0   763.293411   763.293411   34.396273  1.197685e-05\n",
       "x           1.0  3517.683361  3517.683361  158.517281  1.146460e-10\n",
       "Residual   19.0   421.632163    22.191166         NaN           NaN"
      ]
     },
     "execution_count": 19,
     "metadata": {},
     "output_type": "execute_result"
    }
   ],
   "source": [
    "df['intercept'] = 1\n",
    "model = ols('y ~ intercept + x', data=df).fit()\n",
    "sm.stats.anova_lm(model)"
   ]
  },
  {
   "cell_type": "code",
   "execution_count": 20,
   "id": "8dd109a7",
   "metadata": {},
   "outputs": [],
   "source": [
    "MSE = sm.stats.anova_lm(model).loc['Residual', 'mean_sq']\n",
    "resids = model.resid\n",
    "X = df[['intercept','x']]\n",
    "y = df['y']\n",
    "h_ii = np.diag(X.values @ np.linalg.inv(X.T @ X) @ X.T) "
   ]
  },
  {
   "cell_type": "code",
   "execution_count": 21,
   "id": "83f72fc4",
   "metadata": {},
   "outputs": [
    {
     "data": {
      "text/plain": [
       "0    -0.826351\n",
       "1    -0.249154\n",
       "2    -0.435445\n",
       "3     0.998187\n",
       "4    -0.581904\n",
       "5    -0.574462\n",
       "6     0.413791\n",
       "7    -0.371226\n",
       "8     0.139767\n",
       "9    -0.262514\n",
       "10   -0.713173\n",
       "11   -0.095897\n",
       "12    0.252734\n",
       "13   -1.229353\n",
       "14   -0.683161\n",
       "15    0.292644\n",
       "16    0.262144\n",
       "17    0.731458\n",
       "18   -0.055615\n",
       "19   -0.776800\n",
       "20    3.681098\n",
       "dtype: float64"
      ]
     },
     "execution_count": 21,
     "metadata": {},
     "output_type": "execute_result"
    }
   ],
   "source": [
    "resids / np.sqrt(MSE * (1-h_ii))"
   ]
  },
  {
   "cell_type": "markdown",
   "id": "f4831091",
   "metadata": {},
   "source": [
    "Empirical rule: if the value > 2 (> 3)"
   ]
  },
  {
   "cell_type": "code",
   "execution_count": 22,
   "id": "53b86a9d",
   "metadata": {},
   "outputs": [
    {
     "data": {
      "text/html": [
       "<div>\n",
       "<style scoped>\n",
       "    .dataframe tbody tr th:only-of-type {\n",
       "        vertical-align: middle;\n",
       "    }\n",
       "\n",
       "    .dataframe tbody tr th {\n",
       "        vertical-align: top;\n",
       "    }\n",
       "\n",
       "    .dataframe thead th {\n",
       "        text-align: right;\n",
       "    }\n",
       "</style>\n",
       "<table border=\"1\" class=\"dataframe\">\n",
       "  <thead>\n",
       "    <tr style=\"text-align: right;\">\n",
       "      <th></th>\n",
       "      <th>student_resid</th>\n",
       "      <th>unadj_p</th>\n",
       "      <th>bonf(p)</th>\n",
       "    </tr>\n",
       "  </thead>\n",
       "  <tbody>\n",
       "    <tr>\n",
       "      <th>0</th>\n",
       "      <td>-0.819167</td>\n",
       "      <td>0.423405</td>\n",
       "      <td>1.000000</td>\n",
       "    </tr>\n",
       "    <tr>\n",
       "      <th>1</th>\n",
       "      <td>-0.242905</td>\n",
       "      <td>0.810825</td>\n",
       "      <td>1.000000</td>\n",
       "    </tr>\n",
       "    <tr>\n",
       "      <th>2</th>\n",
       "      <td>-0.425962</td>\n",
       "      <td>0.675186</td>\n",
       "      <td>1.000000</td>\n",
       "    </tr>\n",
       "    <tr>\n",
       "      <th>3</th>\n",
       "      <td>0.998087</td>\n",
       "      <td>0.331467</td>\n",
       "      <td>1.000000</td>\n",
       "    </tr>\n",
       "    <tr>\n",
       "      <th>4</th>\n",
       "      <td>-0.571499</td>\n",
       "      <td>0.574729</td>\n",
       "      <td>1.000000</td>\n",
       "    </tr>\n",
       "    <tr>\n",
       "      <th>5</th>\n",
       "      <td>-0.564060</td>\n",
       "      <td>0.579674</td>\n",
       "      <td>1.000000</td>\n",
       "    </tr>\n",
       "    <tr>\n",
       "      <th>6</th>\n",
       "      <td>0.404582</td>\n",
       "      <td>0.690552</td>\n",
       "      <td>1.000000</td>\n",
       "    </tr>\n",
       "    <tr>\n",
       "      <th>7</th>\n",
       "      <td>-0.362643</td>\n",
       "      <td>0.721095</td>\n",
       "      <td>1.000000</td>\n",
       "    </tr>\n",
       "    <tr>\n",
       "      <th>8</th>\n",
       "      <td>0.136110</td>\n",
       "      <td>0.893245</td>\n",
       "      <td>1.000000</td>\n",
       "    </tr>\n",
       "    <tr>\n",
       "      <th>9</th>\n",
       "      <td>-0.255977</td>\n",
       "      <td>0.800871</td>\n",
       "      <td>1.000000</td>\n",
       "    </tr>\n",
       "    <tr>\n",
       "      <th>10</th>\n",
       "      <td>-0.703633</td>\n",
       "      <td>0.490664</td>\n",
       "      <td>1.000000</td>\n",
       "    </tr>\n",
       "    <tr>\n",
       "      <th>11</th>\n",
       "      <td>-0.093362</td>\n",
       "      <td>0.926648</td>\n",
       "      <td>1.000000</td>\n",
       "    </tr>\n",
       "    <tr>\n",
       "      <th>12</th>\n",
       "      <td>0.246408</td>\n",
       "      <td>0.808155</td>\n",
       "      <td>1.000000</td>\n",
       "    </tr>\n",
       "    <tr>\n",
       "      <th>13</th>\n",
       "      <td>-1.247195</td>\n",
       "      <td>0.228310</td>\n",
       "      <td>1.000000</td>\n",
       "    </tr>\n",
       "    <tr>\n",
       "      <th>14</th>\n",
       "      <td>-0.673261</td>\n",
       "      <td>0.509334</td>\n",
       "      <td>1.000000</td>\n",
       "    </tr>\n",
       "    <tr>\n",
       "      <th>15</th>\n",
       "      <td>0.285483</td>\n",
       "      <td>0.778533</td>\n",
       "      <td>1.000000</td>\n",
       "    </tr>\n",
       "    <tr>\n",
       "      <th>16</th>\n",
       "      <td>0.255615</td>\n",
       "      <td>0.801146</td>\n",
       "      <td>1.000000</td>\n",
       "    </tr>\n",
       "    <tr>\n",
       "      <th>17</th>\n",
       "      <td>0.722190</td>\n",
       "      <td>0.479456</td>\n",
       "      <td>1.000000</td>\n",
       "    </tr>\n",
       "    <tr>\n",
       "      <th>18</th>\n",
       "      <td>-0.054136</td>\n",
       "      <td>0.957423</td>\n",
       "      <td>1.000000</td>\n",
       "    </tr>\n",
       "    <tr>\n",
       "      <th>19</th>\n",
       "      <td>-0.768382</td>\n",
       "      <td>0.452224</td>\n",
       "      <td>1.000000</td>\n",
       "    </tr>\n",
       "    <tr>\n",
       "      <th>20</th>\n",
       "      <td>6.690129</td>\n",
       "      <td>0.000003</td>\n",
       "      <td>0.000059</td>\n",
       "    </tr>\n",
       "  </tbody>\n",
       "</table>\n",
       "</div>"
      ],
      "text/plain": [
       "    student_resid   unadj_p   bonf(p)\n",
       "0       -0.819167  0.423405  1.000000\n",
       "1       -0.242905  0.810825  1.000000\n",
       "2       -0.425962  0.675186  1.000000\n",
       "3        0.998087  0.331467  1.000000\n",
       "4       -0.571499  0.574729  1.000000\n",
       "5       -0.564060  0.579674  1.000000\n",
       "6        0.404582  0.690552  1.000000\n",
       "7       -0.362643  0.721095  1.000000\n",
       "8        0.136110  0.893245  1.000000\n",
       "9       -0.255977  0.800871  1.000000\n",
       "10      -0.703633  0.490664  1.000000\n",
       "11      -0.093362  0.926648  1.000000\n",
       "12       0.246408  0.808155  1.000000\n",
       "13      -1.247195  0.228310  1.000000\n",
       "14      -0.673261  0.509334  1.000000\n",
       "15       0.285483  0.778533  1.000000\n",
       "16       0.255615  0.801146  1.000000\n",
       "17       0.722190  0.479456  1.000000\n",
       "18      -0.054136  0.957423  1.000000\n",
       "19      -0.768382  0.452224  1.000000\n",
       "20       6.690129  0.000003  0.000059"
      ]
     },
     "execution_count": 22,
     "metadata": {},
     "output_type": "execute_result"
    }
   ],
   "source": [
    "model.outlier_test()"
   ]
  },
  {
   "cell_type": "markdown",
   "id": "a588ca1a",
   "metadata": {},
   "source": [
    "#### 3. Deleted Residuals: one problem is when there's a potential outlier that is so impactful, it can pull the whole model towards itself, so that it isn't flagged as an outlier"
   ]
  },
  {
   "cell_type": "markdown",
   "id": "43a7ec6f",
   "metadata": {},
   "source": [
    "The logic is simple, make predictions of y; remove one point, make predictions again. If the difference is significant, the deleted point is influential"
   ]
  },
  {
   "cell_type": "code",
   "execution_count": 23,
   "id": "16262d3e",
   "metadata": {},
   "outputs": [
    {
     "data": {
      "text/html": [
       "<img src=\"STAT501_Lesson11/deleted_point.png\" width=\"600\" height=\"600\"/>"
      ],
      "text/plain": [
       "<IPython.core.display.Image object>"
      ]
     },
     "execution_count": 23,
     "metadata": {},
     "output_type": "execute_result"
    }
   ],
   "source": [
    "Image(url=os.path.join(filedir, \"deleted_point.png\"), width=600, height=600)"
   ]
  },
  {
   "cell_type": "markdown",
   "id": "1bf3037e",
   "metadata": {},
   "source": [
    "<ol>\n",
    "    <li>Studentized deleted residuals (or externally studentized residuals)</li>\n",
    "    <li>Difference in fits (DFFITS)</li>\n",
    "    <li>Cook's distance</li>\n",
    "</ol>"
   ]
  },
  {
   "cell_type": "code",
   "execution_count": 24,
   "id": "a19b251f",
   "metadata": {},
   "outputs": [],
   "source": [
    "influence = model.get_influence()"
   ]
  },
  {
   "cell_type": "code",
   "execution_count": 30,
   "id": "a7bfb0e9",
   "metadata": {},
   "outputs": [
    {
     "data": {
      "text/plain": [
       "<matplotlib.collections.PathCollection at 0x7fed0ec39250>"
      ]
     },
     "execution_count": 30,
     "metadata": {},
     "output_type": "execute_result"
    },
    {
     "data": {
      "image/png": "[encoded data removed]",
      "text/plain": [
       "<Figure size 432x288 with 1 Axes>"
      ]
     },
     "metadata": {
      "needs_background": "light"
     },
     "output_type": "display_data"
    }
   ],
   "source": [
    "dffit = influence.dffits\n",
    "plt.scatter(df.x, dffit[0])"
   ]
  },
  {
   "cell_type": "code",
   "execution_count": 26,
   "id": "36732d6d",
   "metadata": {},
   "outputs": [],
   "source": [
    "cooks = influence.cooks_distance"
   ]
  },
  {
   "cell_type": "code",
   "execution_count": 27,
   "id": "bc542390",
   "metadata": {},
   "outputs": [
    {
     "data": {
      "text/plain": [
       "<matplotlib.collections.PathCollection at 0x7fed0d25c6d0>"
      ]
     },
     "execution_count": 27,
     "metadata": {},
     "output_type": "execute_result"
    },
    {
     "data": {
      "image/png": "[encoded data removed]",
      "text/plain": [
       "<Figure size 432x288 with 1 Axes>"
      ]
     },
     "metadata": {
      "needs_background": "light"
     },
     "output_type": "display_data"
    }
   ],
   "source": [
    "plt.scatter(df.x, cooks[0])"
   ]
  },
  {
   "cell_type": "code",
   "execution_count": 28,
   "id": "260ead39",
   "metadata": {},
   "outputs": [
    {
     "data": {
      "text/plain": [
       "<matplotlib.collections.PathCollection at 0x7fed0d318b80>"
      ]
     },
     "execution_count": 28,
     "metadata": {},
     "output_type": "execute_result"
    },
    {
     "data": {
      "image/png": "[encoded data removed]",
      "text/plain": [
       "<Figure size 432x288 with 1 Axes>"
      ]
     },
     "metadata": {
      "needs_background": "light"
     },
     "output_type": "display_data"
    }
   ],
   "source": [
    "plt.scatter(df.x, cooks[1])"
   ]
  }
 ],
 "metadata": {
  "kernelspec": {
   "display_name": "Python 3 (ipykernel)",
   "language": "python",
   "name": "python3"
  },
  "language_info": {
   "codemirror_mode": {
    "name": "ipython",
    "version": 3
   },
   "file_extension": ".py",
   "mimetype": "text/x-python",
   "name": "python",
   "nbconvert_exporter": "python",
   "pygments_lexer": "ipython3",
   "version": "3.9.7"
  }
 },
 "nbformat": 4,
 "nbformat_minor": 5
}
