{
 "cells": [
  {
   "cell_type": "markdown",
   "id": "bb33d86e",
   "metadata": {},
   "source": [
    "#### https://online.stat.psu.edu/stat501/lesson/7"
   ]
  },
  {
   "cell_type": "markdown",
   "id": "6e589eb7",
   "metadata": {},
   "source": [
    "#### Create a residuals vs. fit plot to check L, E, Outlier, transformation"
   ]
  },
  {
   "cell_type": "markdown",
   "id": "beb25188",
   "metadata": {},
   "source": [
    "#### Create a residuals vs. order plot to check I"
   ]
  },
  {
   "cell_type": "markdown",
   "id": "d4311e41",
   "metadata": {},
   "source": [
    "#### Create a residuals vs. each predictor"
   ]
  },
  {
   "cell_type": "markdown",
   "id": "c0721862",
   "metadata": {},
   "source": [
    "#### Create qq plot to check N"
   ]
  },
  {
   "cell_type": "code",
   "execution_count": 1,
   "id": "3b497623",
   "metadata": {},
   "outputs": [],
   "source": [
    "import os\n",
    "import statsmodels.api as sm\n",
    "import pandas as pd\n",
    "import numpy as np\n",
    "import seaborn as sns\n",
    "from IPython.display import Image\n",
    "from statsmodels.formula.api import ols\n",
    "import scipy.stats"
   ]
  },
  {
   "cell_type": "code",
   "execution_count": 2,
   "id": "fb1ec736",
   "metadata": {},
   "outputs": [],
   "source": [
    "filedir = 'STAT501_Lesson07'"
   ]
  },
  {
   "cell_type": "code",
   "execution_count": 3,
   "id": "8bff0275",
   "metadata": {},
   "outputs": [
    {
     "data": {
      "text/plain": [
       "['allentest.txt',\n",
       " 'coolhearts.txt',\n",
       " 'alcoholarm.txt',\n",
       " 'Physical.txt',\n",
       " 'iqsize.txt',\n",
       " 'peru.txt',\n",
       " 'sugarbeets_new.txt']"
      ]
     },
     "execution_count": 3,
     "metadata": {},
     "output_type": "execute_result"
    }
   ],
   "source": [
    "os.listdir(filedir)"
   ]
  },
  {
   "cell_type": "markdown",
   "id": "405cfd37",
   "metadata": {},
   "source": [
    "#### 1. Tests for Error Normality"
   ]
  },
  {
   "cell_type": "markdown",
   "id": "730c4e92",
   "metadata": {},
   "source": [
    "The null hypothesis is that the errors have a normal distribution. We actually hope we can fail to reject it"
   ]
  },
  {
   "cell_type": "markdown",
   "id": "ed3fd075",
   "metadata": {},
   "source": [
    "<ol>\n",
    "    <li>Anderson-Darling Test: weight more heavily in the tails of the distribution; smaller is better</li>\n",
    "    <li>Shapiro-Wilk Test</li>\n",
    "    <li>Ryan-Joiner Test: a simpler alternative to SW test</li>\n",
    "    <li>Kolmogorov-Smirnov Test</li>\n",
    "</ol"
   ]
  },
  {
   "cell_type": "code",
   "execution_count": 4,
   "id": "e73caecc",
   "metadata": {},
   "outputs": [
    {
     "data": {
      "text/html": [
       "<div>\n",
       "<style scoped>\n",
       "    .dataframe tbody tr th:only-of-type {\n",
       "        vertical-align: middle;\n",
       "    }\n",
       "\n",
       "    .dataframe tbody tr th {\n",
       "        vertical-align: top;\n",
       "    }\n",
       "\n",
       "    .dataframe thead th {\n",
       "        text-align: right;\n",
       "    }\n",
       "</style>\n",
       "<table border=\"1\" class=\"dataframe\">\n",
       "  <thead>\n",
       "    <tr style=\"text-align: right;\">\n",
       "      <th></th>\n",
       "      <th>Inf</th>\n",
       "      <th>Area</th>\n",
       "      <th>Group</th>\n",
       "      <th>X2</th>\n",
       "      <th>X3</th>\n",
       "    </tr>\n",
       "  </thead>\n",
       "  <tbody>\n",
       "    <tr>\n",
       "      <th>0</th>\n",
       "      <td>0.119</td>\n",
       "      <td>0.34</td>\n",
       "      <td>3</td>\n",
       "      <td>0</td>\n",
       "      <td>0</td>\n",
       "    </tr>\n",
       "    <tr>\n",
       "      <th>1</th>\n",
       "      <td>0.190</td>\n",
       "      <td>0.64</td>\n",
       "      <td>3</td>\n",
       "      <td>0</td>\n",
       "      <td>0</td>\n",
       "    </tr>\n",
       "    <tr>\n",
       "      <th>2</th>\n",
       "      <td>0.395</td>\n",
       "      <td>0.76</td>\n",
       "      <td>3</td>\n",
       "      <td>0</td>\n",
       "      <td>0</td>\n",
       "    </tr>\n",
       "    <tr>\n",
       "      <th>3</th>\n",
       "      <td>0.469</td>\n",
       "      <td>0.83</td>\n",
       "      <td>3</td>\n",
       "      <td>0</td>\n",
       "      <td>0</td>\n",
       "    </tr>\n",
       "    <tr>\n",
       "      <th>4</th>\n",
       "      <td>0.130</td>\n",
       "      <td>0.73</td>\n",
       "      <td>3</td>\n",
       "      <td>0</td>\n",
       "      <td>0</td>\n",
       "    </tr>\n",
       "    <tr>\n",
       "      <th>5</th>\n",
       "      <td>0.311</td>\n",
       "      <td>0.82</td>\n",
       "      <td>3</td>\n",
       "      <td>0</td>\n",
       "      <td>0</td>\n",
       "    </tr>\n",
       "    <tr>\n",
       "      <th>6</th>\n",
       "      <td>0.418</td>\n",
       "      <td>0.95</td>\n",
       "      <td>3</td>\n",
       "      <td>0</td>\n",
       "      <td>0</td>\n",
       "    </tr>\n",
       "    <tr>\n",
       "      <th>7</th>\n",
       "      <td>0.480</td>\n",
       "      <td>1.06</td>\n",
       "      <td>3</td>\n",
       "      <td>0</td>\n",
       "      <td>0</td>\n",
       "    </tr>\n",
       "    <tr>\n",
       "      <th>8</th>\n",
       "      <td>0.687</td>\n",
       "      <td>1.20</td>\n",
       "      <td>3</td>\n",
       "      <td>0</td>\n",
       "      <td>0</td>\n",
       "    </tr>\n",
       "    <tr>\n",
       "      <th>9</th>\n",
       "      <td>0.847</td>\n",
       "      <td>1.47</td>\n",
       "      <td>3</td>\n",
       "      <td>0</td>\n",
       "      <td>0</td>\n",
       "    </tr>\n",
       "    <tr>\n",
       "      <th>10</th>\n",
       "      <td>0.062</td>\n",
       "      <td>0.44</td>\n",
       "      <td>1</td>\n",
       "      <td>1</td>\n",
       "      <td>0</td>\n",
       "    </tr>\n",
       "    <tr>\n",
       "      <th>11</th>\n",
       "      <td>0.122</td>\n",
       "      <td>0.77</td>\n",
       "      <td>1</td>\n",
       "      <td>1</td>\n",
       "      <td>0</td>\n",
       "    </tr>\n",
       "    <tr>\n",
       "      <th>12</th>\n",
       "      <td>0.033</td>\n",
       "      <td>0.90</td>\n",
       "      <td>1</td>\n",
       "      <td>1</td>\n",
       "      <td>0</td>\n",
       "    </tr>\n",
       "    <tr>\n",
       "      <th>13</th>\n",
       "      <td>0.102</td>\n",
       "      <td>1.07</td>\n",
       "      <td>1</td>\n",
       "      <td>1</td>\n",
       "      <td>0</td>\n",
       "    </tr>\n",
       "    <tr>\n",
       "      <th>14</th>\n",
       "      <td>0.206</td>\n",
       "      <td>1.01</td>\n",
       "      <td>1</td>\n",
       "      <td>1</td>\n",
       "      <td>0</td>\n",
       "    </tr>\n",
       "    <tr>\n",
       "      <th>15</th>\n",
       "      <td>0.249</td>\n",
       "      <td>1.03</td>\n",
       "      <td>1</td>\n",
       "      <td>1</td>\n",
       "      <td>0</td>\n",
       "    </tr>\n",
       "    <tr>\n",
       "      <th>16</th>\n",
       "      <td>0.220</td>\n",
       "      <td>1.16</td>\n",
       "      <td>1</td>\n",
       "      <td>1</td>\n",
       "      <td>0</td>\n",
       "    </tr>\n",
       "    <tr>\n",
       "      <th>17</th>\n",
       "      <td>0.299</td>\n",
       "      <td>1.21</td>\n",
       "      <td>1</td>\n",
       "      <td>1</td>\n",
       "      <td>0</td>\n",
       "    </tr>\n",
       "    <tr>\n",
       "      <th>18</th>\n",
       "      <td>0.350</td>\n",
       "      <td>1.20</td>\n",
       "      <td>1</td>\n",
       "      <td>1</td>\n",
       "      <td>0</td>\n",
       "    </tr>\n",
       "    <tr>\n",
       "      <th>19</th>\n",
       "      <td>0.350</td>\n",
       "      <td>1.22</td>\n",
       "      <td>1</td>\n",
       "      <td>1</td>\n",
       "      <td>0</td>\n",
       "    </tr>\n",
       "    <tr>\n",
       "      <th>20</th>\n",
       "      <td>0.588</td>\n",
       "      <td>0.99</td>\n",
       "      <td>1</td>\n",
       "      <td>1</td>\n",
       "      <td>0</td>\n",
       "    </tr>\n",
       "    <tr>\n",
       "      <th>21</th>\n",
       "      <td>0.379</td>\n",
       "      <td>0.77</td>\n",
       "      <td>2</td>\n",
       "      <td>0</td>\n",
       "      <td>1</td>\n",
       "    </tr>\n",
       "    <tr>\n",
       "      <th>22</th>\n",
       "      <td>0.149</td>\n",
       "      <td>1.05</td>\n",
       "      <td>2</td>\n",
       "      <td>0</td>\n",
       "      <td>1</td>\n",
       "    </tr>\n",
       "    <tr>\n",
       "      <th>23</th>\n",
       "      <td>0.316</td>\n",
       "      <td>1.06</td>\n",
       "      <td>2</td>\n",
       "      <td>0</td>\n",
       "      <td>1</td>\n",
       "    </tr>\n",
       "    <tr>\n",
       "      <th>24</th>\n",
       "      <td>0.390</td>\n",
       "      <td>1.02</td>\n",
       "      <td>2</td>\n",
       "      <td>0</td>\n",
       "      <td>1</td>\n",
       "    </tr>\n",
       "    <tr>\n",
       "      <th>25</th>\n",
       "      <td>0.429</td>\n",
       "      <td>0.99</td>\n",
       "      <td>2</td>\n",
       "      <td>0</td>\n",
       "      <td>1</td>\n",
       "    </tr>\n",
       "    <tr>\n",
       "      <th>26</th>\n",
       "      <td>0.477</td>\n",
       "      <td>0.97</td>\n",
       "      <td>2</td>\n",
       "      <td>0</td>\n",
       "      <td>1</td>\n",
       "    </tr>\n",
       "    <tr>\n",
       "      <th>27</th>\n",
       "      <td>0.439</td>\n",
       "      <td>1.12</td>\n",
       "      <td>2</td>\n",
       "      <td>0</td>\n",
       "      <td>1</td>\n",
       "    </tr>\n",
       "    <tr>\n",
       "      <th>28</th>\n",
       "      <td>0.446</td>\n",
       "      <td>1.23</td>\n",
       "      <td>2</td>\n",
       "      <td>0</td>\n",
       "      <td>1</td>\n",
       "    </tr>\n",
       "    <tr>\n",
       "      <th>29</th>\n",
       "      <td>0.538</td>\n",
       "      <td>1.19</td>\n",
       "      <td>2</td>\n",
       "      <td>0</td>\n",
       "      <td>1</td>\n",
       "    </tr>\n",
       "    <tr>\n",
       "      <th>30</th>\n",
       "      <td>0.625</td>\n",
       "      <td>1.22</td>\n",
       "      <td>2</td>\n",
       "      <td>0</td>\n",
       "      <td>1</td>\n",
       "    </tr>\n",
       "    <tr>\n",
       "      <th>31</th>\n",
       "      <td>0.974</td>\n",
       "      <td>1.40</td>\n",
       "      <td>2</td>\n",
       "      <td>0</td>\n",
       "      <td>1</td>\n",
       "    </tr>\n",
       "  </tbody>\n",
       "</table>\n",
       "</div>"
      ],
      "text/plain": [
       "      Inf  Area  Group  X2  X3\n",
       "0   0.119  0.34      3   0   0\n",
       "1   0.190  0.64      3   0   0\n",
       "2   0.395  0.76      3   0   0\n",
       "3   0.469  0.83      3   0   0\n",
       "4   0.130  0.73      3   0   0\n",
       "5   0.311  0.82      3   0   0\n",
       "6   0.418  0.95      3   0   0\n",
       "7   0.480  1.06      3   0   0\n",
       "8   0.687  1.20      3   0   0\n",
       "9   0.847  1.47      3   0   0\n",
       "10  0.062  0.44      1   1   0\n",
       "11  0.122  0.77      1   1   0\n",
       "12  0.033  0.90      1   1   0\n",
       "13  0.102  1.07      1   1   0\n",
       "14  0.206  1.01      1   1   0\n",
       "15  0.249  1.03      1   1   0\n",
       "16  0.220  1.16      1   1   0\n",
       "17  0.299  1.21      1   1   0\n",
       "18  0.350  1.20      1   1   0\n",
       "19  0.350  1.22      1   1   0\n",
       "20  0.588  0.99      1   1   0\n",
       "21  0.379  0.77      2   0   1\n",
       "22  0.149  1.05      2   0   1\n",
       "23  0.316  1.06      2   0   1\n",
       "24  0.390  1.02      2   0   1\n",
       "25  0.429  0.99      2   0   1\n",
       "26  0.477  0.97      2   0   1\n",
       "27  0.439  1.12      2   0   1\n",
       "28  0.446  1.23      2   0   1\n",
       "29  0.538  1.19      2   0   1\n",
       "30  0.625  1.22      2   0   1\n",
       "31  0.974  1.40      2   0   1"
      ]
     },
     "execution_count": 4,
     "metadata": {},
     "output_type": "execute_result"
    }
   ],
   "source": [
    "df = pd.read_table(os.path.join(filedir, 'coolhearts.txt'))\n",
    "df"
   ]
  },
  {
   "cell_type": "code",
   "execution_count": 5,
   "id": "d42750e0",
   "metadata": {
    "scrolled": false
   },
   "outputs": [],
   "source": [
    "df = df.rename(columns={'Inf':'y'})\n",
    "df['intercept'] = 1\n",
    "model = ols('y ~ intercept + Area + X2 + X3', data=df).fit()"
   ]
  },
  {
   "cell_type": "code",
   "execution_count": 6,
   "id": "095b37d2",
   "metadata": {},
   "outputs": [
    {
     "data": {
      "text/plain": [
       "AndersonResult(statistic=0.511677727204777, critical_values=array([0.523, 0.596, 0.715, 0.834, 0.992]), significance_level=array([15. , 10. ,  5. ,  2.5,  1. ]))"
      ]
     },
     "execution_count": 6,
     "metadata": {},
     "output_type": "execute_result"
    }
   ],
   "source": [
    "scipy.stats.anderson(model.resid)"
   ]
  },
  {
   "cell_type": "code",
   "execution_count": 7,
   "id": "6c3a84e7",
   "metadata": {},
   "outputs": [
    {
     "data": {
      "text/plain": [
       "ShapiroResult(statistic=0.9537534713745117, pvalue=0.18406759202480316)"
      ]
     },
     "execution_count": 7,
     "metadata": {},
     "output_type": "execute_result"
    }
   ],
   "source": [
    "scipy.stats.shapiro(model.resid)"
   ]
  },
  {
   "cell_type": "markdown",
   "id": "167971ad",
   "metadata": {},
   "source": [
    "#### 2. Tests for Constant Error Variance"
   ]
  },
  {
   "cell_type": "markdown",
   "id": "4c5239d1",
   "metadata": {},
   "source": [
    "<ol>\n",
    "    <li>Modified Levene Test or Brown-Forsthe test: nonparametric</li>\n",
    "    <li>Breusch-Pagan Test: assumes the error terms are normally distributed</li>\n",
    "    <li>Bartlett's Test: highly sensitive to the normality assumption</li>\n",
    "</ol"
   ]
  },
  {
   "cell_type": "code",
   "execution_count": 8,
   "id": "f02a6b67",
   "metadata": {},
   "outputs": [],
   "source": [
    "import statsmodels.stats.api as sms"
   ]
  },
  {
   "cell_type": "code",
   "execution_count": 9,
   "id": "e90e32d6",
   "metadata": {},
   "outputs": [
    {
     "data": {
      "text/plain": [
       "(1.572984793515598, 0.8136392002079803, 0.4825051457238183, 0.6971021193521192)"
      ]
     },
     "execution_count": 9,
     "metadata": {},
     "output_type": "execute_result"
    }
   ],
   "source": [
    "sms.het_breuschpagan(model.resid, model.model.exog)"
   ]
  }
 ],
 "metadata": {
  "kernelspec": {
   "display_name": "Python 3 (ipykernel)",
   "language": "python",
   "name": "python3"
  },
  "language_info": {
   "codemirror_mode": {
    "name": "ipython",
    "version": 3
   },
   "file_extension": ".py",
   "mimetype": "text/x-python",
   "name": "python",
   "nbconvert_exporter": "python",
   "pygments_lexer": "ipython3",
   "version": "3.9.7"
  }
 },
 "nbformat": 4,
 "nbformat_minor": 5
}
