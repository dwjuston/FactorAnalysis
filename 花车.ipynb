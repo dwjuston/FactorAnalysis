{
 "cells": [
  {
   "cell_type": "code",
   "execution_count": 1,
   "id": "2435ff34",
   "metadata": {},
   "outputs": [],
   "source": [
    "import pandas as pd\n",
    "import numpy as np"
   ]
  },
  {
   "cell_type": "code",
   "execution_count": 6,
   "id": "de2e61ab",
   "metadata": {},
   "outputs": [],
   "source": [
    "num_days = 50\n",
    "num_stocks = 100"
   ]
  },
  {
   "cell_type": "code",
   "execution_count": 9,
   "id": "373898ae",
   "metadata": {},
   "outputs": [],
   "source": [
    "true_realization = np.random.binomial(n=1, p=0.5, size=(num_stocks, num_days,))"
   ]
  },
  {
   "cell_type": "code",
   "execution_count": 10,
   "id": "134add96",
   "metadata": {},
   "outputs": [
    {
     "data": {
      "text/plain": [
       "(100, 50)"
      ]
     },
     "execution_count": 10,
     "metadata": {},
     "output_type": "execute_result"
    }
   ],
   "source": [
    "true_realization.shape"
   ]
  },
  {
   "cell_type": "code",
   "execution_count": 16,
   "id": "424bc7da",
   "metadata": {},
   "outputs": [],
   "source": [
    "true_realization = np.sign(true_realization-0.5)"
   ]
  },
  {
   "cell_type": "code",
   "execution_count": 17,
   "id": "c4f55fa6",
   "metadata": {},
   "outputs": [],
   "source": [
    "my_judgment = np.random.binomial(n=1, p=0.6, size=(num_stocks, num_days))\n",
    "my_judgment = np.sign(my_judgment-0.5)"
   ]
  },
  {
   "cell_type": "code",
   "execution_count": 18,
   "id": "4c2109d7",
   "metadata": {},
   "outputs": [],
   "source": [
    "my_judgment_realization = my_judgment * true_realization"
   ]
  },
  {
   "cell_type": "code",
   "execution_count": 25,
   "id": "856a7551",
   "metadata": {},
   "outputs": [],
   "source": [
    "true_realization_evolution = true_realization.sum(axis=0)"
   ]
  },
  {
   "cell_type": "code",
   "execution_count": 27,
   "id": "609121ed",
   "metadata": {},
   "outputs": [],
   "source": []
  },
  {
   "cell_type": "code",
   "execution_count": 29,
   "id": "046ab14a",
   "metadata": {},
   "outputs": [],
   "source": [
    "my_decision = [determine_action(my_judgment_realization[:, j]) for j in range(my_judgment_realization.shape[1])]"
   ]
  },
  {
   "cell_type": "code",
   "execution_count": 26,
   "id": "0072a924",
   "metadata": {},
   "outputs": [
    {
     "data": {
      "text/plain": [
       "array([-12.,   0.,  -2.,   8.,  -6.,  -4., -14.,   0.,   2.,  -2.,   4.,\n",
       "        14.,  -8.,   6.,  -4.,   0., -10., -12., -12., -14., -14.,  -8.,\n",
       "        -2., -10.,  -8.,  -8.,   0.,  -4.,   0.,   0.,  18.,  -4.,  12.,\n",
       "       -12.,  -6.,  -2., -18.,   2., -10.,  10.,   0.,  10., -12.,  -4.,\n",
       "       -20.,  -4.,   4., -24.,  18.,   4.])"
      ]
     },
     "execution_count": 26,
     "metadata": {},
     "output_type": "execute_result"
    }
   ],
   "source": [
    "true_realization_evolution"
   ]
  },
  {
   "cell_type": "code",
   "execution_count": 31,
   "id": "296b6a05",
   "metadata": {},
   "outputs": [],
   "source": [
    "my_evoluation = my_decision * true_realization_evolution"
   ]
  },
  {
   "cell_type": "code",
   "execution_count": 33,
   "id": "2b5d45f9",
   "metadata": {},
   "outputs": [
    {
     "data": {
      "text/plain": [
       "array([-0.,  0.,  0.,  0.,  0.,  0.,  0.,  0.,  0.,  0.,  0.,  0.,  0.,\n",
       "        0.,  0.,  0.,  0.,  0.,  0.,  0.,  0.,  0.,  0.,  0.,  0.,  0.,\n",
       "        0.,  0.,  0.,  0.,  0.,  0.,  0.,  0.,  0.,  0.,  0.,  0.,  0.,\n",
       "        0.,  0.,  0.,  0.,  0.,  0.,  0.,  0.,  0.,  0.,  0.])"
      ]
     },
     "execution_count": 33,
     "metadata": {},
     "output_type": "execute_result"
    }
   ],
   "source": [
    "my_evoluation"
   ]
  },
  {
   "cell_type": "code",
   "execution_count": 109,
   "id": "a8a7d3cb",
   "metadata": {},
   "outputs": [],
   "source": [
    "def determine_action(arr):\n",
    "    if sum(arr) >= 10:\n",
    "        return 1\n",
    "    elif sum(arr) <= -10:\n",
    "        return -1\n",
    "    return 0\n",
    "\n",
    "@collect_statistics\n",
    "def do_experiment(num_days, num_stocks):\n",
    "    true_realization = np.random.binomial(n=1, p=0.5, size=(num_stocks, num_days,))\n",
    "    true_realization = np.sign(true_realization-0.5)\n",
    "    my_judgment = np.random.binomial(n=1, p=0.6, size=(num_stocks, num_days))\n",
    "    my_judgment = np.sign(my_judgment-0.5)\n",
    "    \n",
    "    true_result = true_realization.sum(axis=0)\n",
    "    \n",
    "    my_judgment_realization = my_judgment * true_realization\n",
    "    stock_bets_result = my_judgment_realization.sum(axis=0)\n",
    "    \n",
    "    my_decision = [determine_action(my_judgment_realization[:, j]) for j in range(my_judgment_realization.shape[1])]\n",
    "    my_evoluation = my_decision * true_result\n",
    "    \n",
    "    df = pd.DataFrame({\n",
    "        'real':true_result,\n",
    "        'stock bets':stock_bets_result,\n",
    "        'etf bets':my_evoluation\n",
    "    })\n",
    "    return df"
   ]
  },
  {
   "cell_type": "code",
   "execution_count": 110,
   "id": "f5f8e323",
   "metadata": {},
   "outputs": [],
   "source": [
    "def collect_statistics(func):\n",
    "    def wrapper(*args, **kwargs):\n",
    "        result_list1 = []\n",
    "        result_list2 = []\n",
    "        for i in range(500):\n",
    "            res = func(*args, **kwargs).cumsum().iloc[-1,:]\n",
    "            value1 = res['etf bets'] - res['stock bets']\n",
    "            value2 = res['etf bets'] - res['real']\n",
    "            result_list1.append(value1)\n",
    "            result_list2.append(value2)\n",
    "        return result_list1, result_list2\n",
    "    return wrapper"
   ]
  },
  {
   "cell_type": "code",
   "execution_count": 111,
   "id": "d6fedc2f",
   "metadata": {},
   "outputs": [],
   "source": [
    "res1, res2 = do_experiment(250,100)"
   ]
  },
  {
   "cell_type": "code",
   "execution_count": 112,
   "id": "8e780cec",
   "metadata": {},
   "outputs": [
    {
     "data": {
      "text/plain": [
       "<AxesSubplot:ylabel='Frequency'>"
      ]
     },
     "execution_count": 112,
     "metadata": {},
     "output_type": "execute_result"
    },
    {
     "data": {
      "image/png": "[encoded data removed]",
      "text/plain": [
       "<Figure size 432x288 with 1 Axes>"
      ]
     },
     "metadata": {
      "needs_background": "light"
     },
     "output_type": "display_data"
    }
   ],
   "source": [
    "pd.Series(res).plot.hist()"
   ]
  },
  {
   "cell_type": "code",
   "execution_count": 113,
   "id": "ca0518e6",
   "metadata": {},
   "outputs": [
    {
     "data": {
      "text/plain": [
       "364.432"
      ]
     },
     "execution_count": 113,
     "metadata": {},
     "output_type": "execute_result"
    }
   ],
   "source": [
    "pd.Series(res).mean()"
   ]
  },
  {
   "cell_type": "code",
   "execution_count": 114,
   "id": "36c88c9b",
   "metadata": {},
   "outputs": [
    {
     "data": {
      "text/plain": [
       "198.26151576457428"
      ]
     },
     "execution_count": 114,
     "metadata": {},
     "output_type": "execute_result"
    }
   ],
   "source": [
    "pd.Series(res).std()"
   ]
  },
  {
   "cell_type": "code",
   "execution_count": 115,
   "id": "d0a696c0",
   "metadata": {},
   "outputs": [
    {
     "data": {
      "text/plain": [
       "<AxesSubplot:ylabel='Frequency'>"
      ]
     },
     "execution_count": 115,
     "metadata": {},
     "output_type": "execute_result"
    },
    {
     "data": {
      "image/png": "[encoded data removed]",
      "text/plain": [
       "<Figure size 432x288 with 1 Axes>"
      ]
     },
     "metadata": {
      "needs_background": "light"
     },
     "output_type": "display_data"
    }
   ],
   "source": [
    "pd.Series(res2).plot.hist()"
   ]
  },
  {
   "cell_type": "code",
   "execution_count": 116,
   "id": "4d1566a8",
   "metadata": {},
   "outputs": [
    {
     "data": {
      "text/plain": [
       "259.692"
      ]
     },
     "execution_count": 116,
     "metadata": {},
     "output_type": "execute_result"
    }
   ],
   "source": [
    "pd.Series(res2).mean()"
   ]
  },
  {
   "cell_type": "code",
   "execution_count": 117,
   "id": "daa68ef0",
   "metadata": {},
   "outputs": [
    {
     "data": {
      "text/plain": [
       "191.95501188866717"
      ]
     },
     "execution_count": 117,
     "metadata": {},
     "output_type": "execute_result"
    }
   ],
   "source": [
    "pd.Series(res2).std()"
   ]
  },
  {
   "cell_type": "code",
   "execution_count": 118,
   "id": "67c0ad88",
   "metadata": {},
   "outputs": [],
   "source": [
    "def do_experiment(num_days, num_stocks):\n",
    "    true_realization = np.random.binomial(n=1, p=0.5, size=(num_stocks, num_days,))\n",
    "    true_realization = np.sign(true_realization-0.5)\n",
    "    my_judgment = np.random.binomial(n=1, p=0.6, size=(num_stocks, num_days))\n",
    "    my_judgment = np.sign(my_judgment-0.5)\n",
    "    \n",
    "    true_result = true_realization.sum(axis=0)\n",
    "    \n",
    "    my_judgment_realization = my_judgment * true_realization\n",
    "    stock_bets_result = my_judgment_realization.sum(axis=0)\n",
    "    \n",
    "    my_decision = [determine_action(my_judgment_realization[:, j]) for j in range(my_judgment_realization.shape[1])]\n",
    "    my_evoluation = my_decision * true_result\n",
    "    \n",
    "    df = pd.DataFrame({\n",
    "        'real':true_result,\n",
    "        'stock bets':stock_bets_result,\n",
    "        'etf bets':my_evoluation\n",
    "    })\n",
    "    return df"
   ]
  },
  {
   "cell_type": "code",
   "execution_count": 142,
   "id": "fb655ae0",
   "metadata": {},
   "outputs": [
    {
     "data": {
      "text/plain": [
       "<AxesSubplot:>"
      ]
     },
     "execution_count": 142,
     "metadata": {},
     "output_type": "execute_result"
    },
    {
     "data": {
      "image/png": "[encoded data removed]",
      "text/plain": [
       "<Figure size 432x288 with 1 Axes>"
      ]
     },
     "metadata": {
      "needs_background": "light"
     },
     "output_type": "display_data"
    }
   ],
   "source": [
    "do_experiment(num_days=250, num_stocks=100).cumsum().plot()"
   ]
  },
  {
   "cell_type": "code",
   "execution_count": null,
   "id": "bc80eb0e",
   "metadata": {},
   "outputs": [],
   "source": []
  },
  {
   "cell_type": "code",
   "execution_count": null,
   "id": "004c38be",
   "metadata": {},
   "outputs": [],
   "source": []
  },
  {
   "cell_type": "code",
   "execution_count": null,
   "id": "1425e3e8",
   "metadata": {},
   "outputs": [],
   "source": []
  },
  {
   "cell_type": "code",
   "execution_count": null,
   "id": "3a81f042",
   "metadata": {},
   "outputs": [],
   "source": []
  }
 ],
 "metadata": {
  "kernelspec": {
   "display_name": "Python 3 (ipykernel)",
   "language": "python",
   "name": "python3"
  },
  "language_info": {
   "codemirror_mode": {
    "name": "ipython",
    "version": 3
   },
   "file_extension": ".py",
   "mimetype": "text/x-python",
   "name": "python",
   "nbconvert_exporter": "python",
   "pygments_lexer": "ipython3",
   "version": "3.9.7"
  }
 },
 "nbformat": 4,
 "nbformat_minor": 5
}
